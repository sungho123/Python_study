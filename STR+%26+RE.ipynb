{
 "cells": [
  {
   "cell_type": "code",
   "execution_count": 1,
   "metadata": {},
   "outputs": [
    {
     "ename": "SyntaxError",
     "evalue": "invalid syntax (<ipython-input-1-3c7a1345806d>, line 1)",
     "output_type": "error",
     "traceback": [
      "\u001b[0;36m  File \u001b[0;32m\"<ipython-input-1-3c7a1345806d>\"\u001b[0;36m, line \u001b[0;32m1\u001b[0m\n\u001b[0;31m    문자열다루기\u001b[0m\n\u001b[0m    ^\u001b[0m\n\u001b[0;31mSyntaxError\u001b[0m\u001b[0;31m:\u001b[0m invalid syntax\n"
     ]
    }
   ],
   "source": [
    "문자열다루기"
   ]
  },
  {
   "cell_type": "code",
   "execution_count": 2,
   "metadata": {},
   "outputs": [
    {
     "data": {
      "text/plain": [
       "['__add__',\n",
       " '__class__',\n",
       " '__contains__',\n",
       " '__delattr__',\n",
       " '__doc__',\n",
       " '__eq__',\n",
       " '__format__',\n",
       " '__ge__',\n",
       " '__getattribute__',\n",
       " '__getitem__',\n",
       " '__getnewargs__',\n",
       " '__getslice__',\n",
       " '__gt__',\n",
       " '__hash__',\n",
       " '__init__',\n",
       " '__le__',\n",
       " '__len__',\n",
       " '__lt__',\n",
       " '__mod__',\n",
       " '__mul__',\n",
       " '__ne__',\n",
       " '__new__',\n",
       " '__reduce__',\n",
       " '__reduce_ex__',\n",
       " '__repr__',\n",
       " '__rmod__',\n",
       " '__rmul__',\n",
       " '__setattr__',\n",
       " '__sizeof__',\n",
       " '__str__',\n",
       " '__subclasshook__',\n",
       " '_formatter_field_name_split',\n",
       " '_formatter_parser',\n",
       " 'capitalize',\n",
       " 'center',\n",
       " 'count',\n",
       " 'decode',\n",
       " 'encode',\n",
       " 'endswith',\n",
       " 'expandtabs',\n",
       " 'find',\n",
       " 'format',\n",
       " 'index',\n",
       " 'isalnum',\n",
       " 'isalpha',\n",
       " 'isdigit',\n",
       " 'islower',\n",
       " 'isspace',\n",
       " 'istitle',\n",
       " 'isupper',\n",
       " 'join',\n",
       " 'ljust',\n",
       " 'lower',\n",
       " 'lstrip',\n",
       " 'partition',\n",
       " 'replace',\n",
       " 'rfind',\n",
       " 'rindex',\n",
       " 'rjust',\n",
       " 'rpartition',\n",
       " 'rsplit',\n",
       " 'rstrip',\n",
       " 'split',\n",
       " 'splitlines',\n",
       " 'startswith',\n",
       " 'strip',\n",
       " 'swapcase',\n",
       " 'title',\n",
       " 'translate',\n",
       " 'upper',\n",
       " 'zfill']"
      ]
     },
     "execution_count": 2,
     "metadata": {},
     "output_type": "execute_result"
    }
   ],
   "source": [
    "dir(str)"
   ]
  },
  {
   "cell_type": "code",
   "execution_count": 3,
   "metadata": {},
   "outputs": [
    {
     "data": {
      "text/plain": [
       "'Python'"
      ]
     },
     "execution_count": 3,
     "metadata": {},
     "output_type": "execute_result"
    }
   ],
   "source": [
    "#capitalize()\n",
    "#첫문자를 대문자로, 나머지 문자를 소문자로 바꿔준다.\n",
    "\"PYTHON\".capitalize()"
   ]
  },
  {
   "cell_type": "code",
   "execution_count": 4,
   "metadata": {},
   "outputs": [
    {
     "data": {
      "text/plain": [
       "'Python is powerful'"
      ]
     },
     "execution_count": 4,
     "metadata": {},
     "output_type": "execute_result"
    }
   ],
   "source": [
    "\"python is powerful\".capitalize()"
   ]
  },
  {
   "cell_type": "code",
   "execution_count": 5,
   "metadata": {},
   "outputs": [
    {
     "data": {
      "text/plain": [
       "2"
      ]
     },
     "execution_count": 5,
     "metadata": {},
     "output_type": "execute_result"
    }
   ],
   "source": [
    "#count\n",
    "#keyword가 몇번이나 포함돼 있는지 알려준다.start, end를 지정하면 슬라이싱과 같은 효과가 나타난다. \n",
    "\"python is powerful\".count(\"p\")"
   ]
  },
  {
   "cell_type": "code",
   "execution_count": 6,
   "metadata": {},
   "outputs": [
    {
     "data": {
      "text/plain": [
       "1"
      ]
     },
     "execution_count": 6,
     "metadata": {},
     "output_type": "execute_result"
    }
   ],
   "source": [
    "\"python is powerful\".count(\"p\",5) \n",
    "\n",
    "#\"python is powerful\"[5:].count(\"p\")"
   ]
  },
  {
   "cell_type": "code",
   "execution_count": 7,
   "metadata": {},
   "outputs": [
    {
     "data": {
      "text/plain": [
       "2"
      ]
     },
     "execution_count": 7,
     "metadata": {},
     "output_type": "execute_result"
    }
   ],
   "source": [
    "\"python is powerful\".count(\"p\",0,-1)\n",
    "#\"python is powerful\"[0:-1].count(\"p\")"
   ]
  },
  {
   "cell_type": "code",
   "execution_count": 8,
   "metadata": {
    "collapsed": true
   },
   "outputs": [],
   "source": [
    "#encode\n",
    "#str class는 모두 유니코드"
   ]
  },
  {
   "cell_type": "code",
   "execution_count": 9,
   "metadata": {},
   "outputs": [
    {
     "ename": "UnicodeDecodeError",
     "evalue": "'ascii' codec can't decode byte 0xea in position 0: ordinal not in range(128)",
     "output_type": "error",
     "traceback": [
      "\u001b[0;31m\u001b[0m",
      "\u001b[0;31mUnicodeDecodeError\u001b[0mTraceback (most recent call last)",
      "\u001b[0;32m<ipython-input-9-b95a82ef3b7b>\u001b[0m in \u001b[0;36m<module>\u001b[0;34m()\u001b[0m\n\u001b[0;32m----> 1\u001b[0;31m \u001b[0;34m\"가나다\"\u001b[0m\u001b[0;34m.\u001b[0m\u001b[0mencode\u001b[0m\u001b[0;34m(\u001b[0m\u001b[0;34m'cp949'\u001b[0m\u001b[0;34m)\u001b[0m \u001b[0;31m#윈도우에서 사용하는 'CP949'로 변환\u001b[0m\u001b[0;34m\u001b[0m\u001b[0m\n\u001b[0m",
      "\u001b[0;31mUnicodeDecodeError\u001b[0m: 'ascii' codec can't decode byte 0xea in position 0: ordinal not in range(128)"
     ]
    }
   ],
   "source": [
    "\"가나다\".encode('cp949') #윈도우에서 사용하는 'CP949'로 변환"
   ]
  },
  {
   "cell_type": "code",
   "execution_count": 10,
   "metadata": {},
   "outputs": [
    {
     "ename": "UnicodeDecodeError",
     "evalue": "'ascii' codec can't decode byte 0xea in position 0: ordinal not in range(128)",
     "output_type": "error",
     "traceback": [
      "\u001b[0;31m\u001b[0m",
      "\u001b[0;31mUnicodeDecodeError\u001b[0mTraceback (most recent call last)",
      "\u001b[0;32m<ipython-input-10-63fc149e88bb>\u001b[0m in \u001b[0;36m<module>\u001b[0;34m()\u001b[0m\n\u001b[0;32m----> 1\u001b[0;31m \u001b[0;34m\"가나다\"\u001b[0m\u001b[0;34m.\u001b[0m\u001b[0mencode\u001b[0m\u001b[0;34m(\u001b[0m\u001b[0;34m'UTF-8'\u001b[0m\u001b[0;34m)\u001b[0m \u001b[0;31m#UTF-8로 변환\u001b[0m\u001b[0;34m\u001b[0m\u001b[0m\n\u001b[0m",
      "\u001b[0;31mUnicodeDecodeError\u001b[0m: 'ascii' codec can't decode byte 0xea in position 0: ordinal not in range(128)"
     ]
    }
   ],
   "source": [
    "\"가나다\".encode('UTF-8') #UTF-8로 변환"
   ]
  },
  {
   "cell_type": "code",
   "execution_count": 11,
   "metadata": {},
   "outputs": [
    {
     "ename": "UnicodeDecodeError",
     "evalue": "'ascii' codec can't decode byte 0xea in position 0: ordinal not in range(128)",
     "output_type": "error",
     "traceback": [
      "\u001b[0;31m\u001b[0m",
      "\u001b[0;31mUnicodeDecodeError\u001b[0mTraceback (most recent call last)",
      "\u001b[0;32m<ipython-input-11-d3a480113321>\u001b[0m in \u001b[0;36m<module>\u001b[0;34m()\u001b[0m\n\u001b[0;32m----> 1\u001b[0;31m \u001b[0;34m\"가나다\"\u001b[0m\u001b[0;34m.\u001b[0m\u001b[0mencode\u001b[0m\u001b[0;34m(\u001b[0m\u001b[0;34m'latin1'\u001b[0m\u001b[0;34m,\u001b[0m\u001b[0;34m'strict'\u001b[0m\u001b[0;34m)\u001b[0m\u001b[0;34m\u001b[0m\u001b[0m\n\u001b[0m\u001b[1;32m      2\u001b[0m \u001b[0;31m#두번째 인자는 UnicodeEncodeError를 처리하는 방침을 나타낸다. 올바르지 않은 인코딩을 적용했을 때 예외가 발생\u001b[0m\u001b[0;34m\u001b[0m\u001b[0;34m\u001b[0m\u001b[0m\n\u001b[1;32m      3\u001b[0m \u001b[0;34m\u001b[0m\u001b[0m\n\u001b[1;32m      4\u001b[0m \u001b[0;34m\"가나다abc\"\u001b[0m\u001b[0;34m.\u001b[0m\u001b[0mencode\u001b[0m\u001b[0;34m(\u001b[0m\u001b[0;34m'latin1'\u001b[0m\u001b[0;34m,\u001b[0m\u001b[0;34m'ignore'\u001b[0m\u001b[0;34m)\u001b[0m \u001b[0;31m#ignore: 에러가 난 부분을 무시\u001b[0m\u001b[0;34m\u001b[0m\u001b[0m\n\u001b[1;32m      5\u001b[0m \u001b[0;34m\"가나다abc\"\u001b[0m\u001b[0;34m.\u001b[0m\u001b[0mencode\u001b[0m\u001b[0;34m(\u001b[0m\u001b[0;34m'latin1'\u001b[0m\u001b[0;34m,\u001b[0m\u001b[0;34m'replace'\u001b[0m\u001b[0;34m)\u001b[0m \u001b[0;31m#?등의 적절한 문자로 대체\u001b[0m\u001b[0;34m\u001b[0m\u001b[0m\n",
      "\u001b[0;31mUnicodeDecodeError\u001b[0m: 'ascii' codec can't decode byte 0xea in position 0: ordinal not in range(128)"
     ]
    }
   ],
   "source": [
    "\"가나다\".encode('latin1','strict') \n",
    "#두번째 인자는 UnicodeEncodeError를 처리하는 방침을 나타낸다. 올바르지 않은 인코딩을 적용했을 때 예외가 발생\n",
    "\n",
    "\"가나다abc\".encode('latin1','ignore') #ignore: 에러가 난 부분을 무시\n",
    "\"가나다abc\".encode('latin1','replace') #?등의 적절한 문자로 대체\n",
    "\"가나다abc\".encode('latin1','xmlcharrefreplace') #xml표현방식으로 대체\n",
    "\"가나다abc\".encode('latin1','backslashreplace') #역슬레시 표현 방식으로 대체"
   ]
  },
  {
   "cell_type": "code",
   "execution_count": 12,
   "metadata": {},
   "outputs": [
    {
     "ename": "SyntaxError",
     "evalue": "invalid syntax (<ipython-input-12-8c42585979e6>, line 1)",
     "output_type": "error",
     "traceback": [
      "\u001b[0;36m  File \u001b[0;32m\"<ipython-input-12-8c42585979e6>\"\u001b[0;36m, line \u001b[0;32m1\u001b[0m\n\u001b[0;31m    * endswith(postfix,[start,[end]])\u001b[0m\n\u001b[0m    ^\u001b[0m\n\u001b[0;31mSyntaxError\u001b[0m\u001b[0;31m:\u001b[0m invalid syntax\n"
     ]
    }
   ],
   "source": [
    "* endswith(postfix,[start,[end]])\n",
    "postfix로 문자열이 끝나면 True반환, 이외에는 False반환\n",
    "start, end 지정하면 슬라이싱 효과\n",
    "\n",
    "* startswith(prefix,[start,[end]])\n",
    "endswith와 반대 기능\n",
    "prefix로 시작하면 True 반환, 그 외의 경우에는 False 반환"
   ]
  },
  {
   "cell_type": "code",
   "execution_count": 13,
   "metadata": {},
   "outputs": [
    {
     "data": {
      "text/plain": [
       "True"
      ]
     },
     "execution_count": 13,
     "metadata": {},
     "output_type": "execute_result"
    }
   ],
   "source": [
    "\"python is powerful\".endswith(\"ful\")\n",
    "\"python is powerful\".endswith(\"ful\",5) #[5:]로 슬라이싱하고 endswith\n",
    "\"python is powerful\".endswith(\"ful\",5,-1) #[5:-1]로 슬라이싱하고 endswith\n",
    "\"python is powerful\".endswith((\"m\",'l'))"
   ]
  },
  {
   "cell_type": "code",
   "execution_count": 14,
   "metadata": {},
   "outputs": [
    {
     "data": {
      "text/plain": [
       "True"
      ]
     },
     "execution_count": 14,
     "metadata": {},
     "output_type": "execute_result"
    }
   ],
   "source": [
    "\"python is powerful\".startswith(\"py\")\n",
    "\"python is powerful\".startswith(\"py\",5)\n",
    "\"python is powerful\".startswith(\"py\",0,5)\n",
    "\"python is powerful\".startswith(('p','m'))"
   ]
  },
  {
   "cell_type": "code",
   "execution_count": 15,
   "metadata": {},
   "outputs": [
    {
     "ename": "SyntaxError",
     "evalue": "invalid syntax (<ipython-input-15-e6e3c25bb420>, line 2)",
     "output_type": "error",
     "traceback": [
      "\u001b[0;36m  File \u001b[0;32m\"<ipython-input-15-e6e3c25bb420>\"\u001b[0;36m, line \u001b[0;32m2\u001b[0m\n\u001b[0;31m    tab을 공백으로 치환\u001b[0m\n\u001b[0m       ^\u001b[0m\n\u001b[0;31mSyntaxError\u001b[0m\u001b[0;31m:\u001b[0m invalid syntax\n"
     ]
    }
   ],
   "source": [
    "expandtabs([tabsize])\n",
    "tab을 공백으로 치환\n",
    "디폴트 tabsize는 8자"
   ]
  },
  {
   "cell_type": "code",
   "execution_count": 16,
   "metadata": {},
   "outputs": [
    {
     "data": {
      "text/plain": [
       "'python is powerful'"
      ]
     },
     "execution_count": 16,
     "metadata": {},
     "output_type": "execute_result"
    }
   ],
   "source": [
    "\"python\\tis\\tpowerful\"\n",
    "\"python\\tis\\tpowerful\".expandtabs()\n",
    "\"python\\tis\\tpowerful\".expandtabs(1)"
   ]
  },
  {
   "cell_type": "code",
   "execution_count": 17,
   "metadata": {},
   "outputs": [
    {
     "ename": "SyntaxError",
     "evalue": "invalid syntax (<ipython-input-17-b38923ccd695>, line 2)",
     "output_type": "error",
     "traceback": [
      "\u001b[0;36m  File \u001b[0;32m\"<ipython-input-17-b38923ccd695>\"\u001b[0;36m, line \u001b[0;32m2\u001b[0m\n\u001b[0;31m    문자열 keyword가 나타나는 첫번째 인덱스 반환\u001b[0m\n\u001b[0m    ^\u001b[0m\n\u001b[0;31mSyntaxError\u001b[0m\u001b[0;31m:\u001b[0m invalid syntax\n"
     ]
    }
   ],
   "source": [
    "find(keyword,[start,[end]])\n",
    "문자열 keyword가 나타나는 첫번째 인덱스 반환\n",
    "start, end 지정시 슬라이싱 효과\n",
    "keyword를 찾지 못하는 경우 -1반환"
   ]
  },
  {
   "cell_type": "code",
   "execution_count": 18,
   "metadata": {},
   "outputs": [
    {
     "data": {
      "text/plain": [
       "-1"
      ]
     },
     "execution_count": 18,
     "metadata": {},
     "output_type": "execute_result"
    }
   ],
   "source": [
    "\"python is powerful\".find('p')\n",
    "\"python is powerful\".find('p',5,-1) #[5:-1]로 슬라이싱하고 find한 결과와 동일\n",
    "\"python is powerful\".find('pa')"
   ]
  },
  {
   "cell_type": "code",
   "execution_count": 19,
   "metadata": {},
   "outputs": [
    {
     "ename": "SyntaxError",
     "evalue": "invalid syntax (<ipython-input-19-59a3fef91dbe>, line 2)",
     "output_type": "error",
     "traceback": [
      "\u001b[0;36m  File \u001b[0;32m\"<ipython-input-19-59a3fef91dbe>\"\u001b[0;36m, line \u001b[0;32m2\u001b[0m\n\u001b[0;31m    find()와 동일하게 동작\u001b[0m\n\u001b[0m          ^\u001b[0m\n\u001b[0;31mSyntaxError\u001b[0m\u001b[0;31m:\u001b[0m invalid syntax\n"
     ]
    }
   ],
   "source": [
    "index(keyword,[start,[end]])\n",
    "find()와 동일하게 동작\n",
    "keyword를 찾지 못한 경우 ValueError 예외 발생"
   ]
  },
  {
   "cell_type": "code",
   "execution_count": 20,
   "metadata": {},
   "outputs": [
    {
     "ename": "ValueError",
     "evalue": "substring not found",
     "output_type": "error",
     "traceback": [
      "\u001b[0;31m\u001b[0m",
      "\u001b[0;31mValueError\u001b[0mTraceback (most recent call last)",
      "\u001b[0;32m<ipython-input-20-2bbec34c79f0>\u001b[0m in \u001b[0;36m<module>\u001b[0;34m()\u001b[0m\n\u001b[1;32m      1\u001b[0m \u001b[0;34m\"python is powerful\"\u001b[0m\u001b[0;34m.\u001b[0m\u001b[0mindex\u001b[0m\u001b[0;34m(\u001b[0m\u001b[0;34m'p'\u001b[0m\u001b[0;34m)\u001b[0m\u001b[0;34m\u001b[0m\u001b[0m\n\u001b[1;32m      2\u001b[0m \u001b[0;34m\"python is powerful\"\u001b[0m\u001b[0;34m.\u001b[0m\u001b[0mindex\u001b[0m\u001b[0;34m(\u001b[0m\u001b[0;34m'p'\u001b[0m\u001b[0;34m,\u001b[0m\u001b[0;36m5\u001b[0m\u001b[0;34m,\u001b[0m\u001b[0;34m-\u001b[0m\u001b[0;36m1\u001b[0m\u001b[0;34m)\u001b[0m\u001b[0;31m#[5:-1]로 슬라이싱하고 index한 결과와 동일\u001b[0m\u001b[0;34m\u001b[0m\u001b[0m\n\u001b[0;32m----> 3\u001b[0;31m \u001b[0;34m\"python is powerful\"\u001b[0m\u001b[0;34m.\u001b[0m\u001b[0mindex\u001b[0m\u001b[0;34m(\u001b[0m\u001b[0;34m'pa'\u001b[0m\u001b[0;34m)\u001b[0m\u001b[0;34m\u001b[0m\u001b[0m\n\u001b[0m",
      "\u001b[0;31mValueError\u001b[0m: substring not found"
     ]
    }
   ],
   "source": [
    "\"python is powerful\".index('p')\n",
    "\"python is powerful\".index('p',5,-1)#[5:-1]로 슬라이싱하고 index한 결과와 동일\n",
    "\"python is powerful\".index('pa')"
   ]
  },
  {
   "cell_type": "code",
   "execution_count": 21,
   "metadata": {},
   "outputs": [
    {
     "ename": "SyntaxError",
     "evalue": "invalid syntax (<ipython-input-21-1dd07cee8770>, line 1)",
     "output_type": "error",
     "traceback": [
      "\u001b[0;36m  File \u001b[0;32m\"<ipython-input-21-1dd07cee8770>\"\u001b[0;36m, line \u001b[0;32m1\u001b[0m\n\u001b[0;31m    * title()\u001b[0m\n\u001b[0m    ^\u001b[0m\n\u001b[0;31mSyntaxError\u001b[0m\u001b[0;31m:\u001b[0m invalid syntax\n"
     ]
    }
   ],
   "source": [
    "* title()\n",
    "모든 단어에서 첫문자는 대문자로, 나머지 문자는 소문자로 변환"
   ]
  },
  {
   "cell_type": "code",
   "execution_count": 22,
   "metadata": {},
   "outputs": [
    {
     "data": {
      "text/plain": [
       "'Python Is Powerful'"
      ]
     },
     "execution_count": 22,
     "metadata": {},
     "output_type": "execute_result"
    }
   ],
   "source": [
    "\"python is powerful\".title()"
   ]
  },
  {
   "cell_type": "code",
   "execution_count": 23,
   "metadata": {},
   "outputs": [
    {
     "ename": "SyntaxError",
     "evalue": "invalid syntax (<ipython-input-23-bba58bb53b8a>, line 1)",
     "output_type": "error",
     "traceback": [
      "\u001b[0;36m  File \u001b[0;32m\"<ipython-input-23-bba58bb53b8a>\"\u001b[0;36m, line \u001b[0;32m1\u001b[0m\n\u001b[0;31m    * isalnum()\u001b[0m\n\u001b[0m    ^\u001b[0m\n\u001b[0;31mSyntaxError\u001b[0m\u001b[0;31m:\u001b[0m invalid syntax\n"
     ]
    }
   ],
   "source": [
    "* isalnum()\n",
    "알파벳과 숫자로 구성되어 있으면 True, 다른 문자가 하나라도 포함되어 있으면 False를 반환\n",
    "\n",
    "* isalpha()\n",
    "알파벳으로만 구성되어 있으면 True, 다른 문자가 하나라도 포함되어 있으면 False를 반환\n",
    "\n",
    "* islower()\n",
    "모든 알파벳이 소문자이면 True, 대문자가 하나라도 섞여 있으면 False를 반환\n",
    "알파벳 이외의 문자는 체크하지 않음\n",
    "\n",
    "*isupper()\n",
    "islower와 정반대로 모든 알파벳이 대문자이면 True, 소문자가 하나라도 섞여 있으면 False를 반환\n",
    "알파벳 이외의 문자는 체크하지 않음\n",
    "\n",
    "* isspace()\n",
    "모두 공백문자(Whitespace:스페이스, 탭, 개행문자)로 구성되어 있으면 True, 다른 문자가 하나라도 포함되어 있으면 False를 반환\n",
    "\n",
    "* istitle()\n",
    "문자열이 title 스타일인 경우 True, 그렇지 않으면 False를 반환\n",
    "title 스타일: 모든 단어마다 대문자로 시작하고 나머지는 소문자인 경우\n",
    "    \n",
    "* isdecimal(), isdigit()\n",
    "10진수로 구성되어 있으면 True, 다른 문자가 섞여 있으면 False를 반환\n",
    "10진수를 나타내면 ARABIC-INDIC DIGIT(U+0660~0669)도 True로 간주\n",
    "ARABIC-INDIC DIGIT:\n",
    "    \n",
    "* isnumeric()\n",
    "숫자여부를 체크\n",
    "숫자로 구성되어 있으면 True, 다른 문자가 섞여 있으면 False를 반환\n",
    "\n",
    "* isidentifier()\n",
    "아스키 환경에서는 'a-z', 'A-Z' 혹은 '_'로 시작하고 'a-z', 'A-Z', 숫자 혹은 '_'로 구성돼 있으면 식별자로 사용할 수 있다. \n",
    "식별자의 경우 True, 그렇지 않으면 False를 반환\n",
    "\n",
    "* isprintable()\n",
    "프린트가 가능한 경우 True, 그렇지 않은 문자가 포함된 경우에는 False를 반환\n",
    "예를들어, 유니코드 상에서 Other로 구분돼 있는 문자는 False 반환"
   ]
  },
  {
   "cell_type": "code",
   "execution_count": 24,
   "metadata": {},
   "outputs": [
    {
     "data": {
      "text/plain": [
       "False"
      ]
     },
     "execution_count": 24,
     "metadata": {},
     "output_type": "execute_result"
    }
   ],
   "source": [
    "\"python\".isalnum()\n",
    "\"python3000\".isalnum()\n",
    "\"python3.6\".isalnum()"
   ]
  },
  {
   "cell_type": "code",
   "execution_count": 25,
   "metadata": {},
   "outputs": [
    {
     "data": {
      "text/plain": [
       "False"
      ]
     },
     "execution_count": 25,
     "metadata": {},
     "output_type": "execute_result"
    }
   ],
   "source": [
    "\"python\".isalpha()\n",
    "\"python3000\".isalpha()"
   ]
  },
  {
   "cell_type": "code",
   "execution_count": 26,
   "metadata": {},
   "outputs": [
    {
     "data": {
      "text/plain": [
       "True"
      ]
     },
     "execution_count": 26,
     "metadata": {},
     "output_type": "execute_result"
    }
   ],
   "source": [
    "\"python\".islower()\n",
    "\"Python\".islower()\n",
    "\"python3.6\".islower()"
   ]
  },
  {
   "cell_type": "code",
   "execution_count": 27,
   "metadata": {},
   "outputs": [
    {
     "data": {
      "text/plain": [
       "True"
      ]
     },
     "execution_count": 27,
     "metadata": {},
     "output_type": "execute_result"
    }
   ],
   "source": [
    "\"Python\".isupper()\n",
    "\"PYTHON\".isupper()\n",
    "\"PYTHON3.6\".isupper()"
   ]
  },
  {
   "cell_type": "code",
   "execution_count": 28,
   "metadata": {},
   "outputs": [
    {
     "data": {
      "text/plain": [
       "False"
      ]
     },
     "execution_count": 28,
     "metadata": {},
     "output_type": "execute_result"
    }
   ],
   "source": [
    "\" \".isspace()\n",
    "\"\\t\\n\".isspace()\n",
    "\"\\thi\\n\".isspace()"
   ]
  },
  {
   "cell_type": "code",
   "execution_count": 29,
   "metadata": {},
   "outputs": [
    {
     "data": {
      "text/plain": [
       "True"
      ]
     },
     "execution_count": 29,
     "metadata": {},
     "output_type": "execute_result"
    }
   ],
   "source": [
    "\"python is powerful\".istitle()\n",
    "\"PYTHON IS POWERFUL\".istitle()\n",
    "\"Python Is Powerful\".istitle()"
   ]
  },
  {
   "cell_type": "code",
   "execution_count": 30,
   "metadata": {},
   "outputs": [
    {
     "ename": "AttributeError",
     "evalue": "'str' object has no attribute 'isdecimal'",
     "output_type": "error",
     "traceback": [
      "\u001b[0;31m\u001b[0m",
      "\u001b[0;31mAttributeError\u001b[0mTraceback (most recent call last)",
      "\u001b[0;32m<ipython-input-30-a54327a78ac2>\u001b[0m in \u001b[0;36m<module>\u001b[0;34m()\u001b[0m\n\u001b[0;32m----> 1\u001b[0;31m \u001b[0;34m\"2580\"\u001b[0m\u001b[0;34m.\u001b[0m\u001b[0misdecimal\u001b[0m\u001b[0;34m(\u001b[0m\u001b[0;34m)\u001b[0m\u001b[0;34m\u001b[0m\u001b[0m\n\u001b[0m\u001b[1;32m      2\u001b[0m \u001b[0;34m\"\\u0669\"\u001b[0m\u001b[0;34m,\u001b[0m \u001b[0;34m\"\\u0669\"\u001b[0m\u001b[0;34m.\u001b[0m\u001b[0misdecimal\u001b[0m\u001b[0;34m(\u001b[0m\u001b[0;34m)\u001b[0m\u001b[0;34m\u001b[0m\u001b[0m\n\u001b[1;32m      3\u001b[0m \u001b[0;34m\"\\u00bc\"\u001b[0m\u001b[0;34m,\u001b[0m \u001b[0;34m\"\\u00bc\"\u001b[0m\u001b[0;34m.\u001b[0m\u001b[0misdecimal\u001b[0m\u001b[0;34m(\u001b[0m\u001b[0;34m)\u001b[0m\u001b[0;34m\u001b[0m\u001b[0m\n",
      "\u001b[0;31mAttributeError\u001b[0m: 'str' object has no attribute 'isdecimal'"
     ]
    }
   ],
   "source": [
    "\"2580\".isdecimal()\n",
    "\"\\u0669\", \"\\u0669\".isdecimal()\n",
    "\"\\u00bc\", \"\\u00bc\".isdecimal()"
   ]
  },
  {
   "cell_type": "code",
   "execution_count": 31,
   "metadata": {},
   "outputs": [
    {
     "ename": "AttributeError",
     "evalue": "'str' object has no attribute 'isnumeric'",
     "output_type": "error",
     "traceback": [
      "\u001b[0;31m\u001b[0m",
      "\u001b[0;31mAttributeError\u001b[0mTraceback (most recent call last)",
      "\u001b[0;32m<ipython-input-31-0c1dae938c84>\u001b[0m in \u001b[0;36m<module>\u001b[0;34m()\u001b[0m\n\u001b[0;32m----> 1\u001b[0;31m \u001b[0;34m\"\\u00bc\"\u001b[0m\u001b[0;34m,\u001b[0m \u001b[0;34m\"\\u00bc\"\u001b[0m\u001b[0;34m.\u001b[0m\u001b[0misnumeric\u001b[0m\u001b[0;34m(\u001b[0m\u001b[0;34m)\u001b[0m\u001b[0;34m\u001b[0m\u001b[0m\n\u001b[0m",
      "\u001b[0;31mAttributeError\u001b[0m: 'str' object has no attribute 'isnumeric'"
     ]
    }
   ],
   "source": [
    "\"\\u00bc\", \"\\u00bc\".isnumeric()"
   ]
  },
  {
   "cell_type": "code",
   "execution_count": 32,
   "metadata": {},
   "outputs": [
    {
     "ename": "AttributeError",
     "evalue": "'str' object has no attribute 'isidentifier'",
     "output_type": "error",
     "traceback": [
      "\u001b[0;31m\u001b[0m",
      "\u001b[0;31mAttributeError\u001b[0mTraceback (most recent call last)",
      "\u001b[0;32m<ipython-input-32-213f32281715>\u001b[0m in \u001b[0;36m<module>\u001b[0;34m()\u001b[0m\n\u001b[0;32m----> 1\u001b[0;31m \u001b[0;34m\"id_1\"\u001b[0m\u001b[0;34m.\u001b[0m\u001b[0misidentifier\u001b[0m\u001b[0;34m(\u001b[0m\u001b[0;34m)\u001b[0m\u001b[0;34m\u001b[0m\u001b[0m\n\u001b[0m\u001b[1;32m      2\u001b[0m \u001b[0;34m\"1_id\"\u001b[0m\u001b[0;34m.\u001b[0m\u001b[0misidentifier\u001b[0m\u001b[0;34m(\u001b[0m\u001b[0;34m)\u001b[0m\u001b[0;34m\u001b[0m\u001b[0m\n\u001b[1;32m      3\u001b[0m \u001b[0mchr\u001b[0m\u001b[0;34m(\u001b[0m\u001b[0;36m0xc0\u001b[0m\u001b[0;34m)\u001b[0m\u001b[0;34m,\u001b[0m\u001b[0mchr\u001b[0m\u001b[0;34m(\u001b[0m\u001b[0;36m0xc0\u001b[0m\u001b[0;34m)\u001b[0m\u001b[0;34m.\u001b[0m\u001b[0misidentifier\u001b[0m\u001b[0;34m(\u001b[0m\u001b[0;34m)\u001b[0m\u001b[0;34m\u001b[0m\u001b[0m\n",
      "\u001b[0;31mAttributeError\u001b[0m: 'str' object has no attribute 'isidentifier'"
     ]
    }
   ],
   "source": [
    "\"id_1\".isidentifier()\n",
    "\"1_id\".isidentifier()\n",
    "chr(0xc0),chr(0xc0).isidentifier()"
   ]
  },
  {
   "cell_type": "code",
   "execution_count": 33,
   "metadata": {},
   "outputs": [
    {
     "ename": "AttributeError",
     "evalue": "'str' object has no attribute 'isprintable'",
     "output_type": "error",
     "traceback": [
      "\u001b[0;31m\u001b[0m",
      "\u001b[0;31mAttributeError\u001b[0mTraceback (most recent call last)",
      "\u001b[0;32m<ipython-input-33-0f2b88faeb68>\u001b[0m in \u001b[0;36m<module>\u001b[0;34m()\u001b[0m\n\u001b[0;32m----> 1\u001b[0;31m \u001b[0;34m\"test\"\u001b[0m\u001b[0;34m.\u001b[0m\u001b[0misprintable\u001b[0m\u001b[0;34m(\u001b[0m\u001b[0;34m)\u001b[0m\u001b[0;34m\u001b[0m\u001b[0m\n\u001b[0m\u001b[1;32m      2\u001b[0m \u001b[0;34m'\\u0014'\u001b[0m\u001b[0;34m.\u001b[0m\u001b[0misprintable\u001b[0m\u001b[0;34m(\u001b[0m\u001b[0;34m)\u001b[0m\u001b[0;34m\u001b[0m\u001b[0m\n",
      "\u001b[0;31mAttributeError\u001b[0m: 'str' object has no attribute 'isprintable'"
     ]
    }
   ],
   "source": [
    "\"test\".isprintable()\n",
    "'\\u0014'.isprintable()"
   ]
  },
  {
   "cell_type": "code",
   "execution_count": 34,
   "metadata": {},
   "outputs": [
    {
     "ename": "SyntaxError",
     "evalue": "invalid syntax (<ipython-input-34-5a1e3fc8d177>, line 1)",
     "output_type": "error",
     "traceback": [
      "\u001b[0;36m  File \u001b[0;32m\"<ipython-input-34-5a1e3fc8d177>\"\u001b[0;36m, line \u001b[0;32m1\u001b[0m\n\u001b[0;31m    * join(sequence)\u001b[0m\n\u001b[0m    ^\u001b[0m\n\u001b[0;31mSyntaxError\u001b[0m\u001b[0;31m:\u001b[0m invalid syntax\n"
     ]
    }
   ],
   "source": [
    "* join(sequence)\n",
    "시퀀스형 변수를 지정된 문자열로 연결해서 반환한다.\n",
    "split과 정반대의 역할"
   ]
  },
  {
   "cell_type": "code",
   "execution_count": 35,
   "metadata": {},
   "outputs": [
    {
     "data": {
      "text/plain": [
       "'python\\tis\\tpowerful'"
      ]
     },
     "execution_count": 35,
     "metadata": {},
     "output_type": "execute_result"
    }
   ],
   "source": [
    "\".\".join(\"HOT\")\n",
    "\"\\t\".join([\"python\",\"is\",\"powerful\"])"
   ]
  },
  {
   "cell_type": "code",
   "execution_count": 36,
   "metadata": {},
   "outputs": [
    {
     "ename": "SyntaxError",
     "evalue": "invalid syntax (<ipython-input-36-eaa6624e82ea>, line 1)",
     "output_type": "error",
     "traceback": [
      "\u001b[0;36m  File \u001b[0;32m\"<ipython-input-36-eaa6624e82ea>\"\u001b[0;36m, line \u001b[0;32m1\u001b[0m\n\u001b[0;31m    * lower()\u001b[0m\n\u001b[0m    ^\u001b[0m\n\u001b[0;31mSyntaxError\u001b[0m\u001b[0;31m:\u001b[0m invalid syntax\n"
     ]
    }
   ],
   "source": [
    "* lower()\n",
    "모든 영문자를 소문자로 변환\n",
    "\n",
    "* upper()\n",
    "모든 영문 소문자를 대문자로 변환"
   ]
  },
  {
   "cell_type": "code",
   "execution_count": 37,
   "metadata": {},
   "outputs": [
    {
     "data": {
      "text/plain": [
       "'python3.6'"
      ]
     },
     "execution_count": 37,
     "metadata": {},
     "output_type": "execute_result"
    }
   ],
   "source": [
    "\"PYTHON\".lower()\n",
    "\"PYTHON3.6\".lower()"
   ]
  },
  {
   "cell_type": "code",
   "execution_count": 38,
   "metadata": {},
   "outputs": [
    {
     "data": {
      "text/plain": [
       "'PYTHON3.6'"
      ]
     },
     "execution_count": 38,
     "metadata": {},
     "output_type": "execute_result"
    }
   ],
   "source": [
    "\"Python3.6\".upper()"
   ]
  },
  {
   "cell_type": "code",
   "execution_count": 39,
   "metadata": {},
   "outputs": [
    {
     "ename": "SyntaxError",
     "evalue": "invalid syntax (<ipython-input-39-1c8beab84510>, line 1)",
     "output_type": "error",
     "traceback": [
      "\u001b[0;36m  File \u001b[0;32m\"<ipython-input-39-1c8beab84510>\"\u001b[0;36m, line \u001b[0;32m1\u001b[0m\n\u001b[0;31m    * lstrip([chars])\u001b[0m\n\u001b[0m    ^\u001b[0m\n\u001b[0;31mSyntaxError\u001b[0m\u001b[0;31m:\u001b[0m invalid syntax\n"
     ]
    }
   ],
   "source": [
    "* lstrip([chars])\n",
    "문자열의 왼쪽을 잘라냄\n",
    "chars를 지정하지 않으면 공백문자를 제거하며 지정돼 있을 경우에는 chars의 모든 조합을 제거"
   ]
  },
  {
   "cell_type": "code",
   "execution_count": 40,
   "metadata": {},
   "outputs": [
    {
     "data": {
      "text/plain": [
       "'python is powerful'"
      ]
     },
     "execution_count": 40,
     "metadata": {},
     "output_type": "execute_result"
    }
   ],
   "source": [
    "\"\\t python\".lstrip()\n",
    "\">>>python is powerful\".lstrip(\">\")"
   ]
  },
  {
   "cell_type": "code",
   "execution_count": 46,
   "metadata": {},
   "outputs": [
    {
     "ename": "SyntaxError",
     "evalue": "invalid syntax (<ipython-input-46-a2a18d2e57ca>, line 1)",
     "output_type": "error",
     "traceback": [
      "\u001b[0;36m  File \u001b[0;32m\"<ipython-input-46-a2a18d2e57ca>\"\u001b[0;36m, line \u001b[0;32m1\u001b[0m\n\u001b[0;31m    * maketrans(x,[y,[z]])\u001b[0m\n\u001b[0m    ^\u001b[0m\n\u001b[0;31mSyntaxError\u001b[0m\u001b[0;31m:\u001b[0m invalid syntax\n"
     ]
    }
   ],
   "source": [
    "* maketrans(x,[y,[z]])\n",
    "translate()에 쓰일 번역용 맵을 반환한다.\n",
    "인자가 하나인 경우에는 사전을 입력으로 받아야하고, 인자가 두개인 경우에는 길이가 같은 문자열을 입력으로 받아야 하며, \n",
    "인자가 셋인 경우에는 길이가 같은 문자열 둘과 마지막 인자로 None으로 대체될 문자열을 입력받는다. "
   ]
  },
  {
   "cell_type": "code",
   "execution_count": 47,
   "metadata": {},
   "outputs": [
    {
     "ename": "AttributeError",
     "evalue": "type object 'str' has no attribute 'maketrans'",
     "output_type": "error",
     "traceback": [
      "\u001b[0;31m\u001b[0m",
      "\u001b[0;31mAttributeError\u001b[0mTraceback (most recent call last)",
      "\u001b[0;32m<ipython-input-47-2f2e4ce71f00>\u001b[0m in \u001b[0;36m<module>\u001b[0;34m()\u001b[0m\n\u001b[0;32m----> 1\u001b[0;31m \u001b[0mtransmap\u001b[0m\u001b[0;34m=\u001b[0m\u001b[0mstr\u001b[0m\u001b[0;34m.\u001b[0m\u001b[0mmaketrans\u001b[0m\u001b[0;34m(\u001b[0m\u001b[0;34m{\u001b[0m\u001b[0;34m\"p\"\u001b[0m\u001b[0;34m:\u001b[0m\u001b[0;34m\"P\"\u001b[0m\u001b[0;34m}\u001b[0m\u001b[0;34m)\u001b[0m \u001b[0;31m#인자가 하나\u001b[0m\u001b[0;34m\u001b[0m\u001b[0m\n\u001b[0m\u001b[1;32m      2\u001b[0m \u001b[0;34m\"python is powerful\"\u001b[0m\u001b[0;34m.\u001b[0m\u001b[0mtranslate\u001b[0m\u001b[0;34m(\u001b[0m\u001b[0mtransmap\u001b[0m\u001b[0;34m)\u001b[0m\u001b[0;34m\u001b[0m\u001b[0m\n\u001b[1;32m      3\u001b[0m \u001b[0;34m\u001b[0m\u001b[0m\n\u001b[1;32m      4\u001b[0m \u001b[0mtransmap\u001b[0m\u001b[0;34m=\u001b[0m\u001b[0mstr\u001b[0m\u001b[0;34m.\u001b[0m\u001b[0mmaketrans\u001b[0m\u001b[0;34m(\u001b[0m\u001b[0;34m\"poieu\"\u001b[0m\u001b[0;34m,\u001b[0m\u001b[0;34m\"PO129\"\u001b[0m\u001b[0;34m)\u001b[0m \u001b[0;31m#인자가 둘\u001b[0m\u001b[0;34m\u001b[0m\u001b[0m\n\u001b[1;32m      5\u001b[0m \u001b[0;34m\"python is powerful\"\u001b[0m\u001b[0;34m.\u001b[0m\u001b[0mtranslate\u001b[0m\u001b[0;34m(\u001b[0m\u001b[0mtransmap\u001b[0m\u001b[0;34m)\u001b[0m\u001b[0;34m\u001b[0m\u001b[0m\n",
      "\u001b[0;31mAttributeError\u001b[0m: type object 'str' has no attribute 'maketrans'"
     ]
    }
   ],
   "source": [
    "transmap=str.maketrans({\"p\":\"P\"}) #인자가 하나\n",
    "\"python is powerful\".translate(transmap)\n",
    "\n",
    "transmap=str.maketrans(\"poieu\",\"PO129\") #인자가 둘\n",
    "\"python is powerful\".translate(transmap)\n",
    "\n",
    "transmap=str.maketrans(\"p\",\"P\",\"!\") #인자가 셋\n",
    "\"python is powerful!!!!!!!!\".translate(transmap)"
   ]
  },
  {
   "cell_type": "code",
   "execution_count": 48,
   "metadata": {},
   "outputs": [
    {
     "ename": "SyntaxError",
     "evalue": "invalid syntax (<ipython-input-48-efc581f051bb>, line 1)",
     "output_type": "error",
     "traceback": [
      "\u001b[0;36m  File \u001b[0;32m\"<ipython-input-48-efc581f051bb>\"\u001b[0;36m, line \u001b[0;32m1\u001b[0m\n\u001b[0;31m    * partition(separator)\u001b[0m\n\u001b[0m    ^\u001b[0m\n\u001b[0;31mSyntaxError\u001b[0m\u001b[0;31m:\u001b[0m invalid syntax\n"
     ]
    }
   ],
   "source": [
    "* partition(separator)\n",
    "문자열을 나눠준다. 결과로는 앞부분, separator, 뒷부분의 세 튜플이 반환"
   ]
  },
  {
   "cell_type": "code",
   "execution_count": 49,
   "metadata": {},
   "outputs": [
    {
     "data": {
      "text/plain": [
       "('python ', 'is', ' powerful')"
      ]
     },
     "execution_count": 49,
     "metadata": {},
     "output_type": "execute_result"
    }
   ],
   "source": [
    "\"python is powerful\".partition(\"is\")"
   ]
  },
  {
   "cell_type": "raw",
   "metadata": {},
   "source": [
    " * replace(old,new,[count])\n",
    " old를 new로 대체한 결과를 반환\n",
    " count를 인자로 준 경우에는 count횟수만큼만 대체"
   ]
  },
  {
   "cell_type": "code",
   "execution_count": 50,
   "metadata": {},
   "outputs": [
    {
     "data": {
      "text/plain": [
       "'Python is powerful'"
      ]
     },
     "execution_count": 50,
     "metadata": {},
     "output_type": "execute_result"
    }
   ],
   "source": [
    "\"python is powerful\".replace(\"p\",\"P\")\n",
    "\"python is powerful\".replace(\"p\",\"P\",1)"
   ]
  },
  {
   "cell_type": "code",
   "execution_count": 51,
   "metadata": {},
   "outputs": [
    {
     "ename": "SyntaxError",
     "evalue": "invalid syntax (<ipython-input-51-469034d9c3ae>, line 1)",
     "output_type": "error",
     "traceback": [
      "\u001b[0;36m  File \u001b[0;32m\"<ipython-input-51-469034d9c3ae>\"\u001b[0;36m, line \u001b[0;32m1\u001b[0m\n\u001b[0;31m    * rfind(keyword,[start,[end]])\u001b[0m\n\u001b[0m    ^\u001b[0m\n\u001b[0;31mSyntaxError\u001b[0m\u001b[0;31m:\u001b[0m invalid syntax\n"
     ]
    }
   ],
   "source": [
    "* rfind(keyword,[start,[end]])\n",
    "문자열의 뒤에서부터 조사해서 keyword가 나타나는 첫번째 인덱스 반환\n",
    "find()와 마찬가지로 start, end를 지정하면 슬라이싱한 것과 같은 효과를 볼 수 있음\n",
    "keyword를 찾지 못하는 경우 -1을 반환\n",
    "\n",
    "* rindex(keyword,[start,[end]])\n",
    "rfind와 동일한 메소드\n",
    "keyword를 찾지 못했을 때 ValueError발생\n",
    "\n",
    "* rpartition(separator)\n",
    "문자열을 뒤에서부터 검사해서 separator로 나눈다.\n",
    "결과는 앞부분, separator, 뒷부분의 세 튜플로 반환"
   ]
  },
  {
   "cell_type": "code",
   "execution_count": 52,
   "metadata": {},
   "outputs": [
    {
     "data": {
      "text/plain": [
       "-1"
      ]
     },
     "execution_count": 52,
     "metadata": {},
     "output_type": "execute_result"
    }
   ],
   "source": [
    "\"python is powerful\".rfind('p')\n",
    "\"python is powerful\".rfind('p',0,9)\n",
    "\"python is powerful\".rfind('pa')"
   ]
  },
  {
   "cell_type": "code",
   "execution_count": 53,
   "metadata": {},
   "outputs": [
    {
     "ename": "ValueError",
     "evalue": "substring not found",
     "output_type": "error",
     "traceback": [
      "\u001b[0;31m\u001b[0m",
      "\u001b[0;31mValueError\u001b[0mTraceback (most recent call last)",
      "\u001b[0;32m<ipython-input-53-46f5553d1aa1>\u001b[0m in \u001b[0;36m<module>\u001b[0;34m()\u001b[0m\n\u001b[1;32m      1\u001b[0m \u001b[0;34m\"python is powerful\"\u001b[0m\u001b[0;34m.\u001b[0m\u001b[0mrindex\u001b[0m\u001b[0;34m(\u001b[0m\u001b[0;34m\"p\"\u001b[0m\u001b[0;34m)\u001b[0m\u001b[0;34m\u001b[0m\u001b[0m\n\u001b[1;32m      2\u001b[0m \u001b[0;34m\"python is powerful\"\u001b[0m\u001b[0;34m.\u001b[0m\u001b[0mrindex\u001b[0m\u001b[0;34m(\u001b[0m\u001b[0;34m\"p\"\u001b[0m\u001b[0;34m,\u001b[0m\u001b[0;36m0\u001b[0m\u001b[0;34m,\u001b[0m\u001b[0;36m9\u001b[0m\u001b[0;34m)\u001b[0m\u001b[0;34m\u001b[0m\u001b[0m\n\u001b[0;32m----> 3\u001b[0;31m \u001b[0;34m\"python is powerful\"\u001b[0m\u001b[0;34m.\u001b[0m\u001b[0mrindex\u001b[0m\u001b[0;34m(\u001b[0m\u001b[0;34m\"pa\"\u001b[0m\u001b[0;34m)\u001b[0m\u001b[0;34m\u001b[0m\u001b[0m\n\u001b[0m",
      "\u001b[0;31mValueError\u001b[0m: substring not found"
     ]
    }
   ],
   "source": [
    "\"python is powerful\".rindex(\"p\")\n",
    "\"python is powerful\".rindex(\"p\",0,9)\n",
    "\"python is powerful\".rindex(\"pa\")"
   ]
  },
  {
   "cell_type": "code",
   "execution_count": 54,
   "metadata": {},
   "outputs": [
    {
     "data": {
      "text/plain": [
       "('python is ', 'p', 'owerful')"
      ]
     },
     "execution_count": 54,
     "metadata": {},
     "output_type": "execute_result"
    }
   ],
   "source": [
    "\"python is powerful\".rpartition(\"p\")"
   ]
  },
  {
   "cell_type": "code",
   "execution_count": 56,
   "metadata": {},
   "outputs": [
    {
     "ename": "SyntaxError",
     "evalue": "invalid syntax (<ipython-input-56-5a752f50b1b3>, line 1)",
     "output_type": "error",
     "traceback": [
      "\u001b[0;36m  File \u001b[0;32m\"<ipython-input-56-5a752f50b1b3>\"\u001b[0;36m, line \u001b[0;32m1\u001b[0m\n\u001b[0;31m    * rsplit([separator,[maxsplit]])\u001b[0m\n\u001b[0m    ^\u001b[0m\n\u001b[0;31mSyntaxError\u001b[0m\u001b[0;31m:\u001b[0m invalid syntax\n"
     ]
    }
   ],
   "source": [
    "* rsplit([separator,[maxsplit]])\n",
    "문자열을 separator로 분리\n",
    "join()과 반대되는 기능\n",
    "separator가 생략된 경우 공백문자를 구분자로\n",
    "maxsplit을 지정한 경우에는 뒤에서부터 maxsplit만큼만 분리\n",
    "\n",
    "* split([separator,[maxsplit]])\n",
    "rsplit과 거의 동일한 기능\n",
    "separator가 생략된 경우 공백문자를 구분자로\n",
    "maxsplit을 지정한 경우에는 앞에서부터 maxsplit만큼만 분리"
   ]
  },
  {
   "cell_type": "code",
   "execution_count": 57,
   "metadata": {},
   "outputs": [
    {
     "data": {
      "text/plain": [
       "['python is', 'powerful']"
      ]
     },
     "execution_count": 57,
     "metadata": {},
     "output_type": "execute_result"
    }
   ],
   "source": [
    "\"python is powerful\".rsplit()\n",
    "\"python is powerful\".rsplit(\" \",1)"
   ]
  },
  {
   "cell_type": "code",
   "execution_count": 60,
   "metadata": {},
   "outputs": [
    {
     "data": {
      "text/plain": [
       "['python', 'is powerful']"
      ]
     },
     "execution_count": 60,
     "metadata": {},
     "output_type": "execute_result"
    }
   ],
   "source": [
    "\"python is powerful\".split()\n",
    "\"python is powerful\".split(\" \",1)"
   ]
  },
  {
   "cell_type": "code",
   "execution_count": 61,
   "metadata": {},
   "outputs": [
    {
     "ename": "SyntaxError",
     "evalue": "invalid syntax (<ipython-input-61-953f120dac8e>, line 1)",
     "output_type": "error",
     "traceback": [
      "\u001b[0;36m  File \u001b[0;32m\"<ipython-input-61-953f120dac8e>\"\u001b[0;36m, line \u001b[0;32m1\u001b[0m\n\u001b[0;31m    * rstrip([chars])\u001b[0m\n\u001b[0m    ^\u001b[0m\n\u001b[0;31mSyntaxError\u001b[0m\u001b[0;31m:\u001b[0m invalid syntax\n"
     ]
    }
   ],
   "source": [
    "* rstrip([chars])\n",
    "문자열의 오른쪽을 잘라냄\n",
    "chars가 지정되어 있지 않으면 공백 문자 제거\n",
    "지정돼있을 경우엔 chars의 모든 조합을 제거\n",
    "\n",
    "* strip([chars])\n",
    "문자열의 양쪽 끝을 잘라냄\n",
    "chars가 지정되어 있지 않으면 공백 문자 제거\n",
    "지정돼있을 경우엔 chars의 모든 조합을 제거\n"
   ]
  },
  {
   "cell_type": "code",
   "execution_count": 62,
   "metadata": {},
   "outputs": [
    {
     "data": {
      "text/plain": [
       "'>>> python is powerful'"
      ]
     },
     "execution_count": 62,
     "metadata": {},
     "output_type": "execute_result"
    }
   ],
   "source": [
    "\"python \\t\".rstrip()\n",
    "\">>> python is powerful <<<\".rstrip(\"<> \")\n",
    "\">>> python is powerful <<<\".rstrip(\" <\")"
   ]
  },
  {
   "cell_type": "code",
   "execution_count": 63,
   "metadata": {},
   "outputs": [
    {
     "data": {
      "text/plain": [
       "'python is powerful'"
      ]
     },
     "execution_count": 63,
     "metadata": {},
     "output_type": "execute_result"
    }
   ],
   "source": [
    "\"\\t python \\t\".strip()\n",
    "\">>> python is powerful <<<\".strip(\"<> \")"
   ]
  },
  {
   "cell_type": "code",
   "execution_count": 66,
   "metadata": {},
   "outputs": [
    {
     "ename": "SyntaxError",
     "evalue": "invalid syntax (<ipython-input-66-ec4fb6736c54>, line 1)",
     "output_type": "error",
     "traceback": [
      "\u001b[0;36m  File \u001b[0;32m\"<ipython-input-66-ec4fb6736c54>\"\u001b[0;36m, line \u001b[0;32m1\u001b[0m\n\u001b[0;31m    * splitlines([keep])\u001b[0m\n\u001b[0m    ^\u001b[0m\n\u001b[0;31mSyntaxError\u001b[0m\u001b[0;31m:\u001b[0m invalid syntax\n"
     ]
    }
   ],
   "source": [
    "* splitlines([keep])\n",
    "여러라인으로 돼 있는 문자열을 분리\n",
    "keep을 True로 설정하면 구분자를 분리된 문자열에서 제거하지 않으며, 기본값인 False로 지정되면 제거"
   ]
  },
  {
   "cell_type": "code",
   "execution_count": 67,
   "metadata": {},
   "outputs": [
    {
     "data": {
      "text/plain": [
       "['python\\r\\n', 'is\\n', 'powerful']"
      ]
     },
     "execution_count": 67,
     "metadata": {},
     "output_type": "execute_result"
    }
   ],
   "source": [
    "\"python\\r\\nis\\npowerful\".splitlines()\n",
    "\"python\\r\\nis\\npowerful\".splitlines(True)"
   ]
  },
  {
   "cell_type": "code",
   "execution_count": null,
   "metadata": {
    "collapsed": true
   },
   "outputs": [],
   "source": [
    "* swapcase()\n",
    "영문자에 대해서만, 소문자는 대문자로, 대문자는 소문자로 변환해서 반환"
   ]
  },
  {
   "cell_type": "code",
   "execution_count": null,
   "metadata": {
    "collapsed": true
   },
   "outputs": [],
   "source": [
    "\"Python3.6\".swapcase()"
   ]
  },
  {
   "cell_type": "code",
   "execution_count": null,
   "metadata": {
    "collapsed": true
   },
   "outputs": [],
   "source": [
    "02 정규표현식 \n",
    "\n",
    "<정규 표현식 문법>\n",
    ". : 개행 문자를 제외한 문자 1개\n",
    "    ex) 'app.e'는 apple, appLe, app-e, app4e, app e\n",
    "    \n",
    "^ : 문자열의 시작\n",
    "    ex) '^app'는 'apple and orange'와 매치되지만 'orange and apple'과 매치되지 않음\n",
    "\n",
    "$ : 문자열의 종료\n",
    "    ex) 'ple$'는 'orange and apple'과 매치되지만 'apple and orange'와 매치되지 않음\n",
    "\n",
    "[]: 문자의 집합\n",
    "    ex) [abcd] = [a-d]이고 a, b, c, d 중 하나의 문자와 매치.\n",
    "    ex) [^5]는 5를 제외한 모든 문자를 나타냄 - 'appl[^a-z]'는 마지막에 소문자가 오는 경우를 제외한 모든 경우\n",
    "    ex) [$]는 문자열의 종료가 아닌 순수 $문자를 나타냄\n",
    "\n",
    "| : OR연산\n",
    "    ex) 'apple|E'는 'apple','applE'\n",
    "\n",
    "(): 괄호 안의 정규식을 그룹으로 만든다. 직접 '(',')'를 매칭시킥 위해 '\\(','\\)'나 '[(]', '[)]'로 나타냄 \n",
    "\n",
    "* : 문자가 0회 이상 반복됨을 나타냄\n",
    "    ex)'ap*le'는 'ape','apple','appple','apppppple'\n",
    "\n",
    "+ : 문자가 1회 이상 반복됨을 나타냄\n",
    "    ex) 'ap+le'는 'aple', 'apple','appple','apppppple'와  매치되지만, 'ape'와 매치되지 않음\n",
    "    \n",
    "? : 문자가 0회 혹은 1회 반복됨을 나타냄\n",
    "    ex) 'ap?le'는 'ale', 'aple'와 매치됨\n",
    "    \n",
    "{m}: 문자가 m회 반복됨을 나타냄\n",
    "    ex) 'ap{2}le'는 'apple'\n",
    "    \n",
    "{m,n} : 문자가 m회부터 n회까지 반복되는 경우\n",
    "    ex) 'ap{2,4}le'는 'apple','appple','apppple'\n",
    "    \n",
    "{m,} 문자가 m회부터 무한 반복\n",
    "    ex) 'ap{2,}le'는 'apple','appple','appppppple'"
   ]
  },
  {
   "cell_type": "code",
   "execution_count": null,
   "metadata": {
    "collapsed": true
   },
   "outputs": [],
   "source": [
    "<이스케이프 문자열>\n",
    "p240 참고"
   ]
  },
  {
   "cell_type": "code",
   "execution_count": 2,
   "metadata": {},
   "outputs": [
    {
     "data": {
      "text/plain": [
       "<_sre.SRE_Match object; span=(0, 4), match='35th'>"
      ]
     },
     "execution_count": 2,
     "metadata": {},
     "output_type": "execute_result"
    }
   ],
   "source": [
    "#문자열 검색함수\n",
    "#첫 인자: 찾고자 하는 패턴\n",
    "#두번째 인자: 검색 대상 문자열\n",
    "#함수를 수행하면 match객체가 반환, 일치하는 문자열이 없으면 none반환\n",
    "\n",
    "import re\n",
    "re.match('[0-9]*th','35th')\n",
    "re.search('[0-9]*th','35th')"
   ]
  },
  {
   "cell_type": "code",
   "execution_count": 11,
   "metadata": {},
   "outputs": [
    {
     "data": {
      "text/plain": [
       "True"
      ]
     },
     "execution_count": 11,
     "metadata": {},
     "output_type": "execute_result"
    }
   ],
   "source": [
    "#두 함수의 차이점\n",
    "#re.match는 문자열의 시작부터 검색 - 공백이 있거나 일치하는 문자열이 대상 문자열 중간 이후에 존재하는 경우 검색하지 못함\n",
    "#re.search는 문자열 전체를 대상으로 검색\n",
    "\n",
    "bool(re.match('[0-9]*th','       35th'))\n",
    "bool(re.search('[0-9]*th','       35th'))\n",
    "\n",
    "bool(re.match('ap','This is an apple'))\n",
    "bool(re.search('ap','This is an apple'))"
   ]
  },
  {
   "cell_type": "code",
   "execution_count": 17,
   "metadata": {},
   "outputs": [
    {
     "data": {
      "text/plain": [
       "['apple', 'Orange', 'banana  tomato']"
      ]
     },
     "execution_count": 17,
     "metadata": {},
     "output_type": "execute_result"
    }
   ],
   "source": [
    "#대상 문자열을 입력된 패턴을 구분자로 분리\n",
    "#str.split 메서드와 다르게 다양한 구분자 처리 가능\n",
    "re.split('[:.]+','apple Orange:banana  tomato') # :, ., 공백을 구분자로 사용\n",
    "re.split('([:. ])+','apple Orange:banana  tomato') #패턴에 괄호를 포함하면, 구분자도 포함하여 출력\n",
    "re.split('[:. ]+', 'apple Orange:banana  tomato',2) #maxsplit이 2로 설정된 경우"
   ]
  },
  {
   "cell_type": "code",
   "execution_count": 18,
   "metadata": {},
   "outputs": [
    {
     "data": {
      "text/plain": [
       "['Gee Gee Gee Gee Baby Baby Baby', 'Oh 너무 부끄러워', '쳐대볼 수 없어']"
      ]
     },
     "execution_count": 18,
     "metadata": {},
     "output_type": "execute_result"
    }
   ],
   "source": [
    "text=\"\"\"Gee Gee Gee Gee Baby Baby Baby\n",
    "Oh 너무 부끄러워\n",
    "쳐대볼 수 없어\"\"\"\n",
    "re.split('\\n+',text)"
   ]
  },
  {
   "cell_type": "code",
   "execution_count": 20,
   "metadata": {},
   "outputs": [
    {
     "data": {
      "text/plain": [
       "[]"
      ]
     },
     "execution_count": 20,
     "metadata": {},
     "output_type": "execute_result"
    }
   ],
   "source": [
    "#검색 문자열에서 패턴과 매칭되는 모든 경우\n",
    "re.findall(r\"app\\w*\",\"application orange apple banana\") #매칭된 문자열이 있는 경우\n",
    "\n",
    "re.findall(r\"king\\w*\",\"application orange apple banana\") #매칭된 문자열이 없는 경우"
   ]
  },
  {
   "cell_type": "code",
   "execution_count": 24,
   "metadata": {},
   "outputs": [
    {
     "data": {
      "text/plain": [
       "'Apple,Orange,Banana|Tomato'"
      ]
     },
     "execution_count": 24,
     "metadata": {},
     "output_type": "execute_result"
    }
   ],
   "source": [
    "#패턴과 일치하는 문자열 변경\n",
    "re.sub(\"-\",\"\",\"920908-1234567\")\n",
    "re.sub(r\"[:,|\\s]\",\",\",\"Apple:Orange Banana|Tomato\") #구분자를 콤마로 통일\n",
    "re.sub(r\"[:,|\\s]\",\",\",\"Apple:Orange Banana|Tomato\",2)"
   ]
  },
  {
   "cell_type": "code",
   "execution_count": 28,
   "metadata": {},
   "outputs": [
    {
     "data": {
      "text/plain": [
       "'Copyright Derick <I>1990-2009</I>'"
      ]
     },
     "execution_count": 28,
     "metadata": {},
     "output_type": "execute_result"
    }
   ],
   "source": [
    "re.sub(r\"\\b(\\d{4}-\\d{4})\\b\",r\"<I>\\1</I>\", \"Copyright Derick 1990-2009\")\n",
    "re.sub(r\"\\b(?P<year>\\d{4}-\\d{4})\\b\",r\"<I>\\g<year></I>\", \"Copyright Derick 1990-2009\")"
   ]
  },
  {
   "cell_type": "code",
   "execution_count": 31,
   "metadata": {},
   "outputs": [
    {
     "data": {
      "text/plain": [
       "'THE time is THE money'"
      ]
     },
     "execution_count": 31,
     "metadata": {},
     "output_type": "execute_result"
    }
   ],
   "source": [
    "#함수로 변경작업 수행\n",
    "def Upper(m):\n",
    "    return m.group().upper()\n",
    "\n",
    "re.sub(\"[T|t]he\",Upper,\"The time is the money\")"
   ]
  },
  {
   "cell_type": "code",
   "execution_count": 34,
   "metadata": {
    "collapsed": true
   },
   "outputs": [],
   "source": [
    "#정규표현식 객체\n",
    "#지금까지 배운 함수는 정규식으로 표현된 문장을 매번 다시 분석해서 검색한다. \n",
    "#이러한 비효율적인 동작을 피하고자 정규표현식을 컴파일해 정규표현식 객체를 생성할 수 있다."
   ]
  },
  {
   "cell_type": "code",
   "execution_count": 2,
   "metadata": {},
   "outputs": [
    {
     "data": {
      "text/plain": [
       "['apples']"
      ]
     },
     "execution_count": 2,
     "metadata": {},
     "output_type": "execute_result"
    }
   ],
   "source": [
    "import re\n",
    "re.findall(r\"app\\w*\",\"application orange apple banana\")\n",
    "re.findall(r\"app\\w*\",\"There are so many apples in the basket\")"
   ]
  },
  {
   "cell_type": "code",
   "execution_count": 6,
   "metadata": {},
   "outputs": [
    {
     "data": {
      "text/plain": [
       "['apples']"
      ]
     },
     "execution_count": 6,
     "metadata": {},
     "output_type": "execute_result"
    }
   ],
   "source": [
    "#re.compile(pattern[,flags])\n",
    "c = re.compile(r\"app\\w*\")\n",
    "c.findall(\"application orange apple banana\")\n",
    "c.findall(\"There are so many apples in the basket\")"
   ]
  },
  {
   "cell_type": "code",
   "execution_count": null,
   "metadata": {
    "collapsed": true
   },
   "outputs": [],
   "source": [
    "<compile함수의 옵션 플래그>\n",
    "p245"
   ]
  },
  {
   "cell_type": "code",
   "execution_count": 7,
   "metadata": {},
   "outputs": [
    {
     "data": {
      "text/plain": [
       "['apple']"
      ]
     },
     "execution_count": 7,
     "metadata": {},
     "output_type": "execute_result"
    }
   ],
   "source": [
    "import re\n",
    "s = \"Apple is a big company and apple is very delicious.\"\n",
    "c = re.compile('apple')\n",
    "c.findall(s)"
   ]
  },
  {
   "cell_type": "code",
   "execution_count": 8,
   "metadata": {},
   "outputs": [
    {
     "data": {
      "text/plain": [
       "['Apple', 'apple']"
      ]
     },
     "execution_count": 8,
     "metadata": {},
     "output_type": "execute_result"
    }
   ],
   "source": [
    "c = re.compile('apple',re.I) #대소문자 구분하지 않는 옵션\n",
    "c.findall(s)"
   ]
  },
  {
   "cell_type": "code",
   "execution_count": 9,
   "metadata": {},
   "outputs": [
    {
     "data": {
      "text/plain": [
       "['Gee Gee Gee Gee Baby Baby Baby']"
      ]
     },
     "execution_count": 9,
     "metadata": {},
     "output_type": "execute_result"
    }
   ],
   "source": [
    "s = \"\"\"Gee Gee Gee Gee Baby Baby Baby\n",
    "Oh 너무 부끄러워\n",
    "\n",
    "\n",
    "쳐대볼 수 없어\"\"\"\n",
    "c = re.compile('^.+') #첫줄만 매칭\n",
    "c.findall(s)"
   ]
  },
  {
   "cell_type": "code",
   "execution_count": 10,
   "metadata": {},
   "outputs": [
    {
     "data": {
      "text/plain": [
       "['Gee Gee Gee Gee Baby Baby Baby', 'Oh 너무 부끄러워', '쳐대볼 수 없어']"
      ]
     },
     "execution_count": 10,
     "metadata": {},
     "output_type": "execute_result"
    }
   ],
   "source": [
    "c=re.compile('^.+',re.M) #빈라인을 제외하고 라인별로 분리\n",
    "c.findall(s)"
   ]
  },
  {
   "cell_type": "code",
   "execution_count": null,
   "metadata": {
    "collapsed": true
   },
   "outputs": [],
   "source": [
    "#html코드에서 title태그의 내용 출력\n",
    "import urllib.request, re\n",
    "web=urllib.request.urlopen(\"http://www.example.com\")\n",
    "html=web.read()\n",
    "web.close()\n",
    "code = str(html).encode('utf-8').decode('cp949')\n",
    "c = re.compile(r'.*?<title.*?>(.*)<\\title>',re.I|re.S)\n",
    "c.findall(code)"
   ]
  },
  {
   "cell_type": "code",
   "execution_count": null,
   "metadata": {
    "collapsed": true
   },
   "outputs": [],
   "source": [
    "import urllib.request, re\n",
    "web=urllib.request.urlopen(\"http://www.example.com\")\n",
    "html=web.read()\n",
    "web.close()\n",
    "s = str(html).encode('utf-8').decode('cp949')\n",
    "c = re.compile(r\"\"\".*?\n",
    "               <title.*?>\n",
    "               (.*)\n",
    "               <\\title>\n",
    "               \"\"\",re.I|re.S|re.X)\n",
    "c.findall(code)"
   ]
  },
  {
   "cell_type": "code",
   "execution_count": null,
   "metadata": {
    "collapsed": true
   },
   "outputs": [],
   "source": [
    "import re\n",
    "telChecker = re.compile(r\"(\\d{2,3})-(\\d{4})\")\n",
    "bool(telChecker.match(\"02-123-4567\"))\n",
    "bool(telChecker.match(\"02-가123-4567\"))\n",
    "bool(telChecker.match(\"3402-123-4567\"))\n",
    "bool(telChecker.match(\"032-1234-4567\"))"
   ]
  },
  {
   "cell_type": "code",
   "execution_count": null,
   "metadata": {
    "collapsed": true
   },
   "outputs": [],
   "source": [
    "m = telChecker.match(\"02-123-4567\")\n",
    "m.groups()\n",
    "m.group()\n",
    "m.group(1)\n",
    "m.group(2,3)\n",
    "m.start()\n",
    "m.end()\n",
    "m.string[m.start(2):m.end(3)]"
   ]
  },
  {
   "cell_type": "code",
   "execution_count": null,
   "metadata": {
    "collapsed": true
   },
   "outputs": [],
   "source": [
    "m = re.match(r\"(?P<area_code>\\d+)-(?P<exchange_number>\\d+)-(?P<user_number>\\d+)\",\"02-123-4567\")\n",
    "m.group(\"user_number\")\n",
    "m.start(\"user_number\")\n",
    "m.groupdict()\n"
   ]
  },
  {
   "cell_type": "code",
   "execution_count": null,
   "metadata": {
    "collapsed": true
   },
   "outputs": [],
   "source": []
  },
  {
   "cell_type": "code",
   "execution_count": null,
   "metadata": {
    "collapsed": true
   },
   "outputs": [],
   "source": []
  }
 ],
 "metadata": {
  "anaconda-cloud": {},
  "kernelspec": {
   "display_name": "Python 2",
   "language": "python",
   "name": "python2"
  },
  "language_info": {
   "codemirror_mode": {
    "name": "ipython",
    "version": 2
   },
   "file_extension": ".py",
   "mimetype": "text/x-python",
   "name": "python",
   "nbconvert_exporter": "python",
   "pygments_lexer": "ipython2",
   "version": "2.7.13"
  }
 },
 "nbformat": 4,
 "nbformat_minor": 1
}
