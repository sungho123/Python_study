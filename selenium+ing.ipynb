{
 "cells": [
  {
   "cell_type": "markdown",
   "metadata": {},
   "source": [
    "# Selenium 설치\n",
    "\n",
    "- 커맨드 창(cmd) 실행  \n",
    "- pip 위치 입력(파이썬 설치폴더 하위 Scripts폴더)  \n",
    "- pip install selenium 입력 후 설치완료 확인"
   ]
  },
  {
   "cell_type": "code",
   "execution_count": null,
   "metadata": {
    "collapsed": true
   },
   "outputs": [],
   "source": [
    "#selenium 불러오기\n",
    "\n",
    "from selenium import webdriver"
   ]
  },
  {
   "cell_type": "code",
   "execution_count": null,
   "metadata": {
    "collapsed": true
   },
   "outputs": [],
   "source": [
    "#크롬의 경우 다운받은 크롬드라이버의 위치 지정\n",
    "\n",
    "driver=webdriver.Chrome('C:\\\\Users\\\\bob\\\\Desktop\\\\chromedriver')"
   ]
  },
  {
   "cell_type": "code",
   "execution_count": null,
   "metadata": {
    "collapsed": true
   },
   "outputs": [],
   "source": [
    "#기본적으로 selenium이 웹 자원들이 모두 로드될 때까지 기다려주지만, 암묵적으로 웹 로드를 위해 3초까지 기다려줌\n",
    "\n",
    "driver.implicitly_wait(3)\n",
    "#import time\n",
    "#time.sleep(3)\n",
    "\n",
    "#이동하고자 하는 url 입력\n",
    "\n",
    "driver.get(\"https://www.daum.net\")"
   ]
  },
  {
   "cell_type": "code",
   "execution_count": null,
   "metadata": {},
   "outputs": [],
   "source": [
    "#현재 페이지 주소\n",
    "print(driver.current_url)\n",
    "\n",
    "#크롬에서 주소창위에 나오는 이름\n",
    "print(driver.title)"
   ]
  },
  {
   "cell_type": "code",
   "execution_count": null,
   "metadata": {
    "collapsed": true
   },
   "outputs": [],
   "source": [
    "#해당 사이트 이름이 Daum인지 확인\n",
    "\n",
    "assert 'Daum' in driver.title"
   ]
  },
  {
   "cell_type": "code",
   "execution_count": null,
   "metadata": {},
   "outputs": [],
   "source": [
    "assert 'Naver' in driver.title"
   ]
  },
  {
   "cell_type": "code",
   "execution_count": null,
   "metadata": {
    "collapsed": true
   },
   "outputs": [],
   "source": [
    "#스크린샷 기능\n",
    "\n",
    "driver.save_screenshot('daum.png')"
   ]
  },
  {
   "cell_type": "code",
   "execution_count": null,
   "metadata": {},
   "outputs": [],
   "source": [
    "#네이퍼 홈페이지로 이동\n",
    "\n",
    "driver.get(\"https://www.naver.com\")\n",
    "print(driver.title)"
   ]
  },
  {
   "cell_type": "code",
   "execution_count": null,
   "metadata": {},
   "outputs": [],
   "source": [
    "#뒤로가기\n",
    "\n",
    "driver.back()\n",
    "print(driver.title)"
   ]
  },
  {
   "cell_type": "code",
   "execution_count": null,
   "metadata": {},
   "outputs": [],
   "source": [
    "#앞으로 가기\n",
    "\n",
    "driver.forward()\n",
    "print(driver.title)"
   ]
  },
  {
   "cell_type": "code",
   "execution_count": null,
   "metadata": {
    "collapsed": true
   },
   "outputs": [],
   "source": [
    "#새로고침\n",
    "\n",
    "driver.refresh()"
   ]
  },
  {
   "cell_type": "code",
   "execution_count": null,
   "metadata": {
    "collapsed": true
   },
   "outputs": [],
   "source": [
    "#현재 창 최대화\n",
    "\n",
    "driver.maximize_window()"
   ]
  },
  {
   "cell_type": "code",
   "execution_count": null,
   "metadata": {
    "scrolled": true
   },
   "outputs": [],
   "source": [
    "#창의 크기 조절\n",
    "\n",
    "driver.set_window_size(960,0)"
   ]
  },
  {
   "cell_type": "markdown",
   "metadata": {},
   "source": [
    "## 페이지의 element에 따라 접근할 수 있다.\n",
    "\n",
    "- find_element_by_id  \n",
    "- find_element_by_name\n",
    "- find_element_by_xpath\n",
    "    \n",
    "    \n",
    "- find_element_by_css_selector\n",
    "http://blog.naver.com/htk1019/221032631208\n",
    "- find_element_by_class_name\n",
    "- find_element_by_tag_name"
   ]
  },
  {
   "cell_type": "code",
   "execution_count": null,
   "metadata": {
    "collapsed": true
   },
   "outputs": [],
   "source": [
    "#페이지 이동\n",
    "\n",
    "driver.get('http://daehoon.tistory.com/2')"
   ]
  },
  {
   "cell_type": "code",
   "execution_count": null,
   "metadata": {
    "collapsed": true
   },
   "outputs": [],
   "source": [
    "#사람이 키보드를 누르는 듯이 선택할 수 있는 모듈\n",
    "\n",
    "from selenium.webdriver.common.keys import Keys"
   ]
  },
  {
   "cell_type": "code",
   "execution_count": null,
   "metadata": {},
   "outputs": [],
   "source": [
    "elm = driver.find_element_by_tag_name('html')"
   ]
  },
  {
   "cell_type": "code",
   "execution_count": null,
   "metadata": {
    "collapsed": true
   },
   "outputs": [],
   "source": [
    "#스크롤 다운\n",
    "\n",
    "elm.send_keys(Keys.END)"
   ]
  },
  {
   "cell_type": "code",
   "execution_count": null,
   "metadata": {
    "collapsed": true
   },
   "outputs": [],
   "source": [
    "#스크롤 업\n",
    "\n",
    "elm.send_keys(Keys.HOME)"
   ]
  },
  {
   "cell_type": "code",
   "execution_count": null,
   "metadata": {
    "collapsed": true
   },
   "outputs": [],
   "source": [
    "#댓글 입력\n",
    "\n",
    "driver.find_element_by_id('comment').send_keys('좋은 글 잘 봤습니다')\n",
    "driver.find_element_by_xpath('//*[@id=\"name\"]').send_keys('대박')\n",
    "driver.find_element_by_name('password').send_keys('1234')"
   ]
  },
  {
   "cell_type": "code",
   "execution_count": null,
   "metadata": {
    "collapsed": true
   },
   "outputs": [],
   "source": [
    "#댓글 달기\n",
    "\n",
    "driver.find_element_by_class_name('btn_enter').click()"
   ]
  },
  {
   "cell_type": "markdown",
   "metadata": {},
   "source": [
    "# 네이버 뉴스 댓글 가져오기"
   ]
  },
  {
   "cell_type": "code",
   "execution_count": null,
   "metadata": {
    "collapsed": true
   },
   "outputs": [],
   "source": [
    "driver.get('https://nid.naver.com/nidlogin.login')"
   ]
  },
  {
   "cell_type": "code",
   "execution_count": null,
   "metadata": {
    "collapsed": true
   },
   "outputs": [],
   "source": [
    "#아이디 비밀번호 입력\n",
    "\n",
    "driver.find_element_by_id('id').send_keys('wkdrn1wkdrn')\n",
    "driver.find_element_by_id('pw').send_keys('djWjfkrh^12')"
   ]
  },
  {
   "cell_type": "code",
   "execution_count": null,
   "metadata": {
    "collapsed": true
   },
   "outputs": [],
   "source": [
    "#로그인\n",
    "\n",
    "driver.find_element_by_class_name('btn_global').submit()"
   ]
  },
  {
   "cell_type": "code",
   "execution_count": null,
   "metadata": {},
   "outputs": [],
   "source": [
    "#첫 번째 무엇이 들어 있는지 확인을 해보자\n",
    "\n",
    "driver.find_elements_by_css_selector('a.cl_a')[1].text"
   ]
  },
  {
   "cell_type": "code",
   "execution_count": null,
   "metadata": {
    "collapsed": true
   },
   "outputs": [],
   "source": [
    "driver.find_elements_by_css_selector('a.cl_a')[1].click()"
   ]
  },
  {
   "cell_type": "code",
   "execution_count": null,
   "metadata": {
    "collapsed": true
   },
   "outputs": [],
   "source": [
    "driver.find_element_by_xpath('//*[@id=\"B_view\"]/div[2]/ul/li[2]/div/a').click()"
   ]
  },
  {
   "cell_type": "code",
   "execution_count": null,
   "metadata": {
    "collapsed": true
   },
   "outputs": [],
   "source": [
    "driver.find_element_by_xpath('//*[@id=\"cbox_module\"]/div/div[8]/a/span[1]').click()"
   ]
  },
  {
   "cell_type": "code",
   "execution_count": null,
   "metadata": {
    "collapsed": true
   },
   "outputs": [],
   "source": [
    "html = driver.page_source"
   ]
  },
  {
   "cell_type": "code",
   "execution_count": null,
   "metadata": {
    "collapsed": true
   },
   "outputs": [],
   "source": [
    "from bs4 import BeautifulSoup"
   ]
  },
  {
   "cell_type": "code",
   "execution_count": null,
   "metadata": {
    "collapsed": true
   },
   "outputs": [],
   "source": [
    "comments = open(\"C:/Users/bob/Desktop/comments.txt\", 'w' , encoding='utf-8' )"
   ]
  },
  {
   "cell_type": "code",
   "execution_count": null,
   "metadata": {
    "collapsed": true
   },
   "outputs": [],
   "source": [
    "bs = BeautifulSoup(html, 'html.parser')"
   ]
  },
  {
   "cell_type": "code",
   "execution_count": null,
   "metadata": {
    "collapsed": true
   },
   "outputs": [],
   "source": [
    "contents = bs.find_all(\"span\", {\"class\" : \"u_cbox_contents\"}) "
   ]
  },
  {
   "cell_type": "code",
   "execution_count": null,
   "metadata": {},
   "outputs": [],
   "source": [
    "contents[]"
   ]
  },
  {
   "cell_type": "code",
   "execution_count": null,
   "metadata": {},
   "outputs": [],
   "source": [
    "for i in contents :\n",
    "      comments.write(str(i) + '\\n')\n",
    "comments.close()"
   ]
  },
  {
   "cell_type": "code",
   "execution_count": null,
   "metadata": {
    "collapsed": true
   },
   "outputs": [],
   "source": [
    "#로그아웃- 왜 안될까?\n",
    "\n",
    "driver.find_element_by_xpath('//*[@id=\"btn_logout\"]').click()\n",
    "\n",
    "# driver.get('https://nid.naver.com/nidlogin.logout?returl=https://www.naver.com/')"
   ]
  },
  {
   "cell_type": "markdown",
   "metadata": {},
   "source": [
    "https://hyesun03.github.io/2016/09/29/djangoTDD08/"
   ]
  },
  {
   "cell_type": "markdown",
   "metadata": {},
   "source": [
    "# 이미지 저장하기"
   ]
  },
  {
   "cell_type": "code",
   "execution_count": null,
   "metadata": {
    "collapsed": true
   },
   "outputs": [],
   "source": [
    "driver.get(\"https://search.naver.com/search.naver?where=image&sm=tab_jum&query=%EB%B0%95%EB%B3%B4%EA%B2%80\")"
   ]
  },
  {
   "cell_type": "code",
   "execution_count": null,
   "metadata": {},
   "outputs": [],
   "source": [
    "img = driver.find_element_by_class_name('thumb')"
   ]
  },
  {
   "cell_type": "code",
   "execution_count": null,
   "metadata": {},
   "outputs": [],
   "source": [
    "img.find_element_by_tag_name('img').get_attribute('src')"
   ]
  },
  {
   "cell_type": "code",
   "execution_count": null,
   "metadata": {
    "collapsed": true
   },
   "outputs": [],
   "source": [
    "driver.get('https://search.pstatic.net/common/?src=http%3A%2F%2Fimgnews.naver.com%2Fimage%2F009%2F2016%2F10%2F26%2F20161026_3117733_1477455833_99_20161026132606.jpg&type=b400')"
   ]
  },
  {
   "cell_type": "code",
   "execution_count": null,
   "metadata": {
    "collapsed": true
   },
   "outputs": [],
   "source": [
    "driver.set_window_size(500,721)"
   ]
  },
  {
   "cell_type": "code",
   "execution_count": null,
   "metadata": {
    "collapsed": true
   },
   "outputs": [],
   "source": [
    "driver.save_screenshot('보검러브.png')"
   ]
  },
  {
   "cell_type": "code",
   "execution_count": null,
   "metadata": {
    "collapsed": true
   },
   "outputs": [],
   "source": [
    "driver.quit()"
   ]
  },
  {
   "cell_type": "markdown",
   "metadata": {},
   "source": [
    "# 이미지크롤링"
   ]
  },
  {
   "cell_type": "code",
   "execution_count": null,
   "metadata": {
    "collapsed": true
   },
   "outputs": [],
   "source": [
    "driver = webdriver.Chrome('C:\\\\Users\\\\bob\\\\Desktop\\\\chromedriver')\n",
    "\n",
    "from selenium.webdriver.common.keys import Keys"
   ]
  },
  {
   "cell_type": "code",
   "execution_count": null,
   "metadata": {},
   "outputs": [],
   "source": [
    "driver.implicitly_wait(3)"
   ]
  },
  {
   "cell_type": "code",
   "execution_count": null,
   "metadata": {},
   "outputs": [],
   "source": [
    "driver.get('https://google.co.kr')"
   ]
  },
  {
   "cell_type": "code",
   "execution_count": null,
   "metadata": {
    "collapsed": true
   },
   "outputs": [],
   "source": [
    "search_box = driver.find_element_by_class_name('gsfi')\n",
    "search_btn = search_btn = driver.find_element_by_class_name('jsb').find_element_by_tag_name('input')\n",
    "\n",
    "#search_btn = driver.find_element_by_name('btnK')\n",
    "#search_btn = driver.find_element_by_css_selector('input[type=submit]')\n",
    "#search_btn = driver.find_element_by_xpath('//*[@id=\"tsf\"]/div[2]/div[3]/center/input[1]')"
   ]
  },
  {
   "cell_type": "code",
   "execution_count": null,
   "metadata": {},
   "outputs": [],
   "source": [
    "search_box.send_keys(\"박보검\")\n",
    "search_btn.click()"
   ]
  },
  {
   "cell_type": "code",
   "execution_count": null,
   "metadata": {},
   "outputs": [],
   "source": [
    "image_btn=driver.find_element_by_class_name('q')\n",
    "\n",
    "image_btn.click()"
   ]
  },
  {
   "cell_type": "markdown",
   "metadata": {},
   "source": [
    "### 이미지 바로 저장\n",
    "http://blog.naver.com/kinsoo007/221102349782"
   ]
  },
  {
   "cell_type": "code",
   "execution_count": null,
   "metadata": {
    "collapsed": true
   },
   "outputs": [],
   "source": [
    "import urllib.request"
   ]
  },
  {
   "cell_type": "code",
   "execution_count": null,
   "metadata": {},
   "outputs": [],
   "source": [
    "images=driver.find_elements_by_class_name('rg_ic')\n",
    "k = 0\n",
    "\n",
    "for image in images:\n",
    "    try:\n",
    "        source = image.get_attribute('src')\n",
    "        urllib.request.urlretrieve(source, \"bogumlove\" + str(k) + '.png')\n",
    "    except:\n",
    "        print('Null')\n",
    "    k = k + 1"
   ]
  },
  {
   "cell_type": "code",
   "execution_count": null,
   "metadata": {
    "collapsed": true
   },
   "outputs": [],
   "source": [
    "driver.quit()"
   ]
  },
  {
   "cell_type": "markdown",
   "metadata": {},
   "source": [
    "http://dataanalytics.tistory.com/45"
   ]
  },
  {
   "cell_type": "code",
   "execution_count": null,
   "metadata": {
    "collapsed": true
   },
   "outputs": [],
   "source": []
  }
 ],
 "metadata": {
  "kernelspec": {
   "display_name": "Python 3",
   "language": "python",
   "name": "python3"
  },
  "language_info": {
   "codemirror_mode": {
    "name": "ipython",
    "version": 3
   },
   "file_extension": ".py",
   "mimetype": "text/x-python",
   "name": "python",
   "nbconvert_exporter": "python",
   "pygments_lexer": "ipython3",
   "version": "3.6.1"
  }
 },
 "nbformat": 4,
 "nbformat_minor": 2
}
