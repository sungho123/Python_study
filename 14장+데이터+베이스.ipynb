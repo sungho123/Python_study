{
 "cells": [
  {
   "cell_type": "markdown",
   "metadata": {},
   "source": [
    "# 01. 데이터 베이스 연결 "
   ]
  },
  {
   "cell_type": "markdown",
   "metadata": {},
   "source": [
    "데이터베이스를 사용하려면 실제 저장된 데이터베이스 파일을 반영하는 Connection 객체를 생성해야함.\n",
    "DB 파일에 이미 테이블이 생성되거나 레코드가 입력된 경우 Connection 객체를 통해 조회, 입력 등의 연산이 가능"
   ]
  },
  {
   "cell_type": "markdown",
   "metadata": {},
   "source": [
    "sqllite는 디스크 기반의 가벼운 데이터베이스 라이브러리 -> 별도의 서버가 필요하지 않기 떄문에 자원을 적게 사용하며 트랜잭션을 지원하기 때문에 운영체제상 문제가 발새하거나 비정상적으로 전원이 종료되어도 데이터의 무결성을 보장!!"
   ]
  },
  {
   "cell_type": "code",
   "execution_count": 1,
   "metadata": {
    "collapsed": true
   },
   "outputs": [],
   "source": [
    "import sqlite3\n",
    "con=sqlite3.connect(\"test.db\")"
   ]
  },
  {
   "cell_type": "code",
   "execution_count": 2,
   "metadata": {},
   "outputs": [
    {
     "data": {
      "text/plain": [
       "<sqlite3.Connection at 0x7fd17739d9d0>"
      ]
     },
     "execution_count": 2,
     "metadata": {},
     "output_type": "execute_result"
    }
   ],
   "source": [
    "con"
   ]
  },
  {
   "cell_type": "markdown",
   "metadata": {},
   "source": [
    "'memory:' 라는 키워드를 사용해 메모리상에 DB 파일을 만들 수 있다. \n",
    "연결이 종료되면 현재까지 작업한 모든 내용이 사라지지만 물리적인 DB 파일에 기록하는 것보다는 연산속도가 빠르다고함ㅁ"
   ]
  },
  {
   "cell_type": "code",
   "execution_count": 4,
   "metadata": {
    "collapsed": true
   },
   "outputs": [],
   "source": [
    "con=sqlite3.connect(\":memory:\")"
   ]
  },
  {
   "cell_type": "markdown",
   "metadata": {},
   "source": [
    "# 02. SQL문 수행 "
   ]
  },
  {
   "cell_type": "raw",
   "metadata": {},
   "source": [
    "SQLite API를 사용할때는 다음과 같은 과정을 거침.\n",
    "1. 커넥션 열기\n",
    "2. 커서 열기\n",
    "3. 커서를 이용해 데이터 조회/ 수정 / 추가/ 닫기\n",
    "4. 커넥션 닫기"
   ]
  },
  {
   "cell_type": "raw",
   "metadata": {},
   "source": [
    "DBMS와 응용프로그램간에 논리적인 연결을 커넥션 \n",
    "SQLite는 파일 기반의 DBMS이므로 커넥션 열기를 데이터 베이스 파일 열기라고 생각하면 됨.\n",
    "\n",
    "커서는 실질적으로 SQL을 실행하고 그 결과에 대해 후속작업을 할 수 있게 해주는 객체 "
   ]
  },
  {
   "cell_type": "code",
   "execution_count": 6,
   "metadata": {
    "collapsed": true
   },
   "outputs": [],
   "source": [
    "import sqlite3\n",
    "con=sqlite3.connect(\":memory:\")"
   ]
  },
  {
   "cell_type": "code",
   "execution_count": 7,
   "metadata": {
    "collapsed": true
   },
   "outputs": [],
   "source": [
    "cur=con.cursor() #커서 객체 생성"
   ]
  },
  {
   "cell_type": "code",
   "execution_count": 8,
   "metadata": {},
   "outputs": [
    {
     "data": {
      "text/plain": [
       "<sqlite3.Cursor at 0x7fd1744d55e0>"
      ]
     },
     "execution_count": 8,
     "metadata": {},
     "output_type": "execute_result"
    }
   ],
   "source": [
    "cur.execute(\"CREATE TABLE PHONEBOOK(Name CHAR(32) , PhoneNum CHAR(32) PRIMARY KEY);\")"
   ]
  },
  {
   "cell_type": "code",
   "execution_count": 9,
   "metadata": {},
   "outputs": [
    {
     "data": {
      "text/plain": [
       "<sqlite3.Cursor at 0x7fd1744d55e0>"
      ]
     },
     "execution_count": 9,
     "metadata": {},
     "output_type": "execute_result"
    }
   ],
   "source": [
    "cur.execute(\"INSERT INTO PHONEBOOK VALUES('hyeju','010-3007-8665');\")"
   ]
  },
  {
   "cell_type": "markdown",
   "metadata": {},
   "source": [
    "Cursor.execute() 함수에서 sql 구문에서 인자를 채워질 부분을 ?로 표시하고 해당하는 인자를 시퀀스 객체로 전달할 수도 있음."
   ]
  },
  {
   "cell_type": "code",
   "execution_count": 19,
   "metadata": {
    "collapsed": true
   },
   "outputs": [],
   "source": [
    "name=\"hyeju\"\n",
    "phonenumber='010-3007-8675'"
   ]
  },
  {
   "cell_type": "code",
   "execution_count": 20,
   "metadata": {},
   "outputs": [
    {
     "data": {
      "text/plain": [
       "<sqlite3.Cursor at 0x7fd1744d55e0>"
      ]
     },
     "execution_count": 20,
     "metadata": {},
     "output_type": "execute_result"
    }
   ],
   "source": [
    "cur.execute(\"INSERT INTO PHONEBOOK Values(?,?);\",(name,phonenumber))"
   ]
  },
  {
   "cell_type": "code",
   "execution_count": 23,
   "metadata": {},
   "outputs": [
    {
     "ename": "IntegrityError",
     "evalue": "UNIQUE constraint failed: PHONEBOOK.PhoneNum",
     "output_type": "error",
     "traceback": [
      "\u001b[0;31m---------------------------------------------------------------------------\u001b[0m",
      "\u001b[0;31mIntegrityError\u001b[0m                            Traceback (most recent call last)",
      "\u001b[0;32m<ipython-input-23-1cad80dcec9d>\u001b[0m in \u001b[0;36m<module>\u001b[0;34m()\u001b[0m\n\u001b[1;32m      1\u001b[0m \u001b[0;31m#더 간단하게 다음과 같이도!\u001b[0m\u001b[0;34m\u001b[0m\u001b[0;34m\u001b[0m\u001b[0m\n\u001b[0;32m----> 2\u001b[0;31m \u001b[0mcur\u001b[0m\u001b[0;34m.\u001b[0m\u001b[0mexecute\u001b[0m\u001b[0;34m(\u001b[0m\u001b[0;34m\"INSERT INTO PHONEBOOK Values(:inputname,:inputnum);\"\u001b[0m\u001b[0;34m,\u001b[0m\u001b[0;34m{\u001b[0m\u001b[0;34m\"inputnum\"\u001b[0m\u001b[0;34m:\u001b[0m\u001b[0mphonenumber\u001b[0m\u001b[0;34m,\u001b[0m\u001b[0;34m\"inputname\"\u001b[0m\u001b[0;34m:\u001b[0m\u001b[0mname\u001b[0m\u001b[0;34m}\u001b[0m\u001b[0;34m)\u001b[0m\u001b[0;34m\u001b[0m\u001b[0m\n\u001b[0m",
      "\u001b[0;31mIntegrityError\u001b[0m: UNIQUE constraint failed: PHONEBOOK.PhoneNum"
     ]
    }
   ],
   "source": [
    "#더 간단하게 다음과 같이도!\n",
    "cur.execute(\"INSERT INTO PHONEBOOK Values(:inputname,:inputnum);\",{\"inputnum\":phonenumber,\"inputname\":name})"
   ]
  },
  {
   "cell_type": "code",
   "execution_count": 29,
   "metadata": {},
   "outputs": [
    {
     "data": {
      "text/plain": [
       "<sqlite3.Cursor at 0x7fd1744d55e0>"
      ]
     },
     "execution_count": 29,
     "metadata": {},
     "output_type": "execute_result"
    }
   ],
   "source": [
    "#2개의 레코드를 연속적으로 입력하려면?\n",
    "datalist={('hyeju','010-3007-8369'),('hyesu','010-1234-3778')}\n",
    "cur.executemany(\"INSERT INTO PHONEBOOK Values(?,?);\",datalist)"
   ]
  },
  {
   "cell_type": "code",
   "execution_count": 64,
   "metadata": {},
   "outputs": [
    {
     "ename": "FileNotFoundError",
     "evalue": "[Errno 2] No such file or directory: 'script.txt'",
     "output_type": "error",
     "traceback": [
      "\u001b[0;31m---------------------------------------------------------------------------\u001b[0m",
      "\u001b[0;31mFileNotFoundError\u001b[0m                         Traceback (most recent call last)",
      "\u001b[0;32m<ipython-input-64-73c627b1bc93>\u001b[0m in \u001b[0;36m<module>\u001b[0;34m()\u001b[0m\n\u001b[1;32m      5\u001b[0m \u001b[0mcon\u001b[0m \u001b[0;34m=\u001b[0m \u001b[0msqlite3\u001b[0m\u001b[0;34m.\u001b[0m\u001b[0mconnect\u001b[0m\u001b[0;34m(\u001b[0m\u001b[0;34m\":memory:\"\u001b[0m\u001b[0;34m)\u001b[0m\u001b[0;34m\u001b[0m\u001b[0m\n\u001b[1;32m      6\u001b[0m \u001b[0;34m\u001b[0m\u001b[0m\n\u001b[0;32m----> 7\u001b[0;31m \u001b[0;32mwith\u001b[0m \u001b[0mopen\u001b[0m\u001b[0;34m(\u001b[0m\u001b[0;34m'script.txt'\u001b[0m\u001b[0;34m)\u001b[0m \u001b[0;32mas\u001b[0m \u001b[0mf\u001b[0m\u001b[0;34m:\u001b[0m\u001b[0;34m\u001b[0m\u001b[0m\n\u001b[0m\u001b[1;32m      8\u001b[0m     \u001b[0mSQLScript\u001b[0m \u001b[0;34m=\u001b[0m \u001b[0mf\u001b[0m\u001b[0;34m.\u001b[0m\u001b[0mread\u001b[0m\u001b[0;34m(\u001b[0m\u001b[0;34m)\u001b[0m\u001b[0;34m\u001b[0m\u001b[0m\n\u001b[1;32m      9\u001b[0m \u001b[0;34m\u001b[0m\u001b[0m\n",
      "\u001b[0;31mFileNotFoundError\u001b[0m: [Errno 2] No such file or directory: 'script.txt'"
     ]
    }
   ],
   "source": [
    "##script.txt 파일에 저장된 sql 구문을 읽어서 일괄 수행하는 예제\n",
    "\n",
    "import sqlite3\n",
    "\n",
    "con = sqlite3.connect(\":memory:\")\n",
    "\n",
    "with open('script.txt') as f:\n",
    "    SQLScript = f.read()\n",
    "\n",
    "cur = con.cursor()\n",
    "cur.executescript(SQLScript)"
   ]
  },
  {
   "cell_type": "code",
   "execution_count": 31,
   "metadata": {},
   "outputs": [
    {
     "ename": "FileNotFoundError",
     "evalue": "[Errno 2] No such file or directory: 'script.txt'",
     "output_type": "error",
     "traceback": [
      "\u001b[0;31m---------------------------------------------------------------------------\u001b[0m",
      "\u001b[0;31mFileNotFoundError\u001b[0m                         Traceback (most recent call last)",
      "\u001b[0;32m<ipython-input-31-2d0239567ecb>\u001b[0m in \u001b[0;36m<module>\u001b[0;34m()\u001b[0m\n\u001b[0;32m----> 1\u001b[0;31m \u001b[0mf\u001b[0m\u001b[0;34m=\u001b[0m\u001b[0mopen\u001b[0m\u001b[0;34m(\u001b[0m\u001b[0;34m'script.txt'\u001b[0m\u001b[0;34m,\u001b[0m\u001b[0;34m'r'\u001b[0m\u001b[0;34m)\u001b[0m\u001b[0;34m\u001b[0m\u001b[0m\n\u001b[0m\u001b[1;32m      2\u001b[0m \u001b[0mf\u001b[0m\u001b[0;34m.\u001b[0m\u001b[0mread\u001b[0m\u001b[0;34m(\u001b[0m\u001b[0;34m)\u001b[0m\u001b[0;34m\u001b[0m\u001b[0m\n",
      "\u001b[0;31mFileNotFoundError\u001b[0m: [Errno 2] No such file or directory: 'script.txt'"
     ]
    }
   ],
   "source": [
    "f=open('script.txt','r')\n",
    "f.read()"
   ]
  },
  {
   "cell_type": "markdown",
   "metadata": {},
   "source": [
    "\n",
    "# 03.레코드 조회"
   ]
  },
  {
   "cell_type": "code",
   "execution_count": 38,
   "metadata": {},
   "outputs": [
    {
     "data": {
      "text/plain": [
       "<sqlite3.Cursor at 0x7fd1744d55e0>"
      ]
     },
     "execution_count": 38,
     "metadata": {},
     "output_type": "execute_result"
    }
   ],
   "source": [
    "cur.execute(\"SELECT * FROM PHONEBOOK\")"
   ]
  },
  {
   "cell_type": "code",
   "execution_count": 39,
   "metadata": {},
   "outputs": [
    {
     "name": "stdout",
     "output_type": "stream",
     "text": [
      "('hyeju', '010-3007-8665')\n",
      "('hyeju', '010-3007-8655')\n",
      "('hyeju', '010-3007-8695')\n",
      "('hyeju', '010-3007-8365')\n",
      "('hyesu', '010-1234-7778')\n",
      "('hyeju', '010-3007-8369')\n",
      "('hyesu', '010-1234-3778')\n"
     ]
    }
   ],
   "source": [
    "for row in cur:\n",
    "    print(row)"
   ]
  },
  {
   "cell_type": "markdown",
   "metadata": {},
   "source": [
    "Cursor.fetchone()은 조회된 결과 집합으로부터 row 객체를 가져옴  Cursor.fetchmany(n)는 조회된 결과에서 인자로 입력된 n개 만큼 row를 리스트 형태로 반환함"
   ]
  },
  {
   "cell_type": "code",
   "execution_count": 40,
   "metadata": {},
   "outputs": [
    {
     "data": {
      "text/plain": [
       "<sqlite3.Cursor at 0x7fd1744d55e0>"
      ]
     },
     "execution_count": 40,
     "metadata": {},
     "output_type": "execute_result"
    }
   ],
   "source": [
    "cur.execute(\"SELECT * FROM PHONEBOOK\")"
   ]
  },
  {
   "cell_type": "code",
   "execution_count": 41,
   "metadata": {},
   "outputs": [
    {
     "data": {
      "text/plain": [
       "('hyeju', '010-3007-8665')"
      ]
     },
     "execution_count": 41,
     "metadata": {},
     "output_type": "execute_result"
    }
   ],
   "source": [
    "cur.fetchone()"
   ]
  },
  {
   "cell_type": "code",
   "execution_count": 42,
   "metadata": {},
   "outputs": [
    {
     "data": {
      "text/plain": [
       "[('hyeju', '010-3007-8655'), ('hyeju', '010-3007-8695')]"
      ]
     },
     "execution_count": 42,
     "metadata": {},
     "output_type": "execute_result"
    }
   ],
   "source": [
    "cur.fetchmany(2)"
   ]
  },
  {
   "cell_type": "raw",
   "metadata": {},
   "source": [
    "cursor.fetchall()은 fetchmany()와 유사하게 조회된 결과의 다음 row 부터 모든 레코드를 리스트 형태로 반환함"
   ]
  },
  {
   "cell_type": "code",
   "execution_count": 44,
   "metadata": {},
   "outputs": [
    {
     "ename": "OperationalError",
     "evalue": "no such table: PHONEBOOK",
     "output_type": "error",
     "traceback": [
      "\u001b[0;31m---------------------------------------------------------------------------\u001b[0m",
      "\u001b[0;31mOperationalError\u001b[0m                          Traceback (most recent call last)",
      "\u001b[0;32m<ipython-input-44-3e6dc99a9246>\u001b[0m in \u001b[0;36m<module>\u001b[0;34m()\u001b[0m\n\u001b[0;32m----> 1\u001b[0;31m \u001b[0mcur\u001b[0m\u001b[0;34m.\u001b[0m\u001b[0mexecute\u001b[0m\u001b[0;34m(\u001b[0m\u001b[0;34m\"SELECT * FROM PHONEBOOK\"\u001b[0m\u001b[0;34m)\u001b[0m\u001b[0;34m\u001b[0m\u001b[0m\n\u001b[0m",
      "\u001b[0;31mOperationalError\u001b[0m: no such table: PHONEBOOK"
     ]
    }
   ],
   "source": [
    "cur.execute(\"SELECT * FROM PHONEBOOK\")"
   ]
  },
  {
   "cell_type": "code",
   "execution_count": 45,
   "metadata": {},
   "outputs": [],
   "source": [
    "cur.fetchone()"
   ]
  },
  {
   "cell_type": "code",
   "execution_count": 46,
   "metadata": {},
   "outputs": [
    {
     "data": {
      "text/plain": [
       "[]"
      ]
     },
     "execution_count": 46,
     "metadata": {},
     "output_type": "execute_result"
    }
   ],
   "source": [
    "cur.fetchall()"
   ]
  },
  {
   "cell_type": "markdown",
   "metadata": {},
   "source": [
    "# 04. 트랜잭션 처리"
   ]
  },
  {
   "cell_type": "code",
   "execution_count": 49,
   "metadata": {},
   "outputs": [
    {
     "name": "stdout",
     "output_type": "stream",
     "text": [
      "[('hyeju', '010-3007-8665')]\n"
     ]
    }
   ],
   "source": [
    "import sqlite3\n",
    "con = sqlite3.connect(\"./test.db\")\n",
    "cur = con.cursor()\n",
    "#cur.execute(\"DROP TABLE PHONEBOOK;\")\n",
    "cur.execute(\"CREATE TABLE PHONEBOOK(Name text, PhoneNum text);\")\n",
    "cur.execute(\"INSERT INTO PHONEBOOK VALUES('hyeju', '010-3007-8665');\")\n",
    "cur.execute(\"SELECT * FROM PHONEBOOK;\")\n",
    "print(cur.fetchall())"
   ]
  },
  {
   "cell_type": "code",
   "execution_count": 50,
   "metadata": {},
   "outputs": [
    {
     "name": "stdout",
     "output_type": "stream",
     "text": [
      "[]\n"
     ]
    }
   ],
   "source": [
    "import sqlite3\n",
    "con = sqlite3.connect(\"./test.db\")\n",
    "cur = con.cursor()\n",
    "cur.execute(\"SELECT * FROM PHONEBOOK;\")\n",
    "print(cur.fetchall())"
   ]
  },
  {
   "cell_type": "code",
   "execution_count": 51,
   "metadata": {
    "collapsed": true
   },
   "outputs": [],
   "source": [
    "##빈 셀이 나타나는 것은 트랜잭션 처리와 연관이 있음. "
   ]
  },
  {
   "cell_type": "markdown",
   "metadata": {},
   "source": [
    "트랜잭션 처리란??\n",
    "-->p310"
   ]
  },
  {
   "cell_type": "code",
   "execution_count": 57,
   "metadata": {},
   "outputs": [
    {
     "ename": "OperationalError",
     "evalue": "table PhoneBook already exists",
     "output_type": "error",
     "traceback": [
      "\u001b[0;31m---------------------------------------------------------------------------\u001b[0m",
      "\u001b[0;31mOperationalError\u001b[0m                          Traceback (most recent call last)",
      "\u001b[0;32m<ipython-input-57-a1a522e28774>\u001b[0m in \u001b[0;36m<module>\u001b[0;34m()\u001b[0m\n\u001b[1;32m      2\u001b[0m \u001b[0mcon\u001b[0m \u001b[0;34m=\u001b[0m \u001b[0msqlite3\u001b[0m\u001b[0;34m.\u001b[0m\u001b[0mconnect\u001b[0m\u001b[0;34m(\u001b[0m\u001b[0;34m\"./commit.db\"\u001b[0m\u001b[0;34m)\u001b[0m\u001b[0;34m\u001b[0m\u001b[0m\n\u001b[1;32m      3\u001b[0m \u001b[0mcur\u001b[0m \u001b[0;34m=\u001b[0m \u001b[0mcon\u001b[0m\u001b[0;34m.\u001b[0m\u001b[0mcursor\u001b[0m\u001b[0;34m(\u001b[0m\u001b[0;34m)\u001b[0m\u001b[0;34m\u001b[0m\u001b[0m\n\u001b[0;32m----> 4\u001b[0;31m \u001b[0mcur\u001b[0m\u001b[0;34m.\u001b[0m\u001b[0mexecute\u001b[0m\u001b[0;34m(\u001b[0m\u001b[0;34m\"CREATE TABLE PhoneBook(Name text, PhoneNum text);\"\u001b[0m\u001b[0;34m)\u001b[0m\u001b[0;34m\u001b[0m\u001b[0m\n\u001b[0m\u001b[1;32m      5\u001b[0m \u001b[0mcur\u001b[0m\u001b[0;34m.\u001b[0m\u001b[0mexecute\u001b[0m\u001b[0;34m(\u001b[0m\u001b[0;34m\"INSERT INTO PhoneBook VALUES('hyeju', '010-3007-8665');\"\u001b[0m\u001b[0;34m)\u001b[0m\u001b[0;34m\u001b[0m\u001b[0m\n\u001b[1;32m      6\u001b[0m \u001b[0mcon\u001b[0m\u001b[0;34m.\u001b[0m\u001b[0mcommit\u001b[0m\u001b[0;34m(\u001b[0m\u001b[0;34m)\u001b[0m\u001b[0;34m\u001b[0m\u001b[0m\n",
      "\u001b[0;31mOperationalError\u001b[0m: table PhoneBook already exists"
     ]
    }
   ],
   "source": [
    "import sqlite3\n",
    "con = sqlite3.connect(\"./commit.db\")\n",
    "cur = con.cursor()\n",
    "cur.execute(\"CREATE TABLE PhoneBook(Name text, PhoneNum text);\")\n",
    "cur.execute(\"INSERT INTO PhoneBook VALUES('hyeju', '010-3007-8665');\")\n",
    "con.commit()"
   ]
  },
  {
   "cell_type": "code",
   "execution_count": 58,
   "metadata": {},
   "outputs": [
    {
     "name": "stdout",
     "output_type": "stream",
     "text": [
      "[('hyeju', '010-3007-8665')]\n"
     ]
    }
   ],
   "source": [
    "import sqlite3\n",
    "con = sqlite3.connect(\"./commit.db\")\n",
    "cur = con.cursor()\n",
    "cur.execute(\"SELECT * FROM PhoneBook;\")\n",
    "print(cur.fetchall())"
   ]
  },
  {
   "cell_type": "code",
   "execution_count": 59,
   "metadata": {
    "collapsed": true
   },
   "outputs": [],
   "source": [
    "#자동으로 commit 되게 설정\n",
    "con.isolation_level=None"
   ]
  },
  {
   "cell_type": "markdown",
   "metadata": {},
   "source": [
    "# 05. 레코드 정렬과 사용자 정렬 함수"
   ]
  },
  {
   "cell_type": "code",
   "execution_count": null,
   "metadata": {
    "collapsed": true
   },
   "outputs": [],
   "source": [
    "#ORDER BY를 이용해 Name을 정렬"
   ]
  },
  {
   "cell_type": "code",
   "execution_count": 72,
   "metadata": {},
   "outputs": [
    {
     "data": {
      "text/plain": [
       "<sqlite3.Cursor at 0x7fd1744d5570>"
      ]
     },
     "execution_count": 72,
     "metadata": {},
     "output_type": "execute_result"
    }
   ],
   "source": [
    "cur.execute(\"SELECT * FROM Phonebook ORDER BY Name\")"
   ]
  },
  {
   "cell_type": "code",
   "execution_count": 73,
   "metadata": {},
   "outputs": [
    {
     "data": {
      "text/plain": [
       "[('hyeju', '010-3007-8665'),\n",
       " ('hyesu', '010-4127-3004'),\n",
       " ('hyesu', '010-4127-3004'),\n",
       " ('hyesu', '010-4127-3004')]"
      ]
     },
     "execution_count": 73,
     "metadata": {},
     "output_type": "execute_result"
    }
   ],
   "source": [
    "[r for r in cur]"
   ]
  },
  {
   "cell_type": "code",
   "execution_count": 80,
   "metadata": {},
   "outputs": [
    {
     "data": {
      "text/plain": [
       "[('hyesu', '010-4127-3004'),\n",
       " ('hyesu', '010-4127-3004'),\n",
       " ('hyesu', '010-4127-3004'),\n",
       " ('hyesu', '010-4127-3004'),\n",
       " ('hyeju', '010-3007-8665')]"
      ]
     },
     "execution_count": 80,
     "metadata": {},
     "output_type": "execute_result"
    }
   ],
   "source": [
    "cur.execute(\"SELECT * FROM Phonebook ORDER BY Name DESC\")\n",
    "[r for r in cur]"
   ]
  },
  {
   "cell_type": "code",
   "execution_count": 81,
   "metadata": {},
   "outputs": [
    {
     "data": {
      "text/plain": [
       "['hyeju', 'hyesu', 'hyesu', 'hyesu', 'hyesu', 'hyesu']"
      ]
     },
     "execution_count": 81,
     "metadata": {},
     "output_type": "execute_result"
    }
   ],
   "source": [
    "cur.execute(\"INSERT INTO Phonebook VALUES('hyesu','010-4127-3004');\")\n",
    "cur.execute(\"SELECT * FROM Phonebook ORDER BY Name\")\n",
    "[r[0] for r in cur]"
   ]
  },
  {
   "cell_type": "code",
   "execution_count": 82,
   "metadata": {
    "collapsed": true
   },
   "outputs": [],
   "source": [
    "#대소문자 구분 없이 정렬하는 함수!\n",
    "def OrderFunc(a,b):\n",
    "    s1=a.upper()\n",
    "    s2=b.upper()\n",
    "    return (s1>s2)-(s1<s2)"
   ]
  },
  {
   "cell_type": "code",
   "execution_count": 83,
   "metadata": {
    "collapsed": true
   },
   "outputs": [],
   "source": [
    "con.create_collation('myordering',OrderFunc)\n",
    "#SQL구문에서 호출할 이름과 함수 등록"
   ]
  },
  {
   "cell_type": "code",
   "execution_count": 84,
   "metadata": {},
   "outputs": [
    {
     "ename": "OperationalError",
     "evalue": "no such collation sequence: myordering",
     "output_type": "error",
     "traceback": [
      "\u001b[0;31m---------------------------------------------------------------------------\u001b[0m",
      "\u001b[0;31mOperationalError\u001b[0m                          Traceback (most recent call last)",
      "\u001b[0;32m<ipython-input-84-af9091051e59>\u001b[0m in \u001b[0;36m<module>\u001b[0;34m()\u001b[0m\n\u001b[0;32m----> 1\u001b[0;31m \u001b[0mcur\u001b[0m\u001b[0;34m.\u001b[0m\u001b[0mexecute\u001b[0m\u001b[0;34m(\u001b[0m\u001b[0;34m\"SELECT Name FROM Phonebook ORDER BY Name COLLATE myordering\"\u001b[0m\u001b[0;34m)\u001b[0m\u001b[0;34m\u001b[0m\u001b[0m\n\u001b[0m\u001b[1;32m      2\u001b[0m \u001b[0;34m[\u001b[0m\u001b[0mr\u001b[0m\u001b[0;34m[\u001b[0m\u001b[0;36m0\u001b[0m\u001b[0;34m]\u001b[0m \u001b[0;32mfor\u001b[0m \u001b[0mr\u001b[0m \u001b[0;32min\u001b[0m \u001b[0mcur\u001b[0m\u001b[0;34m]\u001b[0m\u001b[0;34m\u001b[0m\u001b[0m\n",
      "\u001b[0;31mOperationalError\u001b[0m: no such collation sequence: myordering"
     ]
    }
   ],
   "source": [
    "cur.execute(\"SELECT Name FROM Phonebook ORDER BY Name COLLATE myordering\")\n",
    "[r[0] for r in cur]"
   ]
  },
  {
   "cell_type": "markdown",
   "metadata": {},
   "source": [
    "# 06. SQLite3 내장 집계 함수"
   ]
  },
  {
   "cell_type": "raw",
   "metadata": {},
   "source": [
    "abs(x) 절대값 반환\n",
    "length(x) 문자열 길이 반환\n",
    "lower(x) 소문자 반환\n",
    "upper(x) 대문자 반환\n",
    "min(x,...) 최소 max(x,..) 최대\n",
    "random(*) 임의의 정수\n",
    "count(x) 필드인자가 NULL값이 아닌 튜플의 개수 반환\n",
    "count(*) 튜플의 개수 반환\n",
    "sum(x) 필드 인자의 합 반환"
   ]
  },
  {
   "cell_type": "code",
   "execution_count": 85,
   "metadata": {},
   "outputs": [
    {
     "name": "stdout",
     "output_type": "stream",
     "text": [
      "== length(), upper(), lower() ==\n",
      "[(5, 'HYEJU', 'hyeju'), (5, 'SEOHO', 'seoho'), (6, 'DAKUNG', 'dakung'), (7, 'GAYOUNG', 'gayoung')]\n",
      "== max(), min(), sum() ==\n",
      "[(28, 23, 100)]\n",
      "== count(*), random(*) ==\n",
      "[(4, 838460544254872479)]\n",
      "== count(*)\n",
      "[(3,), (1,)]\n"
     ]
    }
   ],
   "source": [
    "import sqlite3\n",
    "con = sqlite3.connect(\":memory:\")\n",
    "cur = con.cursor()\n",
    "\n",
    "cur.execute(\"CREATE TABLE PhoneBook(Name text, Age integer, Sex text);\")\n",
    "list = (('Hyeju', 23,'F'),('Seoho',28,'M'), ('Dakung',24,'F'), ('Gayoung',25,'F'))\n",
    "cur.executemany(\"INSERT INTO PhoneBook VALUES(?, ?, ?);\", list)\n",
    "\n",
    "cur.execute(\"SELECT length(Name), upper(Name), lower(Name) FROM PhoneBook\")\n",
    "print(\"== length(), upper(), lower() ==\")\n",
    "print([r for r in cur])\n",
    "\n",
    "cur.execute(\"SELECT max(Age), min(Age), sum(Age) FROM PhoneBook\")\n",
    "print(\"== max(), min(), sum() ==\")\n",
    "print([r for r in cur])\n",
    "\n",
    "cur.execute(\"SELECT count(*), random(*) FROM PhoneBook\")\n",
    "print(\"== count(*), random(*) ==\")\n",
    "print([r for r in cur]) \n",
    "\n",
    "cur.execute(\"SELECT count(*) FROM PhoneBook GROUP BY Sex\")\n",
    "print(\"== count(*)\")\n",
    "print([r for r in cur]) "
   ]
  },
  {
   "cell_type": "markdown",
   "metadata": {},
   "source": [
    "# 07. 사용자정의 집계 함수"
   ]
  },
  {
   "cell_type": "markdown",
   "metadata": {},
   "source": [
    "지원하는 내장 집계함수만으로 부족할때 사용자가 직접 클래스를 작성해 등록할 수 있음"
   ]
  },
  {
   "cell_type": "code",
   "execution_count": null,
   "metadata": {
    "collapsed": true
   },
   "outputs": [],
   "source": [
    "class Average:\n",
    "    def __init__(self):\n",
    "        self.sum = 0  ##sum. cnt 초기화\n",
    "        self.cnt = 0\n",
    "\n",
    "    def step(self, value):\n",
    "        self.sum += value #입력된 값을 sum에 더하고 cnt를 증가\n",
    "        self.cnt += 1\n",
    "\n",
    "    def finalize(self):\n",
    "        return self.sum / self.cnt #평균을 반환"
   ]
  },
  {
   "cell_type": "markdown",
   "metadata": {},
   "source": [
    "이렇게 정의된 클래스는 Connection.create_aggregate() 메서드를 호출해 DB에 등록해야 쓸 수 있음. step() 함수에 전달될 인자의 개수, 클래스 명을 순차적으로 인자로 입력받음"
   ]
  },
  {
   "cell_type": "code",
   "execution_count": null,
   "metadata": {},
   "outputs": [],
   "source": [
    "con.create_aggregate(\"avg\",1,Average) #Average 클레스를 사용자정의 집계함수로 등록\n",
    "\n",
    "cur.execute(\"SELECT avg(Age) FROM Phonebook\")\n",
    "print(cur.fetchone()[0])"
   ]
  },
  {
   "cell_type": "markdown",
   "metadata": {},
   "source": [
    "# 08. 자료형"
   ]
  },
  {
   "cell_type": "raw",
   "metadata": {},
   "source": [
    "SQLite3 자료형 / 파이썬 자료형\n",
    "NULL / None\n",
    "INTEGER / int\n",
    "REAL / float #약 9개의 유효 숫자가 포함된 단정밀도 부동 소수점 수가 저장\n",
    "TEXT / str, bytes\n",
    "BLOB / buffer #2진 데이터 "
   ]
  },
  {
   "cell_type": "code",
   "execution_count": null,
   "metadata": {},
   "outputs": [],
   "source": [
    "con = sqlite3.connect(\":memory:\")\n",
    "cur = con.cursor()\n",
    "\n",
    "cur.execute(\"CREATE TABLE PhoneBook(Name text, Age integer, Money REAL);\") # SQLite3 자료형으로 테이블 생성\n",
    "cur.execute(\"CREATE TABLE PhoneBook2(Name str, Age int, Money float);\") # 파이썬 자료형으로 테이블 생성\n",
    "\n",
    "cur.execute(\"INSERT INTO Phonebook VALUES('혜주',23,10000000000000000.123)\")\n",
    "cur.execute(\"INSERT INTO Phonebook2 VALUES('혜주',23,10000000000000000.123)\")"
   ]
  },
  {
   "cell_type": "markdown",
   "metadata": {},
   "source": [
    "# 09. 사용자정의 자료형"
   ]
  },
  {
   "cell_type": "markdown",
   "metadata": {},
   "source": [
    "SQLite3는 5개의 자료형으로 되어있는데 이 5개로 부족할 수 있음. 그럴 때 사용자정의 자료형을 직접 클래스 객체로 DB에 입력할 수 있음"
   ]
  },
  {
   "cell_type": "code",
   "execution_count": null,
   "metadata": {
    "collapsed": true
   },
   "outputs": [],
   "source": [
    "#2차원의 자표를 나타내는 Point 클래스\n",
    "\n",
    "class Point(object):\n",
    "    def __init__(self, x, y):\n",
    "        self.x, self.y = x, y\n",
    "\n",
    "    def __repr__(self):\n",
    "        return \"Point(%f, %f)\" % (self.x, self.y)"
   ]
  },
  {
   "cell_type": "markdown",
   "metadata": {},
   "source": [
    "정의된 클래스를 SQLite3에서 입력/ 조회하려면 변환함수를 작성해야함. 왜? SQLite3는 5개의 기본 자료형만을 입력받을 수 있어서"
   ]
  },
  {
   "cell_type": "code",
   "execution_count": null,
   "metadata": {
    "collapsed": true
   },
   "outputs": [],
   "source": [
    "#PointAdapter() 는 사용자정의 자료형을 SQLite3에서 사용 가능한 형태로 반환하는 함수 \n",
    "\n",
    "def PointAdapter(point):\n",
    "    return \"%f:%f\" % (point.x, point.y)\n",
    "\n",
    "#PointConverter()는 SQLite3에서 조회된 결과를 클래스 객체 형태로 반환하는 함수\n",
    "\n",
    "def PointConverter(s):\n",
    "    x, y = list(map(float, s.decode().split(\":\")))\n",
    "    return Point(x, y)"
   ]
  },
  {
   "cell_type": "markdown",
   "metadata": {},
   "source": [
    "##작성된 함수는 db에 등록해야 사용할 수 있음\n",
    "\n",
    "sqlite3.register_adapter(파이썬 자료형, 변환함수)\n",
    "\n",
    "sqlite3.register_converter(SQLite3 자료형, 변환함수)"
   ]
  },
  {
   "cell_type": "code",
   "execution_count": null,
   "metadata": {
    "collapsed": true
   },
   "outputs": [],
   "source": [
    "sqlite3.register_adapter(Point, PointAdapter) #클래스 이름과 변환함수 등록"
   ]
  },
  {
   "cell_type": "code",
   "execution_count": null,
   "metadata": {
    "collapsed": true
   },
   "outputs": [],
   "source": [
    "sqlite3.register_converter(\"point\", PointConverter) #SQL구문에서 사용할 자료형 이름과 변환함수 등록"
   ]
  },
  {
   "cell_type": "code",
   "execution_count": null,
   "metadata": {},
   "outputs": [],
   "source": [
    "p = Point(4, -3.2)\n",
    "p2 = Point(-1.4, 6.2)\n",
    "\n",
    "con = sqlite3.connect(\":memory:\", detect_types=sqlite3.PARSE_DECLTYPES) #암묵적으로 선언된 자료형으로 조회하도록 설정\n",
    "cur = con.cursor()\n",
    "cur.execute(\"create table test(p point)\") #point 자료형으로 테이블 생성\n",
    "cur.execute(\"insert into test values (?)\", (p, )) #point 레코드 입력\n",
    "cur.execute(\"insert into test(p) values (?)\", (p2,))\n",
    "\n",
    "cur.execute(\"select p from test\")\n",
    "print([r[0] for r in cur])\n",
    "cur.close()\n",
    "con.close()"
   ]
  },
  {
   "cell_type": "markdown",
   "metadata": {},
   "source": [
    "# 10. 데이터베이스 덤프 만들기"
   ]
  },
  {
   "cell_type": "code",
   "execution_count": null,
   "metadata": {
    "collapsed": true
   },
   "outputs": [],
   "source": [
    "##SQL 문으로 만들어서 쓰고 싶을때 다음과 같은 코드 쓰면됨"
   ]
  },
  {
   "cell_type": "code",
   "execution_count": null,
   "metadata": {},
   "outputs": [],
   "source": [
    "import sqlite3\n",
    "con = sqlite3.connect(\":memory:\")\n",
    "cur = con.cursor()\n",
    "\n",
    "cur.execute(\"CREATE TABLE PhoneBook(Name text, PhoneNum text);\")\n",
    "cur.execute(\"INSERT INTO PhoneBook VALUES('Derick', '010-1234-5678');\")\n",
    "list = (('Tom', '010-543-5432'), ('DSP', '010-123-1234'))\n",
    "cur.executemany(\"INSERT INTO PhoneBook VALUES(?, ?);\", list)\n",
    "\n",
    "for l in con.iterdump():\n",
    "    print(l)"
   ]
  },
  {
   "cell_type": "code",
   "execution_count": null,
   "metadata": {
    "collapsed": true
   },
   "outputs": [],
   "source": []
  },
  {
   "cell_type": "code",
   "execution_count": null,
   "metadata": {
    "collapsed": true
   },
   "outputs": [],
   "source": []
  }
 ],
 "metadata": {
  "kernelspec": {
   "display_name": "Python 3",
   "language": "python",
   "name": "python3"
  },
  "language_info": {
   "codemirror_mode": {
    "name": "ipython",
    "version": 3
   },
   "file_extension": ".py",
   "mimetype": "text/x-python",
   "name": "python",
   "nbconvert_exporter": "python",
   "pygments_lexer": "ipython3",
   "version": "3.6.1"
  }
 },
 "nbformat": 4,
 "nbformat_minor": 2
}
