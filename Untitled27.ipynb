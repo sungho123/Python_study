{
 "cells": [
  {
   "cell_type": "markdown",
   "metadata": {},
   "source": [
    "# 운영체제 관련 주요 모듈"
   ]
  },
  {
   "cell_type": "markdown",
   "metadata": {},
   "source": [
    "# 1.OS 모듈\n",
    "## 파일 관련 함수"
   ]
  },
  {
   "cell_type": "code",
   "execution_count": 1,
   "metadata": {
    "collapsed": true
   },
   "outputs": [],
   "source": [
    "from os import*\n",
    "#import os"
   ]
  },
  {
   "cell_type": "code",
   "execution_count": 2,
   "metadata": {},
   "outputs": [
    {
     "data": {
      "text/plain": [
       "'/home/jovyan/sungho/Untitled Folder'"
      ]
     },
     "execution_count": 2,
     "metadata": {},
     "output_type": "execute_result"
    }
   ],
   "source": [
    "#os.getcwd() : 현재 작업 디렉토리 위치\n",
    "#os.chdir() : 현재 작업 디렉토리 위치 변경\n",
    "\n",
    "getcwd()"
   ]
  },
  {
   "cell_type": "code",
   "execution_count": 3,
   "metadata": {},
   "outputs": [
    {
     "ename": "FileNotFoundError",
     "evalue": "[Errno 2] No such file or directory: '.\\\\Documents'",
     "output_type": "error",
     "traceback": [
      "\u001b[0;31m---------------------------------------------------------------------------\u001b[0m",
      "\u001b[0;31mFileNotFoundError\u001b[0m                         Traceback (most recent call last)",
      "\u001b[0;32m<ipython-input-3-deeb7d922b80>\u001b[0m in \u001b[0;36m<module>\u001b[0;34m()\u001b[0m\n\u001b[0;32m----> 1\u001b[0;31m \u001b[0mchdir\u001b[0m\u001b[0;34m(\u001b[0m\u001b[0;34m\".\\\\Documents\"\u001b[0m\u001b[0;34m)\u001b[0m\u001b[0;34m\u001b[0m\u001b[0m\n\u001b[0m\u001b[1;32m      2\u001b[0m \u001b[0;31m#chdir(\"C:\\\\Users\\\\LeeDaKyeong\\\\Documents\")\u001b[0m\u001b[0;34m\u001b[0m\u001b[0;34m\u001b[0m\u001b[0m\n\u001b[1;32m      3\u001b[0m \u001b[0mgetcwd\u001b[0m\u001b[0;34m(\u001b[0m\u001b[0;34m)\u001b[0m\u001b[0;34m\u001b[0m\u001b[0m\n",
      "\u001b[0;31mFileNotFoundError\u001b[0m: [Errno 2] No such file or directory: '.\\\\Documents'"
     ]
    }
   ],
   "source": [
    "chdir(\".\\\\Documents\")\n",
    "#chdir(\"C:\\\\Users\\\\LeeDaKyeong\\\\Documents\")\n",
    "getcwd()"
   ]
  },
  {
   "cell_type": "code",
   "execution_count": 4,
   "metadata": {},
   "outputs": [
    {
     "ename": "FileNotFoundError",
     "evalue": "[Errno 2] No such file or directory: 'C:\\\\Users\\\\LeeDaKyeong'",
     "output_type": "error",
     "traceback": [
      "\u001b[0;31m---------------------------------------------------------------------------\u001b[0m",
      "\u001b[0;31mFileNotFoundError\u001b[0m                         Traceback (most recent call last)",
      "\u001b[0;32m<ipython-input-4-2f214ecd37b6>\u001b[0m in \u001b[0;36m<module>\u001b[0;34m()\u001b[0m\n\u001b[0;32m----> 1\u001b[0;31m \u001b[0mchdir\u001b[0m\u001b[0;34m(\u001b[0m\u001b[0;34m\"C:\\\\Users\\\\LeeDaKyeong\"\u001b[0m\u001b[0;34m)\u001b[0m\u001b[0;34m\u001b[0m\u001b[0m\n\u001b[0m\u001b[1;32m      2\u001b[0m \u001b[0mgetcwd\u001b[0m\u001b[0;34m(\u001b[0m\u001b[0;34m)\u001b[0m\u001b[0;34m\u001b[0m\u001b[0m\n",
      "\u001b[0;31mFileNotFoundError\u001b[0m: [Errno 2] No such file or directory: 'C:\\\\Users\\\\LeeDaKyeong'"
     ]
    }
   ],
   "source": [
    "chdir(\"C:\\\\Users\\\\LeeDaKyeong\")\n",
    "getcwd()"
   ]
  },
  {
   "cell_type": "markdown",
   "metadata": {},
   "source": [
    "### os.access(path,mode) : 입력받은 path 에 대해 mode에 해당하는 작업이 가능한지 여부를 반환\n",
    "\n",
    "#### F_OK : 해당 path의 존재 여부를 확인하는 mode\n",
    "#### R_OK : 해당 path의 읽기 가능 여부를 확인하는 mode\n",
    "#### W_OK : 해당 path의 쓰기 가능 여부를 확인하는 mode\n",
    "#### X_OK : 해당 path의 실행 가능 여부를 확인하는 mode"
   ]
  },
  {
   "cell_type": "code",
   "execution_count": 5,
   "metadata": {},
   "outputs": [
    {
     "data": {
      "text/plain": [
       "True"
      ]
     },
     "execution_count": 5,
     "metadata": {},
     "output_type": "execute_result"
    }
   ],
   "source": [
    "access('.', F_OK)"
   ]
  },
  {
   "cell_type": "code",
   "execution_count": 6,
   "metadata": {},
   "outputs": [
    {
     "data": {
      "text/plain": [
       "False"
      ]
     },
     "execution_count": 6,
     "metadata": {},
     "output_type": "execute_result"
    }
   ],
   "source": [
    "access('.\\\\testtest', F_OK)"
   ]
  },
  {
   "cell_type": "code",
   "execution_count": 7,
   "metadata": {},
   "outputs": [
    {
     "data": {
      "text/plain": [
       "True"
      ]
     },
     "execution_count": 7,
     "metadata": {},
     "output_type": "execute_result"
    }
   ],
   "source": [
    "access('.', F_OK|W_OK|X_OK)"
   ]
  },
  {
   "cell_type": "code",
   "execution_count": 8,
   "metadata": {},
   "outputs": [
    {
     "data": {
      "text/plain": [
       "['.ipynb_checkpoints',\n",
       " '파이썬3_입출력.ipynb',\n",
       " 'test.txt',\n",
       " 'Python Study Week 3.ipynb',\n",
       " '파일시스템을자유자재로 (2).ipynb',\n",
       " 'STR & RE.ipynb',\n",
       " 'test',\n",
       " 'colors',\n",
       " 'tesadfasfasdft.txt',\n",
       " 'Untitled27.ipynb']"
      ]
     },
     "execution_count": 8,
     "metadata": {},
     "output_type": "execute_result"
    }
   ],
   "source": [
    "#os.listdir(path) : path에 존재하는 파일과 디렉토리 목룍 반환\n",
    "listdir('.')"
   ]
  },
  {
   "cell_type": "code",
   "execution_count": 11,
   "metadata": {},
   "outputs": [
    {
     "ename": "FileExistsError",
     "evalue": "[Errno 17] File exists: 'C:\\\\Users\\\\LeeDaKyeong\\\\test1\\\\test2'",
     "output_type": "error",
     "traceback": [
      "\u001b[0;31m---------------------------------------------------------------------------\u001b[0m",
      "\u001b[0;31mFileExistsError\u001b[0m                           Traceback (most recent call last)",
      "\u001b[0;32m<ipython-input-11-e3f2222c71f2>\u001b[0m in \u001b[0;36m<module>\u001b[0;34m()\u001b[0m\n\u001b[1;32m      4\u001b[0m \u001b[0;31m#listdir('.')\u001b[0m\u001b[0;34m\u001b[0m\u001b[0;34m\u001b[0m\u001b[0m\n\u001b[1;32m      5\u001b[0m \u001b[0;34m\u001b[0m\u001b[0m\n\u001b[0;32m----> 6\u001b[0;31m \u001b[0mmkdir\u001b[0m\u001b[0;34m(\u001b[0m\u001b[0;34m'C:\\\\Users\\\\LeeDaKyeong\\\\test1\\\\test2'\u001b[0m\u001b[0;34m)\u001b[0m\u001b[0;34m\u001b[0m\u001b[0m\n\u001b[0m\u001b[1;32m      7\u001b[0m \u001b[0mlistdir\u001b[0m\u001b[0;34m(\u001b[0m\u001b[0;34m'C:\\\\Users\\\\LeeDaKyeong\\\\test1'\u001b[0m\u001b[0;34m)\u001b[0m\u001b[0;34m\u001b[0m\u001b[0m\n",
      "\u001b[0;31mFileExistsError\u001b[0m: [Errno 17] File exists: 'C:\\\\Users\\\\LeeDaKyeong\\\\test1\\\\test2'"
     ]
    }
   ],
   "source": [
    "#os.mkdir(path[,mode]) : path에 해당하는 디렉토리 생성\n",
    "#mkdir('test1')\n",
    "\n",
    "#listdir('.')\n",
    "\n",
    "mkdir('C:\\\\Users\\\\LeeDaKyeong\\\\test1\\\\test2')\n",
    "listdir('C:\\\\Users\\\\LeeDaKyeong\\\\test1')"
   ]
  },
  {
   "cell_type": "code",
   "execution_count": 12,
   "metadata": {},
   "outputs": [
    {
     "data": {
      "text/plain": [
       "['leaf']"
      ]
     },
     "execution_count": 12,
     "metadata": {},
     "output_type": "execute_result"
    }
   ],
   "source": [
    "#os.makedirs(path[,mode]) : 여러 경로 한번에 생성 가능\n",
    "#단, 이미 디렉토리가 생성되어 있거나 권한이 없는 경우 에러 발생\n",
    "makedirs('test3/sub1/sub2/leaf')\n",
    "listdir('test3/sub1/sub2')"
   ]
  },
  {
   "cell_type": "code",
   "execution_count": 13,
   "metadata": {},
   "outputs": [
    {
     "ename": "FileNotFoundError",
     "evalue": "[Errno 2] No such file or directory: 'test1\\\\test2'",
     "output_type": "error",
     "traceback": [
      "\u001b[0;31m---------------------------------------------------------------------------\u001b[0m",
      "\u001b[0;31mFileNotFoundError\u001b[0m                         Traceback (most recent call last)",
      "\u001b[0;32m<ipython-input-13-d4c954bf9fcc>\u001b[0m in \u001b[0;36m<module>\u001b[0;34m()\u001b[0m\n\u001b[1;32m      3\u001b[0m \u001b[0;34m\u001b[0m\u001b[0m\n\u001b[1;32m      4\u001b[0m \u001b[0;31m#rmdir('test1')\u001b[0m\u001b[0;34m\u001b[0m\u001b[0;34m\u001b[0m\u001b[0m\n\u001b[0;32m----> 5\u001b[0;31m \u001b[0mrmdir\u001b[0m\u001b[0;34m(\u001b[0m\u001b[0;34m'test1\\\\test2'\u001b[0m\u001b[0;34m)\u001b[0m\u001b[0;34m\u001b[0m\u001b[0m\n\u001b[0m\u001b[1;32m      6\u001b[0m \u001b[0mrmdir\u001b[0m\u001b[0;34m(\u001b[0m\u001b[0;34m'test1'\u001b[0m\u001b[0;34m)\u001b[0m\u001b[0;34m\u001b[0m\u001b[0m\n",
      "\u001b[0;31mFileNotFoundError\u001b[0m: [Errno 2] No such file or directory: 'test1\\\\test2'"
     ]
    }
   ],
   "source": [
    "#os.rmdir(path) : 디렉토리 삭제\n",
    "#단, 디렉토리는 비어있어야 함\n",
    "\n",
    "#rmdir('test1') \n",
    "rmdir('test1\\\\test2')\n",
    "rmdir('test1')"
   ]
  },
  {
   "cell_type": "code",
   "execution_count": 14,
   "metadata": {
    "collapsed": true
   },
   "outputs": [],
   "source": [
    "#os.removedirs(path) : 디렉토리 연달아 삭제\n",
    "removedirs('test3/sub1/sub2/leaf')\n",
    "#leaf부터 삭제"
   ]
  },
  {
   "cell_type": "code",
   "execution_count": 15,
   "metadata": {
    "collapsed": true
   },
   "outputs": [],
   "source": [
    "#os.remove(path), os.unlink(path) : 파일 삭제\n",
    "remove('test.txt')\n",
    "#unlink('test.txt')"
   ]
  },
  {
   "cell_type": "code",
   "execution_count": 16,
   "metadata": {},
   "outputs": [
    {
     "ename": "FileNotFoundError",
     "evalue": "[Errno 2] No such file or directory: 'test.txt' -> 'renamed.txt'",
     "output_type": "error",
     "traceback": [
      "\u001b[0;31m---------------------------------------------------------------------------\u001b[0m",
      "\u001b[0;31mFileNotFoundError\u001b[0m                         Traceback (most recent call last)",
      "\u001b[0;32m<ipython-input-16-c41116d80614>\u001b[0m in \u001b[0;36m<module>\u001b[0;34m()\u001b[0m\n\u001b[1;32m      1\u001b[0m \u001b[0;31m#os.rename(src,dst) : src를 dst로 이름 변경 or 이동 : 파일이나 디렉토리에 모두 적용됨\u001b[0m\u001b[0;34m\u001b[0m\u001b[0;34m\u001b[0m\u001b[0m\n\u001b[0;32m----> 2\u001b[0;31m \u001b[0mrename\u001b[0m\u001b[0;34m(\u001b[0m\u001b[0;34m'test.txt'\u001b[0m\u001b[0;34m,\u001b[0m\u001b[0;34m'renamed.txt'\u001b[0m\u001b[0;34m)\u001b[0m\u001b[0;34m\u001b[0m\u001b[0m\n\u001b[0m",
      "\u001b[0;31mFileNotFoundError\u001b[0m: [Errno 2] No such file or directory: 'test.txt' -> 'renamed.txt'"
     ]
    }
   ],
   "source": [
    "#os.rename(src,dst) : src를 dst로 이름 변경 or 이동 : 파일이나 디렉토리에 모두 적용됨\n",
    "rename('test.txt','renamed.txt')"
   ]
  },
  {
   "cell_type": "code",
   "execution_count": 17,
   "metadata": {},
   "outputs": [
    {
     "ename": "FileNotFoundError",
     "evalue": "[Errno 2] No such file or directory: 'renamed.txt' -> 'C:\\\\Users\\\\LeeDaKyeong\\\\Documents\\\\test.txt'",
     "output_type": "error",
     "traceback": [
      "\u001b[0;31m---------------------------------------------------------------------------\u001b[0m",
      "\u001b[0;31mFileNotFoundError\u001b[0m                         Traceback (most recent call last)",
      "\u001b[0;32m<ipython-input-17-dfef978327bc>\u001b[0m in \u001b[0;36m<module>\u001b[0;34m()\u001b[0m\n\u001b[0;32m----> 1\u001b[0;31m \u001b[0mrename\u001b[0m\u001b[0;34m(\u001b[0m\u001b[0;34m'renamed.txt'\u001b[0m\u001b[0;34m,\u001b[0m\u001b[0;34m'C:\\\\Users\\\\LeeDaKyeong\\\\Documents\\\\test.txt'\u001b[0m\u001b[0;34m)\u001b[0m\u001b[0;34m\u001b[0m\u001b[0m\n\u001b[0m",
      "\u001b[0;31mFileNotFoundError\u001b[0m: [Errno 2] No such file or directory: 'renamed.txt' -> 'C:\\\\Users\\\\LeeDaKyeong\\\\Documents\\\\test.txt'"
     ]
    }
   ],
   "source": [
    "rename('renamed.txt','C:\\\\Users\\\\LeeDaKyeong\\\\Documents\\\\test.txt')"
   ]
  },
  {
   "cell_type": "code",
   "execution_count": 18,
   "metadata": {},
   "outputs": [
    {
     "ename": "FileNotFoundError",
     "evalue": "[Errno 2] No such file or directory: '.\\\\Documents\\\\test.txt' -> 'test_dir\\\\test.txt'",
     "output_type": "error",
     "traceback": [
      "\u001b[0;31m---------------------------------------------------------------------------\u001b[0m",
      "\u001b[0;31mFileNotFoundError\u001b[0m                         Traceback (most recent call last)",
      "\u001b[0;32m<ipython-input-18-792d1c1b46df>\u001b[0m in \u001b[0;36m<module>\u001b[0;34m()\u001b[0m\n\u001b[1;32m      1\u001b[0m \u001b[0;31m#os.renames(src,dst) : src를 dst로 이름을 변경하거나 이동\u001b[0m\u001b[0;34m\u001b[0m\u001b[0;34m\u001b[0m\u001b[0m\n\u001b[1;32m      2\u001b[0m \u001b[0;31m#rename과 다른 점은 이동 시 필요한 디렉토리를 자동으로 생성(이미 생성되어있는 디렉토리가 아닌 내가 지정해주는 디렉토리 생성 후 거기로 파일 이동)\u001b[0m\u001b[0;34m\u001b[0m\u001b[0;34m\u001b[0m\u001b[0m\n\u001b[0;32m----> 3\u001b[0;31m \u001b[0mrenames\u001b[0m\u001b[0;34m(\u001b[0m\u001b[0;34m'.\\\\Documents\\\\test.txt'\u001b[0m\u001b[0;34m,\u001b[0m\u001b[0;34m'test_dir\\\\test.txt'\u001b[0m\u001b[0;34m)\u001b[0m\u001b[0;34m\u001b[0m\u001b[0m\n\u001b[0m",
      "\u001b[0;32m/opt/conda/lib/python3.6/os.py\u001b[0m in \u001b[0;36mrenames\u001b[0;34m(old, new)\u001b[0m\n\u001b[1;32m    265\u001b[0m     \u001b[0;32mif\u001b[0m \u001b[0mhead\u001b[0m \u001b[0;32mand\u001b[0m \u001b[0mtail\u001b[0m \u001b[0;32mand\u001b[0m \u001b[0;32mnot\u001b[0m \u001b[0mpath\u001b[0m\u001b[0;34m.\u001b[0m\u001b[0mexists\u001b[0m\u001b[0;34m(\u001b[0m\u001b[0mhead\u001b[0m\u001b[0;34m)\u001b[0m\u001b[0;34m:\u001b[0m\u001b[0;34m\u001b[0m\u001b[0m\n\u001b[1;32m    266\u001b[0m         \u001b[0mmakedirs\u001b[0m\u001b[0;34m(\u001b[0m\u001b[0mhead\u001b[0m\u001b[0;34m)\u001b[0m\u001b[0;34m\u001b[0m\u001b[0m\n\u001b[0;32m--> 267\u001b[0;31m     \u001b[0mrename\u001b[0m\u001b[0;34m(\u001b[0m\u001b[0mold\u001b[0m\u001b[0;34m,\u001b[0m \u001b[0mnew\u001b[0m\u001b[0;34m)\u001b[0m\u001b[0;34m\u001b[0m\u001b[0m\n\u001b[0m\u001b[1;32m    268\u001b[0m     \u001b[0mhead\u001b[0m\u001b[0;34m,\u001b[0m \u001b[0mtail\u001b[0m \u001b[0;34m=\u001b[0m \u001b[0mpath\u001b[0m\u001b[0;34m.\u001b[0m\u001b[0msplit\u001b[0m\u001b[0;34m(\u001b[0m\u001b[0mold\u001b[0m\u001b[0;34m)\u001b[0m\u001b[0;34m\u001b[0m\u001b[0m\n\u001b[1;32m    269\u001b[0m     \u001b[0;32mif\u001b[0m \u001b[0mhead\u001b[0m \u001b[0;32mand\u001b[0m \u001b[0mtail\u001b[0m\u001b[0;34m:\u001b[0m\u001b[0;34m\u001b[0m\u001b[0m\n",
      "\u001b[0;31mFileNotFoundError\u001b[0m: [Errno 2] No such file or directory: '.\\\\Documents\\\\test.txt' -> 'test_dir\\\\test.txt'"
     ]
    }
   ],
   "source": [
    "#os.renames(src,dst) : src를 dst로 이름을 변경하거나 이동\n",
    "#rename과 다른 점은 이동 시 필요한 디렉토리를 자동으로 생성(이미 생성되어있는 디렉토리가 아닌 내가 지정해주는 디렉토리 생성 후 거기로 파일 이동)\n",
    "renames('.\\\\Documents\\\\test.txt','test_dir\\\\test.txt')"
   ]
  },
  {
   "cell_type": "code",
   "execution_count": 19,
   "metadata": {},
   "outputs": [
    {
     "ename": "FileNotFoundError",
     "evalue": "[Errno 2] No such file or directory: 'test_dir\\\\test.txt'",
     "output_type": "error",
     "traceback": [
      "\u001b[0;31m---------------------------------------------------------------------------\u001b[0m",
      "\u001b[0;31mFileNotFoundError\u001b[0m                         Traceback (most recent call last)",
      "\u001b[0;32m<ipython-input-19-0be9720755c7>\u001b[0m in \u001b[0;36m<module>\u001b[0;34m()\u001b[0m\n\u001b[1;32m      1\u001b[0m \u001b[0;31m#os.stat(path) : 경로에 해당하는 정보를 얻어옴\u001b[0m\u001b[0;34m\u001b[0m\u001b[0;34m\u001b[0m\u001b[0m\n\u001b[0;32m----> 2\u001b[0;31m \u001b[0mstat\u001b[0m\u001b[0;34m(\u001b[0m\u001b[0;34m'test_dir\\\\test.txt'\u001b[0m\u001b[0;34m)\u001b[0m\u001b[0;34m\u001b[0m\u001b[0m\n\u001b[0m\u001b[1;32m      3\u001b[0m \u001b[0;31m#protection, inode, device, link, user id, groub id, size, last access time, last modified time, last change time 등\u001b[0m\u001b[0;34m\u001b[0m\u001b[0;34m\u001b[0m\u001b[0m\n",
      "\u001b[0;31mFileNotFoundError\u001b[0m: [Errno 2] No such file or directory: 'test_dir\\\\test.txt'"
     ]
    }
   ],
   "source": [
    "#os.stat(path) : 경로에 해당하는 정보를 얻어옴\n",
    "stat('test_dir\\\\test.txt')\n",
    "#protection, inode, device, link, user id, groub id, size, last access time, last modified time, last change time 등"
   ]
  },
  {
   "cell_type": "code",
   "execution_count": 21,
   "metadata": {},
   "outputs": [
    {
     "ename": "FileNotFoundError",
     "evalue": "[Errno 2] No such file or directory",
     "output_type": "error",
     "traceback": [
      "\u001b[0;31m---------------------------------------------------------------------------\u001b[0m",
      "\u001b[0;31mFileNotFoundError\u001b[0m                         Traceback (most recent call last)",
      "\u001b[0;32m<ipython-input-21-5331369bb5b6>\u001b[0m in \u001b[0;36m<module>\u001b[0;34m()\u001b[0m\n\u001b[1;32m      3\u001b[0m \u001b[0;31m#유닉스의 touch 명령어와 유사\u001b[0m\u001b[0;34m\u001b[0m\u001b[0;34m\u001b[0m\u001b[0m\n\u001b[1;32m      4\u001b[0m \u001b[0;34m\u001b[0m\u001b[0m\n\u001b[0;32m----> 5\u001b[0;31m \u001b[0mutime\u001b[0m\u001b[0;34m(\u001b[0m\u001b[0;34m'test_dir\\\\test.txt'\u001b[0m\u001b[0;34m,\u001b[0m\u001b[0;32mNone\u001b[0m\u001b[0;34m)\u001b[0m\u001b[0;34m\u001b[0m\u001b[0m\n\u001b[0m\u001b[1;32m      6\u001b[0m \u001b[0mstat\u001b[0m\u001b[0;34m(\u001b[0m\u001b[0;34m'test_dir\\\\test.txt'\u001b[0m\u001b[0;34m)\u001b[0m\u001b[0;34m\u001b[0m\u001b[0m\n",
      "\u001b[0;31mFileNotFoundError\u001b[0m: [Errno 2] No such file or directory"
     ]
    }
   ],
   "source": [
    "#os.utime(path,times) : 경로에 해당하는 파일에 대해 access time과 modified time 을 <times>로 수정\n",
    "#<times>가 None일 경우는 현재 시간으로 수정\n",
    "#유닉스의 touch 명령어와 유사\n",
    "\n",
    "utime('test_dir\\\\test.txt',None) \n",
    "stat('test_dir\\\\test.txt')"
   ]
  },
  {
   "cell_type": "code",
   "execution_count": 23,
   "metadata": {},
   "outputs": [
    {
     "ename": "FileExistsError",
     "evalue": "[Errno 17] File exists: 'test_walk'",
     "output_type": "error",
     "traceback": [
      "\u001b[0;31m---------------------------------------------------------------------------\u001b[0m",
      "\u001b[0;31mFileExistsError\u001b[0m                           Traceback (most recent call last)",
      "\u001b[0;32m<ipython-input-23-f39b6e9425e0>\u001b[0m in \u001b[0;36m<module>\u001b[0;34m()\u001b[0m\n\u001b[1;32m     10\u001b[0m \u001b[0;31m#생성 하기\u001b[0m\u001b[0;34m\u001b[0m\u001b[0;34m\u001b[0m\u001b[0m\n\u001b[1;32m     11\u001b[0m \u001b[0;34m\u001b[0m\u001b[0m\n\u001b[0;32m---> 12\u001b[0;31m \u001b[0mmkdir\u001b[0m\u001b[0;34m(\u001b[0m\u001b[0;34m'test_walk'\u001b[0m\u001b[0;34m)\u001b[0m\u001b[0;34m\u001b[0m\u001b[0m\n\u001b[0m\u001b[1;32m     13\u001b[0m \u001b[0mmkdir\u001b[0m\u001b[0;34m(\u001b[0m\u001b[0;34m'test_walk\\\\a'\u001b[0m\u001b[0;34m)\u001b[0m\u001b[0;34m\u001b[0m\u001b[0m\n\u001b[1;32m     14\u001b[0m \u001b[0mmkdir\u001b[0m\u001b[0;34m(\u001b[0m\u001b[0;34m'test_walk\\\\b'\u001b[0m\u001b[0;34m)\u001b[0m\u001b[0;34m\u001b[0m\u001b[0m\n",
      "\u001b[0;31mFileExistsError\u001b[0m: [Errno 17] File exists: 'test_walk'"
     ]
    }
   ],
   "source": [
    "#os.walk(top[,topdown=True[,onerror=None[,followlinks=False]]])\n",
    "#top으로 지정된 디렉토리를 순회하며 경로, 디렉토리명을 순차적으로 반환\n",
    "\n",
    "#getcwd() :C:\\\\Users\\\\LeeDaKyeong \n",
    "#현재 디렉토리에 \n",
    "# -test_walk\n",
    "#  +- a\n",
    "#  +- b\n",
    "#     +- readme.txt\n",
    "#생성 하기\n",
    "\n",
    "mkdir('test_walk')\n",
    "mkdir('test_walk\\\\a')\n",
    "mkdir('test_walk\\\\b')\n",
    "\n"
   ]
  },
  {
   "cell_type": "code",
   "execution_count": 25,
   "metadata": {},
   "outputs": [
    {
     "name": "stdout",
     "output_type": "stream",
     "text": [
      "test_walk [] []\n"
     ]
    }
   ],
   "source": [
    "for path,dirs,files in walk('test_walk'):\n",
    "    print(path,dirs,files)"
   ]
  },
  {
   "cell_type": "code",
   "execution_count": 19,
   "metadata": {},
   "outputs": [
    {
     "name": "stdout",
     "output_type": "stream",
     "text": [
      "test_walk\\a [] []\n",
      "test_walk\\b [] ['readme.txt']\n",
      "test_walk ['a', 'b'] []\n"
     ]
    }
   ],
   "source": [
    "#topdown 이 false로 되어있는 경우, 디렉토리의 끝에서부터 위로 탐색\n",
    "for path,dirs,files in walk('test_walk', topdown = False):\n",
    "    print(path,dirs,files)"
   ]
  },
  {
   "cell_type": "code",
   "execution_count": null,
   "metadata": {
    "collapsed": true
   },
   "outputs": [],
   "source": [
    "#os.umask(mask)\n",
    "#umask를 설정. 수행하면 이전 mask 값이 반환.\n",
    "#umask가 수행되면 이후 오픈되는 파일이나 디렉토리에 (mode &~umask)와 같이 적용\n",
    "\n",
    "#새로 만든 파일에 대한 파일 사용 권한 설정 방법을 제어하는 마스크 설정을 결정하는 명령 - 위키피디아\n",
    "\n",
    "#https://stackoverflow.com/questions/10291131/how-to-use-os-umask-in-python\n",
    "#https://en.wikipedia.org/wiki/Umask"
   ]
  },
  {
   "cell_type": "code",
   "execution_count": 26,
   "metadata": {},
   "outputs": [
    {
     "data": {
      "text/plain": [
       "(41, 42)"
      ]
     },
     "execution_count": 26,
     "metadata": {},
     "output_type": "execute_result"
    }
   ],
   "source": [
    "#os.pipe()\n",
    "#파이프를 생성. 함수를 실행하면 읽기, 쓰기 전용 파이프의 파일 디스크립터가 반환\n",
    "#파이프는 주로 부모 프로세스와 자식 프로세스 간의 통신을 목적으로 사용\n",
    "\n",
    "#파이프란 프로세스 간 통신을 위한 공유 영역. \n",
    "#여러 프로세스 간에 정보를 주고받기 위해 만들어지는 공간.\n",
    "#하나의 프로세스가 정보를 쓰면 다른 프로세스에서 읽을 수 있음\n",
    "\n",
    "pipe()\n",
    "#https://www.tutorialspoint.com/python/os_pipe.htm\n",
    "\n",
    "#파일 디스크립터 : http://unabated.tistory.com/entry/%ED%8C%8C%EC%9D%BC-%EB%94%94%EC%8A%A4%ED%81%AC%EB%A6%BD%ED%84%B0\n",
    "#파일에 접근하기 위해 추상화 시켜놓은 장치\n",
    "#리눅스는 모든 장치를 파일로 관리 하기 때문에 파일디스크립터를 이용하여 장치에 접근 할 수 있게 (핸들링할수있게) 됨\n"
   ]
  },
  {
   "cell_type": "code",
   "execution_count": 27,
   "metadata": {
    "collapsed": true
   },
   "outputs": [],
   "source": [
    "#os.fdopen(fd[,mode[,bufsize]])\n",
    "#파일 디스크립터를 이용해 파일 객체 생성\n",
    "\n",
    "r,w = pipe()\n",
    "rd = fdopen(r)\n",
    "#https://www.tutorialspoint.com/python/os_fdopen.htm"
   ]
  },
  {
   "cell_type": "markdown",
   "metadata": {},
   "source": [
    "##### Open a file\n",
    "fd = os.open( \"foo.txt\", os.O_RDWR|os.O_CREAT )\n",
    "\n",
    "##### Now get a file object for the above file.\n",
    "fo = os.fdopen(fd, \"w+\")\n",
    "\n",
    "##### Write one string\n",
    "fo.write( \"Python is a great language.\\nYeah its great!!\\n\")\n",
    "\n",
    "##### Close opened file\n",
    "fo.close()\n",
    "\n",
    "http://thrillfighter.tistory.com/310"
   ]
  },
  {
   "cell_type": "code",
   "execution_count": 21,
   "metadata": {},
   "outputs": [
    {
     "data": {
      "text/plain": [
       "' C 드라이브의 볼륨: Windows\\n 볼륨 일련 번호: 0A53-DAE5\\n\\n C:\\\\Users\\\\LeeDaKyeong 디렉터리\\n\\n2017-08-26  오후 02:17    <DIR>          .\\n2017-08-26  오후 02:17    <DIR>          ..\\n2016-12-12  오전 11:35               161 .appletviewer\\n2017-08-17  오후 05:46             3,671 .bash_history\\n2017-02-16  오후 01:22    <DIR>          .conda\\n2016-06-23  오후 08:19    <DIR>          .dnx\\n2016-09-09  오전 11:39    <DIR>          .eclipse\\n2017-08-16  오후 02:35                57 .gitconfig\\n2016-12-28  오후 01:10    <DIR>          .idlerc\\n2017-08-15  오후 09:49    <DIR>          .ipynb_checkpoints\\n2017-02-09  오후 05:32    <DIR>          .ipython\\n2017-02-12  오후 11:07    <DIR>          .jupyter\\n2017-02-16  오후 08:58    <DIR>          .keras\\n2017-08-17  오후 02:44                44 .lesshst\\n2017-08-16  오후 08:26    <DIR>          .matplotlib\\n2016-09-19  오후 05:21    <DIR>          .oracle_jre_usage\\n2017-01-13  오후 09:21    <DIR>          .p2\\n2017-08-16  오후 04:12             1,795 .viminfo\\n2017-02-28  오후 01:57    <DIR>          .VirtualBox\\n2017-02-14  오전 02:35               918 00.jpg\\n2017-08-16  오후 07:07    <DIR>          Anaconda3\\n2017-08-13  오후 06:20    <DIR>          Contacts\\n2017-08-24  오후 12:51    <DIR>          Desktop\\n2017-08-15  오후 10:53    <DIR>          Documents\\n2017-08-24  오후 04:43    <DIR>          Downloads\\n2017-08-13  오후 06:20    <DIR>          Favorites\\n2017-08-16  오후 04:12    <DIR>          git-training-1\\n2017-08-14  오후 10:38            73,544 img1.JPG\\n2017-08-13  오후 06:20    <DIR>          Links\\n2017-02-20  오전 12:01    <DIR>          logs\\n2017-02-16  오후 10:21    <DIR>          MNIST_data\\n2017-08-13  오후 06:20    <DIR>          Music\\n2017-08-17  오후 02:49    <DIR>          node\\n2017-08-19  오전 12:39    <DIR>          nwdir\\n2017-08-05  오전 02:15    <DIR>          OneDrive\\n2017-05-21  오후 10:00    <DIR>          Oracle\\n2017-08-13  오후 06:20    <DIR>          Pictures\\n2017-08-16  오후 03:08    <DIR>          report-card\\n2014-02-13  오후 06:46    <DIR>          Roaming\\n2017-08-13  오후 06:20    <DIR>          Saved Games\\n2017-08-13  오후 06:20    <DIR>          Searches\\n2017-06-09  오후 10:22           114,812 Test.sql\\n2017-08-16  오후 07:21             2,865 Untitled.ipynb\\n2017-08-26  오후 02:17            46,860 Untitled27.ipynb\\n2017-08-19  오전 08:29             8,949 Untitled27.zip\\n2017-08-13  오후 06:20    <DIR>          Videos\\n2017-01-16  오후 01:31    <DIR>          VirtualBox VMs\\n              11개 파일             253,676 바이트\\n              36개 디렉터리  19,082,735,616 바이트 남음\\n'"
      ]
     },
     "execution_count": 21,
     "metadata": {},
     "output_type": "execute_result"
    }
   ],
   "source": [
    "#os.popen(connand[,mode[,bufsize]])\n",
    "#인자로 전달된 command를 수행하며 파이프를 염\n",
    "\n",
    "#os.popen은 시스템 명령어를 실행시킨 결과값을 읽기 모드 형태의 파일 객체로 리턴한다. -점프투파이썬\n",
    "\n",
    "p = popen('dir','r')\n",
    "p.read()"
   ]
  },
  {
   "cell_type": "code",
   "execution_count": 22,
   "metadata": {},
   "outputs": [
    {
     "data": {
      "text/plain": [
       "'nt'"
      ]
     },
     "execution_count": 22,
     "metadata": {},
     "output_type": "execute_result"
    }
   ],
   "source": [
    "#os.name : 파이썬이 실행되는 운영체제 ex) nt, posix, mac\n",
    "name"
   ]
  },
  {
   "cell_type": "code",
   "execution_count": 23,
   "metadata": {
    "scrolled": false
   },
   "outputs": [
    {
     "data": {
      "text/plain": [
       "['ALLUSERSPROFILE',\n",
       " 'APPDATA',\n",
       " 'CLASSPATH',\n",
       " 'COMMONPROGRAMFILES',\n",
       " 'COMMONPROGRAMFILES(X86)',\n",
       " 'COMMONPROGRAMW6432',\n",
       " 'COMPUTERNAME',\n",
       " 'COMSPEC',\n",
       " 'CONFIGSETROOT',\n",
       " 'DOCKER_TOOLBOX_INSTALL_PATH',\n",
       " 'FPS_BROWSER_APP_PROFILE_STRING',\n",
       " 'FPS_BROWSER_USER_PROFILE_STRING',\n",
       " 'FP_NO_HOST_CHECK',\n",
       " 'HOMEDRIVE',\n",
       " 'HOMEPATH',\n",
       " 'INTEL_DEV_REDIST',\n",
       " 'JAVA_HOME',\n",
       " 'LOCALAPPDATA',\n",
       " 'LOGONSERVER',\n",
       " 'MYSQLCONNECTOR_ASSEMBLIESPATH',\n",
       " 'NUMBER_OF_PROCESSORS',\n",
       " 'ONEDRIVE',\n",
       " 'OS',\n",
       " 'PATH',\n",
       " 'PATHEXT',\n",
       " 'PROCESSOR_ARCHITECTURE',\n",
       " 'PROCESSOR_IDENTIFIER',\n",
       " 'PROCESSOR_LEVEL',\n",
       " 'PROCESSOR_REVISION',\n",
       " 'PROGRAMDATA',\n",
       " 'PROGRAMFILES',\n",
       " 'PROGRAMFILES(X86)',\n",
       " 'PROGRAMW6432',\n",
       " 'PROMPT',\n",
       " 'PSMODULEPATH',\n",
       " 'PUBLIC',\n",
       " 'SESSIONNAME',\n",
       " 'SYSTEMDRIVE',\n",
       " 'SYSTEMROOT',\n",
       " 'TEMP',\n",
       " 'TMP',\n",
       " 'USERDOMAIN',\n",
       " 'USERDOMAIN_ROAMINGPROFILE',\n",
       " 'USERNAME',\n",
       " 'USERPROFILE',\n",
       " 'VBOX_MSI_INSTALL_PATH',\n",
       " 'VS140COMNTOOLS',\n",
       " 'WINDIR',\n",
       " 'JPY_INTERRUPT_EVENT',\n",
       " 'IPY_INTERRUPT_EVENT',\n",
       " 'JPY_PARENT_PID',\n",
       " 'TERM',\n",
       " 'CLICOLOR',\n",
       " 'PAGER',\n",
       " 'GIT_PAGER',\n",
       " 'MPLBACKEND']"
      ]
     },
     "execution_count": 23,
     "metadata": {},
     "output_type": "execute_result"
    }
   ],
   "source": [
    "#os.environ : 환경변수를 나타내는 사전\n",
    "list(environ.keys())"
   ]
  },
  {
   "cell_type": "code",
   "execution_count": 24,
   "metadata": {},
   "outputs": [
    {
     "name": "stdout",
     "output_type": "stream",
     "text": [
      "\\Users\\LeeDaKyeong\n",
      "C:\\Users\\LeeDaKyeong\n"
     ]
    }
   ],
   "source": [
    "print(environ['homepath']) #homepath 환경변수의 정보\n",
    "print(environ['userprofile'])"
   ]
  },
  {
   "cell_type": "code",
   "execution_count": 25,
   "metadata": {},
   "outputs": [
    {
     "data": {
      "text/plain": [
       "10876"
      ]
     },
     "execution_count": 25,
     "metadata": {},
     "output_type": "execute_result"
    }
   ],
   "source": [
    "#os.getpid() : 현재 프로세스 아이디 반환\n",
    "getpid()"
   ]
  },
  {
   "cell_type": "code",
   "execution_count": 26,
   "metadata": {},
   "outputs": [
    {
     "name": "stdout",
     "output_type": "stream",
     "text": [
      "\\Users\\LeeDaKyeong\n",
      "환경변수 없음\n"
     ]
    }
   ],
   "source": [
    "#os.getenv(varname[,value]) : 환경변수의 값을 얻어옴\n",
    "#다만 해당 환경변수가 없을 경우에는 인자로 전달된 value값을 반환\n",
    "#value가 생략되고 해당 환경변수가 없으면 None을 반환\n",
    "\n",
    "print(getenv('homepath'))\n",
    "print(getenv('test','환경변수 없음'))"
   ]
  },
  {
   "cell_type": "code",
   "execution_count": 27,
   "metadata": {
    "collapsed": true
   },
   "outputs": [],
   "source": [
    "#os.putenv(varname, value) : 환경변수 varname을 value로 설정\n",
    "#자식 프로세스에게 영향을 미침\n",
    "putenv('test','\\\\tep\\\\test')\n",
    "\n",
    "#test라는 환경변수를 tep/test에 설정?"
   ]
  },
  {
   "cell_type": "code",
   "execution_count": null,
   "metadata": {
    "collapsed": true
   },
   "outputs": [],
   "source": []
  },
  {
   "cell_type": "code",
   "execution_count": 29,
   "metadata": {},
   "outputs": [
    {
     "name": "stdout",
     "output_type": "stream",
     "text": [
      "No error\n",
      "Operation not permitted\n",
      "No such file or directory\n",
      "No such process\n",
      "Interrupted function call\n"
     ]
    }
   ],
   "source": [
    "#os.strerror(code) : 에러 코드에 해당하는 에러 메시지 보여줌\n",
    "print(strerror(0))\n",
    "print(strerror(1))\n",
    "print(strerror(2))\n",
    "print(strerror(3))\n",
    "print(strerror(4))"
   ]
  },
  {
   "cell_type": "code",
   "execution_count": null,
   "metadata": {
    "collapsed": true
   },
   "outputs": [],
   "source": []
  },
  {
   "cell_type": "code",
   "execution_count": 30,
   "metadata": {},
   "outputs": [
    {
     "data": {
      "text/plain": [
       "0"
      ]
     },
     "execution_count": 30,
     "metadata": {},
     "output_type": "execute_result"
    }
   ],
   "source": [
    "#os.system(command) : command를 실행, 성공한 경우 0반환\n",
    "system('calc')\n",
    "#계산기가 실행되고, 실행이 성공했으므로 0 반환"
   ]
  },
  {
   "cell_type": "code",
   "execution_count": null,
   "metadata": {
    "collapsed": true
   },
   "outputs": [],
   "source": [
    "#os.startfile(path[,operation])\n",
    "#path를 os에서 지정된 프로그램으로 실행\n",
    "#operation으로 명시적으로 수행할 프로그램을 지정할수도 있음\n",
    "\n",
    "startfile('LICENSE.txt')\n",
    "#메모장 실행\n",
    "\n",
    "#system('Notepad LICENSE.txt')와 유사하지만 system()은 파이썬 프로그램의 실행이 잠시 멈추고 system()이 끝나길 기다림\n",
    "#startfile()은 멈추지 않고 계속 실행 "
   ]
  },
  {
   "cell_type": "markdown",
   "metadata": {},
   "source": [
    "### os.execl(path,arg0,arg1, ...)\n",
    "\n",
    "#### os.execle(path, arg0, agr1, ..., env)\n",
    "#### os.execlp(path, arg0, agr1, ...)\n",
    "#### os.execlpe(path, arg0, agr1, ..., env)\n",
    "#### os.execv(path, args)\n",
    "#### os.execve(path, args, env)\n",
    "#### os.execvp(path, args)\n",
    "#### os.execvpe(path, args, env)\n",
    "\n",
    "##### 현재 프로세스에서 새로운 프로그램을 실행하며 반환은 x\n",
    "##### 인자에 따라 여러가지 exec로 나뉘는데,\n",
    "\n",
    "##### 1. l이 붙은 것들은 인자의 수가 정해져 있는 경우\n",
    "##### 2. v가 붙은 것들은 args라는 튜플을 인자로 받음\n",
    "##### 3. e가 붙은 경우는 환경변수 env를 받느냐 아니냐의 차이\n",
    "##### 4. p는 환경변수의 path를 이용하는 경우"
   ]
  },
  {
   "cell_type": "code",
   "execution_count": 31,
   "metadata": {},
   "outputs": [
    {
     "name": "stdout",
     "output_type": "stream",
     "text": [
      "C:\\Users\\LeeDaKyeong\\Anaconda3\n"
     ]
    }
   ],
   "source": [
    "import sys\n",
    "print(sys.prefix) #파이썬이 설치된 경로"
   ]
  },
  {
   "cell_type": "code",
   "execution_count": null,
   "metadata": {},
   "outputs": [],
   "source": [
    "from os import*\n",
    "execl('C:\\\\Users\\\\LeeDaKyeong\\\\Anaconda3\\\\python','python','-v')\n",
    "#execv('C:\\\\Users\\\\LeeDaKyeong\\\\Anaconda3\\\\python',('python','-v'))\n",
    "#execle('C:\\\\Users\\\\LeeDaKyeong\\\\Anaconda3\\\\python','python','-v',{\"HOME\":\"c:\\\\\"})"
   ]
  },
  {
   "cell_type": "markdown",
   "metadata": {},
   "source": [
    "# 2. SYS 모듈\n",
    "## 파이썬 인터프리터와 관련된 정보와 기능을 제공하는 모듈"
   ]
  },
  {
   "cell_type": "code",
   "execution_count": 28,
   "metadata": {},
   "outputs": [
    {
     "name": "stdout",
     "output_type": "stream",
     "text": [
      "argv size : 3\n",
      "0 /opt/conda/lib/python3.6/site-packages/ipykernel_launcher.py\n",
      "1 -f\n",
      "2 /home/jovyan/.local/share/jupyter/runtime/kernel-943115a8-b793-4480-b6d2-04b60a40ecb4.json\n"
     ]
    }
   ],
   "source": [
    "#sys.argv : 파이썬 스크립트로 넘어온 인자의 리스트\n",
    "\n",
    "import sys\n",
    "print(\"argv size :\",len(sys.argv))\n",
    "for i, arg in enumerate(sys.argv) :\n",
    "    print(i,arg)\n",
    "    \n",
    "#0번째에 스크립트 이름, 그 후부터 인자 설정"
   ]
  },
  {
   "cell_type": "code",
   "execution_count": 29,
   "metadata": {},
   "outputs": [
    {
     "data": {
      "text/plain": [
       "(None, None, None)"
      ]
     },
     "execution_count": 29,
     "metadata": {},
     "output_type": "execute_result"
    }
   ],
   "source": [
    "#sys.exc_info()\n",
    "#현재 발생한 예외 정보를 튜플로 반환\n",
    "#예외가 없는 경우에 None 반환\n",
    "\n",
    "sys.exc_info()"
   ]
  },
  {
   "cell_type": "code",
   "execution_count": 30,
   "metadata": {},
   "outputs": [
    {
     "name": "stdout",
     "output_type": "stream",
     "text": [
      "<class 'ZeroDivisionError'>\n",
      "division by zero\n",
      "<traceback object at 0x7fab14184088>\n",
      "\n",
      "\n",
      "['tb_frame', 'tb_lasti', 'tb_lineno', 'tb_next']\n",
      "['__abs__', '__add__', '__and__', '__bool__', '__ceil__', '__class__', '__delattr__', '__dir__', '__divmod__', '__doc__', '__eq__', '__float__', '__floor__', '__floordiv__', '__format__', '__ge__', '__getattribute__', '__getnewargs__', '__gt__', '__hash__', '__index__', '__init__', '__init_subclass__', '__int__', '__invert__', '__le__', '__lshift__', '__lt__', '__mod__', '__mul__', '__ne__', '__neg__', '__new__', '__or__', '__pos__', '__pow__', '__radd__', '__rand__', '__rdivmod__', '__reduce__', '__reduce_ex__', '__repr__', '__rfloordiv__', '__rlshift__', '__rmod__', '__rmul__', '__ror__', '__round__', '__rpow__', '__rrshift__', '__rshift__', '__rsub__', '__rtruediv__', '__rxor__', '__setattr__', '__sizeof__', '__str__', '__sub__', '__subclasshook__', '__truediv__', '__trunc__', '__xor__', 'bit_length', 'conjugate', 'denominator', 'from_bytes', 'imag', 'numerator', 'real', 'to_bytes']\n"
     ]
    }
   ],
   "source": [
    "#예외가 발생한 경우 예외 클래스, 예외값, traceback(역추적) 객체를 반환\n",
    "try:\n",
    "    1/0\n",
    "except:\n",
    "    exc_class, val, tb_ob = sys.exc_info()\n",
    "    print(exc_class)\n",
    "    print(val)\n",
    "    print(tb_ob)\n",
    "    print(\"\\n\")\n",
    "    print(dir(tb_ob))\n",
    "    print(dir(tb_ob.tb_lineno))"
   ]
  },
  {
   "cell_type": "code",
   "execution_count": 31,
   "metadata": {},
   "outputs": [
    {
     "name": "stdout",
     "output_type": "stream",
     "text": [
      "/opt/conda\n",
      "/opt/conda\n",
      "/opt/conda/bin/python\n"
     ]
    }
   ],
   "source": [
    "#sys.prefix, sys.exec_prefix, sys.executable : 파이썬이 설치된 경로와 실행파일\n",
    "print(sys.prefix)\n",
    "print(sys.exec_prefix)\n",
    "print(sys.executable)"
   ]
  },
  {
   "cell_type": "code",
   "execution_count": 33,
   "metadata": {},
   "outputs": [
    {
     "ename": "SystemExit",
     "evalue": "",
     "output_type": "error",
     "traceback": [
      "An exception has occurred, use %tb to see the full traceback.\n",
      "\u001b[0;31mSystemExit\u001b[0m\n"
     ]
    },
    {
     "name": "stderr",
     "output_type": "stream",
     "text": [
      "/opt/conda/lib/python3.6/site-packages/IPython/core/interactiveshell.py:2870: UserWarning: To exit: use 'exit', 'quit', or Ctrl-D.\n",
      "  warn(\"To exit: use 'exit', 'quit', or Ctrl-D.\", stacklevel=1)\n"
     ]
    }
   ],
   "source": [
    "#sys.exit([arg]) : 프로세스 종료. arg가 0인 경우에 정상적으로 종료, 0이 아닌 경우에는 비정상 종료\n",
    "sys.exit()"
   ]
  },
  {
   "cell_type": "code",
   "execution_count": null,
   "metadata": {
    "collapsed": true
   },
   "outputs": [],
   "source": []
  },
  {
   "cell_type": "code",
   "execution_count": 34,
   "metadata": {},
   "outputs": [
    {
     "data": {
      "text/plain": [
       "596"
      ]
     },
     "execution_count": 34,
     "metadata": {},
     "output_type": "execute_result"
    }
   ],
   "source": [
    "#sys.getrefcount(object)\n",
    "#객체의 레퍼런스 카운트 값을 반환\n",
    "#일반적으로 임시객체가 참조하는 경우도 포함되어 1보다 큼\n",
    "\n",
    "sys.getrefcount(3)"
   ]
  },
  {
   "cell_type": "code",
   "execution_count": 35,
   "metadata": {},
   "outputs": [
    {
     "name": "stdout",
     "output_type": "stream",
     "text": [
      "598\n"
     ]
    }
   ],
   "source": [
    "a = 3\n",
    "print(sys.getrefcount(3))"
   ]
  },
  {
   "cell_type": "code",
   "execution_count": 36,
   "metadata": {},
   "outputs": [
    {
     "name": "stdout",
     "output_type": "stream",
     "text": [
      "599\n"
     ]
    }
   ],
   "source": [
    "b = 3\n",
    "print(sys.getrefcount(3))"
   ]
  },
  {
   "cell_type": "code",
   "execution_count": 10,
   "metadata": {},
   "outputs": [
    {
     "name": "stdout",
     "output_type": "stream",
     "text": [
      "490\n"
     ]
    }
   ],
   "source": [
    "c = 3\n",
    "print(sys.getrefcount(3))"
   ]
  },
  {
   "cell_type": "code",
   "execution_count": 37,
   "metadata": {},
   "outputs": [
    {
     "ename": "AttributeError",
     "evalue": "module 'sys' has no attribute 'getwindowsversion'",
     "output_type": "error",
     "traceback": [
      "\u001b[0;31m---------------------------------------------------------------------------\u001b[0m",
      "\u001b[0;31mAttributeError\u001b[0m                            Traceback (most recent call last)",
      "\u001b[0;32m<ipython-input-37-63205efc5a36>\u001b[0m in \u001b[0;36m<module>\u001b[0;34m()\u001b[0m\n\u001b[1;32m      1\u001b[0m \u001b[0;31m#sys.getwindowsversion() : 현재 윈도우의 버전을 튜플로 반환\u001b[0m\u001b[0;34m\u001b[0m\u001b[0;34m\u001b[0m\u001b[0m\n\u001b[0;32m----> 2\u001b[0;31m \u001b[0msys\u001b[0m\u001b[0;34m.\u001b[0m\u001b[0mgetwindowsversion\u001b[0m\u001b[0;34m(\u001b[0m\u001b[0;34m)\u001b[0m\u001b[0;34m\u001b[0m\u001b[0m\n\u001b[0m",
      "\u001b[0;31mAttributeError\u001b[0m: module 'sys' has no attribute 'getwindowsversion'"
     ]
    }
   ],
   "source": [
    "#sys.getwindowsversion() : 현재 윈도우의 버전을 튜플로 반환\n",
    "sys.getwindowsversion()"
   ]
  },
  {
   "cell_type": "code",
   "execution_count": 12,
   "metadata": {
    "scrolled": true
   },
   "outputs": [
    {
     "data": {
      "text/plain": [
       "{'IPython': <module 'IPython' from 'C:\\\\Users\\\\LeeDaKyeong\\\\Anaconda3\\\\lib\\\\site-packages\\\\IPython\\\\__init__.py'>,\n",
       " 'IPython.core': <module 'IPython.core' from 'C:\\\\Users\\\\LeeDaKyeong\\\\Anaconda3\\\\lib\\\\site-packages\\\\IPython\\\\core\\\\__init__.py'>,\n",
       " 'IPython.core.alias': <module 'IPython.core.alias' from 'C:\\\\Users\\\\LeeDaKyeong\\\\Anaconda3\\\\lib\\\\site-packages\\\\IPython\\\\core\\\\alias.py'>,\n",
       " 'IPython.core.application': <module 'IPython.core.application' from 'C:\\\\Users\\\\LeeDaKyeong\\\\Anaconda3\\\\lib\\\\site-packages\\\\IPython\\\\core\\\\application.py'>,\n",
       " 'IPython.core.autocall': <module 'IPython.core.autocall' from 'C:\\\\Users\\\\LeeDaKyeong\\\\Anaconda3\\\\lib\\\\site-packages\\\\IPython\\\\core\\\\autocall.py'>,\n",
       " 'IPython.core.builtin_trap': <module 'IPython.core.builtin_trap' from 'C:\\\\Users\\\\LeeDaKyeong\\\\Anaconda3\\\\lib\\\\site-packages\\\\IPython\\\\core\\\\builtin_trap.py'>,\n",
       " 'IPython.core.compilerop': <module 'IPython.core.compilerop' from 'C:\\\\Users\\\\LeeDaKyeong\\\\Anaconda3\\\\lib\\\\site-packages\\\\IPython\\\\core\\\\compilerop.py'>,\n",
       " 'IPython.core.completer': <module 'IPython.core.completer' from 'C:\\\\Users\\\\LeeDaKyeong\\\\Anaconda3\\\\lib\\\\site-packages\\\\IPython\\\\core\\\\completer.py'>,\n",
       " 'IPython.core.completerlib': <module 'IPython.core.completerlib' from 'C:\\\\Users\\\\LeeDaKyeong\\\\Anaconda3\\\\lib\\\\site-packages\\\\IPython\\\\core\\\\completerlib.py'>,\n",
       " 'IPython.core.crashhandler': <module 'IPython.core.crashhandler' from 'C:\\\\Users\\\\LeeDaKyeong\\\\Anaconda3\\\\lib\\\\site-packages\\\\IPython\\\\core\\\\crashhandler.py'>,\n",
       " 'IPython.core.debugger': <module 'IPython.core.debugger' from 'C:\\\\Users\\\\LeeDaKyeong\\\\Anaconda3\\\\lib\\\\site-packages\\\\IPython\\\\core\\\\debugger.py'>,\n",
       " 'IPython.core.display': <module 'IPython.core.display' from 'C:\\\\Users\\\\LeeDaKyeong\\\\Anaconda3\\\\lib\\\\site-packages\\\\IPython\\\\core\\\\display.py'>,\n",
       " 'IPython.core.display_trap': <module 'IPython.core.display_trap' from 'C:\\\\Users\\\\LeeDaKyeong\\\\Anaconda3\\\\lib\\\\site-packages\\\\IPython\\\\core\\\\display_trap.py'>,\n",
       " 'IPython.core.displayhook': <module 'IPython.core.displayhook' from 'C:\\\\Users\\\\LeeDaKyeong\\\\Anaconda3\\\\lib\\\\site-packages\\\\IPython\\\\core\\\\displayhook.py'>,\n",
       " 'IPython.core.displaypub': <module 'IPython.core.displaypub' from 'C:\\\\Users\\\\LeeDaKyeong\\\\Anaconda3\\\\lib\\\\site-packages\\\\IPython\\\\core\\\\displaypub.py'>,\n",
       " 'IPython.core.error': <module 'IPython.core.error' from 'C:\\\\Users\\\\LeeDaKyeong\\\\Anaconda3\\\\lib\\\\site-packages\\\\IPython\\\\core\\\\error.py'>,\n",
       " 'IPython.core.events': <module 'IPython.core.events' from 'C:\\\\Users\\\\LeeDaKyeong\\\\Anaconda3\\\\lib\\\\site-packages\\\\IPython\\\\core\\\\events.py'>,\n",
       " 'IPython.core.excolors': <module 'IPython.core.excolors' from 'C:\\\\Users\\\\LeeDaKyeong\\\\Anaconda3\\\\lib\\\\site-packages\\\\IPython\\\\core\\\\excolors.py'>,\n",
       " 'IPython.core.extensions': <module 'IPython.core.extensions' from 'C:\\\\Users\\\\LeeDaKyeong\\\\Anaconda3\\\\lib\\\\site-packages\\\\IPython\\\\core\\\\extensions.py'>,\n",
       " 'IPython.core.formatters': <module 'IPython.core.formatters' from 'C:\\\\Users\\\\LeeDaKyeong\\\\Anaconda3\\\\lib\\\\site-packages\\\\IPython\\\\core\\\\formatters.py'>,\n",
       " 'IPython.core.getipython': <module 'IPython.core.getipython' from 'C:\\\\Users\\\\LeeDaKyeong\\\\Anaconda3\\\\lib\\\\site-packages\\\\IPython\\\\core\\\\getipython.py'>,\n",
       " 'IPython.core.history': <module 'IPython.core.history' from 'C:\\\\Users\\\\LeeDaKyeong\\\\Anaconda3\\\\lib\\\\site-packages\\\\IPython\\\\core\\\\history.py'>,\n",
       " 'IPython.core.hooks': <module 'IPython.core.hooks' from 'C:\\\\Users\\\\LeeDaKyeong\\\\Anaconda3\\\\lib\\\\site-packages\\\\IPython\\\\core\\\\hooks.py'>,\n",
       " 'IPython.core.inputsplitter': <module 'IPython.core.inputsplitter' from 'C:\\\\Users\\\\LeeDaKyeong\\\\Anaconda3\\\\lib\\\\site-packages\\\\IPython\\\\core\\\\inputsplitter.py'>,\n",
       " 'IPython.core.inputtransformer': <module 'IPython.core.inputtransformer' from 'C:\\\\Users\\\\LeeDaKyeong\\\\Anaconda3\\\\lib\\\\site-packages\\\\IPython\\\\core\\\\inputtransformer.py'>,\n",
       " 'IPython.core.interactiveshell': <module 'IPython.core.interactiveshell' from 'C:\\\\Users\\\\LeeDaKyeong\\\\Anaconda3\\\\lib\\\\site-packages\\\\IPython\\\\core\\\\interactiveshell.py'>,\n",
       " 'IPython.core.latex_symbols': <module 'IPython.core.latex_symbols' from 'C:\\\\Users\\\\LeeDaKyeong\\\\Anaconda3\\\\lib\\\\site-packages\\\\IPython\\\\core\\\\latex_symbols.py'>,\n",
       " 'IPython.core.logger': <module 'IPython.core.logger' from 'C:\\\\Users\\\\LeeDaKyeong\\\\Anaconda3\\\\lib\\\\site-packages\\\\IPython\\\\core\\\\logger.py'>,\n",
       " 'IPython.core.macro': <module 'IPython.core.macro' from 'C:\\\\Users\\\\LeeDaKyeong\\\\Anaconda3\\\\lib\\\\site-packages\\\\IPython\\\\core\\\\macro.py'>,\n",
       " 'IPython.core.magic': <module 'IPython.core.magic' from 'C:\\\\Users\\\\LeeDaKyeong\\\\Anaconda3\\\\lib\\\\site-packages\\\\IPython\\\\core\\\\magic.py'>,\n",
       " 'IPython.core.magic_arguments': <module 'IPython.core.magic_arguments' from 'C:\\\\Users\\\\LeeDaKyeong\\\\Anaconda3\\\\lib\\\\site-packages\\\\IPython\\\\core\\\\magic_arguments.py'>,\n",
       " 'IPython.core.magics': <module 'IPython.core.magics' from 'C:\\\\Users\\\\LeeDaKyeong\\\\Anaconda3\\\\lib\\\\site-packages\\\\IPython\\\\core\\\\magics\\\\__init__.py'>,\n",
       " 'IPython.core.magics.auto': <module 'IPython.core.magics.auto' from 'C:\\\\Users\\\\LeeDaKyeong\\\\Anaconda3\\\\lib\\\\site-packages\\\\IPython\\\\core\\\\magics\\\\auto.py'>,\n",
       " 'IPython.core.magics.basic': <module 'IPython.core.magics.basic' from 'C:\\\\Users\\\\LeeDaKyeong\\\\Anaconda3\\\\lib\\\\site-packages\\\\IPython\\\\core\\\\magics\\\\basic.py'>,\n",
       " 'IPython.core.magics.code': <module 'IPython.core.magics.code' from 'C:\\\\Users\\\\LeeDaKyeong\\\\Anaconda3\\\\lib\\\\site-packages\\\\IPython\\\\core\\\\magics\\\\code.py'>,\n",
       " 'IPython.core.magics.config': <module 'IPython.core.magics.config' from 'C:\\\\Users\\\\LeeDaKyeong\\\\Anaconda3\\\\lib\\\\site-packages\\\\IPython\\\\core\\\\magics\\\\config.py'>,\n",
       " 'IPython.core.magics.display': <module 'IPython.core.magics.display' from 'C:\\\\Users\\\\LeeDaKyeong\\\\Anaconda3\\\\lib\\\\site-packages\\\\IPython\\\\core\\\\magics\\\\display.py'>,\n",
       " 'IPython.core.magics.execution': <module 'IPython.core.magics.execution' from 'C:\\\\Users\\\\LeeDaKyeong\\\\Anaconda3\\\\lib\\\\site-packages\\\\IPython\\\\core\\\\magics\\\\execution.py'>,\n",
       " 'IPython.core.magics.extension': <module 'IPython.core.magics.extension' from 'C:\\\\Users\\\\LeeDaKyeong\\\\Anaconda3\\\\lib\\\\site-packages\\\\IPython\\\\core\\\\magics\\\\extension.py'>,\n",
       " 'IPython.core.magics.history': <module 'IPython.core.magics.history' from 'C:\\\\Users\\\\LeeDaKyeong\\\\Anaconda3\\\\lib\\\\site-packages\\\\IPython\\\\core\\\\magics\\\\history.py'>,\n",
       " 'IPython.core.magics.logging': <module 'IPython.core.magics.logging' from 'C:\\\\Users\\\\LeeDaKyeong\\\\Anaconda3\\\\lib\\\\site-packages\\\\IPython\\\\core\\\\magics\\\\logging.py'>,\n",
       " 'IPython.core.magics.namespace': <module 'IPython.core.magics.namespace' from 'C:\\\\Users\\\\LeeDaKyeong\\\\Anaconda3\\\\lib\\\\site-packages\\\\IPython\\\\core\\\\magics\\\\namespace.py'>,\n",
       " 'IPython.core.magics.osm': <module 'IPython.core.magics.osm' from 'C:\\\\Users\\\\LeeDaKyeong\\\\Anaconda3\\\\lib\\\\site-packages\\\\IPython\\\\core\\\\magics\\\\osm.py'>,\n",
       " 'IPython.core.magics.pylab': <module 'IPython.core.magics.pylab' from 'C:\\\\Users\\\\LeeDaKyeong\\\\Anaconda3\\\\lib\\\\site-packages\\\\IPython\\\\core\\\\magics\\\\pylab.py'>,\n",
       " 'IPython.core.magics.script': <module 'IPython.core.magics.script' from 'C:\\\\Users\\\\LeeDaKyeong\\\\Anaconda3\\\\lib\\\\site-packages\\\\IPython\\\\core\\\\magics\\\\script.py'>,\n",
       " 'IPython.core.oinspect': <module 'IPython.core.oinspect' from 'C:\\\\Users\\\\LeeDaKyeong\\\\Anaconda3\\\\lib\\\\site-packages\\\\IPython\\\\core\\\\oinspect.py'>,\n",
       " 'IPython.core.page': <module 'IPython.core.page' from 'C:\\\\Users\\\\LeeDaKyeong\\\\Anaconda3\\\\lib\\\\site-packages\\\\IPython\\\\core\\\\page.py'>,\n",
       " 'IPython.core.payload': <module 'IPython.core.payload' from 'C:\\\\Users\\\\LeeDaKyeong\\\\Anaconda3\\\\lib\\\\site-packages\\\\IPython\\\\core\\\\payload.py'>,\n",
       " 'IPython.core.payloadpage': <module 'IPython.core.payloadpage' from 'C:\\\\Users\\\\LeeDaKyeong\\\\Anaconda3\\\\lib\\\\site-packages\\\\IPython\\\\core\\\\payloadpage.py'>,\n",
       " 'IPython.core.prefilter': <module 'IPython.core.prefilter' from 'C:\\\\Users\\\\LeeDaKyeong\\\\Anaconda3\\\\lib\\\\site-packages\\\\IPython\\\\core\\\\prefilter.py'>,\n",
       " 'IPython.core.profiledir': <module 'IPython.core.profiledir' from 'C:\\\\Users\\\\LeeDaKyeong\\\\Anaconda3\\\\lib\\\\site-packages\\\\IPython\\\\core\\\\profiledir.py'>,\n",
       " 'IPython.core.pylabtools': <module 'IPython.core.pylabtools' from 'C:\\\\Users\\\\LeeDaKyeong\\\\Anaconda3\\\\lib\\\\site-packages\\\\IPython\\\\core\\\\pylabtools.py'>,\n",
       " 'IPython.core.release': <module 'IPython.core.release' from 'C:\\\\Users\\\\LeeDaKyeong\\\\Anaconda3\\\\lib\\\\site-packages\\\\IPython\\\\core\\\\release.py'>,\n",
       " 'IPython.core.shadowns': <module 'IPython.core.shadowns' from 'C:\\\\Users\\\\LeeDaKyeong\\\\Anaconda3\\\\lib\\\\site-packages\\\\IPython\\\\core\\\\shadowns.py'>,\n",
       " 'IPython.core.shellapp': <module 'IPython.core.shellapp' from 'C:\\\\Users\\\\LeeDaKyeong\\\\Anaconda3\\\\lib\\\\site-packages\\\\IPython\\\\core\\\\shellapp.py'>,\n",
       " 'IPython.core.splitinput': <module 'IPython.core.splitinput' from 'C:\\\\Users\\\\LeeDaKyeong\\\\Anaconda3\\\\lib\\\\site-packages\\\\IPython\\\\core\\\\splitinput.py'>,\n",
       " 'IPython.core.ultratb': <module 'IPython.core.ultratb' from 'C:\\\\Users\\\\LeeDaKyeong\\\\Anaconda3\\\\lib\\\\site-packages\\\\IPython\\\\core\\\\ultratb.py'>,\n",
       " 'IPython.core.usage': <module 'IPython.core.usage' from 'C:\\\\Users\\\\LeeDaKyeong\\\\Anaconda3\\\\lib\\\\site-packages\\\\IPython\\\\core\\\\usage.py'>,\n",
       " 'IPython.display': <module 'IPython.display' from 'C:\\\\Users\\\\LeeDaKyeong\\\\Anaconda3\\\\lib\\\\site-packages\\\\IPython\\\\display.py'>,\n",
       " 'IPython.extensions': <module 'IPython.extensions' from 'C:\\\\Users\\\\LeeDaKyeong\\\\Anaconda3\\\\lib\\\\site-packages\\\\IPython\\\\extensions\\\\__init__.py'>,\n",
       " 'IPython.extensions.storemagic': <module 'IPython.extensions.storemagic' from 'C:\\\\Users\\\\LeeDaKyeong\\\\Anaconda3\\\\lib\\\\site-packages\\\\IPython\\\\extensions\\\\storemagic.py'>,\n",
       " 'IPython.lib': <module 'IPython.lib' from 'C:\\\\Users\\\\LeeDaKyeong\\\\Anaconda3\\\\lib\\\\site-packages\\\\IPython\\\\lib\\\\__init__.py'>,\n",
       " 'IPython.lib.backgroundjobs': <module 'IPython.lib.backgroundjobs' from 'C:\\\\Users\\\\LeeDaKyeong\\\\Anaconda3\\\\lib\\\\site-packages\\\\IPython\\\\lib\\\\backgroundjobs.py'>,\n",
       " 'IPython.lib.clipboard': <module 'IPython.lib.clipboard' from 'C:\\\\Users\\\\LeeDaKyeong\\\\Anaconda3\\\\lib\\\\site-packages\\\\IPython\\\\lib\\\\clipboard.py'>,\n",
       " 'IPython.lib.deepreload': <module 'IPython.lib.deepreload' from 'C:\\\\Users\\\\LeeDaKyeong\\\\Anaconda3\\\\lib\\\\site-packages\\\\IPython\\\\lib\\\\deepreload.py'>,\n",
       " 'IPython.lib.display': <module 'IPython.lib.display' from 'C:\\\\Users\\\\LeeDaKyeong\\\\Anaconda3\\\\lib\\\\site-packages\\\\IPython\\\\lib\\\\display.py'>,\n",
       " 'IPython.lib.pretty': <module 'IPython.lib.pretty' from 'C:\\\\Users\\\\LeeDaKyeong\\\\Anaconda3\\\\lib\\\\site-packages\\\\IPython\\\\lib\\\\pretty.py'>,\n",
       " 'IPython.lib.security': <module 'IPython.lib.security' from 'C:\\\\Users\\\\LeeDaKyeong\\\\Anaconda3\\\\lib\\\\site-packages\\\\IPython\\\\lib\\\\security.py'>,\n",
       " 'IPython.paths': <module 'IPython.paths' from 'C:\\\\Users\\\\LeeDaKyeong\\\\Anaconda3\\\\lib\\\\site-packages\\\\IPython\\\\paths.py'>,\n",
       " 'IPython.terminal': <module 'IPython.terminal' from 'C:\\\\Users\\\\LeeDaKyeong\\\\Anaconda3\\\\lib\\\\site-packages\\\\IPython\\\\terminal\\\\__init__.py'>,\n",
       " 'IPython.terminal.debugger': <module 'IPython.terminal.debugger' from 'C:\\\\Users\\\\LeeDaKyeong\\\\Anaconda3\\\\lib\\\\site-packages\\\\IPython\\\\terminal\\\\debugger.py'>,\n",
       " 'IPython.terminal.embed': <module 'IPython.terminal.embed' from 'C:\\\\Users\\\\LeeDaKyeong\\\\Anaconda3\\\\lib\\\\site-packages\\\\IPython\\\\terminal\\\\embed.py'>,\n",
       " 'IPython.terminal.interactiveshell': <module 'IPython.terminal.interactiveshell' from 'C:\\\\Users\\\\LeeDaKyeong\\\\Anaconda3\\\\lib\\\\site-packages\\\\IPython\\\\terminal\\\\interactiveshell.py'>,\n",
       " 'IPython.terminal.ipapp': <module 'IPython.terminal.ipapp' from 'C:\\\\Users\\\\LeeDaKyeong\\\\Anaconda3\\\\lib\\\\site-packages\\\\IPython\\\\terminal\\\\ipapp.py'>,\n",
       " 'IPython.terminal.magics': <module 'IPython.terminal.magics' from 'C:\\\\Users\\\\LeeDaKyeong\\\\Anaconda3\\\\lib\\\\site-packages\\\\IPython\\\\terminal\\\\magics.py'>,\n",
       " 'IPython.terminal.prompts': <module 'IPython.terminal.prompts' from 'C:\\\\Users\\\\LeeDaKyeong\\\\Anaconda3\\\\lib\\\\site-packages\\\\IPython\\\\terminal\\\\prompts.py'>,\n",
       " 'IPython.terminal.pt_inputhooks': <module 'IPython.terminal.pt_inputhooks' from 'C:\\\\Users\\\\LeeDaKyeong\\\\Anaconda3\\\\lib\\\\site-packages\\\\IPython\\\\terminal\\\\pt_inputhooks\\\\__init__.py'>,\n",
       " 'IPython.terminal.ptutils': <module 'IPython.terminal.ptutils' from 'C:\\\\Users\\\\LeeDaKyeong\\\\Anaconda3\\\\lib\\\\site-packages\\\\IPython\\\\terminal\\\\ptutils.py'>,\n",
       " 'IPython.terminal.shortcuts': <module 'IPython.terminal.shortcuts' from 'C:\\\\Users\\\\LeeDaKyeong\\\\Anaconda3\\\\lib\\\\site-packages\\\\IPython\\\\terminal\\\\shortcuts.py'>,\n",
       " 'IPython.testing': <module 'IPython.testing' from 'C:\\\\Users\\\\LeeDaKyeong\\\\Anaconda3\\\\lib\\\\site-packages\\\\IPython\\\\testing\\\\__init__.py'>,\n",
       " 'IPython.testing.skipdoctest': <module 'IPython.testing.skipdoctest' from 'C:\\\\Users\\\\LeeDaKyeong\\\\Anaconda3\\\\lib\\\\site-packages\\\\IPython\\\\testing\\\\skipdoctest.py'>,\n",
       " 'IPython.utils': <module 'IPython.utils' from 'C:\\\\Users\\\\LeeDaKyeong\\\\Anaconda3\\\\lib\\\\site-packages\\\\IPython\\\\utils\\\\__init__.py'>,\n",
       " 'IPython.utils.PyColorize': <module 'IPython.utils.PyColorize' from 'C:\\\\Users\\\\LeeDaKyeong\\\\Anaconda3\\\\lib\\\\site-packages\\\\IPython\\\\utils\\\\PyColorize.py'>,\n",
       " 'IPython.utils._process_common': <module 'IPython.utils._process_common' from 'C:\\\\Users\\\\LeeDaKyeong\\\\Anaconda3\\\\lib\\\\site-packages\\\\IPython\\\\utils\\\\_process_common.py'>,\n",
       " 'IPython.utils._process_win32': <module 'IPython.utils._process_win32' from 'C:\\\\Users\\\\LeeDaKyeong\\\\Anaconda3\\\\lib\\\\site-packages\\\\IPython\\\\utils\\\\_process_win32.py'>,\n",
       " 'IPython.utils._sysinfo': <module 'IPython.utils._sysinfo' from 'C:\\\\Users\\\\LeeDaKyeong\\\\Anaconda3\\\\lib\\\\site-packages\\\\IPython\\\\utils\\\\_sysinfo.py'>,\n",
       " 'IPython.utils._tokenize_py3': <module 'IPython.utils._tokenize_py3' from 'C:\\\\Users\\\\LeeDaKyeong\\\\Anaconda3\\\\lib\\\\site-packages\\\\IPython\\\\utils\\\\_tokenize_py3.py'>,\n",
       " 'IPython.utils.capture': <module 'IPython.utils.capture' from 'C:\\\\Users\\\\LeeDaKyeong\\\\Anaconda3\\\\lib\\\\site-packages\\\\IPython\\\\utils\\\\capture.py'>,\n",
       " 'IPython.utils.colorable': <module 'IPython.utils.colorable' from 'C:\\\\Users\\\\LeeDaKyeong\\\\Anaconda3\\\\lib\\\\site-packages\\\\IPython\\\\utils\\\\colorable.py'>,\n",
       " 'IPython.utils.coloransi': <module 'IPython.utils.coloransi' from 'C:\\\\Users\\\\LeeDaKyeong\\\\Anaconda3\\\\lib\\\\site-packages\\\\IPython\\\\utils\\\\coloransi.py'>,\n",
       " 'IPython.utils.contexts': <module 'IPython.utils.contexts' from 'C:\\\\Users\\\\LeeDaKyeong\\\\Anaconda3\\\\lib\\\\site-packages\\\\IPython\\\\utils\\\\contexts.py'>,\n",
       " 'IPython.utils.data': <module 'IPython.utils.data' from 'C:\\\\Users\\\\LeeDaKyeong\\\\Anaconda3\\\\lib\\\\site-packages\\\\IPython\\\\utils\\\\data.py'>,\n",
       " 'IPython.utils.decorators': <module 'IPython.utils.decorators' from 'C:\\\\Users\\\\LeeDaKyeong\\\\Anaconda3\\\\lib\\\\site-packages\\\\IPython\\\\utils\\\\decorators.py'>,\n",
       " 'IPython.utils.dir2': <module 'IPython.utils.dir2' from 'C:\\\\Users\\\\LeeDaKyeong\\\\Anaconda3\\\\lib\\\\site-packages\\\\IPython\\\\utils\\\\dir2.py'>,\n",
       " 'IPython.utils.encoding': <module 'IPython.utils.encoding' from 'C:\\\\Users\\\\LeeDaKyeong\\\\Anaconda3\\\\lib\\\\site-packages\\\\IPython\\\\utils\\\\encoding.py'>,\n",
       " 'IPython.utils.frame': <module 'IPython.utils.frame' from 'C:\\\\Users\\\\LeeDaKyeong\\\\Anaconda3\\\\lib\\\\site-packages\\\\IPython\\\\utils\\\\frame.py'>,\n",
       " 'IPython.utils.generics': <module 'IPython.utils.generics' from 'C:\\\\Users\\\\LeeDaKyeong\\\\Anaconda3\\\\lib\\\\site-packages\\\\IPython\\\\utils\\\\generics.py'>,\n",
       " 'IPython.utils.importstring': <module 'IPython.utils.importstring' from 'C:\\\\Users\\\\LeeDaKyeong\\\\Anaconda3\\\\lib\\\\site-packages\\\\IPython\\\\utils\\\\importstring.py'>,\n",
       " 'IPython.utils.io': <module 'IPython.utils.io' from 'C:\\\\Users\\\\LeeDaKyeong\\\\Anaconda3\\\\lib\\\\site-packages\\\\IPython\\\\utils\\\\io.py'>,\n",
       " 'IPython.utils.ipstruct': <module 'IPython.utils.ipstruct' from 'C:\\\\Users\\\\LeeDaKyeong\\\\Anaconda3\\\\lib\\\\site-packages\\\\IPython\\\\utils\\\\ipstruct.py'>,\n",
       " 'IPython.utils.module_paths': <module 'IPython.utils.module_paths' from 'C:\\\\Users\\\\LeeDaKyeong\\\\Anaconda3\\\\lib\\\\site-packages\\\\IPython\\\\utils\\\\module_paths.py'>,\n",
       " 'IPython.utils.openpy': <module 'IPython.utils.openpy' from 'C:\\\\Users\\\\LeeDaKyeong\\\\Anaconda3\\\\lib\\\\site-packages\\\\IPython\\\\utils\\\\openpy.py'>,\n",
       " 'IPython.utils.path': <module 'IPython.utils.path' from 'C:\\\\Users\\\\LeeDaKyeong\\\\Anaconda3\\\\lib\\\\site-packages\\\\IPython\\\\utils\\\\path.py'>,\n",
       " 'IPython.utils.process': <module 'IPython.utils.process' from 'C:\\\\Users\\\\LeeDaKyeong\\\\Anaconda3\\\\lib\\\\site-packages\\\\IPython\\\\utils\\\\process.py'>,\n",
       " 'IPython.utils.py3compat': <module 'IPython.utils.py3compat' from 'C:\\\\Users\\\\LeeDaKyeong\\\\Anaconda3\\\\lib\\\\site-packages\\\\IPython\\\\utils\\\\py3compat.py'>,\n",
       " 'IPython.utils.sentinel': <module 'IPython.utils.sentinel' from 'C:\\\\Users\\\\LeeDaKyeong\\\\Anaconda3\\\\lib\\\\site-packages\\\\IPython\\\\utils\\\\sentinel.py'>,\n",
       " 'IPython.utils.signatures': <module 'IPython.utils.signatures' from 'C:\\\\Users\\\\LeeDaKyeong\\\\Anaconda3\\\\lib\\\\site-packages\\\\IPython\\\\utils\\\\signatures.py'>,\n",
       " 'IPython.utils.strdispatch': <module 'IPython.utils.strdispatch' from 'C:\\\\Users\\\\LeeDaKyeong\\\\Anaconda3\\\\lib\\\\site-packages\\\\IPython\\\\utils\\\\strdispatch.py'>,\n",
       " 'IPython.utils.sysinfo': <module 'IPython.utils.sysinfo' from 'C:\\\\Users\\\\LeeDaKyeong\\\\Anaconda3\\\\lib\\\\site-packages\\\\IPython\\\\utils\\\\sysinfo.py'>,\n",
       " 'IPython.utils.syspathcontext': <module 'IPython.utils.syspathcontext' from 'C:\\\\Users\\\\LeeDaKyeong\\\\Anaconda3\\\\lib\\\\site-packages\\\\IPython\\\\utils\\\\syspathcontext.py'>,\n",
       " 'IPython.utils.tempdir': <module 'IPython.utils.tempdir' from 'C:\\\\Users\\\\LeeDaKyeong\\\\Anaconda3\\\\lib\\\\site-packages\\\\IPython\\\\utils\\\\tempdir.py'>,\n",
       " 'IPython.utils.terminal': <module 'IPython.utils.terminal' from 'C:\\\\Users\\\\LeeDaKyeong\\\\Anaconda3\\\\lib\\\\site-packages\\\\IPython\\\\utils\\\\terminal.py'>,\n",
       " 'IPython.utils.text': <module 'IPython.utils.text' from 'C:\\\\Users\\\\LeeDaKyeong\\\\Anaconda3\\\\lib\\\\site-packages\\\\IPython\\\\utils\\\\text.py'>,\n",
       " 'IPython.utils.timing': <module 'IPython.utils.timing' from 'C:\\\\Users\\\\LeeDaKyeong\\\\Anaconda3\\\\lib\\\\site-packages\\\\IPython\\\\utils\\\\timing.py'>,\n",
       " 'IPython.utils.tokenize2': <module 'IPython.utils.tokenize2' from 'C:\\\\Users\\\\LeeDaKyeong\\\\Anaconda3\\\\lib\\\\site-packages\\\\IPython\\\\utils\\\\tokenize2.py'>,\n",
       " 'IPython.utils.tokenutil': <module 'IPython.utils.tokenutil' from 'C:\\\\Users\\\\LeeDaKyeong\\\\Anaconda3\\\\lib\\\\site-packages\\\\IPython\\\\utils\\\\tokenutil.py'>,\n",
       " 'IPython.utils.ulinecache': <module 'IPython.utils.ulinecache' from 'C:\\\\Users\\\\LeeDaKyeong\\\\Anaconda3\\\\lib\\\\site-packages\\\\IPython\\\\utils\\\\ulinecache.py'>,\n",
       " 'IPython.utils.wildcard': <module 'IPython.utils.wildcard' from 'C:\\\\Users\\\\LeeDaKyeong\\\\Anaconda3\\\\lib\\\\site-packages\\\\IPython\\\\utils\\\\wildcard.py'>,\n",
       " '__future__': <module '__future__' from 'C:\\\\Users\\\\LeeDaKyeong\\\\Anaconda3\\\\lib\\\\__future__.py'>,\n",
       " '__main__': <module '__main__'>,\n",
       " '__mp_main__': <module 'ipykernel.__main__' from 'C:\\\\Users\\\\LeeDaKyeong\\\\Anaconda3\\\\lib\\\\site-packages\\\\ipykernel\\\\__main__.py'>,\n",
       " '_ast': <module '_ast' (built-in)>,\n",
       " '_bisect': <module '_bisect' (built-in)>,\n",
       " '_blake2': <module '_blake2' (built-in)>,\n",
       " '_bootlocale': <module '_bootlocale' from 'C:\\\\Users\\\\LeeDaKyeong\\\\Anaconda3\\\\lib\\\\_bootlocale.py'>,\n",
       " '_bz2': <module '_bz2' from 'C:\\\\Users\\\\LeeDaKyeong\\\\Anaconda3\\\\DLLs\\\\_bz2.pyd'>,\n",
       " '_codecs': <module '_codecs' (built-in)>,\n",
       " '_codecs_kr': <module '_codecs_kr' (built-in)>,\n",
       " '_collections': <module '_collections' (built-in)>,\n",
       " '_collections_abc': <module '_collections_abc' from 'C:\\\\Users\\\\LeeDaKyeong\\\\Anaconda3\\\\lib\\\\_collections_abc.py'>,\n",
       " '_compat_pickle': <module '_compat_pickle' from 'C:\\\\Users\\\\LeeDaKyeong\\\\Anaconda3\\\\lib\\\\_compat_pickle.py'>,\n",
       " '_compression': <module '_compression' from 'C:\\\\Users\\\\LeeDaKyeong\\\\Anaconda3\\\\lib\\\\_compression.py'>,\n",
       " '_ctypes': <module '_ctypes' from 'C:\\\\Users\\\\LeeDaKyeong\\\\Anaconda3\\\\DLLs\\\\_ctypes.pyd'>,\n",
       " '_cython_0_25_1': <module '_cython_0_25_1'>,\n",
       " '_datetime': <module '_datetime' (built-in)>,\n",
       " '_frozen_importlib': <module 'importlib._bootstrap' (frozen)>,\n",
       " '_frozen_importlib_external': <module 'importlib._bootstrap_external' (frozen)>,\n",
       " '_functools': <module '_functools' (built-in)>,\n",
       " '_hashlib': <module '_hashlib' from 'C:\\\\Users\\\\LeeDaKyeong\\\\Anaconda3\\\\DLLs\\\\_hashlib.pyd'>,\n",
       " '_heapq': <module '_heapq' (built-in)>,\n",
       " '_imp': <module '_imp' (built-in)>,\n",
       " '_io': <module 'io' (built-in)>,\n",
       " '_json': <module '_json' (built-in)>,\n",
       " '_locale': <module '_locale' (built-in)>,\n",
       " '_lsprof': <module '_lsprof' (built-in)>,\n",
       " '_lzma': <module '_lzma' from 'C:\\\\Users\\\\LeeDaKyeong\\\\Anaconda3\\\\DLLs\\\\_lzma.pyd'>,\n",
       " '_multibytecodec': <module '_multibytecodec' (built-in)>,\n",
       " '_multiprocessing': <module '_multiprocessing' from 'C:\\\\Users\\\\LeeDaKyeong\\\\Anaconda3\\\\DLLs\\\\_multiprocessing.pyd'>,\n",
       " '_opcode': <module '_opcode' (built-in)>,\n",
       " '_operator': <module '_operator' (built-in)>,\n",
       " '_pickle': <module '_pickle' (built-in)>,\n",
       " '_random': <module '_random' (built-in)>,\n",
       " '_sha3': <module '_sha3' (built-in)>,\n",
       " '_signal': <module '_signal' (built-in)>,\n",
       " '_sitebuiltins': <module '_sitebuiltins' from 'C:\\\\Users\\\\LeeDaKyeong\\\\Anaconda3\\\\lib\\\\_sitebuiltins.py'>,\n",
       " '_socket': <module '_socket' from 'C:\\\\Users\\\\LeeDaKyeong\\\\Anaconda3\\\\DLLs\\\\_socket.pyd'>,\n",
       " '_sqlite3': <module '_sqlite3' from 'C:\\\\Users\\\\LeeDaKyeong\\\\Anaconda3\\\\DLLs\\\\_sqlite3.pyd'>,\n",
       " '_sre': <module '_sre' (built-in)>,\n",
       " '_stat': <module '_stat' (built-in)>,\n",
       " '_string': <module '_string' (built-in)>,\n",
       " '_strptime': <module '_strptime' from 'C:\\\\Users\\\\LeeDaKyeong\\\\Anaconda3\\\\lib\\\\_strptime.py'>,\n",
       " '_struct': <module '_struct' (built-in)>,\n",
       " '_thread': <module '_thread' (built-in)>,\n",
       " '_warnings': <module '_warnings' (built-in)>,\n",
       " '_weakref': <module '_weakref' (built-in)>,\n",
       " '_weakrefset': <module '_weakrefset' from 'C:\\\\Users\\\\LeeDaKyeong\\\\Anaconda3\\\\lib\\\\_weakrefset.py'>,\n",
       " '_win32sysloader': <module '_win32sysloader' from 'C:\\\\Users\\\\LeeDaKyeong\\\\Anaconda3\\\\lib\\\\site-packages\\\\win32\\\\_win32sysloader.pyd'>,\n",
       " '_winapi': <module '_winapi' (built-in)>,\n",
       " 'abc': <module 'abc' from 'C:\\\\Users\\\\LeeDaKyeong\\\\Anaconda3\\\\lib\\\\abc.py'>,\n",
       " 'argparse': <module 'argparse' from 'C:\\\\Users\\\\LeeDaKyeong\\\\Anaconda3\\\\lib\\\\argparse.py'>,\n",
       " 'array': <module 'array' (built-in)>,\n",
       " 'ast': <module 'ast' from 'C:\\\\Users\\\\LeeDaKyeong\\\\Anaconda3\\\\lib\\\\ast.py'>,\n",
       " 'atexit': <module 'atexit' (built-in)>,\n",
       " 'base64': <module 'base64' from 'C:\\\\Users\\\\LeeDaKyeong\\\\Anaconda3\\\\lib\\\\base64.py'>,\n",
       " 'bdb': <module 'bdb' from 'C:\\\\Users\\\\LeeDaKyeong\\\\Anaconda3\\\\lib\\\\bdb.py'>,\n",
       " 'binascii': <module 'binascii' (built-in)>,\n",
       " 'bisect': <module 'bisect' from 'C:\\\\Users\\\\LeeDaKyeong\\\\Anaconda3\\\\lib\\\\bisect.py'>,\n",
       " 'builtins': <module 'builtins' (built-in)>,\n",
       " 'bz2': <module 'bz2' from 'C:\\\\Users\\\\LeeDaKyeong\\\\Anaconda3\\\\lib\\\\bz2.py'>,\n",
       " 'cProfile': <module 'cProfile' from 'C:\\\\Users\\\\LeeDaKyeong\\\\Anaconda3\\\\lib\\\\cProfile.py'>,\n",
       " 'calendar': <module 'calendar' from 'C:\\\\Users\\\\LeeDaKyeong\\\\Anaconda3\\\\lib\\\\calendar.py'>,\n",
       " 'cmd': <module 'cmd' from 'C:\\\\Users\\\\LeeDaKyeong\\\\Anaconda3\\\\lib\\\\cmd.py'>,\n",
       " 'code': <module 'code' from 'C:\\\\Users\\\\LeeDaKyeong\\\\Anaconda3\\\\lib\\\\code.py'>,\n",
       " 'codecs': <module 'codecs' from 'C:\\\\Users\\\\LeeDaKyeong\\\\Anaconda3\\\\lib\\\\codecs.py'>,\n",
       " 'codeop': <module 'codeop' from 'C:\\\\Users\\\\LeeDaKyeong\\\\Anaconda3\\\\lib\\\\codeop.py'>,\n",
       " 'collections': <module 'collections' from 'C:\\\\Users\\\\LeeDaKyeong\\\\Anaconda3\\\\lib\\\\collections\\\\__init__.py'>,\n",
       " 'collections.abc': <module 'collections.abc' from 'C:\\\\Users\\\\LeeDaKyeong\\\\Anaconda3\\\\lib\\\\collections\\\\abc.py'>,\n",
       " 'concurrent': <module 'concurrent' from 'C:\\\\Users\\\\LeeDaKyeong\\\\Anaconda3\\\\lib\\\\concurrent\\\\__init__.py'>,\n",
       " 'concurrent.futures': <module 'concurrent.futures' from 'C:\\\\Users\\\\LeeDaKyeong\\\\Anaconda3\\\\lib\\\\concurrent\\\\futures\\\\__init__.py'>,\n",
       " 'concurrent.futures._base': <module 'concurrent.futures._base' from 'C:\\\\Users\\\\LeeDaKyeong\\\\Anaconda3\\\\lib\\\\concurrent\\\\futures\\\\_base.py'>,\n",
       " 'concurrent.futures.process': <module 'concurrent.futures.process' from 'C:\\\\Users\\\\LeeDaKyeong\\\\Anaconda3\\\\lib\\\\concurrent\\\\futures\\\\process.py'>,\n",
       " 'concurrent.futures.thread': <module 'concurrent.futures.thread' from 'C:\\\\Users\\\\LeeDaKyeong\\\\Anaconda3\\\\lib\\\\concurrent\\\\futures\\\\thread.py'>,\n",
       " 'contextlib': <module 'contextlib' from 'C:\\\\Users\\\\LeeDaKyeong\\\\Anaconda3\\\\lib\\\\contextlib.py'>,\n",
       " 'copy': <module 'copy' from 'C:\\\\Users\\\\LeeDaKyeong\\\\Anaconda3\\\\lib\\\\copy.py'>,\n",
       " 'copyreg': <module 'copyreg' from 'C:\\\\Users\\\\LeeDaKyeong\\\\Anaconda3\\\\lib\\\\copyreg.py'>,\n",
       " 'ctypes': <module 'ctypes' from 'C:\\\\Users\\\\LeeDaKyeong\\\\Anaconda3\\\\lib\\\\ctypes\\\\__init__.py'>,\n",
       " 'ctypes._endian': <module 'ctypes._endian' from 'C:\\\\Users\\\\LeeDaKyeong\\\\Anaconda3\\\\lib\\\\ctypes\\\\_endian.py'>,\n",
       " 'ctypes.util': <module 'ctypes.util' from 'C:\\\\Users\\\\LeeDaKyeong\\\\Anaconda3\\\\lib\\\\ctypes\\\\util.py'>,\n",
       " 'ctypes.wintypes': <module 'ctypes.wintypes' from 'C:\\\\Users\\\\LeeDaKyeong\\\\Anaconda3\\\\lib\\\\ctypes\\\\wintypes.py'>,\n",
       " 'datetime': <module 'datetime' from 'C:\\\\Users\\\\LeeDaKyeong\\\\Anaconda3\\\\lib\\\\datetime.py'>,\n",
       " 'decorator': <module 'decorator' from 'C:\\\\Users\\\\LeeDaKyeong\\\\Anaconda3\\\\lib\\\\site-packages\\\\decorator.py'>,\n",
       " 'dis': <module 'dis' from 'C:\\\\Users\\\\LeeDaKyeong\\\\Anaconda3\\\\lib\\\\dis.py'>,\n",
       " 'email': <module 'email' from 'C:\\\\Users\\\\LeeDaKyeong\\\\Anaconda3\\\\lib\\\\email\\\\__init__.py'>,\n",
       " 'email._parseaddr': <module 'email._parseaddr' from 'C:\\\\Users\\\\LeeDaKyeong\\\\Anaconda3\\\\lib\\\\email\\\\_parseaddr.py'>,\n",
       " 'email._policybase': <module 'email._policybase' from 'C:\\\\Users\\\\LeeDaKyeong\\\\Anaconda3\\\\lib\\\\email\\\\_policybase.py'>,\n",
       " 'email.base64mime': <module 'email.base64mime' from 'C:\\\\Users\\\\LeeDaKyeong\\\\Anaconda3\\\\lib\\\\email\\\\base64mime.py'>,\n",
       " 'email.charset': <module 'email.charset' from 'C:\\\\Users\\\\LeeDaKyeong\\\\Anaconda3\\\\lib\\\\email\\\\charset.py'>,\n",
       " 'email.encoders': <module 'email.encoders' from 'C:\\\\Users\\\\LeeDaKyeong\\\\Anaconda3\\\\lib\\\\email\\\\encoders.py'>,\n",
       " 'email.errors': <module 'email.errors' from 'C:\\\\Users\\\\LeeDaKyeong\\\\Anaconda3\\\\lib\\\\email\\\\errors.py'>,\n",
       " 'email.feedparser': <module 'email.feedparser' from 'C:\\\\Users\\\\LeeDaKyeong\\\\Anaconda3\\\\lib\\\\email\\\\feedparser.py'>,\n",
       " 'email.header': <module 'email.header' from 'C:\\\\Users\\\\LeeDaKyeong\\\\Anaconda3\\\\lib\\\\email\\\\header.py'>,\n",
       " 'email.parser': <module 'email.parser' from 'C:\\\\Users\\\\LeeDaKyeong\\\\Anaconda3\\\\lib\\\\email\\\\parser.py'>,\n",
       " 'email.quoprimime': <module 'email.quoprimime' from 'C:\\\\Users\\\\LeeDaKyeong\\\\Anaconda3\\\\lib\\\\email\\\\quoprimime.py'>,\n",
       " 'email.utils': <module 'email.utils' from 'C:\\\\Users\\\\LeeDaKyeong\\\\Anaconda3\\\\lib\\\\email\\\\utils.py'>,\n",
       " 'encodings': <module 'encodings' from 'C:\\\\Users\\\\LeeDaKyeong\\\\Anaconda3\\\\lib\\\\encodings\\\\__init__.py'>,\n",
       " 'encodings.aliases': <module 'encodings.aliases' from 'C:\\\\Users\\\\LeeDaKyeong\\\\Anaconda3\\\\lib\\\\encodings\\\\aliases.py'>,\n",
       " 'encodings.cp437': <module 'encodings.cp437' from 'C:\\\\Users\\\\LeeDaKyeong\\\\Anaconda3\\\\lib\\\\encodings\\\\cp437.py'>,\n",
       " 'encodings.cp949': <module 'encodings.cp949' from 'C:\\\\Users\\\\LeeDaKyeong\\\\Anaconda3\\\\lib\\\\encodings\\\\cp949.py'>,\n",
       " 'encodings.latin_1': <module 'encodings.latin_1' from 'C:\\\\Users\\\\LeeDaKyeong\\\\Anaconda3\\\\lib\\\\encodings\\\\latin_1.py'>,\n",
       " 'encodings.utf_8': <module 'encodings.utf_8' from 'C:\\\\Users\\\\LeeDaKyeong\\\\Anaconda3\\\\lib\\\\encodings\\\\utf_8.py'>,\n",
       " 'enum': <module 'enum' from 'C:\\\\Users\\\\LeeDaKyeong\\\\Anaconda3\\\\lib\\\\enum.py'>,\n",
       " 'errno': <module 'errno' (built-in)>,\n",
       " 'faulthandler': <module 'faulthandler' (built-in)>,\n",
       " 'fnmatch': <module 'fnmatch' from 'C:\\\\Users\\\\LeeDaKyeong\\\\Anaconda3\\\\lib\\\\fnmatch.py'>,\n",
       " 'functools': <module 'functools' from 'C:\\\\Users\\\\LeeDaKyeong\\\\Anaconda3\\\\lib\\\\functools.py'>,\n",
       " 'gc': <module 'gc' (built-in)>,\n",
       " 'genericpath': <module 'genericpath' from 'C:\\\\Users\\\\LeeDaKyeong\\\\Anaconda3\\\\lib\\\\genericpath.py'>,\n",
       " 'getopt': <module 'getopt' from 'C:\\\\Users\\\\LeeDaKyeong\\\\Anaconda3\\\\lib\\\\getopt.py'>,\n",
       " 'getpass': <module 'getpass' from 'C:\\\\Users\\\\LeeDaKyeong\\\\Anaconda3\\\\lib\\\\getpass.py'>,\n",
       " 'gettext': <module 'gettext' from 'C:\\\\Users\\\\LeeDaKyeong\\\\Anaconda3\\\\lib\\\\gettext.py'>,\n",
       " 'glob': <module 'glob' from 'C:\\\\Users\\\\LeeDaKyeong\\\\Anaconda3\\\\lib\\\\glob.py'>,\n",
       " 'hashlib': <module 'hashlib' from 'C:\\\\Users\\\\LeeDaKyeong\\\\Anaconda3\\\\lib\\\\hashlib.py'>,\n",
       " 'heapq': <module 'heapq' from 'C:\\\\Users\\\\LeeDaKyeong\\\\Anaconda3\\\\lib\\\\heapq.py'>,\n",
       " 'hmac': <module 'hmac' from 'C:\\\\Users\\\\LeeDaKyeong\\\\Anaconda3\\\\lib\\\\hmac.py'>,\n",
       " 'html': <module 'html' from 'C:\\\\Users\\\\LeeDaKyeong\\\\Anaconda3\\\\lib\\\\html\\\\__init__.py'>,\n",
       " 'html.entities': <module 'html.entities' from 'C:\\\\Users\\\\LeeDaKyeong\\\\Anaconda3\\\\lib\\\\html\\\\entities.py'>,\n",
       " 'imp': <module 'imp' from 'C:\\\\Users\\\\LeeDaKyeong\\\\Anaconda3\\\\lib\\\\imp.py'>,\n",
       " 'importlib': <module 'importlib' from 'C:\\\\Users\\\\LeeDaKyeong\\\\Anaconda3\\\\lib\\\\importlib\\\\__init__.py'>,\n",
       " 'importlib._bootstrap': <module 'importlib._bootstrap' (frozen)>,\n",
       " 'importlib._bootstrap_external': <module 'importlib._bootstrap_external' (frozen)>,\n",
       " 'importlib.abc': <module 'importlib.abc' from 'C:\\\\Users\\\\LeeDaKyeong\\\\Anaconda3\\\\lib\\\\importlib\\\\abc.py'>,\n",
       " 'importlib.machinery': <module 'importlib.machinery' from 'C:\\\\Users\\\\LeeDaKyeong\\\\Anaconda3\\\\lib\\\\importlib\\\\machinery.py'>,\n",
       " 'importlib.util': <module 'importlib.util' from 'C:\\\\Users\\\\LeeDaKyeong\\\\Anaconda3\\\\lib\\\\importlib\\\\util.py'>,\n",
       " 'inspect': <module 'inspect' from 'C:\\\\Users\\\\LeeDaKyeong\\\\Anaconda3\\\\lib\\\\inspect.py'>,\n",
       " 'io': <module 'io' from 'C:\\\\Users\\\\LeeDaKyeong\\\\Anaconda3\\\\lib\\\\io.py'>,\n",
       " 'ipykernel': <module 'ipykernel' from 'C:\\\\Users\\\\LeeDaKyeong\\\\Anaconda3\\\\lib\\\\site-packages\\\\ipykernel\\\\__init__.py'>,\n",
       " 'ipykernel._version': <module 'ipykernel._version' from 'C:\\\\Users\\\\LeeDaKyeong\\\\Anaconda3\\\\lib\\\\site-packages\\\\ipykernel\\\\_version.py'>,\n",
       " 'ipykernel.codeutil': <module 'ipykernel.codeutil' from 'C:\\\\Users\\\\LeeDaKyeong\\\\Anaconda3\\\\lib\\\\site-packages\\\\ipykernel\\\\codeutil.py'>,\n",
       " 'ipykernel.comm': <module 'ipykernel.comm' from 'C:\\\\Users\\\\LeeDaKyeong\\\\Anaconda3\\\\lib\\\\site-packages\\\\ipykernel\\\\comm\\\\__init__.py'>,\n",
       " 'ipykernel.comm.comm': <module 'ipykernel.comm.comm' from 'C:\\\\Users\\\\LeeDaKyeong\\\\Anaconda3\\\\lib\\\\site-packages\\\\ipykernel\\\\comm\\\\comm.py'>,\n",
       " 'ipykernel.comm.manager': <module 'ipykernel.comm.manager' from 'C:\\\\Users\\\\LeeDaKyeong\\\\Anaconda3\\\\lib\\\\site-packages\\\\ipykernel\\\\comm\\\\manager.py'>,\n",
       " 'ipykernel.connect': <module 'ipykernel.connect' from 'C:\\\\Users\\\\LeeDaKyeong\\\\Anaconda3\\\\lib\\\\site-packages\\\\ipykernel\\\\connect.py'>,\n",
       " 'ipykernel.datapub': <module 'ipykernel.datapub' from 'C:\\\\Users\\\\LeeDaKyeong\\\\Anaconda3\\\\lib\\\\site-packages\\\\ipykernel\\\\datapub.py'>,\n",
       " 'ipykernel.displayhook': <module 'ipykernel.displayhook' from 'C:\\\\Users\\\\LeeDaKyeong\\\\Anaconda3\\\\lib\\\\site-packages\\\\ipykernel\\\\displayhook.py'>,\n",
       " 'ipykernel.heartbeat': <module 'ipykernel.heartbeat' from 'C:\\\\Users\\\\LeeDaKyeong\\\\Anaconda3\\\\lib\\\\site-packages\\\\ipykernel\\\\heartbeat.py'>,\n",
       " 'ipykernel.iostream': <module 'ipykernel.iostream' from 'C:\\\\Users\\\\LeeDaKyeong\\\\Anaconda3\\\\lib\\\\site-packages\\\\ipykernel\\\\iostream.py'>,\n",
       " 'ipykernel.ipkernel': <module 'ipykernel.ipkernel' from 'C:\\\\Users\\\\LeeDaKyeong\\\\Anaconda3\\\\lib\\\\site-packages\\\\ipykernel\\\\ipkernel.py'>,\n",
       " 'ipykernel.jsonutil': <module 'ipykernel.jsonutil' from 'C:\\\\Users\\\\LeeDaKyeong\\\\Anaconda3\\\\lib\\\\site-packages\\\\ipykernel\\\\jsonutil.py'>,\n",
       " 'ipykernel.kernelapp': <module 'ipykernel.kernelapp' from 'C:\\\\Users\\\\LeeDaKyeong\\\\Anaconda3\\\\lib\\\\site-packages\\\\ipykernel\\\\kernelapp.py'>,\n",
       " 'ipykernel.kernelbase': <module 'ipykernel.kernelbase' from 'C:\\\\Users\\\\LeeDaKyeong\\\\Anaconda3\\\\lib\\\\site-packages\\\\ipykernel\\\\kernelbase.py'>,\n",
       " 'ipykernel.parentpoller': <module 'ipykernel.parentpoller' from 'C:\\\\Users\\\\LeeDaKyeong\\\\Anaconda3\\\\lib\\\\site-packages\\\\ipykernel\\\\parentpoller.py'>,\n",
       " 'ipykernel.pickleutil': <module 'ipykernel.pickleutil' from 'C:\\\\Users\\\\LeeDaKyeong\\\\Anaconda3\\\\lib\\\\site-packages\\\\ipykernel\\\\pickleutil.py'>,\n",
       " 'ipykernel.serialize': <module 'ipykernel.serialize' from 'C:\\\\Users\\\\LeeDaKyeong\\\\Anaconda3\\\\lib\\\\site-packages\\\\ipykernel\\\\serialize.py'>,\n",
       " 'ipykernel.zmqshell': <module 'ipykernel.zmqshell' from 'C:\\\\Users\\\\LeeDaKyeong\\\\Anaconda3\\\\lib\\\\site-packages\\\\ipykernel\\\\zmqshell.py'>,\n",
       " 'ipython_genutils': <module 'ipython_genutils' from 'C:\\\\Users\\\\LeeDaKyeong\\\\Anaconda3\\\\lib\\\\site-packages\\\\ipython_genutils\\\\__init__.py'>,\n",
       " 'ipython_genutils._version': <module 'ipython_genutils._version' from 'C:\\\\Users\\\\LeeDaKyeong\\\\Anaconda3\\\\lib\\\\site-packages\\\\ipython_genutils\\\\_version.py'>,\n",
       " 'ipython_genutils.encoding': <module 'ipython_genutils.encoding' from 'C:\\\\Users\\\\LeeDaKyeong\\\\Anaconda3\\\\lib\\\\site-packages\\\\ipython_genutils\\\\encoding.py'>,\n",
       " 'ipython_genutils.importstring': <module 'ipython_genutils.importstring' from 'C:\\\\Users\\\\LeeDaKyeong\\\\Anaconda3\\\\lib\\\\site-packages\\\\ipython_genutils\\\\importstring.py'>,\n",
       " 'ipython_genutils.path': <module 'ipython_genutils.path' from 'C:\\\\Users\\\\LeeDaKyeong\\\\Anaconda3\\\\lib\\\\site-packages\\\\ipython_genutils\\\\path.py'>,\n",
       " 'ipython_genutils.py3compat': <module 'ipython_genutils.py3compat' from 'C:\\\\Users\\\\LeeDaKyeong\\\\Anaconda3\\\\lib\\\\site-packages\\\\ipython_genutils\\\\py3compat.py'>,\n",
       " 'ipython_genutils.text': <module 'ipython_genutils.text' from 'C:\\\\Users\\\\LeeDaKyeong\\\\Anaconda3\\\\lib\\\\site-packages\\\\ipython_genutils\\\\text.py'>,\n",
       " 'ipywidgets': <module 'ipywidgets' from 'C:\\\\Users\\\\LeeDaKyeong\\\\Anaconda3\\\\lib\\\\site-packages\\\\ipywidgets\\\\__init__.py'>,\n",
       " 'ipywidgets._version': <module 'ipywidgets._version' from 'C:\\\\Users\\\\LeeDaKyeong\\\\Anaconda3\\\\lib\\\\site-packages\\\\ipywidgets\\\\_version.py'>,\n",
       " 'ipywidgets.widgets': <module 'ipywidgets.widgets' from 'C:\\\\Users\\\\LeeDaKyeong\\\\Anaconda3\\\\lib\\\\site-packages\\\\ipywidgets\\\\widgets\\\\__init__.py'>,\n",
       " 'ipywidgets.widgets.domwidget': <module 'ipywidgets.widgets.domwidget' from 'C:\\\\Users\\\\LeeDaKyeong\\\\Anaconda3\\\\lib\\\\site-packages\\\\ipywidgets\\\\widgets\\\\domwidget.py'>,\n",
       " 'ipywidgets.widgets.eventful': <module 'ipywidgets.widgets.eventful' from 'C:\\\\Users\\\\LeeDaKyeong\\\\Anaconda3\\\\lib\\\\site-packages\\\\ipywidgets\\\\widgets\\\\eventful.py'>,\n",
       " 'ipywidgets.widgets.interaction': <module 'ipywidgets.widgets.interaction' from 'C:\\\\Users\\\\LeeDaKyeong\\\\Anaconda3\\\\lib\\\\site-packages\\\\ipywidgets\\\\widgets\\\\interaction.py'>,\n",
       " 'ipywidgets.widgets.trait_types': <module 'ipywidgets.widgets.trait_types' from 'C:\\\\Users\\\\LeeDaKyeong\\\\Anaconda3\\\\lib\\\\site-packages\\\\ipywidgets\\\\widgets\\\\trait_types.py'>,\n",
       " 'ipywidgets.widgets.widget': <module 'ipywidgets.widgets.widget' from 'C:\\\\Users\\\\LeeDaKyeong\\\\Anaconda3\\\\lib\\\\site-packages\\\\ipywidgets\\\\widgets\\\\widget.py'>,\n",
       " 'ipywidgets.widgets.widget_bool': <module 'ipywidgets.widgets.widget_bool' from 'C:\\\\Users\\\\LeeDaKyeong\\\\Anaconda3\\\\lib\\\\site-packages\\\\ipywidgets\\\\widgets\\\\widget_bool.py'>,\n",
       " 'ipywidgets.widgets.widget_box': <module 'ipywidgets.widgets.widget_box' from 'C:\\\\Users\\\\LeeDaKyeong\\\\Anaconda3\\\\lib\\\\site-packages\\\\ipywidgets\\\\widgets\\\\widget_box.py'>,\n",
       " 'ipywidgets.widgets.widget_button': <module 'ipywidgets.widgets.widget_button' from 'C:\\\\Users\\\\LeeDaKyeong\\\\Anaconda3\\\\lib\\\\site-packages\\\\ipywidgets\\\\widgets\\\\widget_button.py'>,\n",
       " 'ipywidgets.widgets.widget_color': <module 'ipywidgets.widgets.widget_color' from 'C:\\\\Users\\\\LeeDaKyeong\\\\Anaconda3\\\\lib\\\\site-packages\\\\ipywidgets\\\\widgets\\\\widget_color.py'>,\n",
       " 'ipywidgets.widgets.widget_controller': <module 'ipywidgets.widgets.widget_controller' from 'C:\\\\Users\\\\LeeDaKyeong\\\\Anaconda3\\\\lib\\\\site-packages\\\\ipywidgets\\\\widgets\\\\widget_controller.py'>,\n",
       " 'ipywidgets.widgets.widget_float': <module 'ipywidgets.widgets.widget_float' from 'C:\\\\Users\\\\LeeDaKyeong\\\\Anaconda3\\\\lib\\\\site-packages\\\\ipywidgets\\\\widgets\\\\widget_float.py'>,\n",
       " 'ipywidgets.widgets.widget_image': <module 'ipywidgets.widgets.widget_image' from 'C:\\\\Users\\\\LeeDaKyeong\\\\Anaconda3\\\\lib\\\\site-packages\\\\ipywidgets\\\\widgets\\\\widget_image.py'>,\n",
       " 'ipywidgets.widgets.widget_int': <module 'ipywidgets.widgets.widget_int' from 'C:\\\\Users\\\\LeeDaKyeong\\\\Anaconda3\\\\lib\\\\site-packages\\\\ipywidgets\\\\widgets\\\\widget_int.py'>,\n",
       " 'ipywidgets.widgets.widget_layout': <module 'ipywidgets.widgets.widget_layout' from 'C:\\\\Users\\\\LeeDaKyeong\\\\Anaconda3\\\\lib\\\\site-packages\\\\ipywidgets\\\\widgets\\\\widget_layout.py'>,\n",
       " 'ipywidgets.widgets.widget_link': <module 'ipywidgets.widgets.widget_link' from 'C:\\\\Users\\\\LeeDaKyeong\\\\Anaconda3\\\\lib\\\\site-packages\\\\ipywidgets\\\\widgets\\\\widget_link.py'>,\n",
       " 'ipywidgets.widgets.widget_output': <module 'ipywidgets.widgets.widget_output' from 'C:\\\\Users\\\\LeeDaKyeong\\\\Anaconda3\\\\lib\\\\site-packages\\\\ipywidgets\\\\widgets\\\\widget_output.py'>,\n",
       " 'ipywidgets.widgets.widget_selection': <module 'ipywidgets.widgets.widget_selection' from 'C:\\\\Users\\\\LeeDaKyeong\\\\Anaconda3\\\\lib\\\\site-packages\\\\ipywidgets\\\\widgets\\\\widget_selection.py'>,\n",
       " 'ipywidgets.widgets.widget_selectioncontainer': <module 'ipywidgets.widgets.widget_selectioncontainer' from 'C:\\\\Users\\\\LeeDaKyeong\\\\Anaconda3\\\\lib\\\\site-packages\\\\ipywidgets\\\\widgets\\\\widget_selectioncontainer.py'>,\n",
       " 'ipywidgets.widgets.widget_string': <module 'ipywidgets.widgets.widget_string' from 'C:\\\\Users\\\\LeeDaKyeong\\\\Anaconda3\\\\lib\\\\site-packages\\\\ipywidgets\\\\widgets\\\\widget_string.py'>,\n",
       " 'itertools': <module 'itertools' (built-in)>,\n",
       " 'json': <module 'json' from 'C:\\\\Users\\\\LeeDaKyeong\\\\Anaconda3\\\\lib\\\\json\\\\__init__.py'>,\n",
       " 'json.decoder': <module 'json.decoder' from 'C:\\\\Users\\\\LeeDaKyeong\\\\Anaconda3\\\\lib\\\\json\\\\decoder.py'>,\n",
       " 'json.encoder': <module 'json.encoder' from 'C:\\\\Users\\\\LeeDaKyeong\\\\Anaconda3\\\\lib\\\\json\\\\encoder.py'>,\n",
       " 'json.scanner': <module 'json.scanner' from 'C:\\\\Users\\\\LeeDaKyeong\\\\Anaconda3\\\\lib\\\\json\\\\scanner.py'>,\n",
       " 'jupyter_client': <module 'jupyter_client' from 'C:\\\\Users\\\\LeeDaKyeong\\\\Anaconda3\\\\lib\\\\site-packages\\\\jupyter_client\\\\__init__.py'>,\n",
       " 'jupyter_client._version': <module 'jupyter_client._version' from 'C:\\\\Users\\\\LeeDaKyeong\\\\Anaconda3\\\\lib\\\\site-packages\\\\jupyter_client\\\\_version.py'>,\n",
       " 'jupyter_client.adapter': <module 'jupyter_client.adapter' from 'C:\\\\Users\\\\LeeDaKyeong\\\\Anaconda3\\\\lib\\\\site-packages\\\\jupyter_client\\\\adapter.py'>,\n",
       " 'jupyter_client.blocking': <module 'jupyter_client.blocking' from 'C:\\\\Users\\\\LeeDaKyeong\\\\Anaconda3\\\\lib\\\\site-packages\\\\jupyter_client\\\\blocking\\\\__init__.py'>,\n",
       " 'jupyter_client.blocking.channels': <module 'jupyter_client.blocking.channels' from 'C:\\\\Users\\\\LeeDaKyeong\\\\Anaconda3\\\\lib\\\\site-packages\\\\jupyter_client\\\\blocking\\\\channels.py'>,\n",
       " 'jupyter_client.blocking.client': <module 'jupyter_client.blocking.client' from 'C:\\\\Users\\\\LeeDaKyeong\\\\Anaconda3\\\\lib\\\\site-packages\\\\jupyter_client\\\\blocking\\\\client.py'>,\n",
       " 'jupyter_client.channels': <module 'jupyter_client.channels' from 'C:\\\\Users\\\\LeeDaKyeong\\\\Anaconda3\\\\lib\\\\site-packages\\\\jupyter_client\\\\channels.py'>,\n",
       " 'jupyter_client.channelsabc': <module 'jupyter_client.channelsabc' from 'C:\\\\Users\\\\LeeDaKyeong\\\\Anaconda3\\\\lib\\\\site-packages\\\\jupyter_client\\\\channelsabc.py'>,\n",
       " 'jupyter_client.client': <module 'jupyter_client.client' from 'C:\\\\Users\\\\LeeDaKyeong\\\\Anaconda3\\\\lib\\\\site-packages\\\\jupyter_client\\\\client.py'>,\n",
       " 'jupyter_client.clientabc': <module 'jupyter_client.clientabc' from 'C:\\\\Users\\\\LeeDaKyeong\\\\Anaconda3\\\\lib\\\\site-packages\\\\jupyter_client\\\\clientabc.py'>,\n",
       " 'jupyter_client.connect': <module 'jupyter_client.connect' from 'C:\\\\Users\\\\LeeDaKyeong\\\\Anaconda3\\\\lib\\\\site-packages\\\\jupyter_client\\\\connect.py'>,\n",
       " 'jupyter_client.jsonutil': <module 'jupyter_client.jsonutil' from 'C:\\\\Users\\\\LeeDaKyeong\\\\Anaconda3\\\\lib\\\\site-packages\\\\jupyter_client\\\\jsonutil.py'>,\n",
       " 'jupyter_client.kernelspec': <module 'jupyter_client.kernelspec' from 'C:\\\\Users\\\\LeeDaKyeong\\\\Anaconda3\\\\lib\\\\site-packages\\\\jupyter_client\\\\kernelspec.py'>,\n",
       " 'jupyter_client.launcher': <module 'jupyter_client.launcher' from 'C:\\\\Users\\\\LeeDaKyeong\\\\Anaconda3\\\\lib\\\\site-packages\\\\jupyter_client\\\\launcher.py'>,\n",
       " 'jupyter_client.localinterfaces': <module 'jupyter_client.localinterfaces' from 'C:\\\\Users\\\\LeeDaKyeong\\\\Anaconda3\\\\lib\\\\site-packages\\\\jupyter_client\\\\localinterfaces.py'>,\n",
       " 'jupyter_client.manager': <module 'jupyter_client.manager' from 'C:\\\\Users\\\\LeeDaKyeong\\\\Anaconda3\\\\lib\\\\site-packages\\\\jupyter_client\\\\manager.py'>,\n",
       " 'jupyter_client.managerabc': <module 'jupyter_client.managerabc' from 'C:\\\\Users\\\\LeeDaKyeong\\\\Anaconda3\\\\lib\\\\site-packages\\\\jupyter_client\\\\managerabc.py'>,\n",
       " 'jupyter_client.multikernelmanager': <module 'jupyter_client.multikernelmanager' from 'C:\\\\Users\\\\LeeDaKyeong\\\\Anaconda3\\\\lib\\\\site-packages\\\\jupyter_client\\\\multikernelmanager.py'>,\n",
       " 'jupyter_client.session': <module 'jupyter_client.session' from 'C:\\\\Users\\\\LeeDaKyeong\\\\Anaconda3\\\\lib\\\\site-packages\\\\jupyter_client\\\\session.py'>,\n",
       " 'jupyter_core': <module 'jupyter_core' from 'C:\\\\Users\\\\LeeDaKyeong\\\\Anaconda3\\\\lib\\\\site-packages\\\\jupyter_core\\\\__init__.py'>,\n",
       " 'jupyter_core.paths': <module 'jupyter_core.paths' from 'C:\\\\Users\\\\LeeDaKyeong\\\\Anaconda3\\\\lib\\\\site-packages\\\\jupyter_core\\\\paths.py'>,\n",
       " 'jupyter_core.version': <module 'jupyter_core.version' from 'C:\\\\Users\\\\LeeDaKyeong\\\\Anaconda3\\\\lib\\\\site-packages\\\\jupyter_core\\\\version.py'>,\n",
       " 'keyword': <module 'keyword' from 'C:\\\\Users\\\\LeeDaKyeong\\\\Anaconda3\\\\lib\\\\keyword.py'>,\n",
       " 'linecache': <module 'linecache' from 'C:\\\\Users\\\\LeeDaKyeong\\\\Anaconda3\\\\lib\\\\linecache.py'>,\n",
       " 'locale': <module 'locale' from 'C:\\\\Users\\\\LeeDaKyeong\\\\Anaconda3\\\\lib\\\\locale.py'>,\n",
       " 'logging': <module 'logging' from 'C:\\\\Users\\\\LeeDaKyeong\\\\Anaconda3\\\\lib\\\\logging\\\\__init__.py'>,\n",
       " 'logging.handlers': <module 'logging.handlers' from 'C:\\\\Users\\\\LeeDaKyeong\\\\Anaconda3\\\\lib\\\\logging\\\\handlers.py'>,\n",
       " 'lzma': <module 'lzma' from 'C:\\\\Users\\\\LeeDaKyeong\\\\Anaconda3\\\\lib\\\\lzma.py'>,\n",
       " 'marshal': <module 'marshal' (built-in)>,\n",
       " 'math': <module 'math' (built-in)>,\n",
       " 'mimetypes': <module 'mimetypes' from 'C:\\\\Users\\\\LeeDaKyeong\\\\Anaconda3\\\\lib\\\\mimetypes.py'>,\n",
       " 'msvcrt': <module 'msvcrt' (built-in)>,\n",
       " 'multiprocessing': <module 'multiprocessing' from 'C:\\\\Users\\\\LeeDaKyeong\\\\Anaconda3\\\\lib\\\\multiprocessing\\\\__init__.py'>,\n",
       " 'multiprocessing.connection': <module 'multiprocessing.connection' from 'C:\\\\Users\\\\LeeDaKyeong\\\\Anaconda3\\\\lib\\\\multiprocessing\\\\connection.py'>,\n",
       " 'multiprocessing.context': <module 'multiprocessing.context' from 'C:\\\\Users\\\\LeeDaKyeong\\\\Anaconda3\\\\lib\\\\multiprocessing\\\\context.py'>,\n",
       " 'multiprocessing.process': <module 'multiprocessing.process' from 'C:\\\\Users\\\\LeeDaKyeong\\\\Anaconda3\\\\lib\\\\multiprocessing\\\\process.py'>,\n",
       " 'multiprocessing.reduction': <module 'multiprocessing.reduction' from 'C:\\\\Users\\\\LeeDaKyeong\\\\Anaconda3\\\\lib\\\\multiprocessing\\\\reduction.py'>,\n",
       " 'multiprocessing.util': <module 'multiprocessing.util' from 'C:\\\\Users\\\\LeeDaKyeong\\\\Anaconda3\\\\lib\\\\multiprocessing\\\\util.py'>,\n",
       " 'nt': <module 'nt' (built-in)>,\n",
       " 'ntpath': <module 'ntpath' from 'C:\\\\Users\\\\LeeDaKyeong\\\\Anaconda3\\\\lib\\\\ntpath.py'>,\n",
       " 'numbers': <module 'numbers' from 'C:\\\\Users\\\\LeeDaKyeong\\\\Anaconda3\\\\lib\\\\numbers.py'>,\n",
       " 'opcode': <module 'opcode' from 'C:\\\\Users\\\\LeeDaKyeong\\\\Anaconda3\\\\lib\\\\opcode.py'>,\n",
       " 'operator': <module 'operator' from 'C:\\\\Users\\\\LeeDaKyeong\\\\Anaconda3\\\\lib\\\\operator.py'>,\n",
       " 'optparse': <module 'optparse' from 'C:\\\\Users\\\\LeeDaKyeong\\\\Anaconda3\\\\lib\\\\optparse.py'>,\n",
       " 'os': <module 'os' from 'C:\\\\Users\\\\LeeDaKyeong\\\\Anaconda3\\\\lib\\\\os.py'>,\n",
       " 'os.path': <module 'ntpath' from 'C:\\\\Users\\\\LeeDaKyeong\\\\Anaconda3\\\\lib\\\\ntpath.py'>,\n",
       " 'pathlib': <module 'pathlib' from 'C:\\\\Users\\\\LeeDaKyeong\\\\Anaconda3\\\\lib\\\\pathlib.py'>,\n",
       " 'pdb': <module 'pdb' from 'C:\\\\Users\\\\LeeDaKyeong\\\\Anaconda3\\\\lib\\\\pdb.py'>,\n",
       " 'pickle': <module 'pickle' from 'C:\\\\Users\\\\LeeDaKyeong\\\\Anaconda3\\\\lib\\\\pickle.py'>,\n",
       " 'pickleshare': <module 'pickleshare' from 'C:\\\\Users\\\\LeeDaKyeong\\\\Anaconda3\\\\lib\\\\site-packages\\\\pickleshare.py'>,\n",
       " 'pkg_resources': <module 'pkg_resources' from 'C:\\\\Users\\\\LeeDaKyeong\\\\Anaconda3\\\\lib\\\\site-packages\\\\setuptools-27.2.0-py3.6.egg\\\\pkg_resources\\\\__init__.py'>,\n",
       " 'pkg_resources._vendor': <module 'pkg_resources._vendor' from 'C:\\\\Users\\\\LeeDaKyeong\\\\Anaconda3\\\\lib\\\\site-packages\\\\setuptools-27.2.0-py3.6.egg\\\\pkg_resources\\\\_vendor\\\\__init__.py'>,\n",
       " 'pkg_resources._vendor.packaging.__about__': <module 'pkg_resources._vendor.packaging.__about__' from 'C:\\\\Users\\\\LeeDaKyeong\\\\Anaconda3\\\\lib\\\\site-packages\\\\setuptools-27.2.0-py3.6.egg\\\\pkg_resources\\\\_vendor\\\\packaging\\\\__about__.py'>,\n",
       " 'pkg_resources._vendor.six': <module 'pkg_resources._vendor.six' from 'C:\\\\Users\\\\LeeDaKyeong\\\\Anaconda3\\\\lib\\\\site-packages\\\\setuptools-27.2.0-py3.6.egg\\\\pkg_resources\\\\_vendor\\\\six.py'>,\n",
       " 'pkg_resources._vendor.six.moves': <module 'pkg_resources._vendor.six.moves' (<pkg_resources._vendor.six._SixMetaPathImporter object at 0x00000287839BA6D8>)>,\n",
       " 'pkg_resources.extern': <module 'pkg_resources.extern' from 'C:\\\\Users\\\\LeeDaKyeong\\\\Anaconda3\\\\lib\\\\site-packages\\\\setuptools-27.2.0-py3.6.egg\\\\pkg_resources\\\\extern\\\\__init__.py'>,\n",
       " 'pkg_resources.extern.appdirs': <module 'pkg_resources._vendor.appdirs' from 'C:\\\\Users\\\\LeeDaKyeong\\\\Anaconda3\\\\lib\\\\site-packages\\\\setuptools-27.2.0-py3.6.egg\\\\pkg_resources\\\\_vendor\\\\appdirs.py'>,\n",
       " 'pkg_resources.extern.packaging': <module 'pkg_resources._vendor.packaging' from 'C:\\\\Users\\\\LeeDaKyeong\\\\Anaconda3\\\\lib\\\\site-packages\\\\setuptools-27.2.0-py3.6.egg\\\\pkg_resources\\\\_vendor\\\\packaging\\\\__init__.py'>,\n",
       " 'pkg_resources.extern.packaging._compat': <module 'pkg_resources.extern.packaging._compat' from 'C:\\\\Users\\\\LeeDaKyeong\\\\Anaconda3\\\\lib\\\\site-packages\\\\setuptools-27.2.0-py3.6.egg\\\\pkg_resources\\\\_vendor\\\\packaging\\\\_compat.py'>,\n",
       " 'pkg_resources.extern.packaging._structures': <module 'pkg_resources.extern.packaging._structures' from 'C:\\\\Users\\\\LeeDaKyeong\\\\Anaconda3\\\\lib\\\\site-packages\\\\setuptools-27.2.0-py3.6.egg\\\\pkg_resources\\\\_vendor\\\\packaging\\\\_structures.py'>,\n",
       " 'pkg_resources.extern.packaging.markers': <module 'pkg_resources.extern.packaging.markers' from 'C:\\\\Users\\\\LeeDaKyeong\\\\Anaconda3\\\\lib\\\\site-packages\\\\setuptools-27.2.0-py3.6.egg\\\\pkg_resources\\\\_vendor\\\\packaging\\\\markers.py'>,\n",
       " 'pkg_resources.extern.packaging.requirements': <module 'pkg_resources.extern.packaging.requirements' from 'C:\\\\Users\\\\LeeDaKyeong\\\\Anaconda3\\\\lib\\\\site-packages\\\\setuptools-27.2.0-py3.6.egg\\\\pkg_resources\\\\_vendor\\\\packaging\\\\requirements.py'>,\n",
       " 'pkg_resources.extern.packaging.specifiers': <module 'pkg_resources.extern.packaging.specifiers' from 'C:\\\\Users\\\\LeeDaKyeong\\\\Anaconda3\\\\lib\\\\site-packages\\\\setuptools-27.2.0-py3.6.egg\\\\pkg_resources\\\\_vendor\\\\packaging\\\\specifiers.py'>,\n",
       " 'pkg_resources.extern.packaging.version': <module 'pkg_resources.extern.packaging.version' from 'C:\\\\Users\\\\LeeDaKyeong\\\\Anaconda3\\\\lib\\\\site-packages\\\\setuptools-27.2.0-py3.6.egg\\\\pkg_resources\\\\_vendor\\\\packaging\\\\version.py'>,\n",
       " 'pkg_resources.extern.pyparsing': <module 'pkg_resources._vendor.pyparsing' from 'C:\\\\Users\\\\LeeDaKyeong\\\\Anaconda3\\\\lib\\\\site-packages\\\\setuptools-27.2.0-py3.6.egg\\\\pkg_resources\\\\_vendor\\\\pyparsing.py'>,\n",
       " 'pkg_resources.extern.six': <module 'pkg_resources._vendor.six' from 'C:\\\\Users\\\\LeeDaKyeong\\\\Anaconda3\\\\lib\\\\site-packages\\\\setuptools-27.2.0-py3.6.egg\\\\pkg_resources\\\\_vendor\\\\six.py'>,\n",
       " 'pkg_resources.extern.six.moves': <module 'pkg_resources._vendor.six.moves' (<pkg_resources._vendor.six._SixMetaPathImporter object at 0x00000287839BA6D8>)>,\n",
       " 'pkg_resources.extern.six.moves.urllib': <module 'pkg_resources._vendor.six.moves.urllib' (<pkg_resources._vendor.six._SixMetaPathImporter object at 0x00000287839BA6D8>)>,\n",
       " 'pkgutil': <module 'pkgutil' from 'C:\\\\Users\\\\LeeDaKyeong\\\\Anaconda3\\\\lib\\\\pkgutil.py'>,\n",
       " 'platform': <module 'platform' from 'C:\\\\Users\\\\LeeDaKyeong\\\\Anaconda3\\\\lib\\\\platform.py'>,\n",
       " 'plistlib': <module 'plistlib' from 'C:\\\\Users\\\\LeeDaKyeong\\\\Anaconda3\\\\lib\\\\plistlib.py'>,\n",
       " 'posixpath': <module 'posixpath' from 'C:\\\\Users\\\\LeeDaKyeong\\\\Anaconda3\\\\lib\\\\posixpath.py'>,\n",
       " 'pprint': <module 'pprint' from 'C:\\\\Users\\\\LeeDaKyeong\\\\Anaconda3\\\\lib\\\\pprint.py'>,\n",
       " 'profile': <module 'profile' from 'C:\\\\Users\\\\LeeDaKyeong\\\\Anaconda3\\\\lib\\\\profile.py'>,\n",
       " 'prompt_toolkit': <module 'prompt_toolkit' from 'C:\\\\Users\\\\LeeDaKyeong\\\\Anaconda3\\\\lib\\\\site-packages\\\\prompt_toolkit\\\\__init__.py'>,\n",
       " 'prompt_toolkit.application': <module 'prompt_toolkit.application' from 'C:\\\\Users\\\\LeeDaKyeong\\\\Anaconda3\\\\lib\\\\site-packages\\\\prompt_toolkit\\\\application.py'>,\n",
       " 'prompt_toolkit.auto_suggest': <module 'prompt_toolkit.auto_suggest' from 'C:\\\\Users\\\\LeeDaKyeong\\\\Anaconda3\\\\lib\\\\site-packages\\\\prompt_toolkit\\\\auto_suggest.py'>,\n",
       " 'prompt_toolkit.buffer': <module 'prompt_toolkit.buffer' from 'C:\\\\Users\\\\LeeDaKyeong\\\\Anaconda3\\\\lib\\\\site-packages\\\\prompt_toolkit\\\\buffer.py'>,\n",
       " 'prompt_toolkit.buffer_mapping': <module 'prompt_toolkit.buffer_mapping' from 'C:\\\\Users\\\\LeeDaKyeong\\\\Anaconda3\\\\lib\\\\site-packages\\\\prompt_toolkit\\\\buffer_mapping.py'>,\n",
       " 'prompt_toolkit.cache': <module 'prompt_toolkit.cache' from 'C:\\\\Users\\\\LeeDaKyeong\\\\Anaconda3\\\\lib\\\\site-packages\\\\prompt_toolkit\\\\cache.py'>,\n",
       " 'prompt_toolkit.clipboard': <module 'prompt_toolkit.clipboard' from 'C:\\\\Users\\\\LeeDaKyeong\\\\Anaconda3\\\\lib\\\\site-packages\\\\prompt_toolkit\\\\clipboard\\\\__init__.py'>,\n",
       " 'prompt_toolkit.clipboard.base': <module 'prompt_toolkit.clipboard.base' from 'C:\\\\Users\\\\LeeDaKyeong\\\\Anaconda3\\\\lib\\\\site-packages\\\\prompt_toolkit\\\\clipboard\\\\base.py'>,\n",
       " 'prompt_toolkit.clipboard.in_memory': <module 'prompt_toolkit.clipboard.in_memory' from 'C:\\\\Users\\\\LeeDaKyeong\\\\Anaconda3\\\\lib\\\\site-packages\\\\prompt_toolkit\\\\clipboard\\\\in_memory.py'>,\n",
       " 'prompt_toolkit.completion': <module 'prompt_toolkit.completion' from 'C:\\\\Users\\\\LeeDaKyeong\\\\Anaconda3\\\\lib\\\\site-packages\\\\prompt_toolkit\\\\completion.py'>,\n",
       " 'prompt_toolkit.document': <module 'prompt_toolkit.document' from 'C:\\\\Users\\\\LeeDaKyeong\\\\Anaconda3\\\\lib\\\\site-packages\\\\prompt_toolkit\\\\document.py'>,\n",
       " 'prompt_toolkit.enums': <module 'prompt_toolkit.enums' from 'C:\\\\Users\\\\LeeDaKyeong\\\\Anaconda3\\\\lib\\\\site-packages\\\\prompt_toolkit\\\\enums.py'>,\n",
       " 'prompt_toolkit.eventloop': <module 'prompt_toolkit.eventloop' from 'C:\\\\Users\\\\LeeDaKyeong\\\\Anaconda3\\\\lib\\\\site-packages\\\\prompt_toolkit\\\\eventloop\\\\__init__.py'>,\n",
       " 'prompt_toolkit.eventloop.base': <module 'prompt_toolkit.eventloop.base' from 'C:\\\\Users\\\\LeeDaKyeong\\\\Anaconda3\\\\lib\\\\site-packages\\\\prompt_toolkit\\\\eventloop\\\\base.py'>,\n",
       " 'prompt_toolkit.eventloop.callbacks': <module 'prompt_toolkit.eventloop.callbacks' from 'C:\\\\Users\\\\LeeDaKyeong\\\\Anaconda3\\\\lib\\\\site-packages\\\\prompt_toolkit\\\\eventloop\\\\callbacks.py'>,\n",
       " 'prompt_toolkit.filters': <module 'prompt_toolkit.filters' from 'C:\\\\Users\\\\LeeDaKyeong\\\\Anaconda3\\\\lib\\\\site-packages\\\\prompt_toolkit\\\\filters\\\\__init__.py'>,\n",
       " 'prompt_toolkit.filters.base': <module 'prompt_toolkit.filters.base' from 'C:\\\\Users\\\\LeeDaKyeong\\\\Anaconda3\\\\lib\\\\site-packages\\\\prompt_toolkit\\\\filters\\\\base.py'>,\n",
       " 'prompt_toolkit.filters.cli': <module 'prompt_toolkit.filters.cli' from 'C:\\\\Users\\\\LeeDaKyeong\\\\Anaconda3\\\\lib\\\\site-packages\\\\prompt_toolkit\\\\filters\\\\cli.py'>,\n",
       " 'prompt_toolkit.filters.types': <module 'prompt_toolkit.filters.types' from 'C:\\\\Users\\\\LeeDaKyeong\\\\Anaconda3\\\\lib\\\\site-packages\\\\prompt_toolkit\\\\filters\\\\types.py'>,\n",
       " 'prompt_toolkit.filters.utils': <module 'prompt_toolkit.filters.utils' from 'C:\\\\Users\\\\LeeDaKyeong\\\\Anaconda3\\\\lib\\\\site-packages\\\\prompt_toolkit\\\\filters\\\\utils.py'>,\n",
       " 'prompt_toolkit.history': <module 'prompt_toolkit.history' from 'C:\\\\Users\\\\LeeDaKyeong\\\\Anaconda3\\\\lib\\\\site-packages\\\\prompt_toolkit\\\\history.py'>,\n",
       " 'prompt_toolkit.input': <module 'prompt_toolkit.input' from 'C:\\\\Users\\\\LeeDaKyeong\\\\Anaconda3\\\\lib\\\\site-packages\\\\prompt_toolkit\\\\input.py'>,\n",
       " 'prompt_toolkit.interface': <module 'prompt_toolkit.interface' from 'C:\\\\Users\\\\LeeDaKyeong\\\\Anaconda3\\\\lib\\\\site-packages\\\\prompt_toolkit\\\\interface.py'>,\n",
       " 'prompt_toolkit.key_binding': <module 'prompt_toolkit.key_binding' from 'C:\\\\Users\\\\LeeDaKyeong\\\\Anaconda3\\\\lib\\\\site-packages\\\\prompt_toolkit\\\\key_binding\\\\__init__.py'>,\n",
       " 'prompt_toolkit.key_binding.bindings': <module 'prompt_toolkit.key_binding.bindings' from 'C:\\\\Users\\\\LeeDaKyeong\\\\Anaconda3\\\\lib\\\\site-packages\\\\prompt_toolkit\\\\key_binding\\\\bindings\\\\__init__.py'>,\n",
       " 'prompt_toolkit.key_binding.bindings.basic': <module 'prompt_toolkit.key_binding.bindings.basic' from 'C:\\\\Users\\\\LeeDaKyeong\\\\Anaconda3\\\\lib\\\\site-packages\\\\prompt_toolkit\\\\key_binding\\\\bindings\\\\basic.py'>,\n",
       " 'prompt_toolkit.key_binding.bindings.completion': <module 'prompt_toolkit.key_binding.bindings.completion' from 'C:\\\\Users\\\\LeeDaKyeong\\\\Anaconda3\\\\lib\\\\site-packages\\\\prompt_toolkit\\\\key_binding\\\\bindings\\\\completion.py'>,\n",
       " 'prompt_toolkit.key_binding.bindings.emacs': <module 'prompt_toolkit.key_binding.bindings.emacs' from 'C:\\\\Users\\\\LeeDaKyeong\\\\Anaconda3\\\\lib\\\\site-packages\\\\prompt_toolkit\\\\key_binding\\\\bindings\\\\emacs.py'>,\n",
       " 'prompt_toolkit.key_binding.bindings.named_commands': <module 'prompt_toolkit.key_binding.bindings.named_commands' from 'C:\\\\Users\\\\LeeDaKyeong\\\\Anaconda3\\\\lib\\\\site-packages\\\\prompt_toolkit\\\\key_binding\\\\bindings\\\\named_commands.py'>,\n",
       " 'prompt_toolkit.key_binding.bindings.scroll': <module 'prompt_toolkit.key_binding.bindings.scroll' from 'C:\\\\Users\\\\LeeDaKyeong\\\\Anaconda3\\\\lib\\\\site-packages\\\\prompt_toolkit\\\\key_binding\\\\bindings\\\\scroll.py'>,\n",
       " 'prompt_toolkit.key_binding.bindings.utils': <module 'prompt_toolkit.key_binding.bindings.utils' from 'C:\\\\Users\\\\LeeDaKyeong\\\\Anaconda3\\\\lib\\\\site-packages\\\\prompt_toolkit\\\\key_binding\\\\bindings\\\\utils.py'>,\n",
       " 'prompt_toolkit.key_binding.bindings.vi': <module 'prompt_toolkit.key_binding.bindings.vi' from 'C:\\\\Users\\\\LeeDaKyeong\\\\Anaconda3\\\\lib\\\\site-packages\\\\prompt_toolkit\\\\key_binding\\\\bindings\\\\vi.py'>,\n",
       " 'prompt_toolkit.key_binding.digraphs': <module 'prompt_toolkit.key_binding.digraphs' from 'C:\\\\Users\\\\LeeDaKyeong\\\\Anaconda3\\\\lib\\\\site-packages\\\\prompt_toolkit\\\\key_binding\\\\digraphs.py'>,\n",
       " 'prompt_toolkit.key_binding.input_processor': <module 'prompt_toolkit.key_binding.input_processor' from 'C:\\\\Users\\\\LeeDaKyeong\\\\Anaconda3\\\\lib\\\\site-packages\\\\prompt_toolkit\\\\key_binding\\\\input_processor.py'>,\n",
       " 'prompt_toolkit.key_binding.manager': <module 'prompt_toolkit.key_binding.manager' from 'C:\\\\Users\\\\LeeDaKyeong\\\\Anaconda3\\\\lib\\\\site-packages\\\\prompt_toolkit\\\\key_binding\\\\manager.py'>,\n",
       " 'prompt_toolkit.key_binding.registry': <module 'prompt_toolkit.key_binding.registry' from 'C:\\\\Users\\\\LeeDaKyeong\\\\Anaconda3\\\\lib\\\\site-packages\\\\prompt_toolkit\\\\key_binding\\\\registry.py'>,\n",
       " 'prompt_toolkit.key_binding.vi_state': <module 'prompt_toolkit.key_binding.vi_state' from 'C:\\\\Users\\\\LeeDaKyeong\\\\Anaconda3\\\\lib\\\\site-packages\\\\prompt_toolkit\\\\key_binding\\\\vi_state.py'>,\n",
       " 'prompt_toolkit.keys': <module 'prompt_toolkit.keys' from 'C:\\\\Users\\\\LeeDaKyeong\\\\Anaconda3\\\\lib\\\\site-packages\\\\prompt_toolkit\\\\keys.py'>,\n",
       " 'prompt_toolkit.layout': <module 'prompt_toolkit.layout' from 'C:\\\\Users\\\\LeeDaKyeong\\\\Anaconda3\\\\lib\\\\site-packages\\\\prompt_toolkit\\\\layout\\\\__init__.py'>,\n",
       " 'prompt_toolkit.layout.containers': <module 'prompt_toolkit.layout.containers' from 'C:\\\\Users\\\\LeeDaKyeong\\\\Anaconda3\\\\lib\\\\site-packages\\\\prompt_toolkit\\\\layout\\\\containers.py'>,\n",
       " 'prompt_toolkit.layout.controls': <module 'prompt_toolkit.layout.controls' from 'C:\\\\Users\\\\LeeDaKyeong\\\\Anaconda3\\\\lib\\\\site-packages\\\\prompt_toolkit\\\\layout\\\\controls.py'>,\n",
       " 'prompt_toolkit.layout.dimension': <module 'prompt_toolkit.layout.dimension' from 'C:\\\\Users\\\\LeeDaKyeong\\\\Anaconda3\\\\lib\\\\site-packages\\\\prompt_toolkit\\\\layout\\\\dimension.py'>,\n",
       " 'prompt_toolkit.layout.lexers': <module 'prompt_toolkit.layout.lexers' from 'C:\\\\Users\\\\LeeDaKyeong\\\\Anaconda3\\\\lib\\\\site-packages\\\\prompt_toolkit\\\\layout\\\\lexers.py'>,\n",
       " 'prompt_toolkit.layout.margins': <module 'prompt_toolkit.layout.margins' from 'C:\\\\Users\\\\LeeDaKyeong\\\\Anaconda3\\\\lib\\\\site-packages\\\\prompt_toolkit\\\\layout\\\\margins.py'>,\n",
       " 'prompt_toolkit.layout.menus': <module 'prompt_toolkit.layout.menus' from 'C:\\\\Users\\\\LeeDaKyeong\\\\Anaconda3\\\\lib\\\\site-packages\\\\prompt_toolkit\\\\layout\\\\menus.py'>,\n",
       " 'prompt_toolkit.layout.mouse_handlers': <module 'prompt_toolkit.layout.mouse_handlers' from 'C:\\\\Users\\\\LeeDaKyeong\\\\Anaconda3\\\\lib\\\\site-packages\\\\prompt_toolkit\\\\layout\\\\mouse_handlers.py'>,\n",
       " 'prompt_toolkit.layout.processors': <module 'prompt_toolkit.layout.processors' from 'C:\\\\Users\\\\LeeDaKyeong\\\\Anaconda3\\\\lib\\\\site-packages\\\\prompt_toolkit\\\\layout\\\\processors.py'>,\n",
       " 'prompt_toolkit.layout.prompt': <module 'prompt_toolkit.layout.prompt' from 'C:\\\\Users\\\\LeeDaKyeong\\\\Anaconda3\\\\lib\\\\site-packages\\\\prompt_toolkit\\\\layout\\\\prompt.py'>,\n",
       " 'prompt_toolkit.layout.screen': <module 'prompt_toolkit.layout.screen' from 'C:\\\\Users\\\\LeeDaKyeong\\\\Anaconda3\\\\lib\\\\site-packages\\\\prompt_toolkit\\\\layout\\\\screen.py'>,\n",
       " 'prompt_toolkit.layout.toolbars': <module 'prompt_toolkit.layout.toolbars' from 'C:\\\\Users\\\\LeeDaKyeong\\\\Anaconda3\\\\lib\\\\site-packages\\\\prompt_toolkit\\\\layout\\\\toolbars.py'>,\n",
       " 'prompt_toolkit.layout.utils': <module 'prompt_toolkit.layout.utils' from 'C:\\\\Users\\\\LeeDaKyeong\\\\Anaconda3\\\\lib\\\\site-packages\\\\prompt_toolkit\\\\layout\\\\utils.py'>,\n",
       " 'prompt_toolkit.mouse_events': <module 'prompt_toolkit.mouse_events' from 'C:\\\\Users\\\\LeeDaKyeong\\\\Anaconda3\\\\lib\\\\site-packages\\\\prompt_toolkit\\\\mouse_events.py'>,\n",
       " 'prompt_toolkit.output': <module 'prompt_toolkit.output' from 'C:\\\\Users\\\\LeeDaKyeong\\\\Anaconda3\\\\lib\\\\site-packages\\\\prompt_toolkit\\\\output.py'>,\n",
       " 'prompt_toolkit.reactive': <module 'prompt_toolkit.reactive' from 'C:\\\\Users\\\\LeeDaKyeong\\\\Anaconda3\\\\lib\\\\site-packages\\\\prompt_toolkit\\\\reactive.py'>,\n",
       " 'prompt_toolkit.renderer': <module 'prompt_toolkit.renderer' from 'C:\\\\Users\\\\LeeDaKyeong\\\\Anaconda3\\\\lib\\\\site-packages\\\\prompt_toolkit\\\\renderer.py'>,\n",
       " 'prompt_toolkit.search_state': <module 'prompt_toolkit.search_state' from 'C:\\\\Users\\\\LeeDaKyeong\\\\Anaconda3\\\\lib\\\\site-packages\\\\prompt_toolkit\\\\search_state.py'>,\n",
       " 'prompt_toolkit.selection': <module 'prompt_toolkit.selection' from 'C:\\\\Users\\\\LeeDaKyeong\\\\Anaconda3\\\\lib\\\\site-packages\\\\prompt_toolkit\\\\selection.py'>,\n",
       " 'prompt_toolkit.shortcuts': <module 'prompt_toolkit.shortcuts' from 'C:\\\\Users\\\\LeeDaKyeong\\\\Anaconda3\\\\lib\\\\site-packages\\\\prompt_toolkit\\\\shortcuts.py'>,\n",
       " 'prompt_toolkit.styles': <module 'prompt_toolkit.styles' from 'C:\\\\Users\\\\LeeDaKyeong\\\\Anaconda3\\\\lib\\\\site-packages\\\\prompt_toolkit\\\\styles\\\\__init__.py'>,\n",
       " 'prompt_toolkit.styles.base': <module 'prompt_toolkit.styles.base' from 'C:\\\\Users\\\\LeeDaKyeong\\\\Anaconda3\\\\lib\\\\site-packages\\\\prompt_toolkit\\\\styles\\\\base.py'>,\n",
       " 'prompt_toolkit.styles.defaults': <module 'prompt_toolkit.styles.defaults' from 'C:\\\\Users\\\\LeeDaKyeong\\\\Anaconda3\\\\lib\\\\site-packages\\\\prompt_toolkit\\\\styles\\\\defaults.py'>,\n",
       " 'prompt_toolkit.styles.from_dict': <module 'prompt_toolkit.styles.from_dict' from 'C:\\\\Users\\\\LeeDaKyeong\\\\Anaconda3\\\\lib\\\\site-packages\\\\prompt_toolkit\\\\styles\\\\from_dict.py'>,\n",
       " 'prompt_toolkit.styles.from_pygments': <module 'prompt_toolkit.styles.from_pygments' from 'C:\\\\Users\\\\LeeDaKyeong\\\\Anaconda3\\\\lib\\\\site-packages\\\\prompt_toolkit\\\\styles\\\\from_pygments.py'>,\n",
       " 'prompt_toolkit.styles.utils': <module 'prompt_toolkit.styles.utils' from 'C:\\\\Users\\\\LeeDaKyeong\\\\Anaconda3\\\\lib\\\\site-packages\\\\prompt_toolkit\\\\styles\\\\utils.py'>,\n",
       " 'prompt_toolkit.terminal': <module 'prompt_toolkit.terminal' from 'C:\\\\Users\\\\LeeDaKyeong\\\\Anaconda3\\\\lib\\\\site-packages\\\\prompt_toolkit\\\\terminal\\\\__init__.py'>,\n",
       " 'prompt_toolkit.terminal.conemu_output': <module 'prompt_toolkit.terminal.conemu_output' from 'C:\\\\Users\\\\LeeDaKyeong\\\\Anaconda3\\\\lib\\\\site-packages\\\\prompt_toolkit\\\\terminal\\\\conemu_output.py'>,\n",
       " 'prompt_toolkit.terminal.vt100_output': <module 'prompt_toolkit.terminal.vt100_output' from 'C:\\\\Users\\\\LeeDaKyeong\\\\Anaconda3\\\\lib\\\\site-packages\\\\prompt_toolkit\\\\terminal\\\\vt100_output.py'>,\n",
       " 'prompt_toolkit.terminal.win32_input': <module 'prompt_toolkit.terminal.win32_input' from 'C:\\\\Users\\\\LeeDaKyeong\\\\Anaconda3\\\\lib\\\\site-packages\\\\prompt_toolkit\\\\terminal\\\\win32_input.py'>,\n",
       " 'prompt_toolkit.terminal.win32_output': <module 'prompt_toolkit.terminal.win32_output' from 'C:\\\\Users\\\\LeeDaKyeong\\\\Anaconda3\\\\lib\\\\site-packages\\\\prompt_toolkit\\\\terminal\\\\win32_output.py'>,\n",
       " 'prompt_toolkit.token': <module 'prompt_toolkit.token' from 'C:\\\\Users\\\\LeeDaKyeong\\\\Anaconda3\\\\lib\\\\site-packages\\\\prompt_toolkit\\\\token.py'>,\n",
       " 'prompt_toolkit.utils': <module 'prompt_toolkit.utils' from 'C:\\\\Users\\\\LeeDaKyeong\\\\Anaconda3\\\\lib\\\\site-packages\\\\prompt_toolkit\\\\utils.py'>,\n",
       " 'prompt_toolkit.validation': <module 'prompt_toolkit.validation' from 'C:\\\\Users\\\\LeeDaKyeong\\\\Anaconda3\\\\lib\\\\site-packages\\\\prompt_toolkit\\\\validation.py'>,\n",
       " 'prompt_toolkit.win32_types': <module 'prompt_toolkit.win32_types' from 'C:\\\\Users\\\\LeeDaKyeong\\\\Anaconda3\\\\lib\\\\site-packages\\\\prompt_toolkit\\\\win32_types.py'>,\n",
       " 'pstats': <module 'pstats' from 'C:\\\\Users\\\\LeeDaKyeong\\\\Anaconda3\\\\lib\\\\pstats.py'>,\n",
       " 'pydoc': <module 'pydoc' from 'C:\\\\Users\\\\LeeDaKyeong\\\\Anaconda3\\\\lib\\\\pydoc.py'>,\n",
       " 'pyexpat': <module 'pyexpat' from 'C:\\\\Users\\\\LeeDaKyeong\\\\Anaconda3\\\\DLLs\\\\pyexpat.pyd'>,\n",
       " 'pyexpat.errors': <module 'pyexpat.errors'>,\n",
       " 'pyexpat.model': <module 'pyexpat.model'>,\n",
       " 'pygments': <module 'pygments' from 'C:\\\\Users\\\\LeeDaKyeong\\\\Anaconda3\\\\lib\\\\site-packages\\\\pygments\\\\__init__.py'>,\n",
       " 'pygments.filter': <module 'pygments.filter' from 'C:\\\\Users\\\\LeeDaKyeong\\\\Anaconda3\\\\lib\\\\site-packages\\\\pygments\\\\filter.py'>,\n",
       " 'pygments.filters': <module 'pygments.filters' from 'C:\\\\Users\\\\LeeDaKyeong\\\\Anaconda3\\\\lib\\\\site-packages\\\\pygments\\\\filters\\\\__init__.py'>,\n",
       " 'pygments.formatter': <module 'pygments.formatter' from 'C:\\\\Users\\\\LeeDaKyeong\\\\Anaconda3\\\\lib\\\\site-packages\\\\pygments\\\\formatter.py'>,\n",
       " 'pygments.formatters': <module 'pygments.formatters' from 'C:\\\\Users\\\\LeeDaKyeong\\\\Anaconda3\\\\lib\\\\site-packages\\\\pygments\\\\formatters\\\\__init__.py'>,\n",
       " 'pygments.formatters._mapping': <module 'pygments.formatters._mapping' from 'C:\\\\Users\\\\LeeDaKyeong\\\\Anaconda3\\\\lib\\\\site-packages\\\\pygments\\\\formatters\\\\_mapping.py'>,\n",
       " 'pygments.formatters.html': <module 'pygments.formatters.html' from 'C:\\\\Users\\\\LeeDaKyeong\\\\Anaconda3\\\\lib\\\\site-packages\\\\pygments\\\\formatters\\\\html.py'>,\n",
       " 'pygments.lexer': <module 'pygments.lexer' from 'C:\\\\Users\\\\LeeDaKyeong\\\\Anaconda3\\\\lib\\\\site-packages\\\\pygments\\\\lexer.py'>,\n",
       " 'pygments.lexers': <module 'pygments.lexers' from 'C:\\\\Users\\\\LeeDaKyeong\\\\Anaconda3\\\\lib\\\\site-packages\\\\pygments\\\\lexers\\\\__init__.py'>,\n",
       " 'pygments.lexers._mapping': <module 'pygments.lexers._mapping' from 'C:\\\\Users\\\\LeeDaKyeong\\\\Anaconda3\\\\lib\\\\site-packages\\\\pygments\\\\lexers\\\\_mapping.py'>,\n",
       " 'pygments.lexers.python': <module 'pygments.lexers.python' from 'C:\\\\Users\\\\LeeDaKyeong\\\\Anaconda3\\\\lib\\\\site-packages\\\\pygments\\\\lexers\\\\python.py'>,\n",
       " 'pygments.modeline': <module 'pygments.modeline' from 'C:\\\\Users\\\\LeeDaKyeong\\\\Anaconda3\\\\lib\\\\site-packages\\\\pygments\\\\modeline.py'>,\n",
       " 'pygments.plugin': <module 'pygments.plugin' from 'C:\\\\Users\\\\LeeDaKyeong\\\\Anaconda3\\\\lib\\\\site-packages\\\\pygments\\\\plugin.py'>,\n",
       " 'pygments.regexopt': <module 'pygments.regexopt' from 'C:\\\\Users\\\\LeeDaKyeong\\\\Anaconda3\\\\lib\\\\site-packages\\\\pygments\\\\regexopt.py'>,\n",
       " 'pygments.style': <module 'pygments.style' from 'C:\\\\Users\\\\LeeDaKyeong\\\\Anaconda3\\\\lib\\\\site-packages\\\\pygments\\\\style.py'>,\n",
       " 'pygments.styles': <module 'pygments.styles' from 'C:\\\\Users\\\\LeeDaKyeong\\\\Anaconda3\\\\lib\\\\site-packages\\\\pygments\\\\styles\\\\__init__.py'>,\n",
       " 'pygments.styles.default': <module 'pygments.styles.default' from 'C:\\\\Users\\\\LeeDaKyeong\\\\Anaconda3\\\\lib\\\\site-packages\\\\pygments\\\\styles\\\\default.py'>,\n",
       " 'pygments.token': <module 'pygments.token' from 'C:\\\\Users\\\\LeeDaKyeong\\\\Anaconda3\\\\lib\\\\site-packages\\\\pygments\\\\token.py'>,\n",
       " 'pygments.unistring': <module 'pygments.unistring' from 'C:\\\\Users\\\\LeeDaKyeong\\\\Anaconda3\\\\lib\\\\site-packages\\\\pygments\\\\unistring.py'>,\n",
       " 'pygments.util': <module 'pygments.util' from 'C:\\\\Users\\\\LeeDaKyeong\\\\Anaconda3\\\\lib\\\\site-packages\\\\pygments\\\\util.py'>,\n",
       " 'pythoncom': <module 'pythoncom' (C:\\Users\\LeeDaKyeong\\Anaconda3\\pythoncom36.dll)>,\n",
       " 'pywintypes': <module 'pywintypes' (C:\\Users\\LeeDaKyeong\\Anaconda3\\lib\\site-packages\\win32\\pywintypes36.dll)>,\n",
       " 'queue': <module 'queue' from 'C:\\\\Users\\\\LeeDaKyeong\\\\Anaconda3\\\\lib\\\\queue.py'>,\n",
       " 'quopri': <module 'quopri' from 'C:\\\\Users\\\\LeeDaKyeong\\\\Anaconda3\\\\lib\\\\quopri.py'>,\n",
       " 'random': <module 'random' from 'C:\\\\Users\\\\LeeDaKyeong\\\\Anaconda3\\\\lib\\\\random.py'>,\n",
       " 're': <module 're' from 'C:\\\\Users\\\\LeeDaKyeong\\\\Anaconda3\\\\lib\\\\re.py'>,\n",
       " 'reprlib': <module 'reprlib' from 'C:\\\\Users\\\\LeeDaKyeong\\\\Anaconda3\\\\lib\\\\reprlib.py'>,\n",
       " 'runpy': <module 'runpy' from 'C:\\\\Users\\\\LeeDaKyeong\\\\Anaconda3\\\\lib\\\\runpy.py'>,\n",
       " 'select': <module 'select' from 'C:\\\\Users\\\\LeeDaKyeong\\\\Anaconda3\\\\DLLs\\\\select.pyd'>,\n",
       " 'selectors': <module 'selectors' from 'C:\\\\Users\\\\LeeDaKyeong\\\\Anaconda3\\\\lib\\\\selectors.py'>,\n",
       " 'shlex': <module 'shlex' from 'C:\\\\Users\\\\LeeDaKyeong\\\\Anaconda3\\\\lib\\\\shlex.py'>,\n",
       " 'shutil': <module 'shutil' from 'C:\\\\Users\\\\LeeDaKyeong\\\\Anaconda3\\\\lib\\\\shutil.py'>,\n",
       " 'signal': <module 'signal' from 'C:\\\\Users\\\\LeeDaKyeong\\\\Anaconda3\\\\lib\\\\signal.py'>,\n",
       " 'simplegeneric': <module 'simplegeneric' from 'C:\\\\Users\\\\LeeDaKyeong\\\\Anaconda3\\\\lib\\\\site-packages\\\\simplegeneric.py'>,\n",
       " 'site': <module 'site' from 'C:\\\\Users\\\\LeeDaKyeong\\\\Anaconda3\\\\lib\\\\site.py'>,\n",
       " 'six': <module 'six' from 'C:\\\\Users\\\\LeeDaKyeong\\\\Anaconda3\\\\lib\\\\site-packages\\\\six.py'>,\n",
       " 'six.moves': <module 'six.moves' (<six._SixMetaPathImporter object at 0x00000287830F4198>)>,\n",
       " 'socket': <module 'socket' from 'C:\\\\Users\\\\LeeDaKyeong\\\\Anaconda3\\\\lib\\\\socket.py'>,\n",
       " 'sqlite3': <module 'sqlite3' from 'C:\\\\Users\\\\LeeDaKyeong\\\\Anaconda3\\\\lib\\\\sqlite3\\\\__init__.py'>,\n",
       " 'sqlite3.dbapi2': <module 'sqlite3.dbapi2' from 'C:\\\\Users\\\\LeeDaKyeong\\\\Anaconda3\\\\lib\\\\sqlite3\\\\dbapi2.py'>,\n",
       " 'sre_compile': <module 'sre_compile' from 'C:\\\\Users\\\\LeeDaKyeong\\\\Anaconda3\\\\lib\\\\sre_compile.py'>,\n",
       " 'sre_constants': <module 'sre_constants' from 'C:\\\\Users\\\\LeeDaKyeong\\\\Anaconda3\\\\lib\\\\sre_constants.py'>,\n",
       " 'sre_parse': <module 'sre_parse' from 'C:\\\\Users\\\\LeeDaKyeong\\\\Anaconda3\\\\lib\\\\sre_parse.py'>,\n",
       " 'stat': <module 'stat' from 'C:\\\\Users\\\\LeeDaKyeong\\\\Anaconda3\\\\lib\\\\stat.py'>,\n",
       " 'storemagic': <module 'storemagic' from 'C:\\\\Users\\\\LeeDaKyeong\\\\Anaconda3\\\\lib\\\\site-packages\\\\IPython\\\\extensions\\\\storemagic.py'>,\n",
       " 'string': <module 'string' from 'C:\\\\Users\\\\LeeDaKyeong\\\\Anaconda3\\\\lib\\\\string.py'>,\n",
       " 'struct': <module 'struct' from 'C:\\\\Users\\\\LeeDaKyeong\\\\Anaconda3\\\\lib\\\\struct.py'>,\n",
       " 'subprocess': <module 'subprocess' from 'C:\\\\Users\\\\LeeDaKyeong\\\\Anaconda3\\\\lib\\\\subprocess.py'>,\n",
       " 'sys': <module 'sys' (built-in)>,\n",
       " 'sysconfig': <module 'sysconfig' from 'C:\\\\Users\\\\LeeDaKyeong\\\\Anaconda3\\\\lib\\\\sysconfig.py'>,\n",
       " 'tarfile': <module 'tarfile' from 'C:\\\\Users\\\\LeeDaKyeong\\\\Anaconda3\\\\lib\\\\tarfile.py'>,\n",
       " 'tempfile': <module 'tempfile' from 'C:\\\\Users\\\\LeeDaKyeong\\\\Anaconda3\\\\lib\\\\tempfile.py'>,\n",
       " 'textwrap': <module 'textwrap' from 'C:\\\\Users\\\\LeeDaKyeong\\\\Anaconda3\\\\lib\\\\textwrap.py'>,\n",
       " 'threading': <module 'threading' from 'C:\\\\Users\\\\LeeDaKyeong\\\\Anaconda3\\\\lib\\\\threading.py'>,\n",
       " 'time': <module 'time' (built-in)>,\n",
       " 'timeit': <module 'timeit' from 'C:\\\\Users\\\\LeeDaKyeong\\\\Anaconda3\\\\lib\\\\timeit.py'>,\n",
       " 'token': <module 'token' from 'C:\\\\Users\\\\LeeDaKyeong\\\\Anaconda3\\\\lib\\\\token.py'>,\n",
       " 'tokenize': <module 'tokenize' from 'C:\\\\Users\\\\LeeDaKyeong\\\\Anaconda3\\\\lib\\\\tokenize.py'>,\n",
       " 'tornado': <module 'tornado' from 'C:\\\\Users\\\\LeeDaKyeong\\\\Anaconda3\\\\lib\\\\site-packages\\\\tornado\\\\__init__.py'>,\n",
       " 'tornado.concurrent': <module 'tornado.concurrent' from 'C:\\\\Users\\\\LeeDaKyeong\\\\Anaconda3\\\\lib\\\\site-packages\\\\tornado\\\\concurrent.py'>,\n",
       " 'tornado.escape': <module 'tornado.escape' from 'C:\\\\Users\\\\LeeDaKyeong\\\\Anaconda3\\\\lib\\\\site-packages\\\\tornado\\\\escape.py'>,\n",
       " 'tornado.ioloop': <module 'tornado.ioloop' from 'C:\\\\Users\\\\LeeDaKyeong\\\\Anaconda3\\\\lib\\\\site-packages\\\\tornado\\\\ioloop.py'>,\n",
       " 'tornado.log': <module 'tornado.log' from 'C:\\\\Users\\\\LeeDaKyeong\\\\Anaconda3\\\\lib\\\\site-packages\\\\tornado\\\\log.py'>,\n",
       " 'tornado.platform': <module 'tornado.platform' from 'C:\\\\Users\\\\LeeDaKyeong\\\\Anaconda3\\\\lib\\\\site-packages\\\\tornado\\\\platform\\\\__init__.py'>,\n",
       " 'tornado.platform.auto': <module 'tornado.platform.auto' from 'C:\\\\Users\\\\LeeDaKyeong\\\\Anaconda3\\\\lib\\\\site-packages\\\\tornado\\\\platform\\\\auto.py'>,\n",
       " 'tornado.platform.common': <module 'tornado.platform.common' from 'C:\\\\Users\\\\LeeDaKyeong\\\\Anaconda3\\\\lib\\\\site-packages\\\\tornado\\\\platform\\\\common.py'>,\n",
       " 'tornado.platform.interface': <module 'tornado.platform.interface' from 'C:\\\\Users\\\\LeeDaKyeong\\\\Anaconda3\\\\lib\\\\site-packages\\\\tornado\\\\platform\\\\interface.py'>,\n",
       " 'tornado.platform.windows': <module 'tornado.platform.windows' from 'C:\\\\Users\\\\LeeDaKyeong\\\\Anaconda3\\\\lib\\\\site-packages\\\\tornado\\\\platform\\\\windows.py'>,\n",
       " 'tornado.speedups': <module 'tornado.speedups' from 'C:\\\\Users\\\\LeeDaKyeong\\\\Anaconda3\\\\lib\\\\site-packages\\\\tornado\\\\speedups.cp36-win_amd64.pyd'>,\n",
       " 'tornado.stack_context': <module 'tornado.stack_context' from 'C:\\\\Users\\\\LeeDaKyeong\\\\Anaconda3\\\\lib\\\\site-packages\\\\tornado\\\\stack_context.py'>,\n",
       " 'tornado.util': <module 'tornado.util' from 'C:\\\\Users\\\\LeeDaKyeong\\\\Anaconda3\\\\lib\\\\site-packages\\\\tornado\\\\util.py'>,\n",
       " 'traceback': <module 'traceback' from 'C:\\\\Users\\\\LeeDaKyeong\\\\Anaconda3\\\\lib\\\\traceback.py'>,\n",
       " 'traitlets': <module 'traitlets' from 'C:\\\\Users\\\\LeeDaKyeong\\\\Anaconda3\\\\lib\\\\site-packages\\\\traitlets\\\\__init__.py'>,\n",
       " 'traitlets._version': <module 'traitlets._version' from 'C:\\\\Users\\\\LeeDaKyeong\\\\Anaconda3\\\\lib\\\\site-packages\\\\traitlets\\\\_version.py'>,\n",
       " 'traitlets.config': <module 'traitlets.config' from 'C:\\\\Users\\\\LeeDaKyeong\\\\Anaconda3\\\\lib\\\\site-packages\\\\traitlets\\\\config\\\\__init__.py'>,\n",
       " 'traitlets.config.application': <module 'traitlets.config.application' from 'C:\\\\Users\\\\LeeDaKyeong\\\\Anaconda3\\\\lib\\\\site-packages\\\\traitlets\\\\config\\\\application.py'>,\n",
       " 'traitlets.config.configurable': <module 'traitlets.config.configurable' from 'C:\\\\Users\\\\LeeDaKyeong\\\\Anaconda3\\\\lib\\\\site-packages\\\\traitlets\\\\config\\\\configurable.py'>,\n",
       " 'traitlets.config.loader': <module 'traitlets.config.loader' from 'C:\\\\Users\\\\LeeDaKyeong\\\\Anaconda3\\\\lib\\\\site-packages\\\\traitlets\\\\config\\\\loader.py'>,\n",
       " 'traitlets.log': <module 'traitlets.log' from 'C:\\\\Users\\\\LeeDaKyeong\\\\Anaconda3\\\\lib\\\\site-packages\\\\traitlets\\\\log.py'>,\n",
       " 'traitlets.traitlets': <module 'traitlets.traitlets' from 'C:\\\\Users\\\\LeeDaKyeong\\\\Anaconda3\\\\lib\\\\site-packages\\\\traitlets\\\\traitlets.py'>,\n",
       " 'traitlets.utils': <module 'traitlets.utils' from 'C:\\\\Users\\\\LeeDaKyeong\\\\Anaconda3\\\\lib\\\\site-packages\\\\traitlets\\\\utils\\\\__init__.py'>,\n",
       " 'traitlets.utils.bunch': <module 'traitlets.utils.bunch' from 'C:\\\\Users\\\\LeeDaKyeong\\\\Anaconda3\\\\lib\\\\site-packages\\\\traitlets\\\\utils\\\\bunch.py'>,\n",
       " 'traitlets.utils.getargspec': <module 'traitlets.utils.getargspec' from 'C:\\\\Users\\\\LeeDaKyeong\\\\Anaconda3\\\\lib\\\\site-packages\\\\traitlets\\\\utils\\\\getargspec.py'>,\n",
       " 'traitlets.utils.importstring': <module 'traitlets.utils.importstring' from 'C:\\\\Users\\\\LeeDaKyeong\\\\Anaconda3\\\\lib\\\\site-packages\\\\traitlets\\\\utils\\\\importstring.py'>,\n",
       " 'traitlets.utils.sentinel': <module 'traitlets.utils.sentinel' from 'C:\\\\Users\\\\LeeDaKyeong\\\\Anaconda3\\\\lib\\\\site-packages\\\\traitlets\\\\utils\\\\sentinel.py'>,\n",
       " 'types': <module 'types' from 'C:\\\\Users\\\\LeeDaKyeong\\\\Anaconda3\\\\lib\\\\types.py'>,\n",
       " 'typing': <module 'typing' from 'C:\\\\Users\\\\LeeDaKyeong\\\\Anaconda3\\\\lib\\\\typing.py'>,\n",
       " 'typing.io': typing.io,\n",
       " 'typing.re': typing.re,\n",
       " 'unicodedata': <module 'unicodedata' from 'C:\\\\Users\\\\LeeDaKyeong\\\\Anaconda3\\\\DLLs\\\\unicodedata.pyd'>,\n",
       " 'urllib': <module 'urllib' from 'C:\\\\Users\\\\LeeDaKyeong\\\\Anaconda3\\\\lib\\\\urllib\\\\__init__.py'>,\n",
       " 'urllib.parse': <module 'urllib.parse' from 'C:\\\\Users\\\\LeeDaKyeong\\\\Anaconda3\\\\lib\\\\urllib\\\\parse.py'>,\n",
       " 'uuid': <module 'uuid' from 'C:\\\\Users\\\\LeeDaKyeong\\\\Anaconda3\\\\lib\\\\uuid.py'>,\n",
       " 'warnings': <module 'warnings' from 'C:\\\\Users\\\\LeeDaKyeong\\\\Anaconda3\\\\lib\\\\warnings.py'>,\n",
       " 'wcwidth': <module 'wcwidth' from 'C:\\\\Users\\\\LeeDaKyeong\\\\Anaconda3\\\\lib\\\\site-packages\\\\wcwidth\\\\__init__.py'>,\n",
       " 'wcwidth.table_wide': <module 'wcwidth.table_wide' from 'C:\\\\Users\\\\LeeDaKyeong\\\\Anaconda3\\\\lib\\\\site-packages\\\\wcwidth\\\\table_wide.py'>,\n",
       " 'wcwidth.table_zero': <module 'wcwidth.table_zero' from 'C:\\\\Users\\\\LeeDaKyeong\\\\Anaconda3\\\\lib\\\\site-packages\\\\wcwidth\\\\table_zero.py'>,\n",
       " 'wcwidth.wcwidth': <module 'wcwidth.wcwidth' from 'C:\\\\Users\\\\LeeDaKyeong\\\\Anaconda3\\\\lib\\\\site-packages\\\\wcwidth\\\\wcwidth.py'>,\n",
       " 'weakref': <module 'weakref' from 'C:\\\\Users\\\\LeeDaKyeong\\\\Anaconda3\\\\lib\\\\weakref.py'>,\n",
       " 'win32api': <module 'win32api' from 'C:\\\\Users\\\\LeeDaKyeong\\\\Anaconda3\\\\lib\\\\site-packages\\\\win32\\\\win32api.pyd'>,\n",
       " 'win32com': <module 'win32com' from 'C:\\\\Users\\\\LeeDaKyeong\\\\Anaconda3\\\\lib\\\\site-packages\\\\win32com\\\\__init__.py'>,\n",
       " 'win32com.gen_py': <module 'win32com.gen_py'>,\n",
       " 'win32com.shell': <module 'win32com.shell' from 'C:\\\\Users\\\\LeeDaKyeong\\\\Anaconda3\\\\lib\\\\site-packages\\\\win32comext\\\\shell\\\\__init__.py'>,\n",
       " 'winreg': <module 'winreg' (built-in)>,\n",
       " 'xml': <module 'xml' from 'C:\\\\Users\\\\LeeDaKyeong\\\\Anaconda3\\\\lib\\\\xml\\\\__init__.py'>,\n",
       " 'xml.parsers': <module 'xml.parsers' from 'C:\\\\Users\\\\LeeDaKyeong\\\\Anaconda3\\\\lib\\\\xml\\\\parsers\\\\__init__.py'>,\n",
       " 'xml.parsers.expat': <module 'xml.parsers.expat' from 'C:\\\\Users\\\\LeeDaKyeong\\\\Anaconda3\\\\lib\\\\xml\\\\parsers\\\\expat.py'>,\n",
       " 'xml.parsers.expat.errors': <module 'pyexpat.errors'>,\n",
       " 'xml.parsers.expat.model': <module 'pyexpat.model'>,\n",
       " 'zipfile': <module 'zipfile' from 'C:\\\\Users\\\\LeeDaKyeong\\\\Anaconda3\\\\lib\\\\zipfile.py'>,\n",
       " 'zipimport': <module 'zipimport' (built-in)>,\n",
       " 'zlib': <module 'zlib' (built-in)>,\n",
       " 'zmq': <module 'zmq' from 'C:\\\\Users\\\\LeeDaKyeong\\\\Anaconda3\\\\lib\\\\site-packages\\\\zmq\\\\__init__.py'>,\n",
       " 'zmq.backend': <module 'zmq.backend' from 'C:\\\\Users\\\\LeeDaKyeong\\\\Anaconda3\\\\lib\\\\site-packages\\\\zmq\\\\backend\\\\__init__.py'>,\n",
       " 'zmq.backend.cython': <module 'zmq.backend.cython' from 'C:\\\\Users\\\\LeeDaKyeong\\\\Anaconda3\\\\lib\\\\site-packages\\\\zmq\\\\backend\\\\cython\\\\__init__.py'>,\n",
       " 'zmq.backend.cython._device': <module 'zmq.backend.cython._device' from 'C:\\\\Users\\\\LeeDaKyeong\\\\Anaconda3\\\\lib\\\\site-packages\\\\zmq\\\\backend\\\\cython\\\\_device.cp36-win_amd64.pyd'>,\n",
       " 'zmq.backend.cython._poll': <module 'zmq.backend.cython._poll' from 'C:\\\\Users\\\\LeeDaKyeong\\\\Anaconda3\\\\lib\\\\site-packages\\\\zmq\\\\backend\\\\cython\\\\_poll.cp36-win_amd64.pyd'>,\n",
       " 'zmq.backend.cython._version': <module 'zmq.backend.cython._version' from 'C:\\\\Users\\\\LeeDaKyeong\\\\Anaconda3\\\\lib\\\\site-packages\\\\zmq\\\\backend\\\\cython\\\\_version.cp36-win_amd64.pyd'>,\n",
       " 'zmq.backend.cython.constants': <module 'zmq.backend.cython.constants' from 'C:\\\\Users\\\\LeeDaKyeong\\\\Anaconda3\\\\lib\\\\site-packages\\\\zmq\\\\backend\\\\cython\\\\constants.cp36-win_amd64.pyd'>,\n",
       " 'zmq.backend.cython.context': <module 'zmq.backend.cython.context' from 'C:\\\\Users\\\\LeeDaKyeong\\\\Anaconda3\\\\lib\\\\site-packages\\\\zmq\\\\backend\\\\cython\\\\context.cp36-win_amd64.pyd'>,\n",
       " 'zmq.backend.cython.error': <module 'zmq.backend.cython.error' from 'C:\\\\Users\\\\LeeDaKyeong\\\\Anaconda3\\\\lib\\\\site-packages\\\\zmq\\\\backend\\\\cython\\\\error.cp36-win_amd64.pyd'>,\n",
       " 'zmq.backend.cython.message': <module 'zmq.backend.cython.message' from 'C:\\\\Users\\\\LeeDaKyeong\\\\Anaconda3\\\\lib\\\\site-packages\\\\zmq\\\\backend\\\\cython\\\\message.cp36-win_amd64.pyd'>,\n",
       " 'zmq.backend.cython.socket': <module 'zmq.backend.cython.socket' from 'C:\\\\Users\\\\LeeDaKyeong\\\\Anaconda3\\\\lib\\\\site-packages\\\\zmq\\\\backend\\\\cython\\\\socket.cp36-win_amd64.pyd'>,\n",
       " 'zmq.backend.cython.utils': <module 'zmq.backend.cython.utils' from 'C:\\\\Users\\\\LeeDaKyeong\\\\Anaconda3\\\\lib\\\\site-packages\\\\zmq\\\\backend\\\\cython\\\\utils.cp36-win_amd64.pyd'>,\n",
       " 'zmq.backend.select': <module 'zmq.backend.select' from 'C:\\\\Users\\\\LeeDaKyeong\\\\Anaconda3\\\\lib\\\\site-packages\\\\zmq\\\\backend\\\\select.py'>,\n",
       " 'zmq.error': <module 'zmq.error' from 'C:\\\\Users\\\\LeeDaKyeong\\\\Anaconda3\\\\lib\\\\site-packages\\\\zmq\\\\error.py'>,\n",
       " 'zmq.eventloop': <module 'zmq.eventloop' from 'C:\\\\Users\\\\LeeDaKyeong\\\\Anaconda3\\\\lib\\\\site-packages\\\\zmq\\\\eventloop\\\\__init__.py'>,\n",
       " 'zmq.eventloop.ioloop': <module 'zmq.eventloop.ioloop' from 'C:\\\\Users\\\\LeeDaKyeong\\\\Anaconda3\\\\lib\\\\site-packages\\\\zmq\\\\eventloop\\\\ioloop.py'>,\n",
       " 'zmq.eventloop.zmqstream': <module 'zmq.eventloop.zmqstream' from 'C:\\\\Users\\\\LeeDaKyeong\\\\Anaconda3\\\\lib\\\\site-packages\\\\zmq\\\\eventloop\\\\zmqstream.py'>,\n",
       " 'zmq.libzmq': <module 'zmq.libzmq' from 'C:\\\\Users\\\\LeeDaKyeong\\\\Anaconda3\\\\lib\\\\site-packages\\\\zmq\\\\libzmq.cp36-win_amd64.pyd'>,\n",
       " 'zmq.sugar': <module 'zmq.sugar' from 'C:\\\\Users\\\\LeeDaKyeong\\\\Anaconda3\\\\lib\\\\site-packages\\\\zmq\\\\sugar\\\\__init__.py'>,\n",
       " 'zmq.sugar.attrsettr': <module 'zmq.sugar.attrsettr' from 'C:\\\\Users\\\\LeeDaKyeong\\\\Anaconda3\\\\lib\\\\site-packages\\\\zmq\\\\sugar\\\\attrsettr.py'>,\n",
       " 'zmq.sugar.constants': <module 'zmq.sugar.constants' from 'C:\\\\Users\\\\LeeDaKyeong\\\\Anaconda3\\\\lib\\\\site-packages\\\\zmq\\\\sugar\\\\constants.py'>,\n",
       " 'zmq.sugar.context': <module 'zmq.sugar.context' from 'C:\\\\Users\\\\LeeDaKyeong\\\\Anaconda3\\\\lib\\\\site-packages\\\\zmq\\\\sugar\\\\context.py'>,\n",
       " 'zmq.sugar.frame': <module 'zmq.sugar.frame' from 'C:\\\\Users\\\\LeeDaKyeong\\\\Anaconda3\\\\lib\\\\site-packages\\\\zmq\\\\sugar\\\\frame.py'>,\n",
       " 'zmq.sugar.poll': <module 'zmq.sugar.poll' from 'C:\\\\Users\\\\LeeDaKyeong\\\\Anaconda3\\\\lib\\\\site-packages\\\\zmq\\\\sugar\\\\poll.py'>,\n",
       " 'zmq.sugar.socket': <module 'zmq.sugar.socket' from 'C:\\\\Users\\\\LeeDaKyeong\\\\Anaconda3\\\\lib\\\\site-packages\\\\zmq\\\\sugar\\\\socket.py'>,\n",
       " 'zmq.sugar.stopwatch': <module 'zmq.sugar.stopwatch' from 'C:\\\\Users\\\\LeeDaKyeong\\\\Anaconda3\\\\lib\\\\site-packages\\\\zmq\\\\sugar\\\\stopwatch.py'>,\n",
       " 'zmq.sugar.tracker': <module 'zmq.sugar.tracker' from 'C:\\\\Users\\\\LeeDaKyeong\\\\Anaconda3\\\\lib\\\\site-packages\\\\zmq\\\\sugar\\\\tracker.py'>,\n",
       " 'zmq.sugar.version': <module 'zmq.sugar.version' from 'C:\\\\Users\\\\LeeDaKyeong\\\\Anaconda3\\\\lib\\\\site-packages\\\\zmq\\\\sugar\\\\version.py'>,\n",
       " 'zmq.utils': <module 'zmq.utils' from 'C:\\\\Users\\\\LeeDaKyeong\\\\Anaconda3\\\\lib\\\\site-packages\\\\zmq\\\\utils\\\\__init__.py'>,\n",
       " 'zmq.utils.constant_names': <module 'zmq.utils.constant_names' from 'C:\\\\Users\\\\LeeDaKyeong\\\\Anaconda3\\\\lib\\\\site-packages\\\\zmq\\\\utils\\\\constant_names.py'>,\n",
       " 'zmq.utils.jsonapi': <module 'zmq.utils.jsonapi' from 'C:\\\\Users\\\\LeeDaKyeong\\\\Anaconda3\\\\lib\\\\site-packages\\\\zmq\\\\utils\\\\jsonapi.py'>,\n",
       " 'zmq.utils.strtypes': <module 'zmq.utils.strtypes' from 'C:\\\\Users\\\\LeeDaKyeong\\\\Anaconda3\\\\lib\\\\site-packages\\\\zmq\\\\utils\\\\strtypes.py'>}"
      ]
     },
     "execution_count": 12,
     "metadata": {},
     "output_type": "execute_result"
    }
   ],
   "source": [
    "#sys.modules : 현재 로딩되어 있는 모듈을 사전형식으로 반환\n",
    "sys.modules"
   ]
  },
  {
   "cell_type": "code",
   "execution_count": 13,
   "metadata": {},
   "outputs": [
    {
     "data": {
      "text/plain": [
       "['',\n",
       " 'C:\\\\Users\\\\LeeDaKyeong\\\\Anaconda3\\\\python36.zip',\n",
       " 'C:\\\\Users\\\\LeeDaKyeong\\\\Anaconda3\\\\DLLs',\n",
       " 'C:\\\\Users\\\\LeeDaKyeong\\\\Anaconda3\\\\lib',\n",
       " 'C:\\\\Users\\\\LeeDaKyeong\\\\Anaconda3',\n",
       " 'C:\\\\Users\\\\LeeDaKyeong\\\\Anaconda3\\\\lib\\\\site-packages',\n",
       " 'C:\\\\Users\\\\LeeDaKyeong\\\\Anaconda3\\\\lib\\\\site-packages\\\\Sphinx-1.5.1-py3.6.egg',\n",
       " 'C:\\\\Users\\\\LeeDaKyeong\\\\Anaconda3\\\\lib\\\\site-packages\\\\win32',\n",
       " 'C:\\\\Users\\\\LeeDaKyeong\\\\Anaconda3\\\\lib\\\\site-packages\\\\win32\\\\lib',\n",
       " 'C:\\\\Users\\\\LeeDaKyeong\\\\Anaconda3\\\\lib\\\\site-packages\\\\Pythonwin',\n",
       " 'C:\\\\Users\\\\LeeDaKyeong\\\\Anaconda3\\\\lib\\\\site-packages\\\\setuptools-27.2.0-py3.6.egg',\n",
       " 'C:\\\\Users\\\\LeeDaKyeong\\\\Anaconda3\\\\lib\\\\site-packages\\\\IPython\\\\extensions',\n",
       " 'C:\\\\Users\\\\LeeDaKyeong\\\\.ipython']"
      ]
     },
     "execution_count": 13,
     "metadata": {},
     "output_type": "execute_result"
    }
   ],
   "source": [
    "#sys.path : 모듈을 찾을 때 참조하는 경로\n",
    "sys.path"
   ]
  },
  {
   "cell_type": "code",
   "execution_count": null,
   "metadata": {
    "collapsed": true
   },
   "outputs": [],
   "source": [
    "#sys.copyright, sys.version : 설치된 파이썬의 저작권, 버전"
   ]
  },
  {
   "cell_type": "code",
   "execution_count": 38,
   "metadata": {},
   "outputs": [
    {
     "data": {
      "text/plain": [
       "'utf-8'"
      ]
     },
     "execution_count": 38,
     "metadata": {},
     "output_type": "execute_result"
    }
   ],
   "source": [
    "#sys.getdefaultencoding() : 현재 사용중인 기본 문자열 인코딩\n",
    "sys.getdefaultencoding()"
   ]
  },
  {
   "cell_type": "code",
   "execution_count": 39,
   "metadata": {},
   "outputs": [
    {
     "name": "stdout",
     "output_type": "stream",
     "text": [
      "hi"
     ]
    },
    {
     "name": "stderr",
     "output_type": "stream",
     "text": [
      "hi"
     ]
    }
   ],
   "source": [
    "#sys.stdin, sys.stdout, sys.stderr : 표준 입력, 출력, 에러 스트림에 대응되는 파일객체\n",
    "sys.stdout.write(\"hi\") #표준 출력 스트림\n",
    "sys.stderr.write(\"hi\") #표준 에러 스트림"
   ]
  },
  {
   "cell_type": "markdown",
   "metadata": {},
   "source": [
    "# 3. threading 모듈\n",
    "### 스레드란 하나의 프로세스 내에서 진행되는 하나의 실행 단위.\n",
    "### 하나의 프로세스에서 여러 실행 단위가 실행되는 것을 멀티스레드\n",
    "### 프로세스와 스레드는 모두 프로그램을 수행된다는 공통점을 가지고 있지만,\n",
    "### 프로세스는 윈도우에서 여러 응용프로그램을 각각 실행시키는 것처럼 독립적으로 실행되어 독립된 메모리 공간을 사용하지만,\n",
    "### 멀티스레드는 하나의 프로세스 내에서 여러 스렏가 프로세스 공간의 메모리를 공유해서 사용할 수 있음\n",
    "\n",
    "#### 파이썬에서는 threding 이라는 멀티스레드 기능을 지원하는 모듈을 제공\n",
    "\n",
    "<https://www.youtube.com/watch?v=PXN8gpZ5OEg&t=636s>\n",
    "<https://www.youtube.com/watch?v=ELl_DYmQpsc>"
   ]
  },
  {
   "cell_type": "markdown",
   "metadata": {},
   "source": [
    "### 스레드 객체\n",
    "#### 스레드를 사용하려면 threading.Thread를 상속받은 클래스 객체를 생성해 사용.\n",
    "#### 생성자를 재정의하는 경우 반드시 Thread.__init__() 수행"
   ]
  },
  {
   "cell_type": "markdown",
   "metadata": {},
   "source": [
    "#### Thread.start()\n",
    "스레드를 시작할 때 사용"
   ]
  },
  {
   "cell_type": "markdown",
   "metadata": {},
   "source": [
    "#### Thread.run()\n",
    "스레드의 주요 동작을 정의"
   ]
  },
  {
   "cell_type": "markdown",
   "metadata": {},
   "source": [
    "#### Thread.join([timeout])\n",
    "스레드가 종료되기를 기다림.\n",
    "timeout이 정의된 경우, 최대 정의된 시간(초)만큼 기다림"
   ]
  },
  {
   "cell_type": "markdown",
   "metadata": {},
   "source": [
    "### Lock 객체\n",
    "하나의 프로세스에 2개 이상의 스레드가 동시에 수행되는 경우, 스레드 간에 프로세스 공간의 메모리를 공유.\n",
    "만약 하나의 변수에 대해서 2개 이상의 스레드가 변경을 가하고자 한다면, 어떤 스레드가 먼저 수행되느냐에 따라 결과가 달라질 수 있음.\n",
    "이러한 상태를 경쟁상태(race condition) 이라고 하며, 이러한 상황을 방지하기 위해 Lock이라는 동기화 객체를 지원"
   ]
  },
  {
   "cell_type": "markdown",
   "metadata": {},
   "source": [
    "Lock 객체는 locked와 unlocked의 2가지 상태를 가지며, acquire()와 release()의 두 가지 함수만 제공.\n",
    "unlocked 상태에서 acquire()가 호출되면 locked 상태로 바뀌며, locked 상태에서 release()가 호출되면 unlocked 상태로 바뀜.\n",
    "locked상테에서 다른 스레드가 acquire()를 호출하면 locked상태의 스레드가 release()할 때까지 멈추게 됨"
   ]
  },
  {
   "cell_type": "code",
   "execution_count": 18,
   "metadata": {},
   "outputs": [
    {
     "name": "stdout",
     "output_type": "stream",
     "text": [
      "Shin fixed 4\n",
      "Woo fixed 3\n",
      "Choi fixed 3\n"
     ]
    }
   ],
   "source": [
    "from threading import Thread, Lock\n",
    "import time\n",
    "\n",
    "count = 10\n",
    "lock = Lock()\n",
    "\n",
    "class developer(Thread):\n",
    "    def __init__(self,name): #초기화\n",
    "        Thread.__init__(self)\n",
    "        self.name = name\n",
    "        self.fixed = 0\n",
    "    def run(self): #스레드 동작 정의\n",
    "        global count\n",
    "        while 1:\n",
    "            lock.acquire() #lock\n",
    "            if count > 0:\n",
    "                count -= 1\n",
    "                lock.release() #unlock\n",
    "                self.fixed += 1\n",
    "                time.sleep(0.1)\n",
    "            else:\n",
    "                lock.release() #unlock\n",
    "                break\n",
    "\n",
    "dev_list = []\n",
    "for name in ['Shin','Woo','Choi']:\n",
    "    dev = developer(name) #thread 생성\n",
    "    dev_list.append(dev)\n",
    "    dev.start() #thread 시작\n",
    "\n",
    "for dev in dev_list:\n",
    "    dev.join() #wail\n",
    "    print(dev.name, 'fixed',dev.fixed)"
   ]
  },
  {
   "cell_type": "code",
   "execution_count": null,
   "metadata": {
    "collapsed": true
   },
   "outputs": [],
   "source": []
  },
  {
   "cell_type": "markdown",
   "metadata": {},
   "source": [
    "# 4. queue 모듈\n",
    "\n",
    "일반적인 자료구조에 스택(stack), 큐(queue)가 있음.\n",
    "파이썬에서 queue모듈에서 큐(Queue), 우선순위 큐(PriorityQueue), 스택(LifoQueue)을 제공."
   ]
  },
  {
   "cell_type": "markdown",
   "metadata": {},
   "source": [
    "### queue 모듈에 정의되어 있는 클래스\n",
    "\n",
    "#### queue.Queue(maxsize) : 선입선출(FIFO First-In, First-Out) 큐 객체 생성\n",
    "#### queue.LifoQueue(maxsize) : 일반적으로 스택(Stack)이라 불리는 후입선출(LIFO Last-In, First-Out) 큐 객체 생성\n",
    "#### queue.PriorityQueue(maxsize) : 우선순위 큐 생성. 입력되는 아이템의 형신은 (순위, 아이템)의 튜플로 입력, 우선순위는 숫자가 작을수록 순위가 높음"
   ]
  },
  {
   "cell_type": "markdown",
   "metadata": {},
   "source": [
    "### 위 3개의 클래스가 가지고 있는 메서드\n",
    "\n",
    "#### qsize() : 큐 객체에 입력된 아이템의 개수를 반환\n",
    "#### put(item[,block[,timeout]]) : 큐 객체에 아이템을 입력\n",
    "#### put_nowait(item) : 블로킹(blocking)없이 큐 객체에 아이템을 입력. 큐 객체가 꽉 차있는 경우에는 queue.Full 예외 발생\n",
    "#### get([block[, timeout]]) : 생성된 큐 객체 특성에 맞추어, 아이템 1개를 반환\n",
    "#### get_nowait() : 블로킹(blocking)없이 큐 객체에 들어있는 아이템을 반환. 큐 객체에 아이템이 없는 경우에는 queue.Empty 예외 발생\n"
   ]
  },
  {
   "cell_type": "markdown",
   "metadata": {},
   "source": [
    "### 큐 객체의 크기와 관련해서 발생할 수 있는 예외\n",
    "\n",
    "#### queue.Empty : 큐 객체에 아이템이 없는 경우 발생\n",
    "#### queue.Full : 큐 객체에 아이템이 꽉 찬 경우에 발생"
   ]
  },
  {
   "cell_type": "code",
   "execution_count": 19,
   "metadata": {},
   "outputs": [
    {
     "data": {
      "text/plain": [
       "3"
      ]
     },
     "execution_count": 19,
     "metadata": {},
     "output_type": "execute_result"
    }
   ],
   "source": [
    "import queue\n",
    "q = queue.Queue()\n",
    "q.put(\"apple\") #큐 객체에 데이터 입력\n",
    "q.put(\"banana\")\n",
    "q.put(10)\n",
    "\n",
    "q.qsize() #큐 객체에 저장된 데이터 개수"
   ]
  },
  {
   "cell_type": "code",
   "execution_count": 20,
   "metadata": {},
   "outputs": [
    {
     "data": {
      "text/plain": [
       "'apple'"
      ]
     },
     "execution_count": 20,
     "metadata": {},
     "output_type": "execute_result"
    }
   ],
   "source": [
    "q.get() #큐 객체에서 데이터 출력 "
   ]
  },
  {
   "cell_type": "code",
   "execution_count": 21,
   "metadata": {},
   "outputs": [
    {
     "data": {
      "text/plain": [
       "'banana'"
      ]
     },
     "execution_count": 21,
     "metadata": {},
     "output_type": "execute_result"
    }
   ],
   "source": [
    "q.get()"
   ]
  },
  {
   "cell_type": "code",
   "execution_count": 22,
   "metadata": {},
   "outputs": [
    {
     "data": {
      "text/plain": [
       "1"
      ]
     },
     "execution_count": 22,
     "metadata": {},
     "output_type": "execute_result"
    }
   ],
   "source": [
    "q.qsize()#2개 출력 후 저장된 데이터 개수 "
   ]
  },
  {
   "cell_type": "markdown",
   "metadata": {},
   "source": [
    "### Queue, LifoQueue, PriorityQueue 클래스의 특성"
   ]
  },
  {
   "cell_type": "code",
   "execution_count": 40,
   "metadata": {
    "collapsed": true
   },
   "outputs": [],
   "source": [
    "def GetItemList(q):\n",
    "    ret = []\n",
    "    n = q.qsize()\n",
    "    while n>0:\n",
    "        ret.append(q.get())\n",
    "        n-=1\n",
    "    return ret"
   ]
  },
  {
   "cell_type": "code",
   "execution_count": 41,
   "metadata": {},
   "outputs": [
    {
     "data": {
      "text/plain": [
       "['apple', 'banana', 'arange']"
      ]
     },
     "execution_count": 41,
     "metadata": {},
     "output_type": "execute_result"
    }
   ],
   "source": [
    "#1. Queue : 선입선출 구조\n",
    "import queue\n",
    "l = \"apple,banana,arange\"\n",
    "q = queue.Queue()\n",
    "\n",
    "for x in l.split(','):\n",
    "    q.put(x)\n",
    "\n",
    "GetItemList(q)"
   ]
  },
  {
   "cell_type": "code",
   "execution_count": 42,
   "metadata": {},
   "outputs": [
    {
     "data": {
      "text/plain": [
       "['arange', 'banana', 'apple']"
      ]
     },
     "execution_count": 42,
     "metadata": {},
     "output_type": "execute_result"
    }
   ],
   "source": [
    "#2. LifoQueue : 후입선출 구조\n",
    "\n",
    "q = queue.LifoQueue()\n",
    "for x in l.split(','):\n",
    "    q.put(x)\n",
    "\n",
    "GetItemList(q)"
   ]
  },
  {
   "cell_type": "code",
   "execution_count": 26,
   "metadata": {},
   "outputs": [
    {
     "data": {
      "text/plain": [
       "[(1, 'orange'), (5, 'apple'), (10, 'banana')]"
      ]
     },
     "execution_count": 26,
     "metadata": {},
     "output_type": "execute_result"
    }
   ],
   "source": [
    "#3. PriorityQueue : 입력되는 순서와 상관없이 데이터 자체에 우선순위에 대한 정보\n",
    "#입력할 때 우선순위에 대한 정보를 (순위, 아이템) 의 튜플 형태로 입력 \n",
    "\n",
    "q = queue.PriorityQueue()\n",
    "\n",
    "q.put((5,\"apple\"))\n",
    "q.put((10,\"banana\"))\n",
    "q.put((1,\"orange\"))\n",
    "\n",
    "GetItemList(q)"
   ]
  },
  {
   "cell_type": "markdown",
   "metadata": {},
   "source": [
    "### put_nowait(), get_nowait()\n",
    "큐 객체를 생성할 때 저장할 수 있는 아이템 크기를 명시적으로 지정할 수 있음. \n",
    "이때, 큐 객체에 저장된 아이템이 없는 상태에서 get()이 호출되거나, 아이템이 저장할 수 있는 사이즈를 꽉 채운 상태에서 put()이 호출되는 경우\n",
    "큐 객체를 블록킹(blocking)됨.\n",
    "\n",
    "이럴때, 무한 대기하는 상태를 피하고자 put_nowait() 와 get_nowait() 메서드 지원.\n",
    "이 두 메서드는 큐 객체의 상태에 상관없이 블록킹되지 않고 즉시 결과를 반환.\n",
    "대신 queue.Full or queue.Empty 예외 발생"
   ]
  },
  {
   "cell_type": "code",
   "execution_count": 43,
   "metadata": {},
   "outputs": [
    {
     "ename": "KeyboardInterrupt",
     "evalue": "",
     "output_type": "error",
     "traceback": [
      "\u001b[0;31m---------------------------------------------------------------------------\u001b[0m",
      "\u001b[0;31mKeyboardInterrupt\u001b[0m                         Traceback (most recent call last)",
      "\u001b[0;32m<ipython-input-43-8e8bd8bb20e3>\u001b[0m in \u001b[0;36m<module>\u001b[0;34m()\u001b[0m\n\u001b[1;32m      3\u001b[0m \u001b[0mq\u001b[0m\u001b[0;34m.\u001b[0m\u001b[0mput\u001b[0m\u001b[0;34m(\u001b[0m\u001b[0;34m\"apple\"\u001b[0m\u001b[0;34m)\u001b[0m\u001b[0;34m\u001b[0m\u001b[0m\n\u001b[1;32m      4\u001b[0m \u001b[0mq\u001b[0m\u001b[0;34m.\u001b[0m\u001b[0mput\u001b[0m\u001b[0;34m(\u001b[0m\u001b[0;34m\"banana\"\u001b[0m\u001b[0;34m)\u001b[0m\u001b[0;34m\u001b[0m\u001b[0m\n\u001b[0;32m----> 5\u001b[0;31m \u001b[0mq\u001b[0m\u001b[0;34m.\u001b[0m\u001b[0mput\u001b[0m\u001b[0;34m(\u001b[0m\u001b[0;34m\"orange\"\u001b[0m\u001b[0;34m)\u001b[0m \u001b[0;31m#무한대기\u001b[0m\u001b[0;34m\u001b[0m\u001b[0m\n\u001b[0m",
      "\u001b[0;32m/opt/conda/lib/python3.6/queue.py\u001b[0m in \u001b[0;36mput\u001b[0;34m(self, item, block, timeout)\u001b[0m\n\u001b[1;32m    131\u001b[0m                 \u001b[0;32melif\u001b[0m \u001b[0mtimeout\u001b[0m \u001b[0;32mis\u001b[0m \u001b[0;32mNone\u001b[0m\u001b[0;34m:\u001b[0m\u001b[0;34m\u001b[0m\u001b[0m\n\u001b[1;32m    132\u001b[0m                     \u001b[0;32mwhile\u001b[0m \u001b[0mself\u001b[0m\u001b[0;34m.\u001b[0m\u001b[0m_qsize\u001b[0m\u001b[0;34m(\u001b[0m\u001b[0;34m)\u001b[0m \u001b[0;34m>=\u001b[0m \u001b[0mself\u001b[0m\u001b[0;34m.\u001b[0m\u001b[0mmaxsize\u001b[0m\u001b[0;34m:\u001b[0m\u001b[0;34m\u001b[0m\u001b[0m\n\u001b[0;32m--> 133\u001b[0;31m                         \u001b[0mself\u001b[0m\u001b[0;34m.\u001b[0m\u001b[0mnot_full\u001b[0m\u001b[0;34m.\u001b[0m\u001b[0mwait\u001b[0m\u001b[0;34m(\u001b[0m\u001b[0;34m)\u001b[0m\u001b[0;34m\u001b[0m\u001b[0m\n\u001b[0m\u001b[1;32m    134\u001b[0m                 \u001b[0;32melif\u001b[0m \u001b[0mtimeout\u001b[0m \u001b[0;34m<\u001b[0m \u001b[0;36m0\u001b[0m\u001b[0;34m:\u001b[0m\u001b[0;34m\u001b[0m\u001b[0m\n\u001b[1;32m    135\u001b[0m                     \u001b[0;32mraise\u001b[0m \u001b[0mValueError\u001b[0m\u001b[0;34m(\u001b[0m\u001b[0;34m\"'timeout' must be a non-negative number\"\u001b[0m\u001b[0;34m)\u001b[0m\u001b[0;34m\u001b[0m\u001b[0m\n",
      "\u001b[0;32m/opt/conda/lib/python3.6/threading.py\u001b[0m in \u001b[0;36mwait\u001b[0;34m(self, timeout)\u001b[0m\n\u001b[1;32m    293\u001b[0m         \u001b[0;32mtry\u001b[0m\u001b[0;34m:\u001b[0m    \u001b[0;31m# restore state no matter what (e.g., KeyboardInterrupt)\u001b[0m\u001b[0;34m\u001b[0m\u001b[0m\n\u001b[1;32m    294\u001b[0m             \u001b[0;32mif\u001b[0m \u001b[0mtimeout\u001b[0m \u001b[0;32mis\u001b[0m \u001b[0;32mNone\u001b[0m\u001b[0;34m:\u001b[0m\u001b[0;34m\u001b[0m\u001b[0m\n\u001b[0;32m--> 295\u001b[0;31m                 \u001b[0mwaiter\u001b[0m\u001b[0;34m.\u001b[0m\u001b[0macquire\u001b[0m\u001b[0;34m(\u001b[0m\u001b[0;34m)\u001b[0m\u001b[0;34m\u001b[0m\u001b[0m\n\u001b[0m\u001b[1;32m    296\u001b[0m                 \u001b[0mgotit\u001b[0m \u001b[0;34m=\u001b[0m \u001b[0;32mTrue\u001b[0m\u001b[0;34m\u001b[0m\u001b[0m\n\u001b[1;32m    297\u001b[0m             \u001b[0;32melse\u001b[0m\u001b[0;34m:\u001b[0m\u001b[0;34m\u001b[0m\u001b[0m\n",
      "\u001b[0;31mKeyboardInterrupt\u001b[0m: "
     ]
    }
   ],
   "source": [
    "import queue\n",
    "q = queue.Queue(2)\n",
    "q.put(\"apple\")\n",
    "q.put(\"banana\")\n",
    "q.put(\"orange\") #무한대기"
   ]
  },
  {
   "cell_type": "code",
   "execution_count": 44,
   "metadata": {},
   "outputs": [
    {
     "ename": "Full",
     "evalue": "",
     "output_type": "error",
     "traceback": [
      "\u001b[0;31m---------------------------------------------------------------------------\u001b[0m",
      "\u001b[0;31mFull\u001b[0m                                      Traceback (most recent call last)",
      "\u001b[0;32m<ipython-input-44-b5144954f977>\u001b[0m in \u001b[0;36m<module>\u001b[0;34m()\u001b[0m\n\u001b[1;32m      3\u001b[0m \u001b[0mq\u001b[0m\u001b[0;34m.\u001b[0m\u001b[0mput_nowait\u001b[0m\u001b[0;34m(\u001b[0m\u001b[0;34m\"apple\"\u001b[0m\u001b[0;34m)\u001b[0m\u001b[0;34m\u001b[0m\u001b[0m\n\u001b[1;32m      4\u001b[0m \u001b[0mq\u001b[0m\u001b[0;34m.\u001b[0m\u001b[0mput_nowait\u001b[0m\u001b[0;34m(\u001b[0m\u001b[0;34m\"banana\"\u001b[0m\u001b[0;34m)\u001b[0m\u001b[0;34m\u001b[0m\u001b[0m\n\u001b[0;32m----> 5\u001b[0;31m \u001b[0mq\u001b[0m\u001b[0;34m.\u001b[0m\u001b[0mput_nowait\u001b[0m\u001b[0;34m(\u001b[0m\u001b[0;34m\"orange\"\u001b[0m\u001b[0;34m)\u001b[0m \u001b[0;31m#q에 put은 안됨\u001b[0m\u001b[0;34m\u001b[0m\u001b[0m\n\u001b[0m",
      "\u001b[0;32m/opt/conda/lib/python3.6/queue.py\u001b[0m in \u001b[0;36mput_nowait\u001b[0;34m(self, item)\u001b[0m\n\u001b[1;32m    182\u001b[0m         \u001b[0mOtherwise\u001b[0m \u001b[0;32mraise\u001b[0m \u001b[0mthe\u001b[0m \u001b[0mFull\u001b[0m \u001b[0mexception\u001b[0m\u001b[0;34m.\u001b[0m\u001b[0;34m\u001b[0m\u001b[0m\n\u001b[1;32m    183\u001b[0m         '''\n\u001b[0;32m--> 184\u001b[0;31m         \u001b[0;32mreturn\u001b[0m \u001b[0mself\u001b[0m\u001b[0;34m.\u001b[0m\u001b[0mput\u001b[0m\u001b[0;34m(\u001b[0m\u001b[0mitem\u001b[0m\u001b[0;34m,\u001b[0m \u001b[0mblock\u001b[0m\u001b[0;34m=\u001b[0m\u001b[0;32mFalse\u001b[0m\u001b[0;34m)\u001b[0m\u001b[0;34m\u001b[0m\u001b[0m\n\u001b[0m\u001b[1;32m    185\u001b[0m \u001b[0;34m\u001b[0m\u001b[0m\n\u001b[1;32m    186\u001b[0m     \u001b[0;32mdef\u001b[0m \u001b[0mget_nowait\u001b[0m\u001b[0;34m(\u001b[0m\u001b[0mself\u001b[0m\u001b[0;34m)\u001b[0m\u001b[0;34m:\u001b[0m\u001b[0;34m\u001b[0m\u001b[0m\n",
      "\u001b[0;32m/opt/conda/lib/python3.6/queue.py\u001b[0m in \u001b[0;36mput\u001b[0;34m(self, item, block, timeout)\u001b[0m\n\u001b[1;32m    128\u001b[0m                 \u001b[0;32mif\u001b[0m \u001b[0;32mnot\u001b[0m \u001b[0mblock\u001b[0m\u001b[0;34m:\u001b[0m\u001b[0;34m\u001b[0m\u001b[0m\n\u001b[1;32m    129\u001b[0m                     \u001b[0;32mif\u001b[0m \u001b[0mself\u001b[0m\u001b[0;34m.\u001b[0m\u001b[0m_qsize\u001b[0m\u001b[0;34m(\u001b[0m\u001b[0;34m)\u001b[0m \u001b[0;34m>=\u001b[0m \u001b[0mself\u001b[0m\u001b[0;34m.\u001b[0m\u001b[0mmaxsize\u001b[0m\u001b[0;34m:\u001b[0m\u001b[0;34m\u001b[0m\u001b[0m\n\u001b[0;32m--> 130\u001b[0;31m                         \u001b[0;32mraise\u001b[0m \u001b[0mFull\u001b[0m\u001b[0;34m\u001b[0m\u001b[0m\n\u001b[0m\u001b[1;32m    131\u001b[0m                 \u001b[0;32melif\u001b[0m \u001b[0mtimeout\u001b[0m \u001b[0;32mis\u001b[0m \u001b[0;32mNone\u001b[0m\u001b[0;34m:\u001b[0m\u001b[0;34m\u001b[0m\u001b[0m\n\u001b[1;32m    132\u001b[0m                     \u001b[0;32mwhile\u001b[0m \u001b[0mself\u001b[0m\u001b[0;34m.\u001b[0m\u001b[0m_qsize\u001b[0m\u001b[0;34m(\u001b[0m\u001b[0;34m)\u001b[0m \u001b[0;34m>=\u001b[0m \u001b[0mself\u001b[0m\u001b[0;34m.\u001b[0m\u001b[0mmaxsize\u001b[0m\u001b[0;34m:\u001b[0m\u001b[0;34m\u001b[0m\u001b[0m\n",
      "\u001b[0;31mFull\u001b[0m: "
     ]
    }
   ],
   "source": [
    "import queue\n",
    "q = queue.Queue(2)\n",
    "q.put_nowait(\"apple\")\n",
    "q.put_nowait(\"banana\")\n",
    "q.put_nowait(\"orange\") #q에 put은 안됨 "
   ]
  },
  {
   "cell_type": "code",
   "execution_count": 45,
   "metadata": {},
   "outputs": [
    {
     "data": {
      "text/plain": [
       "'apple'"
      ]
     },
     "execution_count": 45,
     "metadata": {},
     "output_type": "execute_result"
    }
   ],
   "source": [
    "q.get_nowait()"
   ]
  },
  {
   "cell_type": "code",
   "execution_count": 46,
   "metadata": {},
   "outputs": [
    {
     "data": {
      "text/plain": [
       "'banana'"
      ]
     },
     "execution_count": 46,
     "metadata": {},
     "output_type": "execute_result"
    }
   ],
   "source": [
    "q.get_nowait()"
   ]
  },
  {
   "cell_type": "code",
   "execution_count": 47,
   "metadata": {},
   "outputs": [
    {
     "ename": "Empty",
     "evalue": "",
     "output_type": "error",
     "traceback": [
      "\u001b[0;31m---------------------------------------------------------------------------\u001b[0m",
      "\u001b[0;31mEmpty\u001b[0m                                     Traceback (most recent call last)",
      "\u001b[0;32m<ipython-input-47-4f5e3b567b9e>\u001b[0m in \u001b[0;36m<module>\u001b[0;34m()\u001b[0m\n\u001b[0;32m----> 1\u001b[0;31m \u001b[0mq\u001b[0m\u001b[0;34m.\u001b[0m\u001b[0mget_nowait\u001b[0m\u001b[0;34m(\u001b[0m\u001b[0;34m)\u001b[0m\u001b[0;34m\u001b[0m\u001b[0m\n\u001b[0m",
      "\u001b[0;32m/opt/conda/lib/python3.6/queue.py\u001b[0m in \u001b[0;36mget_nowait\u001b[0;34m(self)\u001b[0m\n\u001b[1;32m    190\u001b[0m         \u001b[0;32mraise\u001b[0m \u001b[0mthe\u001b[0m \u001b[0mEmpty\u001b[0m \u001b[0mexception\u001b[0m\u001b[0;34m.\u001b[0m\u001b[0;34m\u001b[0m\u001b[0m\n\u001b[1;32m    191\u001b[0m         '''\n\u001b[0;32m--> 192\u001b[0;31m         \u001b[0;32mreturn\u001b[0m \u001b[0mself\u001b[0m\u001b[0;34m.\u001b[0m\u001b[0mget\u001b[0m\u001b[0;34m(\u001b[0m\u001b[0mblock\u001b[0m\u001b[0;34m=\u001b[0m\u001b[0;32mFalse\u001b[0m\u001b[0;34m)\u001b[0m\u001b[0;34m\u001b[0m\u001b[0m\n\u001b[0m\u001b[1;32m    193\u001b[0m \u001b[0;34m\u001b[0m\u001b[0m\n\u001b[1;32m    194\u001b[0m     \u001b[0;31m# Override these methods to implement other queue organizations\u001b[0m\u001b[0;34m\u001b[0m\u001b[0;34m\u001b[0m\u001b[0m\n",
      "\u001b[0;32m/opt/conda/lib/python3.6/queue.py\u001b[0m in \u001b[0;36mget\u001b[0;34m(self, block, timeout)\u001b[0m\n\u001b[1;32m    159\u001b[0m             \u001b[0;32mif\u001b[0m \u001b[0;32mnot\u001b[0m \u001b[0mblock\u001b[0m\u001b[0;34m:\u001b[0m\u001b[0;34m\u001b[0m\u001b[0m\n\u001b[1;32m    160\u001b[0m                 \u001b[0;32mif\u001b[0m \u001b[0;32mnot\u001b[0m \u001b[0mself\u001b[0m\u001b[0;34m.\u001b[0m\u001b[0m_qsize\u001b[0m\u001b[0;34m(\u001b[0m\u001b[0;34m)\u001b[0m\u001b[0;34m:\u001b[0m\u001b[0;34m\u001b[0m\u001b[0m\n\u001b[0;32m--> 161\u001b[0;31m                     \u001b[0;32mraise\u001b[0m \u001b[0mEmpty\u001b[0m\u001b[0;34m\u001b[0m\u001b[0m\n\u001b[0m\u001b[1;32m    162\u001b[0m             \u001b[0;32melif\u001b[0m \u001b[0mtimeout\u001b[0m \u001b[0;32mis\u001b[0m \u001b[0;32mNone\u001b[0m\u001b[0;34m:\u001b[0m\u001b[0;34m\u001b[0m\u001b[0m\n\u001b[1;32m    163\u001b[0m                 \u001b[0;32mwhile\u001b[0m \u001b[0;32mnot\u001b[0m \u001b[0mself\u001b[0m\u001b[0;34m.\u001b[0m\u001b[0m_qsize\u001b[0m\u001b[0;34m(\u001b[0m\u001b[0;34m)\u001b[0m\u001b[0;34m:\u001b[0m\u001b[0;34m\u001b[0m\u001b[0m\n",
      "\u001b[0;31mEmpty\u001b[0m: "
     ]
    }
   ],
   "source": [
    "q.get_nowait()"
   ]
  },
  {
   "cell_type": "markdown",
   "metadata": {},
   "source": [
    "#### put(), get() 메서드에서도 추가적인 인자를 전달해 더 다양한 동작을 할 수 있음\n",
    "#### block은 블로킹 여부를, timeout은 블로킹이 될 시간을 초단위로 입력 가능\n",
    "##### put(item[,block[,timeout]])\n",
    "##### get([block[,timeout]])\n"
   ]
  },
  {
   "cell_type": "code",
   "execution_count": 48,
   "metadata": {},
   "outputs": [
    {
     "ename": "Full",
     "evalue": "",
     "output_type": "error",
     "traceback": [
      "\u001b[0;31m---------------------------------------------------------------------------\u001b[0m",
      "\u001b[0;31mFull\u001b[0m                                      Traceback (most recent call last)",
      "\u001b[0;32m<ipython-input-48-7e9bc6e91033>\u001b[0m in \u001b[0;36m<module>\u001b[0;34m()\u001b[0m\n\u001b[1;32m      6\u001b[0m \u001b[0mq\u001b[0m\u001b[0;34m.\u001b[0m\u001b[0mput\u001b[0m\u001b[0;34m(\u001b[0m\u001b[0;34m\"banana\"\u001b[0m\u001b[0;34m)\u001b[0m \u001b[0;31m#큐 꽉참\u001b[0m\u001b[0;34m\u001b[0m\u001b[0m\n\u001b[1;32m      7\u001b[0m \u001b[0;34m\u001b[0m\u001b[0m\n\u001b[0;32m----> 8\u001b[0;31m \u001b[0mq\u001b[0m\u001b[0;34m.\u001b[0m\u001b[0mput\u001b[0m\u001b[0;34m(\u001b[0m\u001b[0;34m\"orange\"\u001b[0m\u001b[0;34m,\u001b[0m\u001b[0;32mTrue\u001b[0m\u001b[0;34m,\u001b[0m\u001b[0;36m3\u001b[0m\u001b[0;34m)\u001b[0m \u001b[0;31m#3초 동안 큐 객체에 빈 공간 생성을 기다리며 블록킹됨\u001b[0m\u001b[0;34m\u001b[0m\u001b[0m\n\u001b[0m",
      "\u001b[0;32m/opt/conda/lib/python3.6/queue.py\u001b[0m in \u001b[0;36mput\u001b[0;34m(self, item, block, timeout)\u001b[0m\n\u001b[1;32m    139\u001b[0m                         \u001b[0mremaining\u001b[0m \u001b[0;34m=\u001b[0m \u001b[0mendtime\u001b[0m \u001b[0;34m-\u001b[0m \u001b[0mtime\u001b[0m\u001b[0;34m(\u001b[0m\u001b[0;34m)\u001b[0m\u001b[0;34m\u001b[0m\u001b[0m\n\u001b[1;32m    140\u001b[0m                         \u001b[0;32mif\u001b[0m \u001b[0mremaining\u001b[0m \u001b[0;34m<=\u001b[0m \u001b[0;36m0.0\u001b[0m\u001b[0;34m:\u001b[0m\u001b[0;34m\u001b[0m\u001b[0m\n\u001b[0;32m--> 141\u001b[0;31m                             \u001b[0;32mraise\u001b[0m \u001b[0mFull\u001b[0m\u001b[0;34m\u001b[0m\u001b[0m\n\u001b[0m\u001b[1;32m    142\u001b[0m                         \u001b[0mself\u001b[0m\u001b[0;34m.\u001b[0m\u001b[0mnot_full\u001b[0m\u001b[0;34m.\u001b[0m\u001b[0mwait\u001b[0m\u001b[0;34m(\u001b[0m\u001b[0mremaining\u001b[0m\u001b[0;34m)\u001b[0m\u001b[0;34m\u001b[0m\u001b[0m\n\u001b[1;32m    143\u001b[0m             \u001b[0mself\u001b[0m\u001b[0;34m.\u001b[0m\u001b[0m_put\u001b[0m\u001b[0;34m(\u001b[0m\u001b[0mitem\u001b[0m\u001b[0;34m)\u001b[0m\u001b[0;34m\u001b[0m\u001b[0m\n",
      "\u001b[0;31mFull\u001b[0m: "
     ]
    }
   ],
   "source": [
    "#큐 객체가 꽉 찬 경우, 약 5초간 다른 스레드가 아이템을 출력하기를 기다리며 블록킹됐다가, 시간이 지나면 quere.Full 예외를 발생시키는 예제\n",
    "\n",
    "import queue\n",
    "q = queue.Queue(2)\n",
    "q.put_nowait(\"apple\")\n",
    "q.put(\"banana\") #큐 꽉참\n",
    "\n",
    "q.put(\"orange\",True,3) #3초 동안 큐 객체에 빈 공간 생성을 기다리며 블록킹됨"
   ]
  },
  {
   "cell_type": "markdown",
   "metadata": {},
   "source": [
    "만약 put()메서드를 \n",
    "> q.put(\"orange\",False)\n",
    "와 같이 호출하면 \n",
    ">put_nowait()와 동일한 동작"
   ]
  },
  {
   "cell_type": "markdown",
   "metadata": {},
   "source": [
    "# 5. weakref 모듈\n",
    "\n",
    "어떤 객체가 생성되면 메모리에 저장, 지정된 이름을 참조해 접근.\n",
    "메모리상의 동일한 객체에 대해 여러 다른 이름으로 참조 가능, 참조되는 이름이 증가할 때마다 내부적으로 레퍼런스 카운터가 하나씩 증가.\n",
    "참조하는 레퍼런스가 하나라도 있는 경우 가비지컬렉션이 일어나지 않음.\n",
    "\n",
    "weakref모듈은 객체에 대한 약한 참조(Weak reference)를 만드는데 사용.\n",
    "약한 참조는 변수가 객체를 참조할 때, 레퍼런스 카운터를 증가 시키지 않고 참조하는 객체를 얻을 수 있음.\n",
    "\n",
    "예를들어, C와 연동하는 경우, 순환 참조가 발생할 수 있으며, 이는 사라지지 않는 객체가 존재할 수 있는 위험이 있음.\n",
    "이러한 경우 약한 참조 객체를 사용하면 순환 참조를 막을 수 있음.\n",
    "\n",
    "https://www.youtube.com/watch?v=SAVEb0cgJvo"
   ]
  },
  {
   "cell_type": "markdown",
   "metadata": {},
   "source": [
    "### 주요 함수\n",
    "#### class weakref.ref(object[,callback]) : 객체에 대한 약한 참조 객체를 반환, 객체가 메모리에 존재하는 경우 객체에 대한 참조를 반환하며,그렇지 않은 경우 None을 반환\n",
    "#### weakref.proxy(object[,callback]) : 객체에 대한 약한 참조 프록시를 생성. 명시적으로 약한 참조 객체를 생성하는 대신 프록시를 이용해 객체의 참조를 얻을 수 있음\n",
    "#### weakref.getweakrefcount(object) : 객체에 대한 약한 레퍼런스 카운터를 반환\n",
    "#### weakref.getweakrefs(object) : 객체를 참조하는 약한 참조 객체와 프록시를 리스트로 반환"
   ]
  },
  {
   "cell_type": "code",
   "execution_count": 49,
   "metadata": {},
   "outputs": [
    {
     "data": {
      "text/plain": [
       "'red'"
      ]
     },
     "execution_count": 49,
     "metadata": {},
     "output_type": "execute_result"
    }
   ],
   "source": [
    "#약한 참조 객체를 생성해 그에 대한 참조를 변수에 할당하는 예제\n",
    "#이렇게 얻은 변수는 원본 객체와 동일한 메모리 공간을 가리킴\n",
    "#더 이상 원본 객체에 대해서 참조하는 값이 없는 경우 참조 객체는 None을 반환\n",
    "\n",
    "import weakref\n",
    "class Apple:\n",
    "    pass\n",
    "\n",
    "a = Apple()\n",
    "a.color = \"red\"\n",
    "r = weakref.ref(a) #약한 참조 객체 생성\n",
    "ref_a = r() #원본 객체의 참조 생성\n",
    "\n",
    "ref_a.color"
   ]
  },
  {
   "cell_type": "code",
   "execution_count": 50,
   "metadata": {},
   "outputs": [
    {
     "data": {
      "text/plain": [
       "True"
      ]
     },
     "execution_count": 50,
     "metadata": {},
     "output_type": "execute_result"
    }
   ],
   "source": [
    "a is ref_a #두 객체는 동일"
   ]
  },
  {
   "cell_type": "code",
   "execution_count": 51,
   "metadata": {},
   "outputs": [
    {
     "data": {
      "text/plain": [
       "<__main__.Apple at 0x7fab14194278>"
      ]
     },
     "execution_count": 51,
     "metadata": {},
     "output_type": "execute_result"
    }
   ],
   "source": [
    "a"
   ]
  },
  {
   "cell_type": "code",
   "execution_count": 52,
   "metadata": {},
   "outputs": [
    {
     "data": {
      "text/plain": [
       "<__main__.Apple at 0x7fab14194278>"
      ]
     },
     "execution_count": 52,
     "metadata": {},
     "output_type": "execute_result"
    }
   ],
   "source": [
    "ref_a"
   ]
  },
  {
   "cell_type": "code",
   "execution_count": 21,
   "metadata": {},
   "outputs": [
    {
     "data": {
      "text/plain": [
       "<weakref at 0x000001F9EFD90688; to 'Apple' at 0x000001F9EFD95198>"
      ]
     },
     "execution_count": 21,
     "metadata": {},
     "output_type": "execute_result"
    }
   ],
   "source": [
    "r"
   ]
  },
  {
   "cell_type": "code",
   "execution_count": 54,
   "metadata": {},
   "outputs": [
    {
     "ename": "NameError",
     "evalue": "name 'a' is not defined",
     "output_type": "error",
     "traceback": [
      "\u001b[0;31m---------------------------------------------------------------------------\u001b[0m",
      "\u001b[0;31mNameError\u001b[0m                                 Traceback (most recent call last)",
      "\u001b[0;32m<ipython-input-54-974b51c6aa3f>\u001b[0m in \u001b[0;36m<module>\u001b[0;34m()\u001b[0m\n\u001b[0;32m----> 1\u001b[0;31m \u001b[0;32mdel\u001b[0m \u001b[0ma\u001b[0m\u001b[0;34m,\u001b[0m \u001b[0mref_a\u001b[0m \u001b[0;31m#참조하는 변수 삭제\u001b[0m\u001b[0;34m\u001b[0m\u001b[0m\n\u001b[0m",
      "\u001b[0;31mNameError\u001b[0m: name 'a' is not defined"
     ]
    }
   ],
   "source": [
    "del a, ref_a #참조하는 변수 삭제"
   ]
  },
  {
   "cell_type": "code",
   "execution_count": 23,
   "metadata": {},
   "outputs": [
    {
     "data": {
      "text/plain": [
       "<__main__.Apple at 0x1f9efd95198>"
      ]
     },
     "execution_count": 23,
     "metadata": {},
     "output_type": "execute_result"
    }
   ],
   "source": [
    "r() #원본 객체가 삭제되면 None을 반환"
   ]
  },
  {
   "cell_type": "code",
   "execution_count": 59,
   "metadata": {},
   "outputs": [
    {
     "data": {
      "text/plain": [
       "'red'"
      ]
     },
     "execution_count": 59,
     "metadata": {},
     "output_type": "execute_result"
    }
   ],
   "source": [
    "#약한 참조 객체 대신 프록시를 생성해 사용하는 예제\n",
    "#프록시 객체는 원본 객체를 잠시 대신하는 것으로, 원본 객체와 동일한 메모리 공간을 나타내는 것은 아님.\n",
    "#원본 객체가 사라지면 프록시 역시 None이 되어 더는 사용할 수 없음\n",
    "\n",
    "import weakref\n",
    "class Apple:\n",
    "    pass\n",
    "\n",
    "a = Apple()\n",
    "a.color = \"red\"\n",
    "proxy_a = weakref.proxy(a) #프록시 객체 생성\n",
    "\n",
    "proxy_a.color #프록시를 통하여 원본 객체 참조 가능"
   ]
  },
  {
   "cell_type": "code",
   "execution_count": 60,
   "metadata": {},
   "outputs": [
    {
     "data": {
      "text/plain": [
       "False"
      ]
     },
     "execution_count": 60,
     "metadata": {},
     "output_type": "execute_result"
    }
   ],
   "source": [
    "a is proxy_a #원본 객체와 프록시는 같지 않음 "
   ]
  },
  {
   "cell_type": "code",
   "execution_count": 61,
   "metadata": {},
   "outputs": [
    {
     "data": {
      "text/plain": [
       "<__main__.Apple at 0x7fab141decf8>"
      ]
     },
     "execution_count": 61,
     "metadata": {},
     "output_type": "execute_result"
    }
   ],
   "source": [
    "a"
   ]
  },
  {
   "cell_type": "code",
   "execution_count": 62,
   "metadata": {},
   "outputs": [
    {
     "data": {
      "text/plain": [
       "<__main__.Apple at 0x7fab14134d18>"
      ]
     },
     "execution_count": 62,
     "metadata": {},
     "output_type": "execute_result"
    }
   ],
   "source": [
    "proxy_a"
   ]
  },
  {
   "cell_type": "code",
   "execution_count": 58,
   "metadata": {},
   "outputs": [
    {
     "ename": "NameError",
     "evalue": "name 'a' is not defined",
     "output_type": "error",
     "traceback": [
      "\u001b[0;31m---------------------------------------------------------------------------\u001b[0m",
      "\u001b[0;31mNameError\u001b[0m                                 Traceback (most recent call last)",
      "\u001b[0;32m<ipython-input-58-4a7106327ff6>\u001b[0m in \u001b[0;36m<module>\u001b[0;34m()\u001b[0m\n\u001b[0;32m----> 1\u001b[0;31m \u001b[0;32mdel\u001b[0m \u001b[0ma\u001b[0m\u001b[0;34m\u001b[0m\u001b[0m\n\u001b[0m",
      "\u001b[0;31mNameError\u001b[0m: name 'a' is not defined"
     ]
    }
   ],
   "source": [
    "del a"
   ]
  },
  {
   "cell_type": "code",
   "execution_count": 63,
   "metadata": {},
   "outputs": [
    {
     "data": {
      "text/plain": [
       "<__main__.Apple at 0x7fab14134d18>"
      ]
     },
     "execution_count": 63,
     "metadata": {},
     "output_type": "execute_result"
    }
   ],
   "source": [
    "proxy_a #원본객체가 사리지면 프록시는 None이 되어야 하는데 왜... 있지...."
   ]
  },
  {
   "cell_type": "code",
   "execution_count": 64,
   "metadata": {},
   "outputs": [
    {
     "data": {
      "text/plain": [
       "2"
      ]
     },
     "execution_count": 64,
     "metadata": {},
     "output_type": "execute_result"
    }
   ],
   "source": [
    "#약한 참조 개수와 약한 참조 리스트를 구하는 예제\n",
    "a = Apple()\n",
    "r = weakref.ref(a)\n",
    "proxy_a = weakref.proxy(a)\n",
    "weakref.getweakrefcount(a) #약한 참조 개수\n",
    "#r, proxy_a 총 두개"
   ]
  },
  {
   "cell_type": "code",
   "execution_count": 65,
   "metadata": {},
   "outputs": [
    {
     "data": {
      "text/plain": [
       "[<weakref at 0x7fab141381d8; to 'Apple' at 0x7fab1417ff98>,\n",
       " <__main__.Apple at 0x7fab14134318>]"
      ]
     },
     "execution_count": 65,
     "metadata": {},
     "output_type": "execute_result"
    }
   ],
   "source": [
    "weakref.getweakrefs(a) #약한 참조 리스트"
   ]
  },
  {
   "cell_type": "code",
   "execution_count": null,
   "metadata": {
    "collapsed": true
   },
   "outputs": [],
   "source": []
  },
  {
   "cell_type": "code",
   "execution_count": 66,
   "metadata": {},
   "outputs": [
    {
     "data": {
      "text/plain": [
       "{'apple': 100, 'banana': 300}"
      ]
     },
     "execution_count": 66,
     "metadata": {},
     "output_type": "execute_result"
    }
   ],
   "source": [
    "#만약, 리스트, 사전 같은 내장 타입에 대해 약한 참조 객체를 하고자 하는 경우 서브클래싱(subclassing)을 이용해 구현 가능\n",
    "\n",
    "class MyDict(dict): #사전을 상속받은 클래스\n",
    "    pass\n",
    "\n",
    "myDict = MyDict()\n",
    "myDict[\"apple\"] = 100\n",
    "myDict[\"banana\"] = 300\n",
    "myDict"
   ]
  },
  {
   "cell_type": "code",
   "execution_count": 67,
   "metadata": {},
   "outputs": [
    {
     "data": {
      "text/plain": [
       "<weakproxy at 0x7fab141387c8 to MyDict at 0x7fab141a9ca8>"
      ]
     },
     "execution_count": 67,
     "metadata": {},
     "output_type": "execute_result"
    }
   ],
   "source": [
    "proxy_dict = weakref.proxy(myDict) #프록시 객체 생성\n",
    "proxy_dict"
   ]
  },
  {
   "cell_type": "code",
   "execution_count": 68,
   "metadata": {},
   "outputs": [
    {
     "data": {
      "text/plain": [
       "100"
      ]
     },
     "execution_count": 68,
     "metadata": {},
     "output_type": "execute_result"
    }
   ],
   "source": [
    "proxy_dict[\"apple\"] #해당 값의 참조 가능"
   ]
  },
  {
   "cell_type": "code",
   "execution_count": 69,
   "metadata": {
    "collapsed": true
   },
   "outputs": [],
   "source": [
    "del myDict"
   ]
  },
  {
   "cell_type": "code",
   "execution_count": 36,
   "metadata": {},
   "outputs": [
    {
     "data": {
      "text/plain": [
       "<weakproxy at 0x000001F9EFDAB278 to MyDict at 0x000001F9EFD71D00>"
      ]
     },
     "execution_count": 36,
     "metadata": {},
     "output_type": "execute_result"
    }
   ],
   "source": [
    "proxy_dict #원복 객체 소멸시 프록시는 None이 되어야 하는데... 왜 있지...."
   ]
  },
  {
   "cell_type": "code",
   "execution_count": null,
   "metadata": {
    "collapsed": true
   },
   "outputs": [],
   "source": []
  },
  {
   "cell_type": "markdown",
   "metadata": {},
   "source": [
    "### 약한 사전\n",
    "약한 사전은 구성요소인 키(key)와 값(value)중 하나가 약한 참조로 구성되어 있는 경우\n",
    "\n",
    "예를들어 각 객체에 ID를 키로 부여해 사전에 넣어서 관리하는 경우, 사전에 넣는 순간 벌써 레퍼런스 카운터가 하나 증가.\n",
    "반면 약한 사전의 경우 사용자가 사전에 입력해도 레퍼런스 카운터가 증가되지 않으며, 원본 객체가 삭제되면 자동적으로 사전의 객체도 삭제되어 None이 됨"
   ]
  },
  {
   "cell_type": "markdown",
   "metadata": {},
   "source": [
    "#### class weakref.WeakKeyDictionary([dict]) : 키를 약한 참조로 갖는 사전 객체 생성\n",
    "#### class weakref.WeakValueDictionary([dict]) : 값을 약한 참조로 갖는 사전 객체 생성"
   ]
  },
  {
   "cell_type": "code",
   "execution_count": 70,
   "metadata": {
    "collapsed": true
   },
   "outputs": [],
   "source": [
    "#약한 참조 사전을 이용한 객체 관리 클래스\n",
    "\n",
    "import weakref\n",
    "class ObjectManager:\n",
    "    def __init__(self):\n",
    "        self.weakDict = weakref.WeakValueDictionary()\n",
    "        \n",
    "    def InputObject(self,obj): #객체를 입력받고 키를 반환 \n",
    "        objectID = id(object) #입력받은 객체의 ID생성\n",
    "        self.weakDict[objectID] = obj #약한 사전의 값으로 입력\n",
    "        return objectID\n",
    "    \n",
    "    def GetObject(self, objectID): #키를 입력하면 해당 객체를 반환하는 메서드\n",
    "        try:\n",
    "            return self.weakDict[objectID] #객체가 존재하는 경우 반환\n",
    "        except:\n",
    "            return None #객체가 소멸된 경우 None 반환"
   ]
  },
  {
   "cell_type": "code",
   "execution_count": 72,
   "metadata": {},
   "outputs": [
    {
     "name": "stdout",
     "output_type": "stream",
     "text": [
      "red\n"
     ]
    }
   ],
   "source": [
    "class Apple:\n",
    "    pass\n",
    "\n",
    "red_apple = Apple() #관리할 객체\n",
    "red_apple.color = \"red\"\n",
    "\n",
    "objectManager = ObjectManager() #ObjectManager 객체 생성\n",
    "red_id = objectManager.InputObject(red_apple) #객체를 입력하고 ID를 받음\n",
    "\n",
    "print(objectManager.GetObject(red_id).color) #발급받은 ID로 원본 객체 참조 가능"
   ]
  },
  {
   "cell_type": "code",
   "execution_count": 41,
   "metadata": {
    "collapsed": true
   },
   "outputs": [],
   "source": [
    "del red_apple #원본 객체 삭제"
   ]
  },
  {
   "cell_type": "code",
   "execution_count": 42,
   "metadata": {
    "collapsed": true
   },
   "outputs": [],
   "source": [
    "objectManager.GetObject(red_id) #None 반환 "
   ]
  },
  {
   "cell_type": "code",
   "execution_count": null,
   "metadata": {
    "collapsed": true
   },
   "outputs": [],
   "source": []
  }
 ],
 "metadata": {
  "kernelspec": {
   "display_name": "Python 3",
   "language": "python",
   "name": "python3"
  },
  "language_info": {
   "codemirror_mode": {
    "name": "ipython",
    "version": 3
   },
   "file_extension": ".py",
   "mimetype": "text/x-python",
   "name": "python",
   "nbconvert_exporter": "python",
   "pygments_lexer": "ipython3",
   "version": "3.6.1"
  }
 },
 "nbformat": 4,
 "nbformat_minor": 2
}
