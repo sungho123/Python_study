{
 "cells": [
  {
   "cell_type": "markdown",
   "metadata": {},
   "source": [
    "# 3장. 함수"
   ]
  },
  {
   "cell_type": "code",
   "execution_count": 5,
   "metadata": {
    "collapsed": true
   },
   "outputs": [],
   "source": [
    "#전역 변수를 사용하고 싶은 경우. global 선언문을 사용\n",
    "g = 1\n",
    "def testScope(a):\n",
    "    global g\n",
    "    g = 2 #위에서 global 을 선언해버리면서 전역 변수 g의 값이 2로 바뀌게 된다.\n",
    "    return g + a"
   ]
  },
  {
   "cell_type": "code",
   "execution_count": 6,
   "metadata": {},
   "outputs": [],
   "source": [
    "testScope(1)"
   ]
  },
  {
   "cell_type": "code",
   "execution_count": 7,
   "metadata": {},
   "outputs": [
    {
     "data": {
      "text/plain": [
       "1"
      ]
     },
     "execution_count": 7,
     "metadata": {},
     "output_type": "execute_result"
    }
   ],
   "source": [
    "g"
   ]
  },
  {
   "cell_type": "code",
   "execution_count": null,
   "metadata": {},
   "outputs": [],
   "source": [
    "del g\n",
    "def testGlobal(a):\n",
    "    global g\n",
    "    return g + a\n",
    "testGlobal(1)"
   ]
  },
  {
   "cell_type": "code",
   "execution_count": null,
   "metadata": {
    "collapsed": true
   },
   "outputs": [],
   "source": [
    "g = 2"
   ]
  },
  {
   "cell_type": "code",
   "execution_count": null,
   "metadata": {},
   "outputs": [],
   "source": [
    "testGlobal(1)"
   ]
  },
  {
   "cell_type": "code",
   "execution_count": 9,
   "metadata": {},
   "outputs": [
    {
     "name": "stdout",
     "output_type": "stream",
     "text": [
      "<class 'tuple'>\n"
     ]
    }
   ],
   "source": [
    "#가변 인자 리스트(더 들어올 수 있고, 안들어 올 수도 있다.)\n",
    "def test(*args): #가변인자 리스트는 Tuple(변경 불가한 값)로 처리된다.\n",
    "    print(type(args))\n",
    "test(1,2) #Tuple로 반환"
   ]
  },
  {
   "cell_type": "code",
   "execution_count": 12,
   "metadata": {
    "collapsed": true
   },
   "outputs": [],
   "source": [
    "#정의되지 않은 인자 처리하기\n",
    "def userURLBuilder(server, port, **user): #**user는 dictionary 형태로 받는다.\n",
    "    string = 'http://' + str(server) + ':' + str(port) + '/?'\n",
    "    for key in user.keys():\n",
    "        string += key + '=' + str(user[key]) + '&'\n",
    "    return string"
   ]
  },
  {
   "cell_type": "code",
   "execution_count": 13,
   "metadata": {},
   "outputs": [
    {
     "data": {
      "text/plain": [
       "'http://test.com:8080/?id=userid&passwd=1234&name=seho&age=20&'"
      ]
     },
     "execution_count": 13,
     "metadata": {},
     "output_type": "execute_result"
    }
   ],
   "source": [
    "userURLBuilder(\"test.com\", 8080, id = 'userid', passwd = 1234, name = 'seho', age = 20)"
   ]
  },
  {
   "cell_type": "code",
   "execution_count": 14,
   "metadata": {},
   "outputs": [
    {
     "data": {
      "text/plain": [
       "6"
      ]
     },
     "execution_count": 14,
     "metadata": {},
     "output_type": "execute_result"
    }
   ],
   "source": [
    "#lambda 함수 -> 한 줄로 쓰는 함수 \n",
    "#이름이 존재하지 않는 익명 함수.\n",
    "#간단한 함수가 필요한 경우, 가독성을 위할 때. 바로 사라진다.\n",
    "\n",
    "g = lambda x, y : x * y\n",
    "g(2,3)"
   ]
  },
  {
   "cell_type": "code",
   "execution_count": 15,
   "metadata": {
    "collapsed": true
   },
   "outputs": [],
   "source": [
    "#map 함수\n",
    "#리스트의 원소를 하나씩 입력받은 함수에 적용시키고 결과를 새로운 리스트로 넘겨준다.\n",
    "#\n",
    "\n",
    "def square(x):\n",
    "    x = x*x\n",
    "    return x"
   ]
  },
  {
   "cell_type": "code",
   "execution_count": 16,
   "metadata": {},
   "outputs": [
    {
     "data": {
      "text/plain": [
       "[1, 4, 9, 16, 25]"
      ]
     },
     "execution_count": 16,
     "metadata": {},
     "output_type": "execute_result"
    }
   ],
   "source": [
    "list(map(square, [1,2,3,4,5]))"
   ]
  },
  {
   "cell_type": "code",
   "execution_count": 17,
   "metadata": {},
   "outputs": [
    {
     "data": {
      "text/plain": [
       "[1, 4, 9, 16, 25]"
      ]
     },
     "execution_count": 17,
     "metadata": {},
     "output_type": "execute_result"
    }
   ],
   "source": [
    "list(map(lambda x : x*x, [1,2,3,4,5]))"
   ]
  },
  {
   "cell_type": "code",
   "execution_count": 18,
   "metadata": {},
   "outputs": [
    {
     "name": "stdout",
     "output_type": "stream",
     "text": [
      "Help on built-in function print in module builtins:\n",
      "\n",
      "print(...)\n",
      "    print(value, ..., sep=' ', end='\\n', file=sys.stdout, flush=False)\n",
      "    \n",
      "    Prints the values to a stream, or to sys.stdout by default.\n",
      "    Optional keyword arguments:\n",
      "    file:  a file-like object (stream); defaults to the current sys.stdout.\n",
      "    sep:   string inserted between values, default a space.\n",
      "    end:   string appended after the last value, default a newline.\n",
      "    flush: whether to forcibly flush the stream.\n",
      "\n"
     ]
    }
   ],
   "source": [
    "#help()\n",
    "help(print)"
   ]
  },
  {
   "cell_type": "code",
   "execution_count": 19,
   "metadata": {},
   "outputs": [
    {
     "name": "stdout",
     "output_type": "stream",
     "text": [
      "Help on function plus in module __main__:\n",
      "\n",
      "plus(x, y)\n",
      "\n"
     ]
    }
   ],
   "source": [
    "#사용자 정의 함수에도 사용가능\n",
    "\n",
    "def plus(x, y):\n",
    "    return(x, y)\n",
    "help(plus)"
   ]
  },
  {
   "cell_type": "code",
   "execution_count": 20,
   "metadata": {},
   "outputs": [
    {
     "name": "stdout",
     "output_type": "stream",
     "text": [
      "Help on function plus in module __main__:\n",
      "\n",
      "plus(x, y)\n",
      "    두 개를 더한다.\n",
      "    끗\n",
      "\n"
     ]
    }
   ],
   "source": [
    "#내용을 추가하고 싶으면  __doc__ 메소드를 이용\n",
    "plus.__doc__ = \"두 개를 더한다.\\n 끗\"\n",
    "help(plus)"
   ]
  },
  {
   "cell_type": "code",
   "execution_count": 21,
   "metadata": {},
   "outputs": [
    {
     "name": "stdout",
     "output_type": "stream",
     "text": [
      "Help on function plus in module __main__:\n",
      "\n",
      "plus(x, y)\n",
      "    다시 한번 말하지만. \n",
      "    두개를 더한다.\n",
      "    끗!!\n",
      "    예시는 plus(1,2)\n",
      "\n"
     ]
    }
   ],
   "source": [
    "#함수 생성 단계에서 넣을 수도 있음\n",
    "def plus(x, y):#함수 시작부분에 '''~~~''', \"\"\"~~~\"\"\"로 넣어줘야 한다.\n",
    "    '''다시 한번 말하지만. \n",
    "    두개를 더한다.\n",
    "    끗!!\n",
    "    예시는 plus(1,2)'''\n",
    "    return(x,y)\n",
    "help(plus)"
   ]
  },
  {
   "cell_type": "markdown",
   "metadata": {},
   "source": [
    "# Iterator"
   ]
  },
  {
   "cell_type": "code",
   "execution_count": 22,
   "metadata": {},
   "outputs": [
    {
     "ename": "SyntaxError",
     "evalue": "invalid syntax (<ipython-input-22-4d4916eeac16>, line 7)",
     "output_type": "error",
     "traceback": [
      "\u001b[0;36m  File \u001b[0;32m\"<ipython-input-22-4d4916eeac16>\"\u001b[0;36m, line \u001b[0;32m7\u001b[0m\n\u001b[0;31m    1. [1,2,3]에서 iterator 객체를 불러온다.\u001b[0m\n\u001b[0m               ^\u001b[0m\n\u001b[0;31mSyntaxError\u001b[0m\u001b[0;31m:\u001b[0m invalid syntax\n"
     ]
    }
   ],
   "source": [
    "#for 문에 대한 설명.\n",
    "#순회 가능한 객체(list, tuple)= 순서가 존재하는 객체에는 iterator라는 객체가 포함되어 있다.\n",
    "#iterator는 순회가능한 객체의 요소에 순서대로 접근할 수 있는 객체이다.\n",
    "for element in [1,2,3]:\n",
    "    print(element)\n",
    "\n",
    "1. [1,2,3]에서 iterator 객체를 불러온다. \n",
    "2. 맨 처음 iterator는 객체의 첫번째 요소를 가리킨다.(참조)\n",
    "3.  __next__()메서드가 실행된다.\n",
    "    __next__()메서드는 지금 가리키는 요소를 반환하고 다음 요소로 iterator를 옮긴다.\n",
    "4. stopIteration 예외를 만날 때 까지 반복한다. \n"
   ]
  },
  {
   "cell_type": "code",
   "execution_count": 23,
   "metadata": {
    "collapsed": true
   },
   "outputs": [],
   "source": [
    "s = 'abc'\n",
    "it = iter(s) #iter()는 순회 가능 객체에서 iterator를 가져온다."
   ]
  },
  {
   "cell_type": "code",
   "execution_count": 24,
   "metadata": {},
   "outputs": [
    {
     "name": "stdout",
     "output_type": "stream",
     "text": [
      "<str_iterator object at 0x7f47c2ef7978>\n"
     ]
    }
   ],
   "source": [
    "print(it)"
   ]
  },
  {
   "cell_type": "code",
   "execution_count": 25,
   "metadata": {},
   "outputs": [
    {
     "data": {
      "text/plain": [
       "'a'"
      ]
     },
     "execution_count": 25,
     "metadata": {},
     "output_type": "execute_result"
    }
   ],
   "source": [
    "next(it) #next()는 __next__()를 실행한다. 현재 가리키는 값을 반환하고 다음으로 넘어간다."
   ]
  },
  {
   "cell_type": "code",
   "execution_count": 26,
   "metadata": {},
   "outputs": [
    {
     "data": {
      "text/plain": [
       "'b'"
      ]
     },
     "execution_count": 26,
     "metadata": {},
     "output_type": "execute_result"
    }
   ],
   "source": [
    "next(it)"
   ]
  },
  {
   "cell_type": "code",
   "execution_count": 27,
   "metadata": {},
   "outputs": [
    {
     "data": {
      "text/plain": [
       "'c'"
      ]
     },
     "execution_count": 27,
     "metadata": {},
     "output_type": "execute_result"
    }
   ],
   "source": [
    "it.__next__()"
   ]
  },
  {
   "cell_type": "code",
   "execution_count": 28,
   "metadata": {
    "scrolled": true
   },
   "outputs": [
    {
     "ename": "StopIteration",
     "evalue": "",
     "output_type": "error",
     "traceback": [
      "\u001b[0;31m---------------------------------------------------------------------------\u001b[0m",
      "\u001b[0;31mStopIteration\u001b[0m                             Traceback (most recent call last)",
      "\u001b[0;32m<ipython-input-28-3548c06a5253>\u001b[0m in \u001b[0;36m<module>\u001b[0;34m()\u001b[0m\n\u001b[0;32m----> 1\u001b[0;31m \u001b[0mnext\u001b[0m\u001b[0;34m(\u001b[0m\u001b[0mit\u001b[0m\u001b[0;34m)\u001b[0m \u001b[0;31m#StopIteration을 만난다.\u001b[0m\u001b[0;34m\u001b[0m\u001b[0m\n\u001b[0m",
      "\u001b[0;31mStopIteration\u001b[0m: "
     ]
    }
   ],
   "source": [
    "next(it) #StopIteration을 만난다."
   ]
  },
  {
   "cell_type": "markdown",
   "metadata": {},
   "source": [
    "# Generator\n",
    "\n",
    "iterator를 만드는 도구\n",
    "함수와 유사하지만, return 대신 yield를 사용한다."
   ]
  },
  {
   "cell_type": "code",
   "execution_count": 29,
   "metadata": {},
   "outputs": [
    {
     "name": "stdout",
     "output_type": "stream",
     "text": [
      "f\n",
      "l\n",
      "o\n",
      "g\n"
     ]
    }
   ],
   "source": [
    "def reverse(data):\n",
    "    for index in range(len(data)-1,-1,-1):\n",
    "        yield data[index]\n",
    "for char in reverse('golf'):\n",
    "    print(char)"
   ]
  },
  {
   "cell_type": "markdown",
   "metadata": {},
   "source": [
    "reverse 함수는 총 4번 호출되지만, 메모리에 남아 있다. \n",
    "for 문에 의해 호출 되면서 iterator가 작동하여 계속 다음 요소를 반환할 수 있게 된다.\n",
    "return이었으면 f만 반환"
   ]
  },
  {
   "cell_type": "code",
   "execution_count": 30,
   "metadata": {
    "collapsed": true
   },
   "outputs": [],
   "source": [
    "def abc():\n",
    "    data = 'abc'\n",
    "    for char in data:\n",
    "        return char"
   ]
  },
  {
   "cell_type": "code",
   "execution_count": 31,
   "metadata": {},
   "outputs": [],
   "source": [
    "it = iter(abc())"
   ]
  },
  {
   "cell_type": "code",
   "execution_count": 32,
   "metadata": {},
   "outputs": [
    {
     "data": {
      "text/plain": [
       "'a'"
      ]
     },
     "execution_count": 32,
     "metadata": {},
     "output_type": "execute_result"
    }
   ],
   "source": [
    "next(it)"
   ]
  },
  {
   "cell_type": "code",
   "execution_count": null,
   "metadata": {},
   "outputs": [],
   "source": [
    "next(it) #return을 썼기 때문에 종료되어 버린다."
   ]
  },
  {
   "cell_type": "code",
   "execution_count": null,
   "metadata": {},
   "outputs": [],
   "source": [
    "#generator를 사용하면 메모리를 줄일 수 있다.\n",
    "#한번에 하나씩 불러오기 때문.(필요할 때 마다 데이터를 생성할 수 있다.)\n",
    "[1,2,3,4,5,6,7,8,10] # 10개 객체를 저장할 메모리 필요\n",
    "\n",
    "b = (i for i in range(11))\n",
    "b\n"
   ]
  },
  {
   "cell_type": "markdown",
   "metadata": {},
   "source": [
    "# 4장. 제어"
   ]
  },
  {
   "cell_type": "code",
   "execution_count": 35,
   "metadata": {},
   "outputs": [
    {
     "name": "stdout",
     "output_type": "stream",
     "text": [
      "성적 1등, 이름 : 세호\n",
      "성적 2등, 이름 : 대훈\n",
      "성적 3등, 이름 : 다혜\n",
      "성적 4등, 이름 : 성호\n",
      "성적 5등, 이름 : 가영\n",
      "성적 6등, 이름 : 다경\n",
      "성적 7등, 이름 : 혜주\n"
     ]
    }
   ],
   "source": [
    "#enumerate()\n",
    "#리스트 항목과 인덱스 값을 동시에 얻는 법\n",
    "\n",
    "a = ['세호', '대훈','다혜', '성호', '가영', '다경', '혜주']\n",
    "for a, b in enumerate(a,1): #enumerate(시퀀스 타입 객체, (시작값 = 0)) 순서를 바꿔 예제처럼 1로 바꿀 수 있다.\n",
    "   #인덱스 value 값 순 \n",
    "    print('성적 {}등, 이름 : {}'.format(a,b))"
   ]
  },
  {
   "cell_type": "code",
   "execution_count": 37,
   "metadata": {},
   "outputs": [
    {
     "data": {
      "text/plain": [
       "[1, 4, 9]"
      ]
     },
     "execution_count": 37,
     "metadata": {},
     "output_type": "execute_result"
    }
   ],
   "source": [
    "#리스트 내장\n",
    "#새로운 리스트 객체를 생성하는데 사용\n",
    "[a**2 for a in [1,2,3,4,5] \n",
    " if a < 4]"
   ]
  },
  {
   "cell_type": "code",
   "execution_count": 38,
   "metadata": {},
   "outputs": [
    {
     "data": {
      "text/plain": [
       "[5, 6, 6]"
      ]
     },
     "execution_count": 38,
     "metadata": {},
     "output_type": "execute_result"
    }
   ],
   "source": [
    "t = (\"apple\", \"banana\", \"orange\")\n",
    "[len(a) for a in t]"
   ]
  },
  {
   "cell_type": "code",
   "execution_count": 39,
   "metadata": {},
   "outputs": [
    {
     "data": {
      "text/plain": [
       "[11, 21, 31, 12, 22, 32, 13, 23, 33]"
      ]
     },
     "execution_count": 39,
     "metadata": {},
     "output_type": "execute_result"
    }
   ],
   "source": [
    "#다수의 리스트를 섞을 수도 있다.(리스트의 조합으로 연산이 된다.)\n",
    "x = [1,2,3]\n",
    "y = [10, 20, 30]\n",
    "\n",
    "[a + b for a in x for b in y]"
   ]
  },
  {
   "cell_type": "code",
   "execution_count": 41,
   "metadata": {},
   "outputs": [
    {
     "name": "stdout",
     "output_type": "stream",
     "text": [
      "[10, 20, 30, 40, 50, 60, 70, 80, 90, 100]\n"
     ]
    }
   ],
   "source": [
    "#filter\n",
    "L = list(range(10, 101, 10))\n",
    "print(L)\n"
   ]
  },
  {
   "cell_type": "code",
   "execution_count": 42,
   "metadata": {},
   "outputs": [
    {
     "data": {
      "text/plain": [
       "[30, 40, 50, 60, 70, 80, 90, 100]"
      ]
     },
     "execution_count": 42,
     "metadata": {},
     "output_type": "execute_result"
    }
   ],
   "source": [
    "list(filter(lambda i : i > 20, L))"
   ]
  },
  {
   "cell_type": "code",
   "execution_count": 43,
   "metadata": {},
   "outputs": [
    {
     "data": {
      "text/plain": [
       "[10, 20, 30, 40, 50, 60, 70, 80, 90, 100]"
      ]
     },
     "execution_count": 43,
     "metadata": {},
     "output_type": "execute_result"
    }
   ],
   "source": [
    "L"
   ]
  },
  {
   "cell_type": "code",
   "execution_count": 44,
   "metadata": {},
   "outputs": [
    {
     "name": "stdout",
     "output_type": "stream",
     "text": [
      "item : (10, 'A')\n",
      "item : (20, 'B')\n",
      "item : (30, 'C')\n"
     ]
    }
   ],
   "source": [
    "#zip\n",
    "#순회가능한 시퀀스형이나 이터레이터형의 객체들을 결합 -> 쌍으로 순회 가능한 이터레이터 생성(Tuple)\n",
    "#길이가 짧은 객체에 맞춰진다.\n",
    "x = [10, 20, 30]\n",
    "y = ['A', 'B', 'C']\n",
    "\n",
    "for i in zip(x,y):\n",
    "    print(\"item : {}\".format(i))"
   ]
  },
  {
   "cell_type": "code",
   "execution_count": 45,
   "metadata": {},
   "outputs": [
    {
     "data": {
      "text/plain": [
       "[11, 12, 13]"
      ]
     },
     "execution_count": 45,
     "metadata": {},
     "output_type": "execute_result"
    }
   ],
   "source": [
    "#map\n",
    "#각 원소에 하나씩 함수를 적용하는 것\n",
    "a = [1,2,3]\n",
    "def add10(i):\n",
    "    return i + 10\n",
    "list(map(add10, a))"
   ]
  },
  {
   "cell_type": "code",
   "execution_count": 46,
   "metadata": {},
   "outputs": [
    {
     "name": "stdout",
     "output_type": "stream",
     "text": [
      "a\n",
      "b\n",
      "c\n"
     ]
    }
   ],
   "source": [
    "#for문 보다 내장 메서드나,. 리스트 내장을 이용하는게 더 효율적이다.\n",
    "\n",
    "a = ['a','b','c']\n",
    "for i in a:\n",
    "    print(i)"
   ]
  },
  {
   "cell_type": "code",
   "execution_count": 47,
   "metadata": {},
   "outputs": [
    {
     "name": "stdout",
     "output_type": "stream",
     "text": [
      "a\n",
      "b\n",
      "c\n"
     ]
    }
   ],
   "source": [
    "print('\\n'.join(a))"
   ]
  },
  {
   "cell_type": "markdown",
   "metadata": {},
   "source": [
    "# Class\n",
    "상속(Inheritance), 다형성(Polymorphism), 정보 은닉(Information Hiding)\n",
    "\n",
    "구조체(structure)의 확장 개념\n",
    "절차언어인 C언어에서 구조체를 활용.\n",
    "구조체는 데이터를 묶어서 하나의 덩어리로 볼 수 있게 해주는 데이터 구조.\n",
    "\n",
    "클래스는 이 보다 확장되어, 데이터 + 함수(메소드)로 이루어지는 데이터 구조."
   ]
  },
  {
   "cell_type": "markdown",
   "metadata": {},
   "source": [
    "E.g.(책의 예시)\n",
    "\n",
    "삼각형을 만드는 프로그램을 생성한다고 할 때,\n",
    "\n",
    "1. 각 점의 위치(Point A, Point B, Point C), 중심점의 위치(Position), 색(Color)\n",
    "2. 색을 변경하는 함수(ChangeColor()), 회전 함수(Rotate()), 중심점의 이동(Move())\n",
    "\n",
    "로 정의한다.\n",
    "\n",
    "이 때, 2번에 해당하는 함수들(클래스에 속하는 함수들)을 메소드(Method)라고 함.\n",
    "\n",
    "class Triangle:\n",
    "    def __init__(self, PntA, PntB, PntC, Pstn, Clr):\n",
    "        self.PntA = PntA\n",
    "        self.PntB = PntB\n",
    "        self.PntC = PntC\n",
    "        self.Pstn = Pstn\n",
    "        self.Clr = Clr\n",
    "    def ChangeColor(self, NewColor):\n",
    "        self.Clr = NewColor\n",
    "    \n",
    "    def Rotate(self, direction):\n",
    "       if(direction == \"left\"):\n",
    "           ...\n",
    "       elif(direction == \"right):\n",
    "           ...\n",
    "    \n",
    "    def Move(self, NewPosition):\n",
    "       self.Pstn = NewPosition\n",
    "\n",
    "과 같이 정의할 수 있음.\n",
    "\n",
    "이렇게 정의된 클래스를 통해서 만들어지는 삼각형들을 Instance 객체라고 한다.\n",
    "(클래스는 도장, Instance는 도장을 통해 찍어지는 개별적인 그림을 의미)\n",
    "\n",
    "\n",
    "* 정보은닉(Information Hiding)\n",
    "  외부에서 클래스 내부의 정보에 접근하지 못하게 하는 것.\n",
    "  \n",
    "* 추상화(Abstraction)\n",
    "  클래스마다 존재하는 공통적인 부분을 추출하여 기본 클래스로 작성하는 것\n",
    "  추출된 클래스를 '부모 클래스(상위 클래스)', 이를 이용해 특성을 추가한 클래스를 '자식 클래스(하위 클래스)'라고 한다.\n",
    "  부모 클래스로부터 공통된 요소를 물려 받게 되는 관계를 '상속관계(Inheritance)'라고 한다.\n",
    "  (부모가 여럿일 때는 '다중상속')\n",
    "  \n",
    "* 다형성\n",
    "  동일한 함수이지만, 다른 인스턴스 마다 서로 다른 동작을 수행하게하는 특징\n",
    "  삼각형 클래스에서는 Rotate. => 삼각형일 때는 3점을 이동, 사각형일 때는 4점을 이동하게 만들어주는게 편리.\n",
    "  R에서는 plot함수를 생각해보면 됨.(어떤 형태의 분석을 한 결과라도. plot을 하게 되면 그에 해당하는 plot들을 그려주게 되는 것)\n",
    "  "
   ]
  },
  {
   "cell_type": "code",
   "execution_count": 48,
   "metadata": {},
   "outputs": [
    {
     "data": {
      "text/plain": [
       "['In',\n",
       " 'L',\n",
       " 'MyClass',\n",
       " 'Out',\n",
       " '_',\n",
       " '_10',\n",
       " '_13',\n",
       " '_14',\n",
       " '_16',\n",
       " '_17',\n",
       " '_25',\n",
       " '_26',\n",
       " '_27',\n",
       " '_32',\n",
       " '_36',\n",
       " '_37',\n",
       " '_38',\n",
       " '_39',\n",
       " '_42',\n",
       " '_43',\n",
       " '_45',\n",
       " '_7',\n",
       " '__',\n",
       " '___',\n",
       " '__builtin__',\n",
       " '__builtins__',\n",
       " '__doc__',\n",
       " '__loader__',\n",
       " '__name__',\n",
       " '__package__',\n",
       " '__spec__',\n",
       " '_dh',\n",
       " '_i',\n",
       " '_i1',\n",
       " '_i10',\n",
       " '_i11',\n",
       " '_i12',\n",
       " '_i13',\n",
       " '_i14',\n",
       " '_i15',\n",
       " '_i16',\n",
       " '_i17',\n",
       " '_i18',\n",
       " '_i19',\n",
       " '_i2',\n",
       " '_i20',\n",
       " '_i21',\n",
       " '_i22',\n",
       " '_i23',\n",
       " '_i24',\n",
       " '_i25',\n",
       " '_i26',\n",
       " '_i27',\n",
       " '_i28',\n",
       " '_i29',\n",
       " '_i3',\n",
       " '_i30',\n",
       " '_i31',\n",
       " '_i32',\n",
       " '_i33',\n",
       " '_i34',\n",
       " '_i35',\n",
       " '_i36',\n",
       " '_i37',\n",
       " '_i38',\n",
       " '_i39',\n",
       " '_i4',\n",
       " '_i40',\n",
       " '_i41',\n",
       " '_i42',\n",
       " '_i43',\n",
       " '_i44',\n",
       " '_i45',\n",
       " '_i46',\n",
       " '_i47',\n",
       " '_i48',\n",
       " '_i5',\n",
       " '_i6',\n",
       " '_i7',\n",
       " '_i8',\n",
       " '_i9',\n",
       " '_ih',\n",
       " '_ii',\n",
       " '_iii',\n",
       " '_oh',\n",
       " 'a',\n",
       " 'abc',\n",
       " 'add10',\n",
       " 'b',\n",
       " 'char',\n",
       " 'exit',\n",
       " 'g',\n",
       " 'get_ipython',\n",
       " 'i',\n",
       " 'it',\n",
       " 'plus',\n",
       " 'quit',\n",
       " 'reverse',\n",
       " 's',\n",
       " 'square',\n",
       " 't',\n",
       " 'test',\n",
       " 'testScope',\n",
       " 'userURLBuilder',\n",
       " 'x',\n",
       " 'y']"
      ]
     },
     "execution_count": 48,
     "metadata": {},
     "output_type": "execute_result"
    }
   ],
   "source": [
    "# 클래스 선언\n",
    "class MyClass:\n",
    "    pass\n",
    "dir() #이름공간(Namespace)를 확인. MyClass가 존재하는 것을 알 수 있다."
   ]
  },
  {
   "cell_type": "code",
   "execution_count": 49,
   "metadata": {},
   "outputs": [
    {
     "name": "stdout",
     "output_type": "stream",
     "text": [
      "<class 'type'>\n"
     ]
    }
   ],
   "source": [
    "print(type(MyClass)) #<class 'type'>"
   ]
  },
  {
   "cell_type": "code",
   "execution_count": 50,
   "metadata": {},
   "outputs": [
    {
     "name": "stdout",
     "output_type": "stream",
     "text": [
      "My name is Seho\n"
     ]
    }
   ],
   "source": [
    "# 클래스 선언\n",
    "class Person:\n",
    "    Name = \"Seho\" #멤버 변수\n",
    "    def Print(self): #멤버 메서드\n",
    "        print(\"My name is {0}\".format(self.Name))\n",
    "p1 = Person() #인스턴스 객체 생성\n",
    "p1.Print() #멤버 변수값을 출력"
   ]
  },
  {
   "cell_type": "markdown",
   "metadata": {},
   "source": [
    "클래스를 정의하면 새로운 이름공간(Namespace)이 생성된다.\n",
    "이 이름공간 안에 멤버 변수와 멤버 메소드가 존재하게 된다.\n",
    "이를 활용하려면, 인스턴스 객체를 만들어서 사용해야한다.\n",
    "(함수 호출과 동일한 방법을 사용)\n",
    "\n",
    "인스턴스 객체를 만들 때도 독립적인 이름공간이 생겨나게 된다."
   ]
  },
  {
   "cell_type": "code",
   "execution_count": 51,
   "metadata": {},
   "outputs": [
    {
     "name": "stdout",
     "output_type": "stream",
     "text": [
      "Seho\n",
      "SeEun\n"
     ]
    }
   ],
   "source": [
    "#인스턴스 객체의 값이 변경되기 전까지는 클래스 객체와 동일한 데이터와 메서드를 가리킨다.(Reference의 의미)\n",
    "#인스턴스 객체의 값이 변경되면, 인스턴스 객체 이름공간에 변경 데이터를 저장한다.\n",
    "print(p1.Name)\n",
    "p1.Name = \"SeEun\"\n",
    "print(p1.Name)"
   ]
  },
  {
   "cell_type": "markdown",
   "metadata": {},
   "source": [
    "* 보통 클래스 안의 멤버 변수, 멤버 메서드에 접근할 때는, 속성 접근자 '.'를 사용한다.\n",
    "  (R로 치면 S3 class에서는 '$', S4 Class에서는 '&')\n",
    "  객체이름.멤버 메서드 or  객체이름.멤버 변수\n",
    "  \n",
    "* 기본적인 접근 권한은 Public이다.\n",
    "  외부에서 접근 가능하다.\n",
    "  정보은닉 시 다른 방법 사용.(?)"
   ]
  },
  {
   "cell_type": "markdown",
   "metadata": {},
   "source": []
  },
  {
   "cell_type": "code",
   "execution_count": 52,
   "metadata": {},
   "outputs": [
    {
     "name": "stdout",
     "output_type": "stream",
     "text": [
      "My name is SeEun\n",
      "My name is SeEun\n"
     ]
    }
   ],
   "source": [
    "p1.Print() #바운드 메서드 호출(첫인자로 인스턴스 객체를 넘김)\n",
    "Person.Print(p1) #언바운드 메서드 호출(클래스 객체를 통해서 메서드를 호출한다.)"
   ]
  },
  {
   "cell_type": "code",
   "execution_count": null,
   "metadata": {
    "collapsed": true
   },
   "outputs": [],
   "source": [
    "변수를 찾을 때, 다음과 같은 순서로 찾음.\n",
    "인스턴스 객체 영역 -> 클래스 객체 영역 -> 전역 영역\n",
    "(만약, 없을 때는 AttributeError 발생)"
   ]
  },
  {
   "cell_type": "code",
   "execution_count": 53,
   "metadata": {},
   "outputs": [
    {
     "name": "stdout",
     "output_type": "stream",
     "text": [
      "p1's name : Seho\n",
      "p2's name : Seho\n"
     ]
    }
   ],
   "source": [
    "#런타임에 클래스와 인스턴스 이름공간에 멤버 변수 추가 가능(클래스와 인스턴스가 분리 되어있기 때문)\n",
    "class Person():\n",
    "    name = \"Seho\"\n",
    "p1 = Person()\n",
    "p2 = Person()\n",
    "print(\"p1's name :\", p1.name)\n",
    "print(\"p2's name :\", p2.name)\n",
    "\n",
    "#p1, p2는 모두 Person Class를 참조한다."
   ]
  },
  {
   "cell_type": "code",
   "execution_count": 54,
   "metadata": {},
   "outputs": [
    {
     "name": "stdout",
     "output_type": "stream",
     "text": [
      "p1's name : SeEun\n",
      "p2's name : Seho\n"
     ]
    }
   ],
   "source": [
    "p1.name = \"SeEun\" \n",
    "print(\"p1's name :\", p1.name)\n",
    "print(\"p2's name :\", p2.name)\n",
    "\n",
    "#p1 인스턴스 객체의 name만 변경\n",
    "#새로운 name은 p1 인스턴스 객체의 Namespace에만 존재한다.(Reference)\n",
    "#p2의 name은 변경되지 않았기 때문에, 그대로 Person Class를 참조한다."
   ]
  },
  {
   "cell_type": "code",
   "execution_count": 57,
   "metadata": {},
   "outputs": [
    {
     "name": "stdout",
     "output_type": "stream",
     "text": [
      "p1's title : sister\n",
      "p2's title : sister\n",
      "Person's title : sister\n"
     ]
    }
   ],
   "source": [
    "Person.title = \"sister\" #새롭게 멤버변수를 생성하여 추가할 수 있다.\n",
    "print(\"p1's title :\", p1.title)\n",
    "print(\"p2's title :\", p2.title)\n",
    "print(\"Person's title :\", Person.title)\n",
    "#인스턴스 객체(p1, p2), 클래스 객체(Person)에서 모두 접근가능하다.\n",
    "#인스턴스 객체에는 title이라는 이름을 가진 멤버 변수가 없기 때문에, Class 객체의 이름공간 안에 있는 title 멤버 변수를 참조한다."
   ]
  },
  {
   "cell_type": "code",
   "execution_count": 56,
   "metadata": {},
   "outputs": [
    {
     "name": "stdout",
     "output_type": "stream",
     "text": [
      "p1's age : 20\n"
     ]
    },
    {
     "ename": "AttributeError",
     "evalue": "'Person' object has no attribute 'age'",
     "output_type": "error",
     "traceback": [
      "\u001b[0;31m---------------------------------------------------------------------------\u001b[0m",
      "\u001b[0;31mAttributeError\u001b[0m                            Traceback (most recent call last)",
      "\u001b[0;32m<ipython-input-56-5ec88a89a9e2>\u001b[0m in \u001b[0;36m<module>\u001b[0;34m()\u001b[0m\n\u001b[1;32m      2\u001b[0m \u001b[0mp1\u001b[0m\u001b[0;34m.\u001b[0m\u001b[0mage\u001b[0m \u001b[0;34m=\u001b[0m \u001b[0;36m20\u001b[0m\u001b[0;34m\u001b[0m\u001b[0m\n\u001b[1;32m      3\u001b[0m \u001b[0mprint\u001b[0m\u001b[0;34m(\u001b[0m\u001b[0;34m\"p1's age :\"\u001b[0m\u001b[0;34m,\u001b[0m \u001b[0mp1\u001b[0m\u001b[0;34m.\u001b[0m\u001b[0mage\u001b[0m\u001b[0;34m)\u001b[0m\u001b[0;34m\u001b[0m\u001b[0m\n\u001b[0;32m----> 4\u001b[0;31m \u001b[0mprint\u001b[0m\u001b[0;34m(\u001b[0m\u001b[0;34m\"p2's age :\"\u001b[0m\u001b[0;34m,\u001b[0m \u001b[0mp2\u001b[0m\u001b[0;34m.\u001b[0m\u001b[0mage\u001b[0m\u001b[0;34m)\u001b[0m \u001b[0;31m#AttributeError: 'Person' object has no attribute 'age'\u001b[0m\u001b[0;34m\u001b[0m\u001b[0m\n\u001b[0m\u001b[1;32m      5\u001b[0m \u001b[0;31m#age 멤버 변수는 p1 인스턴스 객체의 Namespace에만 국한되게 된다. -> p2, Person 객체에서 찾을 수 없다.\u001b[0m\u001b[0;34m\u001b[0m\u001b[0;34m\u001b[0m\u001b[0m\n",
      "\u001b[0;31mAttributeError\u001b[0m: 'Person' object has no attribute 'age'"
     ]
    }
   ],
   "source": [
    "#p1 인스턴스 객체만 age 멤버 변수를 생성한 경우.\n",
    "p1.age = 20 \n",
    "print(\"p1's age :\", p1.age)\n",
    "print(\"p2's age :\", p2.age) #AttributeError: 'Person' object has no attribute 'age'\n",
    "#age 멤버 변수는 p1 인스턴스 객체의 Namespace에만 국한되게 된다. -> p2, Person 객체에서 찾을 수 없다."
   ]
  },
  {
   "cell_type": "markdown",
   "metadata": {},
   "source": [
    "# self\n",
    "\n",
    "현재 인스턴스 객체를 가리키는 것.(인스턴스 객체의 이름공간에 접근)\n",
    "\n",
    "C++와 JAVA의 'this'와 동일.(Python에서는 예약어로 지정되어 있지는 않음)\n",
    "메서드의 첫 인자는 인스턴스 객체가 된다.(정적 메서드와 클래스 메서드 제외)\n",
    "\n",
    "클래스 메서드 내에서 self(인스턴스) 를 통하지 않고 멤버 변수에 접근하게 되면 위험할 수 있다.\n",
    "\n",
    "멤버 변수가 존재하지 않는 경우 전역 변수 까지 올라가서 변수를 검색하기 때문에, \n",
    "전역변수에 같은 이름의 변수가 있다면, 에러가 발생할 가능성이 높다."
   ]
  },
  {
   "cell_type": "code",
   "execution_count": 60,
   "metadata": {},
   "outputs": [
    {
     "name": "stdout",
     "output_type": "stream",
     "text": [
      "???\n",
      "I'm a Global Variable\n"
     ]
    }
   ],
   "source": [
    "var = \"I'm a Global Variable\"\n",
    "class temp_class:\n",
    "    var = \"I'm a Member Variable\"\n",
    "    \n",
    "    def Set(self, string):\n",
    "        self.var = string\n",
    "    def Print(self):\n",
    "        print(var) #self를 통해 접근하지 않았기 때문에 전역변수에서 검색하게 된다.\n",
    "a = temp_class()\n",
    "a.Set('???')\n",
    "a.Print()"
   ]
  },
  {
   "cell_type": "code",
   "execution_count": 62,
   "metadata": {},
   "outputs": [
    {
     "name": "stdout",
     "output_type": "stream",
     "text": [
      "Default\n",
      "Default\n",
      "Default\n",
      "Default\n",
      "i2 data is changed\n",
      "Default\n",
      "Default\n",
      "Default\n",
      "Default\n"
     ]
    }
   ],
   "source": [
    "#__class__ attribute을 이용하여 class 의 멤버 변수를 변경할 수 있음\n",
    "class test:\n",
    "    data = \"Default\"\n",
    "\n",
    "i1 = test()\n",
    "i2 = test()\n",
    "\n",
    "i1.__class__.data = \"Class data is changed\" # 클레스 전체를 통째로 바꿔버린다.\n",
    "\n",
    "print(i1.data) #모든 변수(각 인스턴스 객체, 클래스 객체)가 다 변경된다.\n",
    "print(i2.data)\n",
    "print(test.data)\n",
    "\n",
    "\n",
    "i2.data = \"i2 data is changed\"\n",
    "print(i1.data)\n",
    "print(i2.data) #i2 인스턴스 객체의 데이터만 변경\n",
    "print(test.data)\n",
    "\n",
    "print(i1.__class__.data)\n",
    "print(i2.__class__.data)\n",
    "print(test.data)\n"
   ]
  },
  {
   "cell_type": "code",
   "execution_count": 66,
   "metadata": {},
   "outputs": [
    {
     "name": "stdout",
     "output_type": "stream",
     "text": [
      "p is instance of Person : True\n",
      "s is instance of Person : True\n",
      "p is instance of object : True\n",
      "s is instance of Bird : False\n",
      "int is instance of object : True\n"
     ]
    }
   ],
   "source": [
    "#isinstance\n",
    "#인스턴스 객체가 어떤 클래스로 부터 나왔는지 확인하기 위한 함수\n",
    "#상속관계가 있을 때도, 자식 클래스의 인스턴스 객체는 부모 클래스의 인스턴스로 평가된다.\n",
    "#Python3 부터 모든 클래스 객체는 object 객체를 상속받는다.\n",
    "\n",
    "class Person:\n",
    "    pass\n",
    "class Bird:\n",
    "    pass\n",
    "class Student(Person):\n",
    "    pass\n",
    "\n",
    "p, s = Person(), Student()\n",
    "print(\"p is instance of Person :\", isinstance(p, Person))\n",
    "print(\"s is instance of Person :\", isinstance(s, Person))\n",
    "print(\"p is instance of object :\", isinstance(p, object))\n",
    "print(\"s is instance of Bird :\", isinstance(s, Bird))\n",
    "print(\"int is instance of object :\", isinstance(int, object))"
   ]
  },
  {
   "cell_type": "markdown",
   "metadata": {},
   "source": [
    "# 생성자, 소멸자\n",
    " \n",
    "생성자 : 인스턴스 객체를 생성할 때 초기화 작업(__init__)\n",
    "        인스턴스 객체가 생성될 때 자동으로 호출된다.\n",
    "        \n",
    "소멸자 : 메모리에서 인스턴스 객체를 해제하는 작업(__del__)\n",
    "        인스턴스 객체의 레퍼런스 카운터가 '0'이 될 때 호출(객체를 가리키는 참조자(Reference)가 더 이상 존재하지 않을 때)\n",
    "       \n",
    "* __함수명__ 인 경우 미리 정의된 메소드이다."
   ]
  },
  {
   "cell_type": "code",
   "execution_count": 67,
   "metadata": {},
   "outputs": [
    {
     "name": "stdout",
     "output_type": "stream",
     "text": [
      "Class is created. Value =  10\n",
      "Class is deleted\n"
     ]
    }
   ],
   "source": [
    "class MyClass:\n",
    "    def __init__(self, value): #생성자 메서드(value라는 인자를 받는다.self는 상관 ㄴㄴ)\n",
    "        self.Value  = value\n",
    "        print(\"Class is created. Value = \", value)\n",
    "    \n",
    "    def __del__(self): #소멸자 메서드\n",
    "        print(\"Class is deleted\")\n",
    "\n",
    "def foo():\n",
    "    d = MyClass(10) #함수 블록 안에서만 인스턴스 객체 d 존재(함수가 끝나면 자동으로 소멸한다.)\n",
    "\n",
    "foo()"
   ]
  },
  {
   "cell_type": "code",
   "execution_count": 69,
   "metadata": {},
   "outputs": [
    {
     "name": "stdout",
     "output_type": "stream",
     "text": [
      "Class is created. Value =  10\n",
      "Refence Count is  2\n",
      "Refence Count is  6\n",
      "Refence Count is  6\n",
      "Refence Count is  6\n",
      "Class is deleted\n",
      "Refence Count is  5\n"
     ]
    }
   ],
   "source": [
    "#인스턴스 클래스가 소멸하더라도 referece count가 0이 되지 않으면 소멸자가 호출되지 않는다.\n",
    "import sys\n",
    "c= MyClass(10)\n",
    "print(\"Refence Count is \", sys.getrefcount(c))\n",
    "print(\"Refence Count is \", sys.getrefcount(MyClass))\n",
    "c_copy = c\n",
    "print(\"Refence Count is \", sys.getrefcount(MyClass))\n",
    "del c\n",
    "print(\"Refence Count is \", sys.getrefcount(MyClass))\n",
    "del c_copy\n",
    "print(\"Refence Count is \", sys.getrefcount(MyClass))"
   ]
  },
  {
   "cell_type": "markdown",
   "metadata": {},
   "source": [
    "# 정적 메서드(static method), 클래스 메서드(class method)\n",
    "\n",
    "Static method : 인스턴스 객체를 통하지 않고 직접 호출할 수 있는 메서드\n",
    "                'self'라는 인자를 선언하지 않는다.\n",
    "Class method : 암묵적으로 첫번째 인자로 클래스 객체가 전달된다."
   ]
  },
  {
   "cell_type": "code",
   "execution_count": 72,
   "metadata": {},
   "outputs": [
    {
     "name": "stdout",
     "output_type": "stream",
     "text": [
      "Instance Count : 3\n"
     ]
    }
   ],
   "source": [
    "class CounterManager:\n",
    "    insCount = 0\n",
    "    def __init__(self):\n",
    "        CounterManager.insCount += 1 # self.insCount가 아니기 때문에 클래스 객체의 Namespace에 있는 insCount가 변하게 된다.\n",
    "    \n",
    "    def printInstanceCount(): #암묵적으로 인스턴스 객체를 받는다.\n",
    "        print(\"Instance Count :\", CounterManager.insCount)\n",
    "        \n",
    "a, b, c = CounterManager(), CounterManager(), CounterManager()\n",
    "CounterManager.printInstanceCount()\n",
    "#b.printInstanceCount() #printInstanceCount는 클래스 객체에만 존재하기 때문에, 인스턴스 객체를 받아버리면 에러가 발생."
   ]
  },
  {
   "cell_type": "code",
   "execution_count": 73,
   "metadata": {},
   "outputs": [],
   "source": [
    "#수정\n",
    "class CounterManager:\n",
    "    insCount = 0\n",
    "    def __init__(self):\n",
    "        CounterManager.insCount += 1 # self.insCount가 아니기 때문에 클래스 객체의 Namespace에 있는 insCount가 변하게 된다.\n",
    "    \n",
    "    def staticPrintCount(): #함수 정의(앞의 static은 그냥 함수 이름일뿐)\n",
    "        print(\"instance Count :\", CounterManager.insCount)\n",
    "        \n",
    "    SPrintCount = staticmethod(staticPrintCount) #static 메서드로 등록(앞으로 호출할 때, SprintCount()로 호출)\n",
    "    \n",
    "    def classPrintCount(cls): #클래스 메서드 정의(암묵적으로 첫 인자는 클래스를 받음)\n",
    "        print(\"instance Count :\", cls.insCount)\n",
    "    \n",
    "    CPrintCount = classmethod(classPrintCount) #class 메서드로 등록(앞으로 호출할 때, CprintCount()로 호출)\n",
    "    \n",
    "a, b, c = CounterManager(), CounterManager(), CounterManager()\n",
    "\n",
    "\n",
    "\n",
    "\n",
    "\n"
   ]
  },
  {
   "cell_type": "code",
   "execution_count": 74,
   "metadata": {},
   "outputs": [
    {
     "name": "stdout",
     "output_type": "stream",
     "text": [
      "instance Count : 3\n"
     ]
    }
   ],
   "source": [
    "CounterManager.SPrintCount()"
   ]
  },
  {
   "cell_type": "code",
   "execution_count": 75,
   "metadata": {},
   "outputs": [
    {
     "name": "stdout",
     "output_type": "stream",
     "text": [
      "instance Count : 3\n"
     ]
    }
   ],
   "source": [
    "b.SPrintCount()"
   ]
  },
  {
   "cell_type": "code",
   "execution_count": 76,
   "metadata": {},
   "outputs": [
    {
     "name": "stdout",
     "output_type": "stream",
     "text": [
      "instance Count : 3\n"
     ]
    }
   ],
   "source": [
    "CounterManager.CPrintCount()"
   ]
  },
  {
   "cell_type": "code",
   "execution_count": null,
   "metadata": {
    "collapsed": true
   },
   "outputs": [],
   "source": [
    "c.CprintCount()"
   ]
  },
  {
   "cell_type": "code",
   "execution_count": null,
   "metadata": {},
   "outputs": [],
   "source": [
    "#public 속성으로 내부 데이터가 건드려지는 것을 막기 위해 '이름 변경'을 사용한다.\n",
    "#클래스 내의 멤버 변수, 함수의 이름이 '__'로 시작하게 하면 외부에서 참조할 때, _[클래스이름]_[멤버이름]으로 접근해야합다.\n",
    "class CounterManager:\n",
    "    __insCount = 0\n",
    "    def __init__(self):\n",
    "        CounterManager.__insCount += 1\n",
    "    def staticPrintCount(): #함수 정의(앞의 static은 그냥 함수 이름일뿐)\n",
    "        print(\"instance Count :\", CounterManager.insCount)\n",
    "        \n",
    "    SPrintCount = staticmethod(staticPrintCount) #static 메서드로 등록(앞으로 호출할 때, SprintCount()로 호출)\n",
    "    \n",
    "a, b, c = CounterManager(), CounterManager(), CounterManager()\n",
    "CounterManager.SPrintCount()"
   ]
  },
  {
   "cell_type": "code",
   "execution_count": null,
   "metadata": {
    "scrolled": false
   },
   "outputs": [],
   "source": [
    "print(CounterManager.__insCount)"
   ]
  },
  {
   "cell_type": "code",
   "execution_count": null,
   "metadata": {
    "collapsed": true
   },
   "outputs": [],
   "source": [
    "dir(CounterManager) #이름 공간 안에도 _CounterManager__insCount로 존재"
   ]
  },
  {
   "cell_type": "code",
   "execution_count": null,
   "metadata": {
    "scrolled": true
   },
   "outputs": [],
   "source": [
    "print(CounterManager._CounterManager__insCount)"
   ]
  },
  {
   "cell_type": "markdown",
   "metadata": {},
   "source": [
    "# 연산자 중복 정의(Operator Overloading)\n",
    "\n",
    "Python 내장 연산자와 같은 타입과 형태와 동작이 유사하도록 필요한 연산자를 재정의 하는 것."
   ]
  },
  {
   "cell_type": "code",
   "execution_count": null,
   "metadata": {
    "collapsed": true
   },
   "outputs": [],
   "source": [
    "#연산자 중복 정의 예\n",
    "\n",
    "class GString:\n",
    "    def __init__(self, init=None):\n",
    "        self.content = init\n",
    "    def __sub__(self, str): #- 연산을 하도록 만드는 메서드\n",
    "        for i in str:\n",
    "            self.content = self.content.replace(i, \"\")\n",
    "        return self.content\n",
    "    \n",
    "    def Remove(self, str):\n",
    "        return self.__sub__(str)"
   ]
  },
  {
   "cell_type": "code",
   "execution_count": null,
   "metadata": {},
   "outputs": [],
   "source": [
    "g = GString(\"ABCDEFGabcdefg\")\n",
    "print(g.Remove(\"Adg\"))\n",
    "print(g - 'Adg')"
   ]
  },
  {
   "cell_type": "markdown",
   "metadata": {},
   "source": [
    "# 상속\n",
    "\n",
    "상속을 이용하면 부모 클래스의 모든 속성(데이터, 메소드)을 자식 클래스로 물려줄 수 있다.\n",
    "공통된 부분(부모클래스) + 클래스 마다의 특징(하위클래스)\n",
    "=> 동일한 코드 작성 방지, 유지관리 용이"
   ]
  },
  {
   "cell_type": "code",
   "execution_count": null,
   "metadata": {
    "collapsed": true
   },
   "outputs": [],
   "source": [
    "class Person:\n",
    "    def __init__(self, name, phoneNumber):\n",
    "        self.Name = name\n",
    "        self.PhoneNumber = phoneNumber\n",
    "    \n",
    "    def PrintInfo(self):\n",
    "        print(\"Info(Name : {0}, Phone Number : {1})\".format(self.Name, self.PhoneNumber))\n",
    "    \n",
    "    def PrintPersonData(self):\n",
    "        print(\"Person(Name : {0}, Phone Number: {1})\".format(self.Name, self.PhoneNumber))\n",
    "        \n",
    "class Student(Person): #상속받을 부모클래스를 Argument로 넣는다. 다중상속으면 ,로 구분\n",
    "    def __init__(self, name, phoneNumber, subject, studentID):\n",
    "        self.Name = name #부모 클래스와 중복(모든 사람들에 대해서 기본적으로 이름과 전화번호를 입력한다고 가정.)\n",
    "        self.PhoneNumber = phoneNumber #부모 클래스와 중복(학생의 경우에는 과목과 학번을 추가로 입력한다고 가정.)\n",
    "        self.Subject = subject\n",
    "        self.StudentID = studentID"
   ]
  },
  {
   "cell_type": "code",
   "execution_count": null,
   "metadata": {},
   "outputs": [],
   "source": [
    "p = Person(\"Seho\", \"010-9274-8385\")\n",
    "s = Student(\"Gayoeng\", \"010-8212-3182\", \"Python\", \"1\")"
   ]
  },
  {
   "cell_type": "code",
   "execution_count": null,
   "metadata": {
    "collapsed": true
   },
   "outputs": [],
   "source": [
    "print(p.__dict__) #__dict__ 속성으로 기본 정보를 확인할 수 있다."
   ]
  },
  {
   "cell_type": "code",
   "execution_count": null,
   "metadata": {
    "collapsed": true
   },
   "outputs": [],
   "source": [
    "print(s.__dict__)"
   ]
  },
  {
   "cell_type": "code",
   "execution_count": null,
   "metadata": {},
   "outputs": [],
   "source": [
    "#issubclass() 상속관계를 확인하는 함수\n",
    "print(issubclass(Student, Person))\n",
    "print(issubclass(Person, Student))"
   ]
  },
  {
   "cell_type": "code",
   "execution_count": null,
   "metadata": {},
   "outputs": [],
   "source": [
    "#부모클래스를 확인하기 위해서는 __base__속성을 사용한다.\n",
    "print(Person.__base__)\n",
    "print(Student.__base__)"
   ]
  },
  {
   "cell_type": "code",
   "execution_count": null,
   "metadata": {
    "collapsed": true
   },
   "outputs": [],
   "source": [
    "#부모 클래스와 중복(모든 사람들에 대해서 기본적으로 이름과 전화번호를 입력한다고 가정.\n",
    "#학생의 경우에는 과목과 학번을 추가로 입력한다고 가정)\n",
    "\n",
    "class Student(Person): #상속받을 부모클래스를 Argument로 넣는다. 다중상속으면 ,로 구분\n",
    "    def __init__(self, name, phoneNumber, subject, studentID):\n",
    "        #self.Name = name #부모 클래스와 중복(모든 사람들에 대해서 기본적으로 이름과 전화번호를 입력한다고 가정.)\n",
    "        #self.PhoneNumber = phoneNumber #부모 클래스와 중복(학생의 경우에는 과목과 학번을 추가로 입력한다고 가정)\n",
    "        Person.__init__(self, name, phoneNumber)\n",
    "        self.Subject = subject\n",
    "        self.StudentID = studentID\n",
    "        \n",
    "    def PrintStudentData(self):\n",
    "        print(\"Student(Subject : {0}, Student ID : {1})\".format(self.Subject, self. StudentID))"
   ]
  },
  {
   "cell_type": "code",
   "execution_count": null,
   "metadata": {
    "collapsed": true
   },
   "outputs": [],
   "source": [
    "s = Student(\"Gayoeng\", \"010-8212-3182\", \"Python\", \"1\")"
   ]
  },
  {
   "cell_type": "code",
   "execution_count": null,
   "metadata": {},
   "outputs": [],
   "source": [
    "s.PrintPersonData()\n",
    "s.PrintStudentData()\n",
    "print(s.Name)\n",
    "print(s.PhoneNumber)"
   ]
  },
  {
   "cell_type": "code",
   "execution_count": null,
   "metadata": {
    "scrolled": true
   },
   "outputs": [],
   "source": [
    "dir(s)#Person에서 상속받은, Name, PhoneNumber 모두에 접근가능"
   ]
  },
  {
   "cell_type": "markdown",
   "metadata": {},
   "source": [
    "# 메소드 재정의(Method Overriding)\n",
    "\n",
    "상속 받은 메서드가 제대로 작동하지 않을 때, 부모 클래스를 수정해야하지만,\n",
    "부모 클래스가 많은 자식 클래스의 기반이 되는 경우는 부모 클래스를 수정하기가 어렵다.(의존성이 큰 경우)\n",
    "부모 클래스의 메서드를 자식 클래스에서 재정의 할 수 있다.\n",
    "\n",
    "부모 클래스의 메서드와 자식 클래스의 메서드 이름이 동일하게 해야한다.\n",
    "\n",
    "매개변수, 반환값이 모두 동일할 필요는 없다.(C++, JAVA와 다름)"
   ]
  },
  {
   "cell_type": "code",
   "execution_count": 77,
   "metadata": {},
   "outputs": [],
   "source": [
    "class Person:\n",
    "    def __init__(self, name, phoneNumber):\n",
    "        self.Name = name\n",
    "        self.PhoneNumber = phoneNumber\n",
    "    \n",
    "    def PrintInfo(self):\n",
    "        print(\"Info(Name : {0}, Phone Number : {1})\".format(self.Name, self.PhoneNumber))\n",
    "    \n",
    "    def PrintPersonData(self):\n",
    "        print(\"Person(Name : {0}, Phone Number: {1})\".format(self.Name, self.PhoneNumber))\n",
    "        \n",
    "class Student(Person): #상속받을 부모클래스를 Argument로 넣는다. 다중상속으면 ,로 구분\n",
    "    def __init__(self, name, phoneNumber, subject, studentID):\n",
    "        Person.__init__(self, name, phoneNumber)\n",
    "        self.Subject = subject\n",
    "        self.StudentID = studentID\n",
    "        \n",
    "    def PrintStudentData(self):\n",
    "        print(\"Student(Subject : {0}, Student ID : {1})\".format(self.Subject, self. StudentID))\n",
    "        \n",
    "    def PrintInfo(self): #부모 클래스와는 다른 작동을 하게 만들고 싶음.\n",
    "        print(\"Info(Name : {0}, Phone Number : {1}])\".format(self.Name, self.PhoneNumber))\n",
    "        print(\"Info(Subject : {0}, Student ID : {1})\".format(self.Subject, self.StudentID))"
   ]
  },
  {
   "cell_type": "code",
   "execution_count": 78,
   "metadata": {},
   "outputs": [
    {
     "name": "stdout",
     "output_type": "stream",
     "text": [
      "Info(Name : Gayoeng, Phone Number : 010-8212-3182])\n",
      "Info(Subject : Python, Student ID : 1)\n"
     ]
    }
   ],
   "source": [
    "s = Student(\"Gayoeng\", \"010-8212-3182\", \"Python\", \"1\")\n",
    "s.PrintInfo()"
   ]
  },
  {
   "cell_type": "code",
   "execution_count": 80,
   "metadata": {
    "collapsed": true
   },
   "outputs": [],
   "source": [
    "#메서드 확장\n",
    "#기존 메서드는 놔두고 추가로 작성하는 것.(위의 예제와 동일)\n",
    "class Student(Person): #상속받을 부모클래스를 Argument로 넣는다. 다중상속으면 ,로 구분\n",
    "    def __init__(self, name, phoneNumber, subject, studentID):\n",
    "        Person.__init__(self, name, phoneNumber)\n",
    "        self.Subject = subject\n",
    "        self.StudentID = studentID\n",
    "        \n",
    "    def PrintStudentData(self):\n",
    "        print(\"Student(Subject : {0}, Student ID : {1})\".format(self.Subject, self. StudentID))\n",
    "        \n",
    "    def PrintInfo(self): #부모 클래스와는 다른 작동을 하게 만들고 싶음.\n",
    "        #print(\"Info(Name : {0}, Phone Number : {1}])\".format(self.Name, self.PhoneNumber))\n",
    "        Person.PrintPersonData(self)\n",
    "        print(\"Info(Subject : {0}, Student ID : {1})\".format(self.Subject, self.StudentID))"
   ]
  },
  {
   "cell_type": "markdown",
   "metadata": {},
   "source": [
    "상속을 활용할 때, 멤버 변수 및 메서드를 검색하는 규칙이 확장된다.\n",
    "\n",
    "인스턴스 객체 영역 -> 자식 클래스 영역 -> 부모 클래스 영역 -> 전역 영역\n",
    "\n",
    "자식 클래스에서 상속받은 멤버에 대해 재정의 하지 않거나 멤버 데이터에 새로운 값을 할당할 때, \n",
    "자식 클래스의 Namespace에 저장공간을 생성하지 않고 부모 클래스의 Namespace의 데이터와 메서드를 참조한다.(메모리 효율)"
   ]
  },
  {
   "cell_type": "code",
   "execution_count": 81,
   "metadata": {
    "collapsed": true
   },
   "outputs": [],
   "source": [
    "class SuperClass:\n",
    "    x = 10\n",
    "    def printX(self):\n",
    "        print(self.x)\n",
    "        \n",
    "class SubClass(SuperClass):\n",
    "    y = 20\n",
    "    def printY(self):\n",
    "        print(self.y)"
   ]
  },
  {
   "cell_type": "code",
   "execution_count": 82,
   "metadata": {},
   "outputs": [],
   "source": [
    "s = SubClass()\n",
    "s.a = 30 #인스턴스 객체 s 에 a 라는 멤버 변수 생성"
   ]
  },
  {
   "cell_type": "code",
   "execution_count": 83,
   "metadata": {},
   "outputs": [
    {
     "name": "stdout",
     "output_type": "stream",
     "text": [
      "SuperClass : {'__module__': '__main__', 'x': 10, 'printX': <function SuperClass.printX at 0x7f47c2eb1a60>, '__dict__': <attribute '__dict__' of 'SuperClass' objects>, '__weakref__': <attribute '__weakref__' of 'SuperClass' objects>, '__doc__': None}\n"
     ]
    }
   ],
   "source": [
    "print(\"SuperClass :\", SuperClass.__dict__)"
   ]
  },
  {
   "cell_type": "code",
   "execution_count": 84,
   "metadata": {},
   "outputs": [
    {
     "name": "stdout",
     "output_type": "stream",
     "text": [
      "SubClass : {'__module__': '__main__', 'y': 20, 'printY': <function SubClass.printY at 0x7f47c2eb1730>, '__doc__': None}\n"
     ]
    }
   ],
   "source": [
    "print(\"SubClass :\", SubClass.__dict__)"
   ]
  },
  {
   "cell_type": "code",
   "execution_count": 85,
   "metadata": {},
   "outputs": [
    {
     "name": "stdout",
     "output_type": "stream",
     "text": [
      "s : {'a': 30}\n"
     ]
    }
   ],
   "source": [
    "print(\"s :\", s.__dict__)"
   ]
  },
  {
   "cell_type": "markdown",
   "metadata": {},
   "source": [
    "s(인스턴스 객체)\n",
    "x, printX, y, printY, a\n",
    "중에서\n",
    "\n",
    "a 는 s에\n",
    "y, printY 는 SubClass에\n",
    "x, printX 는 SuperClass에 존재한다."
   ]
  },
  {
   "cell_type": "code",
   "execution_count": 86,
   "metadata": {
    "collapsed": true
   },
   "outputs": [],
   "source": [
    "#부모 클래스의 메서드를 자식 클래스에서 재정의하면 메서드가 위치한 Namespace가 자식 클래스로 변경된다.\n",
    "class SuperClass:\n",
    "    x = 10\n",
    "    def printX(self):\n",
    "        print(self.x)\n",
    "        \n",
    "class SubClass(SuperClass):\n",
    "    y = 20\n",
    "    def printX(self):\n",
    "        print(\"SubClass :\", self.x)\n",
    "    def printY(self):\n",
    "        print(self.y)"
   ]
  },
  {
   "cell_type": "code",
   "execution_count": 87,
   "metadata": {
    "collapsed": true
   },
   "outputs": [],
   "source": [
    "s = SubClass()\n",
    "s.a = 30\n",
    "s.x = 50"
   ]
  },
  {
   "cell_type": "code",
   "execution_count": 88,
   "metadata": {},
   "outputs": [
    {
     "name": "stdout",
     "output_type": "stream",
     "text": [
      "SuperClass : {'__module__': '__main__', 'x': 10, 'printX': <function SuperClass.printX at 0x7f47c2efd598>, '__dict__': <attribute '__dict__' of 'SuperClass' objects>, '__weakref__': <attribute '__weakref__' of 'SuperClass' objects>, '__doc__': None}\n"
     ]
    }
   ],
   "source": [
    "print(\"SuperClass :\", SuperClass.__dict__)"
   ]
  },
  {
   "cell_type": "code",
   "execution_count": 89,
   "metadata": {},
   "outputs": [
    {
     "name": "stdout",
     "output_type": "stream",
     "text": [
      "SubClass : {'__module__': '__main__', 'y': 20, 'printX': <function SubClass.printX at 0x7f47c2efd268>, 'printY': <function SubClass.printY at 0x7f47c2efdf28>, '__doc__': None}\n"
     ]
    }
   ],
   "source": [
    "print(\"SubClass :\", SubClass.__dict__)"
   ]
  },
  {
   "cell_type": "code",
   "execution_count": 90,
   "metadata": {},
   "outputs": [
    {
     "name": "stdout",
     "output_type": "stream",
     "text": [
      "s : {'a': 30, 'x': 50}\n"
     ]
    }
   ],
   "source": [
    "print(\"s :\", s.__dict__)"
   ]
  },
  {
   "cell_type": "markdown",
   "metadata": {},
   "source": [
    "s : x, a\n",
    "SubClass : printX, printY, y\n",
    "SuperClass : printX, x\n",
    "\n",
    "SuperClass SubClass 모두에 printX가 존재하지만, 자식클래스를 먼저 확인하므로 SubClass의 printX가 호출이 된다."
   ]
  },
  {
   "cell_type": "code",
   "execution_count": 92,
   "metadata": {
    "collapsed": true
   },
   "outputs": [],
   "source": [
    "class Tiger:\n",
    "    def Jump(self):\n",
    "        print(\"호랑이 점프\")\n",
    "class Lion:\n",
    "    def Bite(self):\n",
    "        print(\"사자 한입\")\n",
    "class Liger(Tiger, Lion):\n",
    "    def Play(self):\n",
    "        print(\"잘 논다\")"
   ]
  },
  {
   "cell_type": "code",
   "execution_count": 94,
   "metadata": {
    "collapsed": true
   },
   "outputs": [],
   "source": [
    "l = Liger()"
   ]
  },
  {
   "cell_type": "code",
   "execution_count": 95,
   "metadata": {},
   "outputs": [
    {
     "name": "stdout",
     "output_type": "stream",
     "text": [
      "사자 한입\n"
     ]
    }
   ],
   "source": [
    "l.Bite()"
   ]
  },
  {
   "cell_type": "code",
   "execution_count": 97,
   "metadata": {},
   "outputs": [
    {
     "name": "stdout",
     "output_type": "stream",
     "text": [
      "호랑이 점프\n"
     ]
    }
   ],
   "source": [
    "l.Jump()"
   ]
  },
  {
   "cell_type": "code",
   "execution_count": 98,
   "metadata": {},
   "outputs": [
    {
     "data": {
      "text/plain": [
       "<__main__.Liger at 0x7f47c2e48320>"
      ]
     },
     "execution_count": 98,
     "metadata": {},
     "output_type": "execute_result"
    }
   ],
   "source": [
    "l"
   ]
  },
  {
   "cell_type": "code",
   "execution_count": null,
   "metadata": {},
   "outputs": [],
   "source": [
    "l.Play()"
   ]
  },
  {
   "cell_type": "code",
   "execution_count": null,
   "metadata": {
    "collapsed": true
   },
   "outputs": [],
   "source": [
    "#동일한 메서드가 여러개의 부모 클래스에 존재하는 경우, 명시된 순서대로 검색을 한다.\n",
    "\n",
    "class Tiger:\n",
    "    def Jump(self):\n",
    "        print(\"호랑이 점프\")\n",
    "    def Cry(self):\n",
    "        print(\"어흥\")\n",
    "        \n",
    "class Lion:\n",
    "    def Bite(self):\n",
    "        print(\"사자 한입\")\n",
    "    def Cry(self):\n",
    "        print(\"으르렁\")\n",
    "        \n",
    "class Liger(Lion, Tiger): #괄호안의 순서대로 검색\n",
    "    def Play(self):\n",
    "        print(\"잘 논다\")"
   ]
  },
  {
   "cell_type": "code",
   "execution_count": null,
   "metadata": {},
   "outputs": [],
   "source": [
    "l = Liger()\n",
    "l.Cry()"
   ]
  },
  {
   "cell_type": "code",
   "execution_count": null,
   "metadata": {},
   "outputs": [],
   "source": [
    "#상속 순서 확인\n",
    "Liger.__mro__"
   ]
  },
  {
   "cell_type": "code",
   "execution_count": null,
   "metadata": {
    "collapsed": true
   },
   "outputs": [],
   "source": [
    "class Animal:\n",
    "    def __init__(self):\n",
    "        print(\"Animal __init__()\")\n",
    "class Tiger(Animal):\n",
    "    def __init__(self):\n",
    "        Animal.__init__(self)\n",
    "        print(\"Tiger __init__()\")\n",
    "class Lion(Animal):\n",
    "    def __init__(self):\n",
    "        Animal.__init__(self)\n",
    "        print(\"Lion __init__()\")\n",
    "class Liger(Tiger, Lion):\n",
    "    def __init__(self):\n",
    "        Tiger.__init__(self)\n",
    "        Lion.__init__(self)\n",
    "        print(\"Liger __init__()\")"
   ]
  },
  {
   "cell_type": "code",
   "execution_count": null,
   "metadata": {},
   "outputs": [],
   "source": [
    "l = Liger()\n",
    "#Animal의 생성자가 두번 호출된다."
   ]
  },
  {
   "cell_type": "code",
   "execution_count": null,
   "metadata": {
    "collapsed": true
   },
   "outputs": [],
   "source": [
    "#super()\n",
    "#이를 사용하면 부모클래스의 메서드에 바로 접근할 수 있다.(클래스 이름을 쓸 필요 없다)\n",
    "class Animal:\n",
    "    def __init__(self):\n",
    "        print(\"Animal __init__()\")\n",
    "class Tiger(Animal):\n",
    "    def __init__(self):\n",
    "        super().__init__()\n",
    "        print(\"Tiger __init__()\")\n",
    "class Lion(Animal):\n",
    "    def __init__(self):\n",
    "        super().__init__()\n",
    "        print(\"Lion __init__()\")\n",
    "class Liger(Tiger, Lion):\n",
    "    def __init__(self):\n",
    "        super().__init__()\n",
    "        print(\"Liger __init__()\")\n",
    "        \n",
    "#super()가 자동으로 Liger클래스의 부모 클래스(Tiger, Lion)이 Animal 클래스를 상속받는 것을 체크하여, 생성자가 한번만 호출되도록 한다."
   ]
  },
  {
   "cell_type": "code",
   "execution_count": null,
   "metadata": {},
   "outputs": [],
   "source": [
    "l = Liger()"
   ]
  },
  {
   "cell_type": "code",
   "execution_count": null,
   "metadata": {
    "collapsed": true
   },
   "outputs": [],
   "source": []
  }
 ],
 "metadata": {
  "anaconda-cloud": {},
  "kernelspec": {
   "display_name": "Python 3",
   "language": "python",
   "name": "python3"
  },
  "language_info": {
   "codemirror_mode": {
    "name": "ipython",
    "version": 3
   },
   "file_extension": ".py",
   "mimetype": "text/x-python",
   "name": "python",
   "nbconvert_exporter": "python",
   "pygments_lexer": "ipython3",
   "version": "3.6.1"
  }
 },
 "nbformat": 4,
 "nbformat_minor": 1
}
