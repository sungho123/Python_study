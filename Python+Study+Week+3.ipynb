{
 "cells": [
  {
   "cell_type": "markdown",
   "metadata": {},
   "source": [
    "# Ch06. 모듈(Module)\n",
    "\n",
    "**코드를 묶어 다른 곳에서 재사용할 수 있게 만든 코드의 모음.**\n",
    "(R의 패키지와 유사, 또는 다른 곳에서 활용할 수 있는 사용자 정의 함수만을 모아둔 코드)\n",
    "\n",
    "\n"
   ]
  },
  {
   "cell_type": "code",
   "execution_count": null,
   "metadata": {
    "collapsed": true
   },
   "outputs": [],
   "source": []
  },
  {
   "cell_type": "markdown",
   "metadata": {},
   "source": [
    "## 01 모듈 사용하기\n",
    "\n",
    "모듈을 불러오는 방법으로 \" import 모듈이름 \" 를 사용한다.\n",
    "\n",
    "e.g.\n",
    "> ```python\n",
    "import math\n",
    "math.pow(2, 10) # 2의 10제곱\n",
    "```  \n",
    "\n",
    "\n",
    "---"
   ]
  },
  {
   "cell_type": "code",
   "execution_count": 1,
   "metadata": {},
   "outputs": [
    {
     "name": "stdout",
     "output_type": "stream",
     "text": [
      "1024.0\n",
      "4.605170185988092\n",
      "3.141592653589793\n"
     ]
    }
   ],
   "source": [
    "#math 모듈을 import 한다.(데이터 분석을 할 때는 numpy 모듈에 거의 다 포함되어 있음.)속성값이라 한다.\n",
    "import math\n",
    "print(math.pow(2, 10)) #2의 10제곱\n",
    "print(math.log(100))\n",
    "print(math.pi)"
   ]
  },
  {
   "cell_type": "markdown",
   "metadata": {},
   "source": [
    "---\n",
    "```python\n",
    "import math\n",
    "```  \n",
    "에서 <a>import</a>는 내장 모듈(math)를 현재 Namespace로 불러온다.  \n",
    "모듈 안의 함수를 사용할 때는, \n",
    "```python\n",
    "math.pi\n",
    "```  \n",
    "와 같이 __모듈이름.함수이름__ 의 형태로 사용한다.  \n",
    "\n",
    "---"
   ]
  },
  {
   "cell_type": "code",
   "execution_count": 2,
   "metadata": {},
   "outputs": [
    {
     "data": {
      "text/plain": [
       "['__doc__',\n",
       " '__file__',\n",
       " '__loader__',\n",
       " '__name__',\n",
       " '__package__',\n",
       " '__spec__',\n",
       " 'acos',\n",
       " 'acosh',\n",
       " 'asin',\n",
       " 'asinh',\n",
       " 'atan',\n",
       " 'atan2',\n",
       " 'atanh',\n",
       " 'ceil',\n",
       " 'copysign',\n",
       " 'cos',\n",
       " 'cosh',\n",
       " 'degrees',\n",
       " 'e',\n",
       " 'erf',\n",
       " 'erfc',\n",
       " 'exp',\n",
       " 'expm1',\n",
       " 'fabs',\n",
       " 'factorial',\n",
       " 'floor',\n",
       " 'fmod',\n",
       " 'frexp',\n",
       " 'fsum',\n",
       " 'gamma',\n",
       " 'gcd',\n",
       " 'hypot',\n",
       " 'inf',\n",
       " 'isclose',\n",
       " 'isfinite',\n",
       " 'isinf',\n",
       " 'isnan',\n",
       " 'ldexp',\n",
       " 'lgamma',\n",
       " 'log',\n",
       " 'log10',\n",
       " 'log1p',\n",
       " 'log2',\n",
       " 'modf',\n",
       " 'nan',\n",
       " 'pi',\n",
       " 'pow',\n",
       " 'radians',\n",
       " 'sin',\n",
       " 'sinh',\n",
       " 'sqrt',\n",
       " 'tan',\n",
       " 'tanh',\n",
       " 'tau',\n",
       " 'trunc']"
      ]
     },
     "execution_count": 2,
     "metadata": {},
     "output_type": "execute_result"
    }
   ],
   "source": [
    "#모듈 안에 어떤 함수가 있는지 알아보기 위함.\n",
    "dir(math)"
   ]
  },
  {
   "cell_type": "code",
   "execution_count": null,
   "metadata": {
    "collapsed": true
   },
   "outputs": [],
   "source": []
  },
  {
   "cell_type": "markdown",
   "metadata": {},
   "source": [
    "---\n",
    "string, date, time, math, fractions, decimal, random, file, sqlite3, os, sys, threading, unitteset, xml, email, http 등을 다룰 것.\n",
    "\n",
    "\n",
    "[Python3의 표준 라이브러리](http://docs.python.org/3.6/library/index.html \"Python3의 표준 라이브러리\")"
   ]
  },
  {
   "cell_type": "markdown",
   "metadata": {},
   "source": [
    "**Module의 장점**\n",
    "* 코드의 재사용 방지(반복적인 코드 작성 불필요)\n",
    "* 코드를 Namespace로 구분하여 관리 할 수 있음  \n",
    "  모듈을 각각의 Namespace를 가지기 때문에, 동일한 이름의 함수, 데이터 (Attribute라 한다.)가 존재하더라도 충돌하지 않게 할 수 있다.  \n",
    "---"
   ]
  },
  {
   "cell_type": "markdown",
   "metadata": {},
   "source": [
    "## 02 모듈 만들기\n",
    "\n",
    "math, string과 같은 **내장 모듈**을 사용하기도 하지만, 실제로는 직접 만든 모듈을 불러와서 사용하는 경우도 많다.  \n",
    "(특히, 업무를 모듈 단위로 분리하여 작업하면 효율적이다.)  \n",
    "\n",
    "<a> 모듈이름.py </a> 의 형태로 모듈을 만든다.\n",
    "\n",
    "(내장 모듈의 경로는 python의 설치 경로의 lib 디렉토리 안에 존재한다.)  \n",
    "\n",
    "```python\n",
    "import sys\n",
    "sys.prefix #파이썬이 설치된 경로를 확인할 수 있게 해준다.\n",
    "```\n"
   ]
  },
  {
   "cell_type": "code",
   "execution_count": 13,
   "metadata": {},
   "outputs": [
    {
     "name": "stdout",
     "output_type": "stream",
     "text": [
      "/opt/conda\n"
     ]
    }
   ],
   "source": [
    "import sys\n",
    "import os\n",
    "print(sys.prefix) #python이 설치된 경로\n",
    "python_path = sys.prefix\n",
    "#os.listdir(python_path + \"//Lib\") #Lib안의 파일들의 나열"
   ]
  },
  {
   "cell_type": "markdown",
   "metadata": {},
   "source": [
    "이 Lib 경로 안에 원하는 모듈을 만들어서 넣어두면 내장 모듈 처럼 사용할 수 있다.  "
   ]
  },
  {
   "cell_type": "markdown",
   "metadata": {},
   "source": [
    "이대로 메모장에 복사하여 **simpleset.py**로 Lib 경로 안에 저장한다.  \n",
    "(저장할 때는 ANSI 인코딩이 아닌, UTF-8 인코딩으로 저장한다.)  \n",
    "\n",
    "---\n",
    "```python\n",
    "from functools import * #reduce 함수를 사용하기 위해 functools라는 모듈을 불러온다. \n",
    "                        #import *은 내부의 모든 함수를 불러온다는 것\n",
    "\n",
    "def intersect(*ar):\n",
    "    \"교집합\"\n",
    "    return reduce(__intersectSC, ar)\n",
    "\n",
    "def __intersectSC(listX, listY):\n",
    "    setList=[]\n",
    "    for x in listX:\n",
    "        if x in listY:\n",
    "            setList.append(x)\n",
    "    return setList\n",
    "\n",
    "def difference(*ar):\n",
    "    \"차집합\"\n",
    "    setList=[]\n",
    "    intersectSet=intersect(*ar)\n",
    "    unionSet=union(*ar)\n",
    "    for x in unionSet:\n",
    "        if not x in intersectSet:\n",
    "            setList.append(x)\n",
    "    return setList\n",
    "\n",
    "def union(*ar):\n",
    "    \"합집합\"\n",
    "    setList=[]\n",
    "    for item in ar:\n",
    "        for x in item:\n",
    "            if not x in setList:\n",
    "                setList.append(x)\n",
    "    return setList\n",
    "```"
   ]
  },
  {
   "cell_type": "code",
   "execution_count": null,
   "metadata": {
    "collapsed": true
   },
   "outputs": [],
   "source": [
    "import simpleset\n",
    "dir(simpleset)"
   ]
  },
  {
   "cell_type": "code",
   "execution_count": null,
   "metadata": {
    "collapsed": true
   },
   "outputs": [],
   "source": [
    "setA = [1,3,7,10]\n",
    "setB = [2,3,4,9]\n",
    "simpleset.union(setA, setB)"
   ]
  },
  {
   "cell_type": "code",
   "execution_count": null,
   "metadata": {
    "collapsed": true
   },
   "outputs": [],
   "source": [
    "simpleset.intersect(setA, setB)"
   ]
  },
  {
   "cell_type": "markdown",
   "metadata": {},
   "source": [
    "## 03 모듈의 경로\n",
    "\n",
    "위에서와 같이 이름만으로 import되도록 하려면, 반드시 모듈 검색 경로(module search path)안에 존재해야 한다.\n",
    "\n",
    "**모듈 검색 경로**\n",
    "1. 현재 작업 경로(os.getcwd(), os.chdir())\n",
    "2. PYTHONPATH 환경변수에 등록된 위치(제어판-시스템-고급 시스템 설정)\n",
    "3. 표준 라이브러리 디렉토리(sys.path)\n"
   ]
  },
  {
   "cell_type": "code",
   "execution_count": 16,
   "metadata": {},
   "outputs": [
    {
     "data": {
      "text/plain": [
       "'/home/jovyan/sungho/Untitled Folder'"
      ]
     },
     "execution_count": 16,
     "metadata": {},
     "output_type": "execute_result"
    }
   ],
   "source": [
    "import os\n",
    "os.getcwd()\n",
    "#os.chdir(\"변경하고 싶은 경로\")"
   ]
  },
  {
   "cell_type": "code",
   "execution_count": 17,
   "metadata": {},
   "outputs": [
    {
     "data": {
      "text/plain": [
       "['',\n",
       " '/opt/conda/lib/python36.zip',\n",
       " '/opt/conda/lib/python3.6',\n",
       " '/opt/conda/lib/python3.6/lib-dynload',\n",
       " '/opt/conda/lib/python3.6/site-packages',\n",
       " '/opt/conda/lib/python3.6/site-packages/cycler-0.10.0-py3.6.egg',\n",
       " '/opt/conda/lib/python3.6/site-packages/IPython/extensions',\n",
       " '/home/jovyan/.ipython']"
      ]
     },
     "execution_count": 17,
     "metadata": {},
     "output_type": "execute_result"
    }
   ],
   "source": [
    "import sys\n",
    "sys.path\n",
    "#sys.path.append('추가하고 싶은 경로')\n",
    "#sys.path.remove('삭제하고 싶은 경로')"
   ]
  },
  {
   "cell_type": "markdown",
   "metadata": {},
   "source": [
    "---\n",
    "## 04 모듈 임포트\n",
    "\n",
    "python에서는 import를 어디에서나 사용할 수 있다.(C, C++의 include는 코드 맨 처음에 작성해야함.)\n",
    "```python\n",
    "def loadMathMod():\n",
    "    print(\"import math\")\n",
    "    import math  #코드 중간에 import를 할 수 있다.\n",
    "    print(dir(math))\n",
    "```\n",
    "\n"
   ]
  },
  {
   "cell_type": "code",
   "execution_count": 19,
   "metadata": {},
   "outputs": [
    {
     "name": "stdout",
     "output_type": "stream",
     "text": [
      "import math\n",
      "['__doc__', '__file__', '__loader__', '__name__', '__package__', '__spec__', 'acos', 'acosh', 'asin', 'asinh', 'atan', 'atan2', 'atanh', 'ceil', 'copysign', 'cos', 'cosh', 'degrees', 'e', 'erf', 'erfc', 'exp', 'expm1', 'fabs', 'factorial', 'floor', 'fmod', 'frexp', 'fsum', 'gamma', 'gcd', 'hypot', 'inf', 'isclose', 'isfinite', 'isinf', 'isnan', 'ldexp', 'lgamma', 'log', 'log10', 'log1p', 'log2', 'modf', 'nan', 'pi', 'pow', 'radians', 'sin', 'sinh', 'sqrt', 'tan', 'tanh', 'tau', 'trunc']\n"
     ]
    }
   ],
   "source": [
    "def loadMathMod():\n",
    "    print(\"import math\")\n",
    "    import math  #코드 중간에 import를 할 수 있다.\n",
    "    print(dir(math))\n",
    "loadMathMod()"
   ]
  },
  {
   "cell_type": "markdown",
   "metadata": {},
   "source": [
    "### 모듈안의 Attribute(모듈 안의 함수 및 데이터)를 사용하는 방법.  \n",
    "* <a>import 모듈이름</a>  \n",
    "<a>모듈.이름</a> 형식으로 사용한다.(한정; Qualification)  \n",
    "* <a>from <모듈> import <어트리뷰트> </a>  \n",
    "<모듈> 안에 정의된 어트리뷰트 중 <어트리뷰트>에 해당하는 이름의 어트리뷰트를 현재의 Namespace로 import한다.  \n",
    "이 경우는 모듈.이름 대신 이름으로 바로 사용할 수 있다.  \n",
    "e.g.\n",
    "```python\n",
    "from simpleset import union\n",
    "union([1,2,3], [3], [2,3,4]) #첫번째 방법과 다르게 속성접근자를 통해 접근하지 않는다.\n",
    "intersect([1,2], [1]) #union만 사용가능 하다.\n",
    "```  \n",
    "기존의 Namespace의 동일한 이름이 존재한다면, 덮어 씌워지게 된다.  "
   ]
  },
  {
   "cell_type": "code",
   "execution_count": 20,
   "metadata": {},
   "outputs": [
    {
     "ename": "ModuleNotFoundError",
     "evalue": "No module named 'simpleset'",
     "output_type": "error",
     "traceback": [
      "\u001b[0;31m---------------------------------------------------------------------------\u001b[0m",
      "\u001b[0;31mModuleNotFoundError\u001b[0m                       Traceback (most recent call last)",
      "\u001b[0;32m<ipython-input-20-43defe8ba99d>\u001b[0m in \u001b[0;36m<module>\u001b[0;34m()\u001b[0m\n\u001b[0;32m----> 1\u001b[0;31m \u001b[0;32mfrom\u001b[0m \u001b[0msimpleset\u001b[0m \u001b[0;32mimport\u001b[0m \u001b[0munion\u001b[0m\u001b[0;34m\u001b[0m\u001b[0m\n\u001b[0m\u001b[1;32m      2\u001b[0m \u001b[0munion\u001b[0m\u001b[0;34m(\u001b[0m\u001b[0;34m[\u001b[0m\u001b[0;36m1\u001b[0m\u001b[0;34m,\u001b[0m\u001b[0;36m2\u001b[0m\u001b[0;34m,\u001b[0m\u001b[0;36m3\u001b[0m\u001b[0;34m]\u001b[0m\u001b[0;34m,\u001b[0m \u001b[0;34m[\u001b[0m\u001b[0;36m3\u001b[0m\u001b[0;34m]\u001b[0m\u001b[0;34m,\u001b[0m \u001b[0;34m[\u001b[0m\u001b[0;36m2\u001b[0m\u001b[0;34m,\u001b[0m\u001b[0;36m3\u001b[0m\u001b[0;34m,\u001b[0m\u001b[0;36m4\u001b[0m\u001b[0;34m]\u001b[0m\u001b[0;34m)\u001b[0m \u001b[0;31m#첫번째 방법과 다르게 속성접근자를 통해 접근하지 않는다.\u001b[0m\u001b[0;34m\u001b[0m\u001b[0m\n\u001b[1;32m      3\u001b[0m \u001b[0mintersect\u001b[0m\u001b[0;34m(\u001b[0m\u001b[0;34m[\u001b[0m\u001b[0;36m1\u001b[0m\u001b[0;34m,\u001b[0m\u001b[0;36m2\u001b[0m\u001b[0;34m]\u001b[0m\u001b[0;34m,\u001b[0m \u001b[0;34m[\u001b[0m\u001b[0;36m1\u001b[0m\u001b[0;34m]\u001b[0m\u001b[0;34m)\u001b[0m \u001b[0;31m#union만 사용가능 하다.\u001b[0m\u001b[0;34m\u001b[0m\u001b[0m\n",
      "\u001b[0;31mModuleNotFoundError\u001b[0m: No module named 'simpleset'"
     ]
    }
   ],
   "source": [
    "from simpleset import union\n",
    "union([1,2,3], [3], [2,3,4]) #첫번째 방법과 다르게 속성접근자를 통해 접근하지 않는다.\n",
    "intersect([1,2], [1]) #union만 사용가능 하다."
   ]
  },
  {
   "cell_type": "markdown",
   "metadata": {},
   "source": [
    "* <a> from <모듈> import * </a>  \n",
    "모듈 내의 _(밑줄)로 시작하는 어트리뷰트를 제외하고 모든 어트리뷰트를 현재 Namespace로 import한다.  \n",
    "e.g.  \n",
    "```python\n",
    "import simpleset\n",
    "dir(simpleset)\n",
    "exit() #python 종료\n",
    "```\n",
    "```python\n",
    "from simpleset import *\n",
    "dir(simpleset)\n",
    "```    \n",
    "코드의 충돌을 막고, 불필요한 함수의 import를 방지한다."
   ]
  },
  {
   "cell_type": "code",
   "execution_count": null,
   "metadata": {
    "collapsed": true
   },
   "outputs": [],
   "source": [
    "import simpleset\n",
    "dir(simpleset) #simpleset이라는 Namespace를 생성한다.\n",
    "#exit() #python 종료"
   ]
  },
  {
   "cell_type": "code",
   "execution_count": 21,
   "metadata": {},
   "outputs": [
    {
     "ename": "ModuleNotFoundError",
     "evalue": "No module named 'simpleset'",
     "output_type": "error",
     "traceback": [
      "\u001b[0;31m---------------------------------------------------------------------------\u001b[0m",
      "\u001b[0;31mModuleNotFoundError\u001b[0m                       Traceback (most recent call last)",
      "\u001b[0;32m<ipython-input-21-610d213f22ca>\u001b[0m in \u001b[0;36m<module>\u001b[0;34m()\u001b[0m\n\u001b[1;32m      1\u001b[0m \u001b[0;31m#__intersectSC함수가 보이지 않는다.\u001b[0m\u001b[0;34m\u001b[0m\u001b[0;34m\u001b[0m\u001b[0m\n\u001b[0;32m----> 2\u001b[0;31m \u001b[0;32mfrom\u001b[0m \u001b[0msimpleset\u001b[0m \u001b[0;32mimport\u001b[0m \u001b[0;34m*\u001b[0m\u001b[0;34m\u001b[0m\u001b[0m\n\u001b[0m\u001b[1;32m      3\u001b[0m \u001b[0mdir\u001b[0m\u001b[0;34m(\u001b[0m\u001b[0;34m)\u001b[0m \u001b[0;31m#이 때는 기존의 Namespace에 simpleset을 불러오는 것과 동일\u001b[0m\u001b[0;34m\u001b[0m\u001b[0m\n",
      "\u001b[0;31mModuleNotFoundError\u001b[0m: No module named 'simpleset'"
     ]
    }
   ],
   "source": [
    "#__intersectSC함수가 보이지 않는다.\n",
    "from simpleset import *\n",
    "dir() #이 때는 기존의 Namespace에 simpleset을 불러오는 것과 동일"
   ]
  },
  {
   "cell_type": "markdown",
   "metadata": {},
   "source": [
    "* <a>import <모듈> as <별칭></a>  \n",
    "이름이 길거나 다른 이름으로 참조하고 싶을 때 사용.\n",
    "e.g.  \n",
    "```python\n",
    "import tensorflow as tf\n",
    "```"
   ]
  },
  {
   "cell_type": "markdown",
   "metadata": {},
   "source": [
    "## 05 모듈 파헤치기\n",
    "\n",
    "**바이트 코드(Byte Code)**  \n",
    " 가상 머신이 실행하는 명령어의 형태(하드웨어에 무관하게 작동한다.)\n",
    " 인터프리터를 이용해 바이트 코드를 만들게 된다.\n",
    " 이미 인터프리터를 거쳤기 때문에 바로 메모리에 로딩 되므로 속도가 빠르다.\n",
    "\n",
    "모듈을 불러오는 단계에서 바이트코드가 존재하는 지를 확인한 후, 바이트 코드가 있으면, 바이트 코드를 불러오게 되고, \n",
    "그렇지 않다면, 인터프리터를 이용해 모듈의 코드를 바이트 코드로 만들게 된다.  \n",
    "**simpleset.py**라는 모듈을 import 하게 되면 동일한 디렉토리에 **simpleset.pyc**라는 파일이 생성되게 된다.\n"
   ]
  },
  {
   "cell_type": "markdown",
   "metadata": {},
   "source": [
    "**example code**  \n",
    "testmodule.py의 이름으로 Lib 디렉토리에 저장한다.\n",
    "```python\n",
    "print(\"test module\")\n",
    "defaultvalue = 1\n",
    "def printDefaultValue():\n",
    "    print(defaultvalue)\n",
    "```"
   ]
  },
  {
   "cell_type": "code",
   "execution_count": 23,
   "metadata": {},
   "outputs": [
    {
     "ename": "ModuleNotFoundError",
     "evalue": "No module named 'testmodule'",
     "output_type": "error",
     "traceback": [
      "\u001b[0;31m---------------------------------------------------------------------------\u001b[0m",
      "\u001b[0;31mModuleNotFoundError\u001b[0m                       Traceback (most recent call last)",
      "\u001b[0;32m<ipython-input-23-8b23cb9bc944>\u001b[0m in \u001b[0;36m<module>\u001b[0;34m()\u001b[0m\n\u001b[0;32m----> 1\u001b[0;31m \u001b[0;32mimport\u001b[0m \u001b[0mtestmodule\u001b[0m \u001b[0;31m#testmodule.pyc 생성\u001b[0m\u001b[0;34m\u001b[0m\u001b[0m\n\u001b[0m",
      "\u001b[0;31mModuleNotFoundError\u001b[0m: No module named 'testmodule'"
     ]
    }
   ],
   "source": [
    "import testmodule \n",
    "#testmodule.pyc 생성"
   ]
  },
  {
   "cell_type": "markdown",
   "metadata": {},
   "source": [
    "testmodule.py 코드를 수정\n",
    "```python\n",
    "print(\"hello world\")\n",
    "defaultvalue = 2\n",
    "def printDefaultValue():\n",
    "    print(defaultvalue)\n",
    "```\n"
   ]
  },
  {
   "cell_type": "code",
   "execution_count": null,
   "metadata": {
    "collapsed": true
   },
   "outputs": [],
   "source": [
    "import testmodule #다시 import해도 print가 실행되지 않음.\n",
    "testmodule.printDefaultValue() #2로 수정했지만 수정하기 전의 값이 반환된다."
   ]
  },
  {
   "cell_type": "markdown",
   "metadata": {},
   "source": [
    "---\n",
    "원래는 파이썬을 종료한 다음에 다시 실행해야 새롭게 불러올 수 있다.  \n",
    "\n",
    "하지만, imp 모듈을 이용해 이미 불러온 모듈을 다시 불러올 수 있다.\n",
    "\n",
    "```python\n",
    "import testmodule\n",
    "import imp\n",
    "imp.reload(testmodule)\n",
    "```"
   ]
  },
  {
   "cell_type": "code",
   "execution_count": null,
   "metadata": {
    "collapsed": true
   },
   "outputs": [],
   "source": [
    "import testmodule\n",
    "import imp\n",
    "imp.reload(testmodule)"
   ]
  },
  {
   "cell_type": "markdown",
   "metadata": {},
   "source": [
    "---\n",
    "모듈을 한번만 불러오게 되고, 모듈의 reference는 여러개 생성할 수 있다.\n",
    "\n",
    "```python\n",
    "import testmodule as test1\n",
    "import testmodule as test2\n",
    "```  \n",
    "testmodule은 한번 import되며, test1과 test2는 testmodule의 reference이다."
   ]
  },
  {
   "cell_type": "code",
   "execution_count": null,
   "metadata": {
    "collapsed": true
   },
   "outputs": [],
   "source": [
    "import testmodule as test1\n",
    "import testmodule as test2\n",
    "dir()"
   ]
  },
  {
   "cell_type": "code",
   "execution_count": null,
   "metadata": {
    "collapsed": true
   },
   "outputs": [],
   "source": [
    "test1.printDefaultValue()"
   ]
  },
  {
   "cell_type": "code",
   "execution_count": null,
   "metadata": {
    "collapsed": true
   },
   "outputs": [],
   "source": [
    "test1.defaultvalue = 100\n",
    "test2.printDefaultValue() #reference이기 때문에."
   ]
  },
  {
   "cell_type": "markdown",
   "metadata": {},
   "source": [
    "## 06  \\__name\\__ == \"\\__main\\__\"\n",
    "\n",
    "파일을 직접 실행할 때와 다른 파일에 import 되어 사용될 때를 구분하여 작동할 수 있도록 해준다.  \n",
    "\n",
    "\\__name\\__은 읽을 수만 있는 Attribute로 자기 모듈의 이름을 나타낸다.  \n",
    "\n",
    "e.g.\n",
    "```python\n",
    "import math\n",
    "math.__name__ #'math'라는 결과가 나온다\n",
    "```  \n",
    "하지만, 직접 실행하였을 때는 \\__name\\__이라는 값을 반환해준다."
   ]
  },
  {
   "cell_type": "code",
   "execution_count": 24,
   "metadata": {},
   "outputs": [
    {
     "data": {
      "text/plain": [
       "'math'"
      ]
     },
     "execution_count": 24,
     "metadata": {},
     "output_type": "execute_result"
    }
   ],
   "source": [
    "import math\n",
    "math.__name__"
   ]
  },
  {
   "cell_type": "code",
   "execution_count": 26,
   "metadata": {},
   "outputs": [
    {
     "name": "stdout",
     "output_type": "stream",
     "text": [
      "__main__\n"
     ]
    }
   ],
   "source": [
    "print(__name__)"
   ]
  },
  {
   "cell_type": "markdown",
   "metadata": {},
   "source": [
    "이 방법은 코드를 수정하거나 코드를 추가할 때 유용하다.\n",
    "원래는 수정할 때 마다, 다시 import하여 코드가 잘 돌아가는지를 확인해야 하지만,  \n",
    "이 방법을 사용하면 해당 모듈만 다시 실행시키면 코드의 작동여부를 확인할 수 있게 된다.  \n",
    "e.g.\n",
    "```python\n",
    "defaultValue = 0\n",
    "def printDefaultValue():\n",
    "    print(defaultvalue)  \n",
    "    \n",
    "if __name__==\"__main__\":\n",
    "    #test code\n",
    "    print(\"hello world\")\n",
    "    defaultvalue = 100\n",
    "    printDefaultValue()\n",
    "```"
   ]
  },
  {
   "cell_type": "markdown",
   "metadata": {},
   "source": [
    "## 07 패키지\n",
    "\n",
    "여러 개의 모듈을 하나로 묶는 것.  \n",
    "\n",
    "xml 패키지를 확인.\n",
    "하위에 dom, etree, parsers, sax와 같은 하위 모듈이 존재.\n",
    "\n",
    "xml 패키지의 \\__init\\__.py를 확인.\n",
    ">\"\"\"Core XML support for Python.\n",
    "\n",
    ">This package contains four sub-packages:\n",
    "\n",
    ">dom -- The W3C Document Object Model.  This supports DOM Level 1 +\n",
    "       Namespaces.\n",
    "\n",
    ">parsers -- Python wrappers for XML parsers (currently only supports Expat).\n",
    "\n",
    ">sax -- The Simple API for XML, developed by XML-Dev, led by David\n",
    "       Megginson and ported to Python by Lars Marius Garshol.  This\n",
    "       supports the SAX 2 API.\n",
    "\n",
    ">etree -- The ElementTree XML library.  This is a subset of the full\n",
    "       ElementTree XML release.\n",
    "\n",
    ">\"\"\"\n",
    "\n",
    "\n",
    ">__all__ = [\"dom\", \"parsers\", \"sax\", \"etree\"]\n",
    "\n",
    "```python\n",
    "__all__ = [\"dom\", \"parsers\", \"sax\", \"etree\"]\n",
    "```\n",
    "구문은, xml패키지가 import 되었을 때, 따라서 불러와지는 모듈의 이름을 정의한 것.\n"
   ]
  },
  {
   "cell_type": "code",
   "execution_count": 27,
   "metadata": {},
   "outputs": [
    {
     "data": {
      "text/plain": [
       "<xml.dom.minidom.Document at 0x7f86a4d8af48>"
      ]
     },
     "execution_count": 27,
     "metadata": {},
     "output_type": "execute_result"
    }
   ],
   "source": [
    "import xml.dom.minidom as minidom #이름이 길어 minidom이라고 줄임.\n",
    "minidom.parseString(\"<foo><bar/></foo>\")"
   ]
  },
  {
   "cell_type": "markdown",
   "metadata": {},
   "source": [
    "어떤 패키지를 import 했을 때 해당 패키지의 하위 패키지는 자동으로 import 되지 않음\n",
    "```python\n",
    "#하위 모듈을 사용하고 싶으면 따로 import 해주어야함.\n",
    "import xml\n",
    "import xml.etree\n",
    "```"
   ]
  },
  {
   "cell_type": "code",
   "execution_count": 28,
   "metadata": {},
   "outputs": [
    {
     "data": {
      "text/plain": [
       "<module 'xml' from '/opt/conda/lib/python3.6/xml/__init__.py'>"
      ]
     },
     "execution_count": 28,
     "metadata": {},
     "output_type": "execute_result"
    }
   ],
   "source": [
    "import xml\n",
    "xml"
   ]
  },
  {
   "cell_type": "code",
   "execution_count": 29,
   "metadata": {},
   "outputs": [
    {
     "ename": "AttributeError",
     "evalue": "module 'xml' has no attribute 'etree'",
     "output_type": "error",
     "traceback": [
      "\u001b[0;31m---------------------------------------------------------------------------\u001b[0m",
      "\u001b[0;31mAttributeError\u001b[0m                            Traceback (most recent call last)",
      "\u001b[0;32m<ipython-input-29-9484df629c21>\u001b[0m in \u001b[0;36m<module>\u001b[0;34m()\u001b[0m\n\u001b[0;32m----> 1\u001b[0;31m \u001b[0mxml\u001b[0m\u001b[0;34m.\u001b[0m\u001b[0metree\u001b[0m \u001b[0;31m#따로 불러 온적이 없기 때문에 에러가 발생\u001b[0m\u001b[0;34m\u001b[0m\u001b[0m\n\u001b[0m",
      "\u001b[0;31mAttributeError\u001b[0m: module 'xml' has no attribute 'etree'"
     ]
    }
   ],
   "source": [
    "xml.etree #따로 불러 온적이 없기 때문에 에러가 발생"
   ]
  },
  {
   "cell_type": "code",
   "execution_count": null,
   "metadata": {
    "collapsed": true
   },
   "outputs": [],
   "source": [
    "import xml.etree"
   ]
  },
  {
   "cell_type": "markdown",
   "metadata": {},
   "source": [
    "**패키지 안에서 패키지 안의 다른 모듈을 참조하는 방법.**\n",
    "\n",
    "sound/  \n",
    ">\\__init\\__.py  \n",
    ">>formats/  \n",
    ">>>\\__init\\__.py  \n",
    ">>>wavread.py  \n",
    ">>>auread.py  \n",
    ">>>auwrite.py  \n",
    ">>>...  \n",
    "\n",
    ">>effects/  \n",
    ">>>\\__init\\__.py  \n",
    ">>>echo.py  \n",
    ">>>...  \n",
    "\n",
    ">>filter/  \n",
    ">>>\\__init\\__.py  \n",
    ">>>equalizer.py  \n",
    ">>>...  \n"
   ]
  },
  {
   "cell_type": "markdown",
   "metadata": {},
   "source": [
    "* 같은 디렉토리 안의 모듈을 참조할 때(wavread.py를 작성하는 중이라고 가정)\n",
    "```python\n",
    "from auread import * \n",
    "```  "
   ]
  },
  {
   "cell_type": "markdown",
   "metadata": {},
   "source": [
    "* 다른 상위의 디렉토리 안의 모듈을 참조하는 경우.\n",
    "상위의 디렉토리부터 찾아가야 함.\n",
    "\n",
    "```python\n",
    "from sound.filter.equalizer import equalizer\n",
    "```"
   ]
  },
  {
   "cell_type": "markdown",
   "metadata": {},
   "source": [
    "* '.' : 현재 디렉토리\n",
    "* '..' : 부모 디렉토리\n",
    "\n",
    "```python\n",
    "from . import echo #현재 디렉토리의 echo 모듈 import\n",
    "```  \n",
    "```python\n",
    "from .. import formats #부모 디렉토리의 모듈중 format import\n",
    "```  \n",
    "```python\n",
    "from ..filters import equalizer #부모 디렉토리에 있는 filter 디렉토리 안의 equalizer 모듈을 import\n",
    "```"
   ]
  },
  {
   "cell_type": "markdown",
   "metadata": {},
   "source": [
    "# Ch07.예외 처리"
   ]
  },
  {
   "cell_type": "markdown",
   "metadata": {},
   "source": [
    "## 01 구문 에러(Syntax Error)"
   ]
  },
  {
   "cell_type": "code",
   "execution_count": 30,
   "metadata": {},
   "outputs": [
    {
     "ename": "SyntaxError",
     "evalue": "EOL while scanning string literal (<ipython-input-30-3035cc0cd451>, line 1)",
     "output_type": "error",
     "traceback": [
      "\u001b[0;36m  File \u001b[0;32m\"<ipython-input-30-3035cc0cd451>\"\u001b[0;36m, line \u001b[0;32m1\u001b[0m\n\u001b[0;31m    print(\"{0}, {1}.format(10,20))\u001b[0m\n\u001b[0m                                  ^\u001b[0m\n\u001b[0;31mSyntaxError\u001b[0m\u001b[0;31m:\u001b[0m EOL while scanning string literal\n"
     ]
    }
   ],
   "source": [
    "print(\"{0}, {1}.format(10,20))"
   ]
  },
  {
   "cell_type": "markdown",
   "metadata": {},
   "source": [
    "## 02 예외(Exception)"
   ]
  },
  {
   "cell_type": "code",
   "execution_count": 31,
   "metadata": {},
   "outputs": [
    {
     "ename": "NameError",
     "evalue": "name 'a' is not defined",
     "output_type": "error",
     "traceback": [
      "\u001b[0;31m---------------------------------------------------------------------------\u001b[0m",
      "\u001b[0;31mNameError\u001b[0m                                 Traceback (most recent call last)",
      "\u001b[0;32m<ipython-input-31-235128e7dfb7>\u001b[0m in \u001b[0;36m<module>\u001b[0;34m()\u001b[0m\n\u001b[0;32m----> 1\u001b[0;31m \u001b[0mprint\u001b[0m\u001b[0;34m(\u001b[0m\u001b[0ma\u001b[0m\u001b[0;34m)\u001b[0m\u001b[0;34m\u001b[0m\u001b[0m\n\u001b[0m\u001b[1;32m      2\u001b[0m \u001b[0;31m#NameError: name 'a' is not defined\u001b[0m\u001b[0;34m\u001b[0m\u001b[0;34m\u001b[0m\u001b[0m\n",
      "\u001b[0;31mNameError\u001b[0m: name 'a' is not defined"
     ]
    }
   ],
   "source": [
    "print(a)\n",
    "#NameError: name 'a' is not defined"
   ]
  },
  {
   "cell_type": "code",
   "execution_count": 32,
   "metadata": {},
   "outputs": [
    {
     "ename": "ZeroDivisionError",
     "evalue": "division by zero",
     "output_type": "error",
     "traceback": [
      "\u001b[0;31m---------------------------------------------------------------------------\u001b[0m",
      "\u001b[0;31mZeroDivisionError\u001b[0m                         Traceback (most recent call last)",
      "\u001b[0;32m<ipython-input-32-970f05f5235e>\u001b[0m in \u001b[0;36m<module>\u001b[0;34m()\u001b[0m\n\u001b[0;32m----> 1\u001b[0;31m \u001b[0;36m10\u001b[0m \u001b[0;34m/\u001b[0m \u001b[0;36m0\u001b[0m\u001b[0;34m\u001b[0m\u001b[0m\n\u001b[0m\u001b[1;32m      2\u001b[0m \u001b[0;31m#ZeroDivisionError: division by zero\u001b[0m\u001b[0;34m\u001b[0m\u001b[0;34m\u001b[0m\u001b[0m\n",
      "\u001b[0;31mZeroDivisionError\u001b[0m: division by zero"
     ]
    }
   ],
   "source": [
    "10 / 0\n",
    "#ZeroDivisionError: division by zero"
   ]
  },
  {
   "cell_type": "code",
   "execution_count": 33,
   "metadata": {},
   "outputs": [
    {
     "ename": "IndexError",
     "evalue": "list index out of range",
     "output_type": "error",
     "traceback": [
      "\u001b[0;31m---------------------------------------------------------------------------\u001b[0m",
      "\u001b[0;31mIndexError\u001b[0m                                Traceback (most recent call last)",
      "\u001b[0;32m<ipython-input-33-94589c3a7c0f>\u001b[0m in \u001b[0;36m<module>\u001b[0;34m()\u001b[0m\n\u001b[1;32m      1\u001b[0m \u001b[0ma\u001b[0m \u001b[0;34m=\u001b[0m \u001b[0;34m[\u001b[0m\u001b[0;36m10\u001b[0m\u001b[0;34m,\u001b[0m \u001b[0;36m20\u001b[0m\u001b[0;34m,\u001b[0m \u001b[0;36m30\u001b[0m\u001b[0;34m]\u001b[0m\u001b[0;34m\u001b[0m\u001b[0m\n\u001b[0;32m----> 2\u001b[0;31m \u001b[0ma\u001b[0m\u001b[0;34m[\u001b[0m\u001b[0;36m3\u001b[0m\u001b[0;34m]\u001b[0m\u001b[0;34m\u001b[0m\u001b[0m\n\u001b[0m\u001b[1;32m      3\u001b[0m \u001b[0;31m#IndexError: list index out of range\u001b[0m\u001b[0;34m\u001b[0m\u001b[0;34m\u001b[0m\u001b[0m\n",
      "\u001b[0;31mIndexError\u001b[0m: list index out of range"
     ]
    }
   ],
   "source": [
    "a = [10, 20, 30]\n",
    "a[3]\n",
    "#IndexError: list index out of range"
   ]
  },
  {
   "cell_type": "code",
   "execution_count": 34,
   "metadata": {},
   "outputs": [
    {
     "ename": "TypeError",
     "evalue": "unsupported operand type(s) for /: 'int' and 'str'",
     "output_type": "error",
     "traceback": [
      "\u001b[0;31m---------------------------------------------------------------------------\u001b[0m",
      "\u001b[0;31mTypeError\u001b[0m                                 Traceback (most recent call last)",
      "\u001b[0;32m<ipython-input-34-ea06f65b3137>\u001b[0m in \u001b[0;36m<module>\u001b[0;34m()\u001b[0m\n\u001b[1;32m      1\u001b[0m \u001b[0ma\u001b[0m \u001b[0;34m=\u001b[0m \u001b[0;34m\"Apple\"\u001b[0m\u001b[0;34m\u001b[0m\u001b[0m\n\u001b[0;32m----> 2\u001b[0;31m \u001b[0;36m10\u001b[0m \u001b[0;34m/\u001b[0m \u001b[0ma\u001b[0m\u001b[0;34m\u001b[0m\u001b[0m\n\u001b[0m\u001b[1;32m      3\u001b[0m \u001b[0;31m#TypeError: unsupported operand type(s) for /: 'int' and 'str'\u001b[0m\u001b[0;34m\u001b[0m\u001b[0;34m\u001b[0m\u001b[0m\n",
      "\u001b[0;31mTypeError\u001b[0m: unsupported operand type(s) for /: 'int' and 'str'"
     ]
    }
   ],
   "source": [
    "a = \"Apple\"\n",
    "10 / a\n",
    "#TypeError: unsupported operand type(s) for /: 'int' and 'str'"
   ]
  },
  {
   "cell_type": "markdown",
   "metadata": {},
   "source": [
    "## 03 예외 처리\n",
    "---\n",
    "\n",
    "**try **"
   ]
  },
  {
   "cell_type": "markdown",
   "metadata": {},
   "source": [
    "```python\n",
    "try:\n",
    "    <예외 발생 가능성이 있는 문장>\n",
    "except <예외종류>:\n",
    "    <예외 처리 문장>\n",
    "except (예외1, 예외2):\n",
    "    <예외 처리 문장>\n",
    "except 예외 as 인자:\n",
    "    <예외 처리 문장>\n",
    "else: #생략가능\n",
    "    <예외가 발생하지 않은 경우, 수행할 문장>\n",
    "finally: #생략가능\n",
    "    <예외 발생 유무에 상관없이 try 블록 이후 수행할 문장>\n",
    "    \n",
    "```    "
   ]
  },
  {
   "cell_type": "code",
   "execution_count": 35,
   "metadata": {
    "collapsed": true
   },
   "outputs": [],
   "source": [
    "def divide(a,b):\n",
    "    return a/b"
   ]
  },
  {
   "cell_type": "code",
   "execution_count": 36,
   "metadata": {},
   "outputs": [
    {
     "name": "stdout",
     "output_type": "stream",
     "text": [
      "Exception is occured!!\n"
     ]
    }
   ],
   "source": [
    "try:\n",
    "    c = divide(5,0)\n",
    "except: #어떤 종류의 예외라도 모두 같은 처리를 한다.\n",
    "    print(\"Exception is occured!!\")"
   ]
  },
  {
   "cell_type": "markdown",
   "metadata": {},
   "source": [
    "* **except 예외**  \n",
    "예외에 따라 다른 처리가 필요한 경우"
   ]
  },
  {
   "cell_type": "code",
   "execution_count": 38,
   "metadata": {},
   "outputs": [
    {
     "name": "stdout",
     "output_type": "stream",
     "text": [
      "숫자 아님\n"
     ]
    }
   ],
   "source": [
    "try:\n",
    "    c = divide(5,'0')\n",
    "except ZeroDivisionError:\n",
    "    print(\"0으로 나눔\")\n",
    "except TypeError:\n",
    "    print(\"숫자 아님\")\n",
    "except:\n",
    "    print(\"몰라\")"
   ]
  },
  {
   "cell_type": "markdown",
   "metadata": {},
   "source": [
    "---\n",
    "예외 처리는 항상 좁은 범위에서 넓은 범위로 확장해야 한다.  \n",
    "순차적으로 검사를 하기 때문에, 윗 단계에서 걸려버리면 모두 같은 예외처리를 하게 될 수 있다.\n",
    "\n",
    "```python\n",
    "try:\n",
    "    c = divide(5,'0')\n",
    "except Exception: #예외의 최상위 클래스이기 때문에 모든 예외는 이 조건을 만족하게 된다.\n",
    "    print(\"몰라\")\n",
    "except ZeroDivisionError:\n",
    "    print(\"0으로 나눔\")\n",
    "except TypeError:\n",
    "    print(\"숫자 아님\")\n",
    "\n",
    "```"
   ]
  },
  {
   "cell_type": "markdown",
   "metadata": {},
   "source": [
    "* **else, finally**"
   ]
  },
  {
   "cell_type": "code",
   "execution_count": 40,
   "metadata": {},
   "outputs": [
    {
     "name": "stdout",
     "output_type": "stream",
     "text": [
      "숫자 아님\n",
      "코드는 다 돌렸다\n"
     ]
    }
   ],
   "source": [
    "try:\n",
    "    c = divide(5,'k')\n",
    "except ZeroDivisionError:\n",
    "    print(\"0으로 나눔\")\n",
    "except TypeError:\n",
    "    print(\"숫자 아님\")\n",
    "except:\n",
    "    print(\"몰라\")\n",
    "else:\n",
    "    print(c)\n",
    "finally:\n",
    "    print(\"코드는 다 돌렸다\")\n"
   ]
  },
  {
   "cell_type": "markdown",
   "metadata": {},
   "source": [
    "* **as**  \n",
    "내장 예외가 발생하는 경우, 예외 발생 여부 뿐만 아니라, 추가적인 정보도 인스턴스 객체의 args 변수에 전달된다."
   ]
  },
  {
   "cell_type": "code",
   "execution_count": 45,
   "metadata": {},
   "outputs": [
    {
     "name": "stdout",
     "output_type": "stream",
     "text": [
      "에러 :  unsupported operand type(s) for /: 'int' and 'str'\n",
      "코드는 다 돌렸다\n"
     ]
    }
   ],
   "source": [
    "try:\n",
    "    c = divide(5,'1')\n",
    "except ZeroDivisionError:\n",
    "    print(\"0으로 나눔\")\n",
    "except TypeError as e: #전달 되는 예외 객체를 e로 받는다.\n",
    "    print(\"에러 : \", e.args[0])\n",
    "except:\n",
    "    print(\"몰라\")\n",
    "else:\n",
    "    print(c)\n",
    "finally:\n",
    "    print(\"코드는 다 돌렸다\")"
   ]
  },
  {
   "cell_type": "markdown",
   "metadata": {},
   "source": [
    "* **except (에러1, 에러2)**  \n",
    "여러 종류의 예외에 같은 처리 방법을 사용하는 경우  \n",
    "예외 처리의 부모 클래스를 인자로 받는 경우 하위 클래스도 동일하게 처리 된다.  \n",
    "(ArithmeticError - ZeroDivisionError)"
   ]
  },
  {
   "cell_type": "code",
   "execution_count": 46,
   "metadata": {},
   "outputs": [
    {
     "name": "stdout",
     "output_type": "stream",
     "text": [
      "그냥 틀렸어\n",
      "코드는 다 돌렸다\n"
     ]
    }
   ],
   "source": [
    "try:\n",
    "    c = divide(5,0) \n",
    "except (ZeroDivisionError, TypeError): #명시된 에러를 모두 처리\n",
    "    print(\"그냥 틀렸어\")\n",
    "except:\n",
    "    print(\"몰라\")\n",
    "else:\n",
    "    print(c)\n",
    "finally:\n",
    "    print(\"코드는 다 돌렸다\")"
   ]
  },
  {
   "cell_type": "markdown",
   "metadata": {},
   "source": [
    "## 04 raise 구문  \n",
    "\n",
    "의도적으로 예외를 발생시켜야 하는 경우 사용"
   ]
  },
  {
   "cell_type": "markdown",
   "metadata": {},
   "source": [
    "* raise [Exception]  \n",
    "해당 예외를 발생\n",
    "* raise [Exception(data)]  \n",
    "예외 발생 시 관련 데이터를 전달\n",
    "* raise  \n",
    "발생된 예외를 상위로 전달  \n",
    "\n",
    "**'내장 예외'**를 발생하거나 전달할 수 있으며, **'사용자 정의 예외'**를 생성하여 사용할 수 있다.  \n",
    "**'사용자 정의 예외'**를 사용하는 경우 반드시 내장 클래스인 **Exception**을 상속 받아야 한다."
   ]
  },
  {
   "cell_type": "markdown",
   "metadata": {},
   "source": [
    "* **내장 예외 발생**"
   ]
  },
  {
   "cell_type": "code",
   "execution_count": 47,
   "metadata": {},
   "outputs": [
    {
     "name": "stdout",
     "output_type": "stream",
     "text": [
      "NameError 발생\n"
     ]
    }
   ],
   "source": [
    "def RaiseErrorFunc():\n",
    "    raise NameError\n",
    "\n",
    "try:\n",
    "    RaiseErrorFunc()\n",
    "except:\n",
    "    print(\"NameError 발생\")"
   ]
  },
  {
   "cell_type": "markdown",
   "metadata": {},
   "source": [
    "* **내장 예외 전달**"
   ]
  },
  {
   "cell_type": "code",
   "execution_count": 49,
   "metadata": {},
   "outputs": [
    {
     "name": "stdout",
     "output_type": "stream",
     "text": [
      "에러 전달 하기 전\n"
     ]
    },
    {
     "ename": "NameError",
     "evalue": "NameError의 인자",
     "output_type": "error",
     "traceback": [
      "\u001b[0;31m---------------------------------------------------------------------------\u001b[0m",
      "\u001b[0;31mNameError\u001b[0m                                 Traceback (most recent call last)",
      "\u001b[0;32m<ipython-input-49-75c1c971b6f0>\u001b[0m in \u001b[0;36m<module>\u001b[0;34m()\u001b[0m\n\u001b[1;32m      7\u001b[0m         \u001b[0mprint\u001b[0m\u001b[0;34m(\u001b[0m\u001b[0;34m\"에러 전달 하기 전\"\u001b[0m\u001b[0;34m)\u001b[0m\u001b[0;34m\u001b[0m\u001b[0m\n\u001b[1;32m      8\u001b[0m         \u001b[0;32mraise\u001b[0m \u001b[0;31m#발생한 에러를 상위로 전달\u001b[0m\u001b[0;34m\u001b[0m\u001b[0m\n\u001b[0;32m----> 9\u001b[0;31m \u001b[0mPropagateError\u001b[0m\u001b[0;34m(\u001b[0m\u001b[0;34m)\u001b[0m\u001b[0;34m\u001b[0m\u001b[0m\n\u001b[0m",
      "\u001b[0;32m<ipython-input-49-75c1c971b6f0>\u001b[0m in \u001b[0;36mPropagateError\u001b[0;34m()\u001b[0m\n\u001b[1;32m      3\u001b[0m \u001b[0;32mdef\u001b[0m \u001b[0mPropagateError\u001b[0m\u001b[0;34m(\u001b[0m\u001b[0;34m)\u001b[0m\u001b[0;34m:\u001b[0m\u001b[0;34m\u001b[0m\u001b[0m\n\u001b[1;32m      4\u001b[0m     \u001b[0;32mtry\u001b[0m\u001b[0;34m:\u001b[0m\u001b[0;34m\u001b[0m\u001b[0m\n\u001b[0;32m----> 5\u001b[0;31m         \u001b[0mRaiseErrorFunc\u001b[0m\u001b[0;34m(\u001b[0m\u001b[0;34m)\u001b[0m\u001b[0;34m\u001b[0m\u001b[0m\n\u001b[0m\u001b[1;32m      6\u001b[0m     \u001b[0;32mexcept\u001b[0m\u001b[0;34m:\u001b[0m\u001b[0;34m\u001b[0m\u001b[0m\n\u001b[1;32m      7\u001b[0m         \u001b[0mprint\u001b[0m\u001b[0;34m(\u001b[0m\u001b[0;34m\"에러 전달 하기 전\"\u001b[0m\u001b[0;34m)\u001b[0m\u001b[0;34m\u001b[0m\u001b[0m\n",
      "\u001b[0;32m<ipython-input-49-75c1c971b6f0>\u001b[0m in \u001b[0;36mRaiseErrorFunc\u001b[0;34m()\u001b[0m\n\u001b[1;32m      1\u001b[0m \u001b[0;32mdef\u001b[0m \u001b[0mRaiseErrorFunc\u001b[0m\u001b[0;34m(\u001b[0m\u001b[0;34m)\u001b[0m\u001b[0;34m:\u001b[0m\u001b[0;34m\u001b[0m\u001b[0m\n\u001b[0;32m----> 2\u001b[0;31m     \u001b[0;32mraise\u001b[0m \u001b[0mNameError\u001b[0m\u001b[0;34m(\u001b[0m\u001b[0;34m\"NameError의 인자\"\u001b[0m\u001b[0;34m)\u001b[0m\u001b[0;34m\u001b[0m\u001b[0m\n\u001b[0m\u001b[1;32m      3\u001b[0m \u001b[0;32mdef\u001b[0m \u001b[0mPropagateError\u001b[0m\u001b[0;34m(\u001b[0m\u001b[0;34m)\u001b[0m\u001b[0;34m:\u001b[0m\u001b[0;34m\u001b[0m\u001b[0m\n\u001b[1;32m      4\u001b[0m     \u001b[0;32mtry\u001b[0m\u001b[0;34m:\u001b[0m\u001b[0;34m\u001b[0m\u001b[0m\n\u001b[1;32m      5\u001b[0m         \u001b[0mRaiseErrorFunc\u001b[0m\u001b[0;34m(\u001b[0m\u001b[0;34m)\u001b[0m\u001b[0;34m\u001b[0m\u001b[0m\n",
      "\u001b[0;31mNameError\u001b[0m: NameError의 인자"
     ]
    }
   ],
   "source": [
    "def RaiseErrorFunc():\n",
    "    raise NameError(\"NameError의 인자\")\n",
    "def PropagateError():\n",
    "    try:\n",
    "        RaiseErrorFunc()\n",
    "    except:\n",
    "        print(\"에러 전달 하기 전\")\n",
    "        raise #발생한 에러를 상위로 전달\n",
    "PropagateError()"
   ]
  },
  {
   "cell_type": "markdown",
   "metadata": {},
   "source": [
    "## 05 사용자정의 예외  \n",
    "반드시 Exception 클래스를 상속 받아야 한다."
   ]
  },
  {
   "cell_type": "code",
   "execution_count": 51,
   "metadata": {},
   "outputs": [
    {
     "name": "stdout",
     "output_type": "stream",
     "text": [
      "Error - Second argument of PositiveDivide is  -3\n"
     ]
    }
   ],
   "source": [
    "class NegativeDivisionError(Exception):\n",
    "    def __init__(self, value):\n",
    "        self.value = value\n",
    "    \n",
    "def PositiveDivide(a, b):\n",
    "    if(b < 0): #분모가 음수인 경우 negativeDivisionError 발생\n",
    "        raise NegativeDivisionError(b)\n",
    "    return a / b\n",
    "\n",
    "try:\n",
    "    ret = PositiveDivide(10, -3)\n",
    "    print('10 / 3 = {0}.format(ret)')\n",
    "except NegativeDivisionError as e: #NegativeDivisionError에는 args가 아니라 value가 있으므로 value를 출력한다.\n",
    "    print('Error - Second argument of PositiveDivide is ', e.value)\n",
    "except ZeroDivisionError as e:\n",
    "    print('Error - ', e.args[0])\n",
    "except:\n",
    "    print('Unexpected exception!')\n",
    "    "
   ]
  },
  {
   "cell_type": "markdown",
   "metadata": {},
   "source": [
    "## 06 assert  \n",
    "예외를 발생시키는 다른 방법.  \n",
    "인자로 받은 조건식이 거짓인 경우 AssertionError가 발생한다.  \n",
    "디버깅을 할 때만 실행되는 코드를 추가할 때 사용."
   ]
  },
  {
   "cell_type": "markdown",
   "metadata": {},
   "source": [
    "* assert <조건식>, <관련 데이터>\n",
    "    조건식이 틀리면 관련데이터 에러를 발생시켜라\n",
    "\n",
    "아래와 동일하다.  \n",
    "```python\n",
    "if __debug__:\n",
    "    if not <조건식>:\n",
    "        raise AssertionError(<관련 데이터>)\n",
    "```  "
   ]
  },
  {
   "cell_type": "code",
   "execution_count": 52,
   "metadata": {},
   "outputs": [
    {
     "ename": "AssertionError",
     "evalue": "Input value must be integer",
     "output_type": "error",
     "traceback": [
      "\u001b[0;31m---------------------------------------------------------------------------\u001b[0m",
      "\u001b[0;31mAssertionError\u001b[0m                            Traceback (most recent call last)",
      "\u001b[0;32m<ipython-input-52-418517148596>\u001b[0m in \u001b[0;36m<module>\u001b[0;34m()\u001b[0m\n\u001b[1;32m      2\u001b[0m     \u001b[0;32massert\u001b[0m \u001b[0mtype\u001b[0m\u001b[0;34m(\u001b[0m\u001b[0mx\u001b[0m\u001b[0;34m)\u001b[0m \u001b[0;34m==\u001b[0m \u001b[0mint\u001b[0m\u001b[0;34m,\u001b[0m \u001b[0;34m\"Input value must be integer\"\u001b[0m\u001b[0;34m\u001b[0m\u001b[0m\n\u001b[1;32m      3\u001b[0m     \u001b[0;32mreturn\u001b[0m \u001b[0mx\u001b[0m \u001b[0;34m*\u001b[0m \u001b[0;36m10\u001b[0m\u001b[0;34m\u001b[0m\u001b[0m\n\u001b[0;32m----> 4\u001b[0;31m \u001b[0mret\u001b[0m \u001b[0;34m=\u001b[0m \u001b[0mfoo\u001b[0m\u001b[0;34m(\u001b[0m\u001b[0;34m'a'\u001b[0m\u001b[0;34m)\u001b[0m\u001b[0;34m\u001b[0m\u001b[0m\n\u001b[0m\u001b[1;32m      5\u001b[0m \u001b[0mprint\u001b[0m\u001b[0;34m(\u001b[0m\u001b[0mret\u001b[0m\u001b[0;34m)\u001b[0m\u001b[0;34m\u001b[0m\u001b[0m\n",
      "\u001b[0;32m<ipython-input-52-418517148596>\u001b[0m in \u001b[0;36mfoo\u001b[0;34m(x)\u001b[0m\n\u001b[1;32m      1\u001b[0m \u001b[0;32mdef\u001b[0m \u001b[0mfoo\u001b[0m\u001b[0;34m(\u001b[0m\u001b[0mx\u001b[0m\u001b[0;34m)\u001b[0m\u001b[0;34m:\u001b[0m\u001b[0;34m\u001b[0m\u001b[0m\n\u001b[0;32m----> 2\u001b[0;31m     \u001b[0;32massert\u001b[0m \u001b[0mtype\u001b[0m\u001b[0;34m(\u001b[0m\u001b[0mx\u001b[0m\u001b[0;34m)\u001b[0m \u001b[0;34m==\u001b[0m \u001b[0mint\u001b[0m\u001b[0;34m,\u001b[0m \u001b[0;34m\"Input value must be integer\"\u001b[0m\u001b[0;34m\u001b[0m\u001b[0m\n\u001b[0m\u001b[1;32m      3\u001b[0m     \u001b[0;32mreturn\u001b[0m \u001b[0mx\u001b[0m \u001b[0;34m*\u001b[0m \u001b[0;36m10\u001b[0m\u001b[0;34m\u001b[0m\u001b[0m\n\u001b[1;32m      4\u001b[0m \u001b[0mret\u001b[0m \u001b[0;34m=\u001b[0m \u001b[0mfoo\u001b[0m\u001b[0;34m(\u001b[0m\u001b[0;34m'a'\u001b[0m\u001b[0;34m)\u001b[0m\u001b[0;34m\u001b[0m\u001b[0m\n\u001b[1;32m      5\u001b[0m \u001b[0mprint\u001b[0m\u001b[0;34m(\u001b[0m\u001b[0mret\u001b[0m\u001b[0;34m)\u001b[0m\u001b[0;34m\u001b[0m\u001b[0m\n",
      "\u001b[0;31mAssertionError\u001b[0m: Input value must be integer"
     ]
    }
   ],
   "source": [
    "def foo(x):\n",
    "    assert type(x) == int, \"Input value must be integer\"\n",
    "    return x * 10\n",
    "ret = foo('a')\n",
    "print(ret)"
   ]
  },
  {
   "cell_type": "markdown",
   "metadata": {},
   "source": [
    "아래 코드를 temp.py로 저장 후, CMD에서 실행  \n",
    "-O 인자를 넣으면 assert 구문이 시행되지 않는다.  \n",
    "```python\n",
    "def foo(x):\n",
    "    assert type(x) == int, \"Input value must be integer\"\n",
    "    return x * 10\n",
    "ret = foo('a')\n",
    "print(ret)\n",
    "```  \n"
   ]
  }
 ],
 "metadata": {
  "anaconda-cloud": {},
  "kernelspec": {
   "display_name": "Python 3",
   "language": "python",
   "name": "python3"
  },
  "language_info": {
   "codemirror_mode": {
    "name": "ipython",
    "version": 3
   },
   "file_extension": ".py",
   "mimetype": "text/x-python",
   "name": "python",
   "nbconvert_exporter": "python",
   "pygments_lexer": "ipython3",
   "version": "3.6.1"
  }
 },
 "nbformat": 4,
 "nbformat_minor": 1
}
