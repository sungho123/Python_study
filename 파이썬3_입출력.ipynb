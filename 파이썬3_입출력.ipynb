{
 "cells": [
  {
   "cell_type": "markdown",
   "metadata": {},
   "source": [
    "# Ch08. 입출력\n",
    "\n",
    "**사용자로부터 직접 입력을 받는 것을 '입력', 모니터 화면의 결과값을 '출력' **\n",
    "(이외에도 임시로 결과를 저장하거나, 처리할 데이터의 크기가 너무 커서 화면에 표시하기 어려워 파일로 읽고 쓰는 일도 포함)\n",
    "\n",
    "\n"
   ]
  },
  {
   "cell_type": "code",
   "execution_count": null,
   "metadata": {
    "collapsed": true
   },
   "outputs": [],
   "source": []
  },
  {
   "cell_type": "markdown",
   "metadata": {},
   "source": [
    "## 01 표준 입출력\n",
    "\n",
    "사용자로부터 입력을 받고, 결과를 화면에 출력할 경우에 사용하는 기본적인 입출력 방식으로 표준 입력과 표준 출력으로 나뉜다. \n"
   ]
  },
  {
   "cell_type": "markdown",
   "metadata": {},
   "source": [
    "### 01 출력(Output)\n",
    "\n",
    "- 표준 출력(Standard Output)\n",
    "    : 결과를 모니터를 통해 실행창에 출력해주는 것을 표준 출력이라고 한다.\n",
    "    \n",
    "**print() 함수를 사용** (파이썬 3에서 부터 함수로 변경)\n",
    "\n",
    "e.g.\n",
    "> ```python\n",
    "print(1)\n",
    "1\n",
    "print(\"hi,sungho\")\n",
    "hi,sungho\n",
    "a = \"hello\\n\" # enter 키  = \\n\n",
    "print(a)\n",
    "hello\n",
    "```  "
   ]
  },
  {
   "cell_type": "code",
   "execution_count": 7,
   "metadata": {},
   "outputs": [
    {
     "name": "stdout",
     "output_type": "stream",
     "text": [
      "0.2\n",
      "0.2\n",
      "'hello\\n'\n",
      "0.2 test\n",
      "'hello\\n'This is text\n"
     ]
    }
   ],
   "source": [
    "#print() 함수의 인자의 수 무관하고, 어떤 변수가 들어가도 상관없다.\n",
    "x = 0.2  # float타입 변수\n",
    "print(x)\n",
    "str(x)   # 문자열 \n",
    "print(str(x))\n",
    "a = repr(\"hello\\n\")\n",
    "print(a)\n",
    "\n",
    "# 여러 개의 인자가 들어가면 공백으로 구분, 공백이 싫다면 '+' 연산자 이용\n",
    "print(x,\"test\")\n",
    "print(a + \"This is text\")"
   ]
  },
  {
   "cell_type": "code",
   "execution_count": null,
   "metadata": {
    "collapsed": true
   },
   "outputs": [],
   "source": [
    "#+repr / str 함수의 차이 \n",
    "#repr() 은 __repr__ 메소드를 호출하고, \n",
    "#str() 이나 print 는 __str__ 메소드를 호출\n",
    "\n",
    "#__str__ 은 객체의 비공식적인(informal) 문자열을 출력할 때 사용하고, __repr__ 은 공식적인(official) 문자열을 출력할 때 사용한다.\n",
    "#__str__ 은 사용자가 보기 쉬운 형태로 보여줄 때 사용하는 것이고,\n",
    "\n",
    "#__repr__ 은 시스템(python interpreter)이 해당 객체를 인식할 수 있는 공식적인 문자열로 나타내 줄 때 사용하는 것이다.\n",
    "\n",
    ">>> f = 1.12345678901234567\n",
    ">>> id(f)\n",
    "36252424\n",
    ">>> g = eval(repr(f))\n",
    ">>> id(g)\n",
    "46032032\n",
    ">>> f is g\n",
    "False\n",
    ">>> f == g\n",
    "True"
   ]
  },
  {
   "cell_type": "code",
   "execution_count": null,
   "metadata": {
    "collapsed": true
   },
   "outputs": [],
   "source": []
  },
  {
   "cell_type": "code",
   "execution_count": 1,
   "metadata": {},
   "outputs": [
    {
     "name": "stderr",
     "output_type": "stream",
     "text": [
      "welcome to-my home!"
     ]
    }
   ],
   "source": [
    "#인자로 구분자(sep), 끝라인(end), 출력(file)을 지정할 수 있다.\n",
    "#default 값으로 sep은 공백('') , end 는 줄바꿈('\\n'), file은 표준출력(sys.stdout)\n",
    "\n",
    "import sys\n",
    "print(\"welcome to\", \"my home\", sep='-', end=\"!\", file=sys.stderr)\n",
    "\n",
    "f=open('tesadfasfasdft.txt','w') #open(filename, mode) \n",
    "print(\"file write\",  file=f)\n",
    "f.close()\n",
    "\n",
    "#https://code.tutsplus.com/ko/tutorials/file-handling-in-python--cms-25623"
   ]
  },
  {
   "cell_type": "code",
   "execution_count": 28,
   "metadata": {},
   "outputs": [
    {
     "name": "stdout",
     "output_type": "stream",
     "text": [
      "test"
     ]
    }
   ],
   "source": [
    "#print() 함수를 쓰지 않고 sys.stdout 을 이용해 화면에 출력 가능\n",
    "\n",
    "import sys\n",
    "sys.stdout.write(\"test\")"
   ]
  },
  {
   "cell_type": "code",
   "execution_count": null,
   "metadata": {
    "collapsed": true
   },
   "outputs": [],
   "source": []
  },
  {
   "cell_type": "code",
   "execution_count": 30,
   "metadata": {},
   "outputs": [
    {
     "name": "stdout",
     "output_type": "stream",
     "text": [
      "1 * 1 = 1\n",
      "2 * 2 = 4\n",
      "3 * 3 = 9\n",
      "4 * 4 = 16\n",
      "5 * 5 = 25\n"
     ]
    }
   ],
   "source": [
    "#출력 시, 줄을 맞추거나 정렬할 일이 있는 경우 print() 함수에서 제공되는 format 이용 가능 \n",
    "\n",
    "for x in range(1,6):\n",
    "    print(x,\"*\",x,'=',x * x) # 정수형\n"
   ]
  },
  {
   "cell_type": "code",
   "execution_count": 35,
   "metadata": {},
   "outputs": [
    {
     "name": "stdout",
     "output_type": "stream",
     "text": [
      "1 * 1 =   1\n",
      "2 * 2 =   4\n",
      "3 * 3 =   9\n",
      "4 * 4 =  16\n",
      "5 * 5 =  25\n"
     ]
    },
    {
     "data": {
      "text/plain": [
       "'     right'"
      ]
     },
     "execution_count": 35,
     "metadata": {},
     "output_type": "execute_result"
    }
   ],
   "source": [
    "# 결과 값 > 오른쪽 정렬 \n",
    "# string.rjust() 사용 \n",
    "#  x*x 은 정수형이므로 곧바로 사용 불가 \n",
    "#  string 으로 변환한 뒤 사용  .\n",
    "\n",
    "for x in range(1,6):\n",
    "    print(x,\"*\",x,'=',str(x * x).rjust(3))\n",
    "\n",
    "# 인자는 정렬할 전체 길이를 뜻한다    \n",
    "# 전체 길이가 문자 길이 보다 작으면 무시된다.\n",
    "\n",
    "'right'.rjust(10) # right의 문자길이 = 5\n",
    "#'right'.rjust(1)"
   ]
  },
  {
   "cell_type": "code",
   "execution_count": 2,
   "metadata": {},
   "outputs": [
    {
     "name": "stdout",
     "output_type": "stream",
     "text": [
      "1 * 1 = 1    \n",
      "2 * 2 = 4    \n",
      "3 * 3 = 9    \n",
      "4 * 4 = 16   \n",
      "5 * 5 = 25   \n",
      "\n",
      "1 * 1 =   1  \n",
      "2 * 2 =   4  \n",
      "3 * 3 =   9  \n",
      "4 * 4 =   16 \n",
      "5 * 5 =   25 \n"
     ]
    }
   ],
   "source": [
    "# ljust() : 왼쪾 정렬\n",
    "# center() : 가운데 정렬 \n",
    "\n",
    "for x in range(1,6):\n",
    "    print(x, \"*\",x,\"=\", str(x*x).ljust(5))\n",
    "    \n",
    "print()\n",
    "\n",
    "for x in range(1,6):\n",
    "    print(x, \"*\",x,\"=\", str(x*x).center(5))"
   ]
  },
  {
   "cell_type": "code",
   "execution_count": 3,
   "metadata": {},
   "outputs": [
    {
     "name": "stdout",
     "output_type": "stream",
     "text": [
      "1 * 1 = 001\n",
      "2 * 2 = 004\n",
      "3 * 3 = 009\n",
      "4 * 4 = 016\n",
      "5 * 5 = 025\n"
     ]
    }
   ],
   "source": [
    "# 빈칸 대신 zero(0) 을 채워넣을 수 있다.\n",
    "# zfill() 함수 사용 \n",
    "\n",
    "for x in range(1,6):\n",
    "    print(x, \"*\",x,\"=\", str(x*x).zfill(3))"
   ]
  },
  {
   "cell_type": "code",
   "execution_count": null,
   "metadata": {
    "collapsed": true
   },
   "outputs": [],
   "source": []
  },
  {
   "cell_type": "markdown",
   "metadata": {},
   "source": [
    "### 02 포맷팅(formating)\n",
    "\n",
    "- 포멧팅(formating)\n",
    "    : 문자열을 그 이상으로 자유롭게 다룰 수 있다. .\n",
    "    \n",
    "     ex)\"현재 온도는 18도입니다.\"\n",
    "\n",
    "    시간이 지나서 20도가 되면 아래와 같은 문장을 출력한다.\n",
    "\n",
    "    \"현재 온도는 20도입니다\"\n",
    "\n",
    "     두 문자열은 모두 같은데 20이라는 숫자와 18이라는 숫자만 다르다. 이렇게 문자열 내의 특정한 값을 바꿔야 할 경우\n",
    "\n",
    "    즉, 문자열 포매팅이란 쉽게 말해 문자열 내에 어떤 값을 삽입하는 방법\n",
    "    \n",
    "**format() 함수를 사용** \n",
    "\n",
    "    : 어떤 값이 들어가기를 원하는 곳을 '{}'로 표시하고 내부에 format 인자의 인덱스를 사용\n",
    "\n",
    "e.g.\n",
    "> ```python\n",
    "print(\"{0} is {1}\".format(\"apple\", \"red\"))\n",
    "apple is red\n",
    "print(\"{0} is {1} or {2}\".format(\"apple\", \"red\", \"green\"))\n",
    "apple is red or green\n",
    "```  "
   ]
  },
  {
   "cell_type": "code",
   "execution_count": 9,
   "metadata": {},
   "outputs": [
    {
     "name": "stdout",
     "output_type": "stream",
     "text": [
      "apple is red\n"
     ]
    }
   ],
   "source": [
    "#format()  함수의 인자를 키(key) 와 값(value)로 지정할 수 있따.\n",
    "\n",
    "print(\"{item} is {color}\".format(item=\"apple\", color=\"red\"))"
   ]
  },
  {
   "cell_type": "code",
   "execution_count": 10,
   "metadata": {},
   "outputs": [
    {
     "name": "stdout",
     "output_type": "stream",
     "text": [
      "apple is red\n"
     ]
    }
   ],
   "source": [
    "# 사전 dic 으로도 간편하게 인자 지정할 수도 있다.\n",
    "\n",
    "dic ={\"item\":\"apple\", \"color\":\"red\"}\n",
    "print(\"{0[item]} is {0[color]}\".format(dic))\n",
    "\n",
    "# 0[item] 은 0번째 인자인 dic의 item을 가리키는 값 "
   ]
  },
  {
   "cell_type": "code",
   "execution_count": 11,
   "metadata": {},
   "outputs": [
    {
     "name": "stdout",
     "output_type": "stream",
     "text": [
      "apple is red\n"
     ]
    }
   ],
   "source": [
    "# format() 안에 따로 변수를 지정하지 않고도 현재 정의돼 있는 변수 이용할 수 있다.\n",
    "# local()함수 : 현재 지역변수들을 사전형식으로 반환하는 함수 \n",
    "# vars() , globals 함수를 사용해도 결과는 같다.\n",
    "\n",
    "item = \"apple\"\n",
    "color = \"red\"\n",
    "print(\"{0[item]} is {0[color]}\".format(locals()))"
   ]
  },
  {
   "cell_type": "code",
   "execution_count": 4,
   "metadata": {},
   "outputs": [
    {
     "ename": "KeyError",
     "evalue": "'item'",
     "output_type": "error",
     "traceback": [
      "\u001b[0;31m---------------------------------------------------------------------------\u001b[0m",
      "\u001b[0;31mKeyError\u001b[0m                                  Traceback (most recent call last)",
      "\u001b[0;32m<ipython-input-4-e78ea1bc7e7b>\u001b[0m in \u001b[0;36m<module>\u001b[0;34m()\u001b[0m\n\u001b[1;32m      1\u001b[0m \u001b[0;31m# \"**\"를 사용하면 사전을 입력으로 받은 것으로 간주하고, 인자를 하나만 받게된다.\u001b[0m\u001b[0;34m\u001b[0m\u001b[0;34m\u001b[0m\u001b[0m\n\u001b[1;32m      2\u001b[0m \u001b[0;34m\u001b[0m\u001b[0m\n\u001b[0;32m----> 3\u001b[0;31m \u001b[0mprint\u001b[0m\u001b[0;34m(\u001b[0m\u001b[0;34m\"{item} is {color}\"\u001b[0m\u001b[0;34m.\u001b[0m\u001b[0mformat\u001b[0m\u001b[0;34m(\u001b[0m\u001b[0;34m**\u001b[0m\u001b[0mlocals\u001b[0m\u001b[0;34m(\u001b[0m\u001b[0;34m)\u001b[0m\u001b[0;34m)\u001b[0m\u001b[0;34m)\u001b[0m\u001b[0;34m\u001b[0m\u001b[0m\n\u001b[0m\u001b[1;32m      4\u001b[0m \u001b[0mprint\u001b[0m\u001b[0;34m(\u001b[0m\u001b[0;34m\"{item} is {color}\"\u001b[0m\u001b[0;34m.\u001b[0m\u001b[0mformat\u001b[0m\u001b[0;34m(\u001b[0m\u001b[0;34m**\u001b[0m\u001b[0mdic\u001b[0m\u001b[0;34m)\u001b[0m\u001b[0;34m)\u001b[0m\u001b[0;34m\u001b[0m\u001b[0m\n\u001b[1;32m      5\u001b[0m \u001b[0;34m\u001b[0m\u001b[0m\n",
      "\u001b[0;31mKeyError\u001b[0m: 'item'"
     ]
    }
   ],
   "source": [
    "# \"**\"를 사용하면 사전을 입력으로 받은 것으로 간주하고, 인자를 하나만 받게된다.\n",
    "\n",
    "print(\"{item} is {color}\".format(**locals()))\n",
    "print(\"{item} is {color}\".format(**dic))\n",
    "\n"
   ]
  },
  {
   "cell_type": "code",
   "execution_count": 13,
   "metadata": {},
   "outputs": [
    {
     "name": "stdout",
     "output_type": "stream",
     "text": [
      "apple is red\n",
      "'apple' is 'red'\n",
      "'apple' is 'red'\n"
     ]
    }
   ],
   "source": [
    "# '!' 를 사용해서 문자열 변환을 사용할 수 있다.\n",
    "# !s : str(), !r : repr{}, !a : ascii()\n",
    "\n",
    "print(\"{item!s} is {color!s}\".format(**dic))\n",
    "\n",
    "print(\"{item!r} is {color!r}\".format(**dic))\n",
    "\n",
    "print(\"{item!a} is {color!a}\".format(**dic))"
   ]
  },
  {
   "cell_type": "code",
   "execution_count": 17,
   "metadata": {},
   "outputs": [
    {
     "data": {
      "text/plain": [
       "'test'"
      ]
     },
     "execution_count": 17,
     "metadata": {},
     "output_type": "execute_result"
    }
   ],
   "source": [
    "#str(). repr(), ascii() 차이 \n",
    "#str()을 이용하면 실제 값과 다르게 반환될 수 있다.\n",
    "#repr()은 형식적으로 동일한 결과가 나온다.\n",
    "\n",
    "eval(repr('test')) # 형식적으로 동일한 결과 \"test\"\n",
    "#eval(str(\"test\"))\n"
   ]
  },
  {
   "cell_type": "code",
   "execution_count": 7,
   "metadata": {},
   "outputs": [
    {
     "data": {
      "text/plain": [
       "'파이썬test'"
      ]
     },
     "execution_count": 7,
     "metadata": {},
     "output_type": "execute_result"
    }
   ],
   "source": [
    "#repr()과 ascii()은 해당 문자열에 대해 동일한 값을 반환\n",
    "#단, 아스키 이외의 값에 대해서 \\를 사용한 유니코드 값을 반환 \n",
    "\n",
    "repr(\"파이썬test\")\n",
    "ascii(\"파이썬test\")\n",
    "eval(repr(\"파이썬test\"))\n",
    "eval(ascii(\"파이썬test\"))"
   ]
  },
  {
   "cell_type": "code",
   "execution_count": 24,
   "metadata": {},
   "outputs": [
    {
     "name": "stdout",
     "output_type": "stream",
     "text": [
      "[1, 2, 3, 4, 5]\n",
      "1\n"
     ]
    }
   ],
   "source": [
    "#(인덱스를 사용할 수 있는 변수의 경우)변수의 인덱스를 사용하는 방법\n",
    "\n",
    "numbers=[1,2,3,4,5]   # list\n",
    "print(\"{numbers}\".format(**vars()))\n",
    "\n",
    "print(\"{numbers[0]}\".format(**vars()))\n"
   ]
  },
  {
   "cell_type": "code",
   "execution_count": 25,
   "metadata": {},
   "outputs": [
    {
     "name": "stdout",
     "output_type": "stream",
     "text": [
      "0.14\n"
     ]
    }
   ],
   "source": [
    "#인덱스와 유사하게 맴버 변수도 동일하게 사용 가능 \n",
    "\n",
    "class foo:\n",
    "    var=0.14\n",
    "f=foo()\n",
    "print(\"{f.var}\".format(**vars()))\n"
   ]
  },
  {
   "cell_type": "code",
   "execution_count": 39,
   "metadata": {},
   "outputs": [
    {
     "name": "stdout",
     "output_type": "stream",
     "text": [
      "$$$10\n",
      "$$$10\n",
      "$$+10\n"
     ]
    }
   ],
   "source": [
    "#':' 를 사용해 정교한 표현 가능 \n",
    "#'>' : 오른쪾 기준 정렬 , '<' : 왼쪽 기준 정렬 , '^' : 가운데 정렬, '=' : 부호표시\n",
    "\n",
    "print(\"{0:$>5}\".format(10))\n",
    "print(\"{0:$=5}\".format(10))\n",
    "print(\"{0:$>+5}\".format(10))"
   ]
  },
  {
   "cell_type": "code",
   "execution_count": 8,
   "metadata": {},
   "outputs": [
    {
     "name": "stdout",
     "output_type": "stream",
     "text": [
      "$$+10\n",
      "$$-10\n",
      "$$$10\n",
      "$$-10\n",
      "$$ 10\n",
      "$$-10\n"
     ]
    }
   ],
   "source": [
    "#부호를 나타내는 기호는 '+' , '- ', '' 가 있다.\n",
    "#''은 마이너스 값에는 마이너스 부호를 나타내고, 플러스일 때는 공백을 표시\n",
    "\n",
    "print(\"{0:$>+5}\".format(10))\n",
    "print(\"{0:$>+5}\".format(-10))\n",
    "print(\"{0:$>-5}\".format(10))\n",
    "print(\"{0:$>-5}\".format(-10))\n",
    "print(\"{0:$> 5}\".format(10))\n",
    "print(\"{0:$> 5}\".format(-10))"
   ]
  },
  {
   "cell_type": "code",
   "execution_count": 10,
   "metadata": {},
   "outputs": [
    {
     "name": "stdout",
     "output_type": "stream",
     "text": [
      "a\n",
      "1010\n",
      "12\n",
      "A\n",
      "0xa, 0o12, 0b1010\n"
     ]
    }
   ],
   "source": [
    "#진수를 바꿔서 출력 가능 \n",
    "#'b' : 이진수, 'd' : 십진수, 'x' : 16진수, 'o' : 8진수, 'c' : 문자열\n",
    "\n",
    "print(\"{0:x}\".format(10))\n",
    "print(\"{0:b}\".format(10))\n",
    "print(\"{0:o}\".format(10))\n",
    "print(\"{0:c}\".format(65)) # 대문자 A \n",
    "\n",
    "# '#'을 사용해서 진수 표현 가능\n",
    "\n",
    "print(\"{0:#x}, {0:#o}, {0:#b}\".format(10))"
   ]
  },
  {
   "cell_type": "code",
   "execution_count": 11,
   "metadata": {},
   "outputs": [
    {
     "name": "stdout",
     "output_type": "stream",
     "text": [
      "1.333333e+00\n",
      "1.333333\n",
      "133.333333%\n"
     ]
    }
   ],
   "source": [
    "# 정수 이외에도 실수에 대한 반환도 가능 \n",
    "# 'e' : 지수 표현 , 'f' : 일반적인 실수 표현, '%' : 펴센트 표현\n",
    "\n",
    "print(\"{0:e}\".format(4/3))\n",
    "print(\"{0:f}\".format(4/3))\n",
    "print(\"{0:%}\".format(4/3))"
   ]
  },
  {
   "cell_type": "code",
   "execution_count": 48,
   "metadata": {},
   "outputs": [
    {
     "name": "stdout",
     "output_type": "stream",
     "text": [
      "1.333\n"
     ]
    }
   ],
   "source": [
    "#소수점 몇 번쨰 자리까지 표현할 것인지를 지정할 수 있다.\n",
    "\n",
    "print(\"{0:.3f}\".format(4/3))"
   ]
  },
  {
   "cell_type": "code",
   "execution_count": null,
   "metadata": {
    "collapsed": true
   },
   "outputs": [],
   "source": []
  },
  {
   "cell_type": "markdown",
   "metadata": {},
   "source": [
    "### 03 입력(Input)\n",
    "\n",
    "- 표준 입력(Standard Input)\n",
    "    : 키보드로부터 사용자에게 입력을 받는 기능\n",
    "    \n",
    "**input() 함수를 사용** (input(\"출력하고 싶은 말\"))\n",
    "    : input() 함수를 사용하면 커서가 깜빡이며, 사용자의 입력을 기다린다.\n",
    "      변수 = input() : 입력을 받아 변수에 저장\n",
    "\n",
    "e.g.\n",
    "> ```python\n",
    "input()\n",
    "류성호    # 사용자가 입력\n",
    "x = input()\n",
    "안녕      # 사용자가 입력\n",
    "x\n",
    "안녕\n",
    "x = input(\"하고 싶은 말을 입력하세요.\")\n",
    "안녕하세요. # 사용자가 입력\n",
    "x \n",
    "안녕하세요\n",
    "```  \n",
    "\n",
    "주의!! input() 함수는 입력을 문자열(string)으로 받기 떄문에 숫자를 입력받아 계산하기 위해서는 타입 변환이 필요하다."
   ]
  },
  {
   "cell_type": "code",
   "execution_count": 12,
   "metadata": {},
   "outputs": [
    {
     "name": "stdout",
     "output_type": "stream",
     "text": [
      "시간을 입력하세요.(분)5\n",
      "입력하신 시간은 555555555555555555555555555555555555555555555555555555555555 초 입니다.\n"
     ]
    }
   ],
   "source": [
    "# 예시 에러\n",
    "x = input(\"시간을 입력하세요.(분)\")\n",
    "y = x*60\n",
    "print(\"입력하신 시간은\",y,\"초 입니다.\")"
   ]
  },
  {
   "cell_type": "code",
   "execution_count": 13,
   "metadata": {},
   "outputs": [
    {
     "name": "stdout",
     "output_type": "stream",
     "text": [
      "시간을 입력하세요.(분)1\n",
      "입력하신 시간은 60 초 입니다.\n"
     ]
    }
   ],
   "source": [
    "# 예시 타입변환\n",
    "x = input(\"시간을 입력하세요.(분)\")\n",
    "y = int(x)*60\n",
    "print(\"입력하신 시간은\",y,\"초 입니다.\")"
   ]
  },
  {
   "cell_type": "markdown",
   "metadata": {},
   "source": [
    "## 02 파일 입출력\n",
    "\n",
    "표준 입출력 방법이외에도 파일을 직접 읽고, 쓸 수 있다. -> print() 함수와 file 인자를 사용하느 것보다 조금 더 세밀하게 작업 가능 \n",
    "\n",
    "**open() 함수를 통해 파일을 연 후 작업하는 것이 일반적이다.**\n",
    "\n",
    "    : open(filename, mode)\n",
    "         :mode - \"r\" : 읽기 모드(디폴트)\n",
    "                 'w' : 쓰기 모드\n",
    "                 'a' : 쓰기 + 이어쓰기 \n",
    "                 '+' : 읽기 + 쓰기\n",
    "                 'b' : 바이너리 모드\n",
    "                 't' : 텍스트 모드(디폴트)\n",
    "                 \n",
    "**read() 파일로부터 모든 데이터를 읽어온다.**\n",
    "\n",
    "\n",
    "**write() 파일로부터 문자열을 작성한다.**\n",
    "\n",
    "\n",
    "**close() 작업을 완료된 후, 파일 객체를 닫아준다**\n",
    "\n"
   ]
  },
  {
   "cell_type": "code",
   "execution_count": null,
   "metadata": {
    "collapsed": true
   },
   "outputs": [],
   "source": []
  },
  {
   "cell_type": "markdown",
   "metadata": {},
   "source": [
    "### 01 파일 생성하기 후 출력값 적기\n",
    "\n",
    "**open() 함수를 사용**(파이썬 내장 함수)\n",
    "      \n",
    "      => 파일 객체 = open(파일 이름, 파일 열기 모드)\n",
    "      \n",
    "파일을 쓰기 모드로 열게 되면 해당 파일이 이미 존재할 경우 원래 있던 내용이 모두 사라지고, 해당 파일이 존재하지 않으면 새로운 파일이 생성된다.\n",
    "새파일.txt를 쓰기 모드인 'w'로 열었기 때문에 새파일.txt라는 이름의 새로운 파일이 현재 디렉터리에 생성되는 것이다.\n",
    "\n",
    "**write() 함수를 사용**(파이썬 내장 함수)\n",
    "\n",
    "        => print 대신 파일 객체 f의 write 함수를 이용\n",
    "        \n",
    "e.g.\n",
    "> ```python\n",
    "f = open(\"C:/Python/새파일.txt\", 'w')\n",
    "f.close()\n",
    "f = open(\"C:/Python/새파일.txt\", 'w')\n",
    "for i in range(1, 11):\n",
    "    data = \"%d번째 줄입니다.\\n\" % i\n",
    "    f.write(data)\n",
    "f.close()\n",
    "```  \n"
   ]
  },
  {
   "cell_type": "code",
   "execution_count": 14,
   "metadata": {
    "collapsed": true
   },
   "outputs": [],
   "source": [
    "#예시 \n",
    "f = open(\"test.txt\", 'w')\n",
    "f.write(\"plow ship she her him\") # 반환시 몇 바이트 사용했는지 나온다.\n",
    "f.close()\n"
   ]
  },
  {
   "cell_type": "code",
   "execution_count": 15,
   "metadata": {},
   "outputs": [
    {
     "data": {
      "text/plain": [
       "'plow ship she her him'"
      ]
     },
     "execution_count": 15,
     "metadata": {},
     "output_type": "execute_result"
    }
   ],
   "source": [
    "f = open(\"test.txt\")\n",
    "f.read()"
   ]
  },
  {
   "cell_type": "code",
   "execution_count": 16,
   "metadata": {},
   "outputs": [
    {
     "data": {
      "text/plain": [
       "True"
      ]
     },
     "execution_count": 16,
     "metadata": {},
     "output_type": "execute_result"
    }
   ],
   "source": [
    "f.close()\n",
    "f.closed  #현재 해당 파일이 닫혀있는 지를 나타내는 boolean 값 "
   ]
  },
  {
   "cell_type": "code",
   "execution_count": 67,
   "metadata": {
    "collapsed": true
   },
   "outputs": [],
   "source": [
    "#바이너리 모드로 작성 \n",
    "#텍스트 모드에서는  일반문자열과 같이 인코딩이 적용되 바이너리 데이터를 처리 불가\n",
    "#바이너리 데이터를 다룰 떄는 반드시 바이너리 모드 사용해야한다.\n",
    "\n",
    "f = open(\"sample.mp3\", 'w')\n",
    "#f.write(open(\"sample2.mp3\",\"r\").read())\n",
    "\n",
    "# sample.mp3 파일을 sample.mp3로 복사하려고 시도 => 오류 \n",
    "\n",
    "f = open(\"sam2.mp3\", 'wb')\n",
    "f.write(open(\"sam.mp3\",\"rb\").read())\n",
    "\n",
    "f.close()"
   ]
  },
  {
   "cell_type": "code",
   "execution_count": 68,
   "metadata": {
    "collapsed": true
   },
   "outputs": [],
   "source": [
    "# 일반적으로 윈도우의 경우, 파일 이름에 경로를 명시하지 않으면 파이썬이 설치된 디렉터리에서 읽고 쓰게 된다."
   ]
  },
  {
   "cell_type": "code",
   "execution_count": 74,
   "metadata": {
    "collapsed": true
   },
   "outputs": [],
   "source": [
    "#readline() 함수 : 호출할 때마다 한 줄씩 읽은 문자열을 반환\n",
    "#readlines() 함수 : 파일의 모든 내용을 줄 단위로 잘라서 리스트로 반환\n",
    "#seek() 함수 : 사용자가 원하는 위치로 파일 포인터를 이동\n",
    "#tell() 함수 : 현재 파일에서 어디까지 읽고 썼는지를 나타내는 위치를 반환\n",
    "\n",
    "f = open(\"test.txt\")"
   ]
  },
  {
   "cell_type": "code",
   "execution_count": 19,
   "metadata": {},
   "outputs": [
    {
     "ename": "ValueError",
     "evalue": "I/O operation on closed file.",
     "output_type": "error",
     "traceback": [
      "\u001b[0;31m---------------------------------------------------------------------------\u001b[0m",
      "\u001b[0;31mValueError\u001b[0m                                Traceback (most recent call last)",
      "\u001b[0;32m<ipython-input-19-568f651c4782>\u001b[0m in \u001b[0;36m<module>\u001b[0;34m()\u001b[0m\n\u001b[0;32m----> 1\u001b[0;31m \u001b[0mf\u001b[0m\u001b[0;34m.\u001b[0m\u001b[0mread\u001b[0m\u001b[0;34m(\u001b[0m\u001b[0;34m)\u001b[0m\u001b[0;34m\u001b[0m\u001b[0m\n\u001b[0m\u001b[1;32m      2\u001b[0m \u001b[0mf\u001b[0m\u001b[0;34m.\u001b[0m\u001b[0mtell\u001b[0m\u001b[0;34m(\u001b[0m\u001b[0;34m)\u001b[0m \u001b[0;31m#어디까지 읽었나 확인\u001b[0m\u001b[0;34m\u001b[0m\u001b[0m\n",
      "\u001b[0;31mValueError\u001b[0m: I/O operation on closed file."
     ]
    }
   ],
   "source": [
    "f.read()\n",
    "f.tell() #어디까지 읽었나 확인 "
   ]
  },
  {
   "cell_type": "code",
   "execution_count": 77,
   "metadata": {},
   "outputs": [
    {
     "data": {
      "text/plain": [
       "0"
      ]
     },
     "execution_count": 77,
     "metadata": {},
     "output_type": "execute_result"
    }
   ],
   "source": [
    "f.seek(0) #처음으로 돌아간다."
   ]
  },
  {
   "cell_type": "code",
   "execution_count": 78,
   "metadata": {},
   "outputs": [
    {
     "data": {
      "text/plain": [
       "'plow ship she her him'"
      ]
     },
     "execution_count": 78,
     "metadata": {},
     "output_type": "execute_result"
    }
   ],
   "source": [
    "f.read()"
   ]
  },
  {
   "cell_type": "code",
   "execution_count": 80,
   "metadata": {},
   "outputs": [
    {
     "data": {
      "text/plain": [
       "'plow ship she her him'"
      ]
     },
     "execution_count": 80,
     "metadata": {},
     "output_type": "execute_result"
    }
   ],
   "source": [
    "f.seek(0)\n",
    "f.readline()"
   ]
  },
  {
   "cell_type": "code",
   "execution_count": 20,
   "metadata": {},
   "outputs": [
    {
     "ename": "ValueError",
     "evalue": "I/O operation on closed file.",
     "output_type": "error",
     "traceback": [
      "\u001b[0;31m---------------------------------------------------------------------------\u001b[0m",
      "\u001b[0;31mValueError\u001b[0m                                Traceback (most recent call last)",
      "\u001b[0;32m<ipython-input-20-c4ba08551b5f>\u001b[0m in \u001b[0;36m<module>\u001b[0;34m()\u001b[0m\n\u001b[0;32m----> 1\u001b[0;31m \u001b[0mf\u001b[0m\u001b[0;34m.\u001b[0m\u001b[0mreadline\u001b[0m\u001b[0;34m(\u001b[0m\u001b[0;34m)\u001b[0m\u001b[0;34m\u001b[0m\u001b[0m\n\u001b[0m",
      "\u001b[0;31mValueError\u001b[0m: I/O operation on closed file."
     ]
    }
   ],
   "source": [
    "f.readline()"
   ]
  },
  {
   "cell_type": "code",
   "execution_count": 85,
   "metadata": {},
   "outputs": [
    {
     "data": {
      "text/plain": [
       "['plow ship she her him']"
      ]
     },
     "execution_count": 85,
     "metadata": {},
     "output_type": "execute_result"
    }
   ],
   "source": [
    "f.seek(0)\n",
    "f.readlines()"
   ]
  },
  {
   "cell_type": "code",
   "execution_count": 86,
   "metadata": {},
   "outputs": [
    {
     "data": {
      "text/plain": [
       "[]"
      ]
     },
     "execution_count": 86,
     "metadata": {},
     "output_type": "execute_result"
    }
   ],
   "source": [
    "f.readlines()"
   ]
  },
  {
   "cell_type": "code",
   "execution_count": null,
   "metadata": {
    "collapsed": true
   },
   "outputs": [],
   "source": [
    "f.close()"
   ]
  },
  {
   "cell_type": "code",
   "execution_count": 88,
   "metadata": {},
   "outputs": [
    {
     "name": "stdout",
     "output_type": "stream",
     "text": [
      "['plow ship she her him']\n",
      "False\n"
     ]
    },
    {
     "data": {
      "text/plain": [
       "True"
      ]
     },
     "execution_count": 88,
     "metadata": {},
     "output_type": "execute_result"
    }
   ],
   "source": [
    "#자동으로 file 닫히는 with 구문 이용\n",
    "#해당 코드 블록을 벗어나면 자동으로 파일이 닫힌다.\n",
    "#as를 통해 파일 핸들 가능 \n",
    "\n",
    "with open(\"test.txt\") as f:\n",
    "    print(f.readlines())\n",
    "    print(f.closed)\n",
    "\n",
    "f.closed"
   ]
  },
  {
   "cell_type": "code",
   "execution_count": null,
   "metadata": {
    "collapsed": true
   },
   "outputs": [],
   "source": []
  },
  {
   "cell_type": "markdown",
   "metadata": {},
   "source": [
    "### 01 pickle\n",
    "**pickle module을 사용**\n",
    "\n",
    "일반 텍스트를 파일로 저장할 때는 파일 입출력을 이용한다.\n",
    "하지만 리스트나 클래스같은 텍스트가 아닌 자료형은 일반적인 파일 입출력 방법으로는 데이터를 저장하거나 불러올 수 없다.\n",
    "파이썬에서는 이와 같은 텍스트 이외의 자료형을 파일로 저장하기 위하여 pickle이라는 모듈을 제공한다.\n",
    "\n",
    "```  \n"
   ]
  },
  {
   "cell_type": "code",
   "execution_count": 35,
   "metadata": {},
   "outputs": [
    {
     "data": {
      "text/plain": [
       "['red', 'green', 'black']"
      ]
     },
     "execution_count": 35,
     "metadata": {},
     "output_type": "execute_result"
    }
   ],
   "source": [
    "colors = [\"red\", \"green\", \"black\"]\n",
    "colors"
   ]
  },
  {
   "cell_type": "code",
   "execution_count": 36,
   "metadata": {
    "scrolled": true
   },
   "outputs": [],
   "source": [
    "# dump() 함수 사용해 쉽게 파일에 저장\n",
    "import pickle\n",
    "t=open(\"colors\",\"wb\")\n",
    "pickle.dump(colors, t)\n",
    "t.close()"
   ]
  },
  {
   "cell_type": "code",
   "execution_count": 37,
   "metadata": {},
   "outputs": [
    {
     "ename": "NameError",
     "evalue": "name 'colors' is not defined",
     "output_type": "error",
     "traceback": [
      "\u001b[0;31m---------------------------------------------------------------------------\u001b[0m",
      "\u001b[0;31mNameError\u001b[0m                                 Traceback (most recent call last)",
      "\u001b[0;32m<ipython-input-37-486e78493aad>\u001b[0m in \u001b[0;36m<module>\u001b[0;34m()\u001b[0m\n\u001b[1;32m      2\u001b[0m \u001b[0;34m\u001b[0m\u001b[0m\n\u001b[1;32m      3\u001b[0m \u001b[0;32mdel\u001b[0m \u001b[0mcolors\u001b[0m\u001b[0;34m\u001b[0m\u001b[0m\n\u001b[0;32m----> 4\u001b[0;31m \u001b[0mcolors\u001b[0m\u001b[0;34m\u001b[0m\u001b[0m\n\u001b[0m",
      "\u001b[0;31mNameError\u001b[0m: name 'colors' is not defined"
     ]
    }
   ],
   "source": [
    "#load() 함수를 통해 다시 읽어들이기\n",
    "\n",
    "del colors\n",
    "colors"
   ]
  },
  {
   "cell_type": "code",
   "execution_count": 26,
   "metadata": {
    "scrolled": true
   },
   "outputs": [
    {
     "ename": "UnsupportedOperation",
     "evalue": "read",
     "output_type": "error",
     "traceback": [
      "\u001b[0;31m---------------------------------------------------------------------------\u001b[0m",
      "\u001b[0;31mUnsupportedOperation\u001b[0m                      Traceback (most recent call last)",
      "\u001b[0;32m<ipython-input-26-23de3f8b3c4d>\u001b[0m in \u001b[0;36m<module>\u001b[0;34m()\u001b[0m\n\u001b[1;32m      1\u001b[0m \u001b[0mf\u001b[0m\u001b[0;34m=\u001b[0m \u001b[0mopen\u001b[0m\u001b[0;34m(\u001b[0m\u001b[0;34m'colors'\u001b[0m\u001b[0;34m,\u001b[0m\u001b[0;34m'rb'\u001b[0m\u001b[0;34m)\u001b[0m\u001b[0;34m\u001b[0m\u001b[0m\n\u001b[0;32m----> 2\u001b[0;31m \u001b[0mcolors\u001b[0m \u001b[0;34m=\u001b[0m \u001b[0mpickle\u001b[0m\u001b[0;34m.\u001b[0m\u001b[0mload\u001b[0m\u001b[0;34m(\u001b[0m\u001b[0mt\u001b[0m\u001b[0;34m)\u001b[0m\u001b[0;34m\u001b[0m\u001b[0m\n\u001b[0m\u001b[1;32m      3\u001b[0m \u001b[0mf\u001b[0m\u001b[0;34m.\u001b[0m\u001b[0mclose\u001b[0m\u001b[0;34m(\u001b[0m\u001b[0;34m)\u001b[0m\u001b[0;34m\u001b[0m\u001b[0m\n\u001b[1;32m      4\u001b[0m \u001b[0mcolors\u001b[0m\u001b[0;34m\u001b[0m\u001b[0m\n",
      "\u001b[0;31mUnsupportedOperation\u001b[0m: read"
     ]
    }
   ],
   "source": [
    "f = open('colors','rb')\n",
    "colors = pickle.load(t)\n",
    "f.close()\n",
    "colors"
   ]
  },
  {
   "cell_type": "code",
   "execution_count": 38,
   "metadata": {},
   "outputs": [
    {
     "ename": "NameError",
     "evalue": "name 'colors' is not defined",
     "output_type": "error",
     "traceback": [
      "\u001b[0;31m---------------------------------------------------------------------------\u001b[0m",
      "\u001b[0;31mNameError\u001b[0m                                 Traceback (most recent call last)",
      "\u001b[0;32m<ipython-input-38-721cfc79dd92>\u001b[0m in \u001b[0;36m<module>\u001b[0;34m()\u001b[0m\n\u001b[1;32m      1\u001b[0m \u001b[0;31m#pickle 을 사용할 때에는 반드시 바이너리 모드로 파일을 열어야 한다.\u001b[0m\u001b[0;34m\u001b[0m\u001b[0;34m\u001b[0m\u001b[0m\n\u001b[1;32m      2\u001b[0m \u001b[0mf\u001b[0m \u001b[0;34m=\u001b[0m \u001b[0mopen\u001b[0m\u001b[0;34m(\u001b[0m\u001b[0;34m\"colors\"\u001b[0m\u001b[0;34m,\u001b[0m\u001b[0;34m\"w\"\u001b[0m\u001b[0;34m)\u001b[0m\u001b[0;34m\u001b[0m\u001b[0m\n\u001b[0;32m----> 3\u001b[0;31m \u001b[0mpickle\u001b[0m\u001b[0;34m.\u001b[0m\u001b[0mdump\u001b[0m\u001b[0;34m(\u001b[0m\u001b[0mcolors\u001b[0m\u001b[0;34m,\u001b[0m\u001b[0mf\u001b[0m\u001b[0;34m)\u001b[0m\u001b[0;34m\u001b[0m\u001b[0m\n\u001b[0m",
      "\u001b[0;31mNameError\u001b[0m: name 'colors' is not defined"
     ]
    }
   ],
   "source": [
    "#pickle 을 사용할 때에는 반드시 바이너리 모드로 파일을 열어야 한다.\n",
    "f = open(\"colors\",\"w\")\n",
    "pickle.dump(colors,f)"
   ]
  },
  {
   "cell_type": "code",
   "execution_count": 39,
   "metadata": {},
   "outputs": [
    {
     "data": {
      "text/plain": [
       "<__main__.test at 0x7fdb3afb6eb8>"
      ]
     },
     "execution_count": 39,
     "metadata": {},
     "output_type": "execute_result"
    }
   ],
   "source": [
    "#기본 자료형을 포함해 모든 파이썬 객체가 가능 \n",
    "\n",
    "class test:\n",
    "    var = None\n",
    "\n",
    "a = test()\n",
    "a.var = \"Test\"\n",
    "f = open(\"test\",\"wb\")\n",
    "pickle.dump(a,f)\n",
    "f.close()\n",
    "f = open(\"test\",\"rb\")\n",
    "b = pickle.load(f)\n",
    "f.close()\n",
    "b\n"
   ]
  },
  {
   "cell_type": "code",
   "execution_count": 116,
   "metadata": {},
   "outputs": [
    {
     "data": {
      "text/plain": [
       "'Test'"
      ]
     },
     "execution_count": 116,
     "metadata": {},
     "output_type": "execute_result"
    }
   ],
   "source": [
    "b.var"
   ]
  },
  {
   "cell_type": "code",
   "execution_count": 117,
   "metadata": {},
   "outputs": [
    {
     "ename": "AttributeError",
     "evalue": "Can't get attribute 'test' on <module '__main__'>",
     "output_type": "error",
     "traceback": [
      "\u001b[0;31m---------------------------------------------------------------------------\u001b[0m",
      "\u001b[0;31mAttributeError\u001b[0m                            Traceback (most recent call last)",
      "\u001b[0;32m<ipython-input-117-8abcf0992fc4>\u001b[0m in \u001b[0;36m<module>\u001b[0;34m()\u001b[0m\n\u001b[1;32m      1\u001b[0m \u001b[0;32mdel\u001b[0m \u001b[0mtest\u001b[0m\u001b[0;34m\u001b[0m\u001b[0m\n\u001b[1;32m      2\u001b[0m \u001b[0mf\u001b[0m \u001b[0;34m=\u001b[0m \u001b[0mopen\u001b[0m\u001b[0;34m(\u001b[0m\u001b[0;34m\"test\"\u001b[0m\u001b[0;34m,\u001b[0m\u001b[0;34m\"rb\"\u001b[0m\u001b[0;34m)\u001b[0m\u001b[0;34m\u001b[0m\u001b[0m\n\u001b[0;32m----> 3\u001b[0;31m \u001b[0mb\u001b[0m \u001b[0;34m=\u001b[0m \u001b[0mpickle\u001b[0m\u001b[0;34m.\u001b[0m\u001b[0mload\u001b[0m\u001b[0;34m(\u001b[0m\u001b[0mf\u001b[0m\u001b[0;34m)\u001b[0m\u001b[0;34m\u001b[0m\u001b[0m\n\u001b[0m",
      "\u001b[0;31mAttributeError\u001b[0m: Can't get attribute 'test' on <module '__main__'>"
     ]
    }
   ],
   "source": [
    "del test\n",
    "f = open(\"test\",\"rb\")\n",
    "b = pickle.load(f)\n",
    "\n",
    "#정의되지 않는 클래스 객체는 load 가 불가능 하다."
   ]
  },
  {
   "cell_type": "code",
   "execution_count": 119,
   "metadata": {},
   "outputs": [
    {
     "data": {
      "text/plain": [
       "'/home/jovyan/sungho/Untitled Folder'"
      ]
     },
     "execution_count": 119,
     "metadata": {},
     "output_type": "execute_result"
    }
   ],
   "source": [
    "import os\n",
    "os.getcwd()"
   ]
  },
  {
   "cell_type": "code",
   "execution_count": null,
   "metadata": {
    "collapsed": true
   },
   "outputs": [],
   "source": []
  }
 ],
 "metadata": {
  "kernelspec": {
   "display_name": "Python 3",
   "language": "python",
   "name": "python3"
  },
  "language_info": {
   "codemirror_mode": {
    "name": "ipython",
    "version": 3
   },
   "file_extension": ".py",
   "mimetype": "text/x-python",
   "name": "python",
   "nbconvert_exporter": "python",
   "pygments_lexer": "ipython3",
   "version": "3.6.1"
  }
 },
 "nbformat": 4,
 "nbformat_minor": 2
}
